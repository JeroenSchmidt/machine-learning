{
 "cells": [
  {
   "cell_type": "markdown",
   "metadata": {},
   "source": [
    "# Connect Intensive - Machine Learning Nanodegree\n",
    "\n",
    "## Week 3. Build Regression Models\n",
    "\n",
    "### Objectives    \n",
    "\n",
    "- Implement regression models to predict housing price  \n",
    "    - Perform exploratory analysis with pandas, matplotlib, and seaborn\n",
    "    - Build univariate and multivariate linear regression models     \n",
    "    - Build decision tree regression models\n",
    "- Evaluate the model performance  \n",
    "    - Calculate performance metrics\n",
    "    - Tune the model complexity and understand the performance change\n",
    "  \n",
    "### Prerequisites   \n",
    "\n",
    " - You should have the following python packages installed:\n",
    "    - [numpy](http://www.scipy.org/scipylib/download.html)\n",
    "    - [pandas](http://pandas.pydata.org/getpandas.html)\n",
    "    - [matplotlib](http://matplotlib.org/index.html)\n",
    "    - [seaborn](http://seaborn.pydata.org) \n",
    "    - [sklearn](http://scikit-learn.org/stable/install.html)\n",
    " - If you're rusty on basic python programming and exploratory data analysis, check out the [Jupyter notebooks from week 1](https://github.com/yanfei-wu/Udacity_connect/tree/master/wk1). If you are not familar with `sklearn`'s model building workflow, check out the [Jupyter notebook from week 2](https://github.com/yanfei-wu/Udacity_connect/tree/master/wk2).\n"
   ]
  },
  {
   "cell_type": "markdown",
   "metadata": {},
   "source": [
    "---"
   ]
  },
  {
   "cell_type": "markdown",
   "metadata": {},
   "source": [
    "## Step 0: Getting Started\n",
    "\n",
    "As usual, we start by importing some useful libraries and modules (make sure you have `scikit-learn` installed) and reading the dataset into pandas. And note that it is always a good idea to take a quick look at the dataset using the DataFrame's `head()`, `info()`, or `describe()` methods. \n",
    "\n",
    "**Run** the cells below to import the libraries, read the data, and take a quick look at the dataset. "
   ]
  },
  {
   "cell_type": "code",
   "execution_count": 1,
   "metadata": {
    "collapsed": true
   },
   "outputs": [],
   "source": [
    "import numpy as np\n",
    "import pandas as pd\n",
    "import seaborn as sns\n",
    "import matplotlib.pyplot as plt\n",
    "import sklearn\n",
    "from IPython.display import display\n",
    "\n",
    "%matplotlib inline"
   ]
  },
  {
   "cell_type": "code",
   "execution_count": 2,
   "metadata": {
    "collapsed": true
   },
   "outputs": [],
   "source": [
    "# set maximum rows to display\n",
    "pd.options.display.max_rows = 15 # default is 60"
   ]
  },
  {
   "cell_type": "code",
   "execution_count": 3,
   "metadata": {},
   "outputs": [
    {
     "data": {
      "text/html": [
       "<div>\n",
       "<style>\n",
       "    .dataframe thead tr:only-child th {\n",
       "        text-align: right;\n",
       "    }\n",
       "\n",
       "    .dataframe thead th {\n",
       "        text-align: left;\n",
       "    }\n",
       "\n",
       "    .dataframe tbody tr th {\n",
       "        vertical-align: top;\n",
       "    }\n",
       "</style>\n",
       "<table border=\"1\" class=\"dataframe\">\n",
       "  <thead>\n",
       "    <tr style=\"text-align: right;\">\n",
       "      <th></th>\n",
       "      <th>bedrooms</th>\n",
       "      <th>bathrooms</th>\n",
       "      <th>sqft_living</th>\n",
       "      <th>sqft_lot</th>\n",
       "      <th>sqft_basement</th>\n",
       "      <th>floors</th>\n",
       "      <th>condition</th>\n",
       "      <th>price</th>\n",
       "    </tr>\n",
       "  </thead>\n",
       "  <tbody>\n",
       "    <tr>\n",
       "      <th>0</th>\n",
       "      <td>3</td>\n",
       "      <td>1.00</td>\n",
       "      <td>1180</td>\n",
       "      <td>5650</td>\n",
       "      <td>0</td>\n",
       "      <td>1.0</td>\n",
       "      <td>3</td>\n",
       "      <td>221900</td>\n",
       "    </tr>\n",
       "    <tr>\n",
       "      <th>1</th>\n",
       "      <td>3</td>\n",
       "      <td>2.25</td>\n",
       "      <td>2570</td>\n",
       "      <td>7242</td>\n",
       "      <td>400</td>\n",
       "      <td>2.0</td>\n",
       "      <td>3</td>\n",
       "      <td>538000</td>\n",
       "    </tr>\n",
       "    <tr>\n",
       "      <th>2</th>\n",
       "      <td>2</td>\n",
       "      <td>1.00</td>\n",
       "      <td>770</td>\n",
       "      <td>10000</td>\n",
       "      <td>0</td>\n",
       "      <td>1.0</td>\n",
       "      <td>3</td>\n",
       "      <td>180000</td>\n",
       "    </tr>\n",
       "    <tr>\n",
       "      <th>3</th>\n",
       "      <td>4</td>\n",
       "      <td>3.00</td>\n",
       "      <td>1960</td>\n",
       "      <td>5000</td>\n",
       "      <td>910</td>\n",
       "      <td>1.0</td>\n",
       "      <td>5</td>\n",
       "      <td>604000</td>\n",
       "    </tr>\n",
       "    <tr>\n",
       "      <th>4</th>\n",
       "      <td>3</td>\n",
       "      <td>2.00</td>\n",
       "      <td>1680</td>\n",
       "      <td>8080</td>\n",
       "      <td>0</td>\n",
       "      <td>1.0</td>\n",
       "      <td>3</td>\n",
       "      <td>510000</td>\n",
       "    </tr>\n",
       "  </tbody>\n",
       "</table>\n",
       "</div>"
      ],
      "text/plain": [
       "   bedrooms  bathrooms  sqft_living  sqft_lot  sqft_basement  floors  \\\n",
       "0         3       1.00         1180      5650              0     1.0   \n",
       "1         3       2.25         2570      7242            400     2.0   \n",
       "2         2       1.00          770     10000              0     1.0   \n",
       "3         4       3.00         1960      5000            910     1.0   \n",
       "4         3       2.00         1680      8080              0     1.0   \n",
       "\n",
       "   condition   price  \n",
       "0          3  221900  \n",
       "1          3  538000  \n",
       "2          3  180000  \n",
       "3          5  604000  \n",
       "4          3  510000  "
      ]
     },
     "metadata": {},
     "output_type": "display_data"
    }
   ],
   "source": [
    "# read the data \n",
    "data = pd.read_csv('./data/home_data.csv')\n",
    "display(data.head())"
   ]
  },
  {
   "cell_type": "code",
   "execution_count": 4,
   "metadata": {},
   "outputs": [
    {
     "name": "stdout",
     "output_type": "stream",
     "text": [
      "<class 'pandas.core.frame.DataFrame'>\n",
      "RangeIndex: 21613 entries, 0 to 21612\n",
      "Data columns (total 8 columns):\n",
      "bedrooms         21613 non-null int64\n",
      "bathrooms        21613 non-null float64\n",
      "sqft_living      21613 non-null int64\n",
      "sqft_lot         21613 non-null int64\n",
      "sqft_basement    21613 non-null int64\n",
      "floors           21613 non-null float64\n",
      "condition        21613 non-null int64\n",
      "price            21613 non-null int64\n",
      "dtypes: float64(2), int64(6)\n",
      "memory usage: 1.3 MB\n"
     ]
    }
   ],
   "source": [
    "data.info()"
   ]
  },
  {
   "cell_type": "code",
   "execution_count": 5,
   "metadata": {},
   "outputs": [
    {
     "data": {
      "text/html": [
       "<div>\n",
       "<style>\n",
       "    .dataframe thead tr:only-child th {\n",
       "        text-align: right;\n",
       "    }\n",
       "\n",
       "    .dataframe thead th {\n",
       "        text-align: left;\n",
       "    }\n",
       "\n",
       "    .dataframe tbody tr th {\n",
       "        vertical-align: top;\n",
       "    }\n",
       "</style>\n",
       "<table border=\"1\" class=\"dataframe\">\n",
       "  <thead>\n",
       "    <tr style=\"text-align: right;\">\n",
       "      <th></th>\n",
       "      <th>bedrooms</th>\n",
       "      <th>bathrooms</th>\n",
       "      <th>sqft_living</th>\n",
       "      <th>sqft_lot</th>\n",
       "      <th>sqft_basement</th>\n",
       "      <th>floors</th>\n",
       "      <th>condition</th>\n",
       "      <th>price</th>\n",
       "    </tr>\n",
       "  </thead>\n",
       "  <tbody>\n",
       "    <tr>\n",
       "      <th>count</th>\n",
       "      <td>21613.000000</td>\n",
       "      <td>21613.000000</td>\n",
       "      <td>21613.000000</td>\n",
       "      <td>2.161300e+04</td>\n",
       "      <td>21613.000000</td>\n",
       "      <td>21613.000000</td>\n",
       "      <td>21613.000000</td>\n",
       "      <td>2.161300e+04</td>\n",
       "    </tr>\n",
       "    <tr>\n",
       "      <th>mean</th>\n",
       "      <td>3.370842</td>\n",
       "      <td>2.114757</td>\n",
       "      <td>2079.899736</td>\n",
       "      <td>1.510697e+04</td>\n",
       "      <td>291.509045</td>\n",
       "      <td>1.494309</td>\n",
       "      <td>3.409430</td>\n",
       "      <td>5.400881e+05</td>\n",
       "    </tr>\n",
       "    <tr>\n",
       "      <th>std</th>\n",
       "      <td>0.930062</td>\n",
       "      <td>0.770163</td>\n",
       "      <td>918.440897</td>\n",
       "      <td>4.142051e+04</td>\n",
       "      <td>442.575043</td>\n",
       "      <td>0.539989</td>\n",
       "      <td>0.650743</td>\n",
       "      <td>3.671272e+05</td>\n",
       "    </tr>\n",
       "    <tr>\n",
       "      <th>min</th>\n",
       "      <td>0.000000</td>\n",
       "      <td>0.000000</td>\n",
       "      <td>290.000000</td>\n",
       "      <td>5.200000e+02</td>\n",
       "      <td>0.000000</td>\n",
       "      <td>1.000000</td>\n",
       "      <td>1.000000</td>\n",
       "      <td>7.500000e+04</td>\n",
       "    </tr>\n",
       "    <tr>\n",
       "      <th>25%</th>\n",
       "      <td>3.000000</td>\n",
       "      <td>1.750000</td>\n",
       "      <td>1427.000000</td>\n",
       "      <td>5.040000e+03</td>\n",
       "      <td>0.000000</td>\n",
       "      <td>1.000000</td>\n",
       "      <td>3.000000</td>\n",
       "      <td>3.219500e+05</td>\n",
       "    </tr>\n",
       "    <tr>\n",
       "      <th>50%</th>\n",
       "      <td>3.000000</td>\n",
       "      <td>2.250000</td>\n",
       "      <td>1910.000000</td>\n",
       "      <td>7.618000e+03</td>\n",
       "      <td>0.000000</td>\n",
       "      <td>1.500000</td>\n",
       "      <td>3.000000</td>\n",
       "      <td>4.500000e+05</td>\n",
       "    </tr>\n",
       "    <tr>\n",
       "      <th>75%</th>\n",
       "      <td>4.000000</td>\n",
       "      <td>2.500000</td>\n",
       "      <td>2550.000000</td>\n",
       "      <td>1.068800e+04</td>\n",
       "      <td>560.000000</td>\n",
       "      <td>2.000000</td>\n",
       "      <td>4.000000</td>\n",
       "      <td>6.450000e+05</td>\n",
       "    </tr>\n",
       "    <tr>\n",
       "      <th>max</th>\n",
       "      <td>33.000000</td>\n",
       "      <td>8.000000</td>\n",
       "      <td>13540.000000</td>\n",
       "      <td>1.651359e+06</td>\n",
       "      <td>4820.000000</td>\n",
       "      <td>3.500000</td>\n",
       "      <td>5.000000</td>\n",
       "      <td>7.700000e+06</td>\n",
       "    </tr>\n",
       "  </tbody>\n",
       "</table>\n",
       "</div>"
      ],
      "text/plain": [
       "           bedrooms     bathrooms   sqft_living      sqft_lot  sqft_basement  \\\n",
       "count  21613.000000  21613.000000  21613.000000  2.161300e+04   21613.000000   \n",
       "mean       3.370842      2.114757   2079.899736  1.510697e+04     291.509045   \n",
       "std        0.930062      0.770163    918.440897  4.142051e+04     442.575043   \n",
       "min        0.000000      0.000000    290.000000  5.200000e+02       0.000000   \n",
       "25%        3.000000      1.750000   1427.000000  5.040000e+03       0.000000   \n",
       "50%        3.000000      2.250000   1910.000000  7.618000e+03       0.000000   \n",
       "75%        4.000000      2.500000   2550.000000  1.068800e+04     560.000000   \n",
       "max       33.000000      8.000000  13540.000000  1.651359e+06    4820.000000   \n",
       "\n",
       "             floors     condition         price  \n",
       "count  21613.000000  21613.000000  2.161300e+04  \n",
       "mean       1.494309      3.409430  5.400881e+05  \n",
       "std        0.539989      0.650743  3.671272e+05  \n",
       "min        1.000000      1.000000  7.500000e+04  \n",
       "25%        1.000000      3.000000  3.219500e+05  \n",
       "50%        1.500000      3.000000  4.500000e+05  \n",
       "75%        2.000000      4.000000  6.450000e+05  \n",
       "max        3.500000      5.000000  7.700000e+06  "
      ]
     },
     "execution_count": 5,
     "metadata": {},
     "output_type": "execute_result"
    }
   ],
   "source": [
    "data.describe()"
   ]
  },
  {
   "cell_type": "markdown",
   "metadata": {},
   "source": [
    "For this programming exercise, we are going to use a simple housing dataset with 7 features:  \n",
    "- '`bedrooms`': number of beedrooms\n",
    "- '`bathrooms`': number of bathrooms\n",
    "- '`sqft_living`': living area size in square feet\n",
    "- '`sqft_lot`': lot size in square feet  \n",
    "- '`sqft_basement`': size of basement in square feet   \n",
    "- '`floors`': number of floors  \n",
    "- '`condition`': condition of the home coded with integers  \n",
    "\n",
    "The label (or target variable) we are going to predict is the '`price`'."
   ]
  },
  {
   "cell_type": "markdown",
   "metadata": {},
   "source": [
    "---"
   ]
  },
  {
   "cell_type": "markdown",
   "metadata": {},
   "source": [
    "## Step 1: Exploratory Data Analysis \n",
    "\n",
    "So far you should have a rough idea of the basic structure of the data. Remember, when working on a machine learning problem, before you jump into the model building, you should always explore you dataset to gain more insights. \n",
    "\n",
    "\n",
    "#### EXERCISE\n",
    "By now, you should have some exploratory data analysis tools in your toolbox. I will leave it to you to get some in-depth understanding of the dataset you are going to build a model with. \n",
    "\n",
    "> **Something you might want to explore:** \n",
    "    > - Distribution of individual features \n",
    "    > - Correlation between pairs of features (You will find the DataFrame's `corr()` method useful. Also, check out `seaborn`'s `heatmap()` and `pairplot()` method.)\n",
    "    > - (OPTIONAL) Experiment with feature combinations  "
   ]
  },
  {
   "cell_type": "code",
   "execution_count": 6,
   "metadata": {},
   "outputs": [
    {
     "data": {
      "text/plain": [
       "<matplotlib.text.Text at 0x118fa6a90>"
      ]
     },
     "execution_count": 6,
     "metadata": {},
     "output_type": "execute_result"
    },
    {
     "data": {
      "image/png": "[encoded data removed]",
      "text/plain": [
       "<matplotlib.figure.Figure at 0x11896db10>"
      ]
     },
     "metadata": {},
     "output_type": "display_data"
    }
   ],
   "source": [
    "# histogram with pandas built-in plot\n",
    "# distribution of number of bedrooms\n",
    "data['bedrooms'].hist(bins=30)\n",
    "plt.xlabel('Number of Bedrooms')\n",
    "plt.ylabel('Frequency')"
   ]
  },
  {
   "cell_type": "code",
   "execution_count": 7,
   "metadata": {},
   "outputs": [
    {
     "data": {
      "text/plain": [
       "<matplotlib.axes._subplots.AxesSubplot at 0x11c5cfad0>"
      ]
     },
     "execution_count": 7,
     "metadata": {},
     "output_type": "execute_result"
    },
    {
     "data": {
      "image/png": "[encoded data removed]",
      "text/plain": [
       "<matplotlib.figure.Figure at 0x11896d890>"
      ]
     },
     "metadata": {},
     "output_type": "display_data"
    }
   ],
   "source": [
    "# histogram with seaborn\n",
    "# distribution of sqft_living\n",
    "sns.distplot(data['sqft_living'], color='b')"
   ]
  },
  {
   "cell_type": "code",
   "execution_count": 8,
   "metadata": {},
   "outputs": [
    {
     "data": {
      "text/html": [
       "<div>\n",
       "<style>\n",
       "    .dataframe thead tr:only-child th {\n",
       "        text-align: right;\n",
       "    }\n",
       "\n",
       "    .dataframe thead th {\n",
       "        text-align: left;\n",
       "    }\n",
       "\n",
       "    .dataframe tbody tr th {\n",
       "        vertical-align: top;\n",
       "    }\n",
       "</style>\n",
       "<table border=\"1\" class=\"dataframe\">\n",
       "  <thead>\n",
       "    <tr style=\"text-align: right;\">\n",
       "      <th></th>\n",
       "      <th>bedrooms</th>\n",
       "      <th>bathrooms</th>\n",
       "      <th>sqft_living</th>\n",
       "      <th>sqft_lot</th>\n",
       "      <th>sqft_basement</th>\n",
       "      <th>floors</th>\n",
       "      <th>condition</th>\n",
       "      <th>price</th>\n",
       "    </tr>\n",
       "  </thead>\n",
       "  <tbody>\n",
       "    <tr>\n",
       "      <th>bedrooms</th>\n",
       "      <td>1.000000</td>\n",
       "      <td>0.515884</td>\n",
       "      <td>0.576671</td>\n",
       "      <td>0.031703</td>\n",
       "      <td>0.303093</td>\n",
       "      <td>0.175429</td>\n",
       "      <td>0.028472</td>\n",
       "      <td>0.308350</td>\n",
       "    </tr>\n",
       "    <tr>\n",
       "      <th>bathrooms</th>\n",
       "      <td>0.515884</td>\n",
       "      <td>1.000000</td>\n",
       "      <td>0.754665</td>\n",
       "      <td>0.087740</td>\n",
       "      <td>0.283770</td>\n",
       "      <td>0.500653</td>\n",
       "      <td>-0.124982</td>\n",
       "      <td>0.525138</td>\n",
       "    </tr>\n",
       "    <tr>\n",
       "      <th>sqft_living</th>\n",
       "      <td>0.576671</td>\n",
       "      <td>0.754665</td>\n",
       "      <td>1.000000</td>\n",
       "      <td>0.172826</td>\n",
       "      <td>0.435043</td>\n",
       "      <td>0.353949</td>\n",
       "      <td>-0.058753</td>\n",
       "      <td>0.702035</td>\n",
       "    </tr>\n",
       "    <tr>\n",
       "      <th>sqft_lot</th>\n",
       "      <td>0.031703</td>\n",
       "      <td>0.087740</td>\n",
       "      <td>0.172826</td>\n",
       "      <td>1.000000</td>\n",
       "      <td>0.015286</td>\n",
       "      <td>-0.005201</td>\n",
       "      <td>-0.008958</td>\n",
       "      <td>0.089661</td>\n",
       "    </tr>\n",
       "    <tr>\n",
       "      <th>sqft_basement</th>\n",
       "      <td>0.303093</td>\n",
       "      <td>0.283770</td>\n",
       "      <td>0.435043</td>\n",
       "      <td>0.015286</td>\n",
       "      <td>1.000000</td>\n",
       "      <td>-0.245705</td>\n",
       "      <td>0.174105</td>\n",
       "      <td>0.323816</td>\n",
       "    </tr>\n",
       "    <tr>\n",
       "      <th>floors</th>\n",
       "      <td>0.175429</td>\n",
       "      <td>0.500653</td>\n",
       "      <td>0.353949</td>\n",
       "      <td>-0.005201</td>\n",
       "      <td>-0.245705</td>\n",
       "      <td>1.000000</td>\n",
       "      <td>-0.263768</td>\n",
       "      <td>0.256794</td>\n",
       "    </tr>\n",
       "    <tr>\n",
       "      <th>condition</th>\n",
       "      <td>0.028472</td>\n",
       "      <td>-0.124982</td>\n",
       "      <td>-0.058753</td>\n",
       "      <td>-0.008958</td>\n",
       "      <td>0.174105</td>\n",
       "      <td>-0.263768</td>\n",
       "      <td>1.000000</td>\n",
       "      <td>0.036362</td>\n",
       "    </tr>\n",
       "    <tr>\n",
       "      <th>price</th>\n",
       "      <td>0.308350</td>\n",
       "      <td>0.525138</td>\n",
       "      <td>0.702035</td>\n",
       "      <td>0.089661</td>\n",
       "      <td>0.323816</td>\n",
       "      <td>0.256794</td>\n",
       "      <td>0.036362</td>\n",
       "      <td>1.000000</td>\n",
       "    </tr>\n",
       "  </tbody>\n",
       "</table>\n",
       "</div>"
      ],
      "text/plain": [
       "               bedrooms  bathrooms  sqft_living  sqft_lot  sqft_basement  \\\n",
       "bedrooms       1.000000   0.515884     0.576671  0.031703       0.303093   \n",
       "bathrooms      0.515884   1.000000     0.754665  0.087740       0.283770   \n",
       "sqft_living    0.576671   0.754665     1.000000  0.172826       0.435043   \n",
       "sqft_lot       0.031703   0.087740     0.172826  1.000000       0.015286   \n",
       "sqft_basement  0.303093   0.283770     0.435043  0.015286       1.000000   \n",
       "floors         0.175429   0.500653     0.353949 -0.005201      -0.245705   \n",
       "condition      0.028472  -0.124982    -0.058753 -0.008958       0.174105   \n",
       "price          0.308350   0.525138     0.702035  0.089661       0.323816   \n",
       "\n",
       "                 floors  condition     price  \n",
       "bedrooms       0.175429   0.028472  0.308350  \n",
       "bathrooms      0.500653  -0.124982  0.525138  \n",
       "sqft_living    0.353949  -0.058753  0.702035  \n",
       "sqft_lot      -0.005201  -0.008958  0.089661  \n",
       "sqft_basement -0.245705   0.174105  0.323816  \n",
       "floors         1.000000  -0.263768  0.256794  \n",
       "condition     -0.263768   1.000000  0.036362  \n",
       "price          0.256794   0.036362  1.000000  "
      ]
     },
     "metadata": {},
     "output_type": "display_data"
    }
   ],
   "source": [
    "# calculate correlation with corr()\n",
    "correlation = data.corr()\n",
    "display(correlation)"
   ]
  },
  {
   "cell_type": "code",
   "execution_count": 9,
   "metadata": {},
   "outputs": [
    {
     "data": {
      "text/plain": [
       "<matplotlib.axes._subplots.AxesSubplot at 0x11c804f90>"
      ]
     },
     "execution_count": 9,
     "metadata": {},
     "output_type": "execute_result"
    },
    {
     "data": {
      "image/png": "[encoded data removed]",
      "text/plain": [
       "<matplotlib.figure.Figure at 0x11c87c3d0>"
      ]
     },
     "metadata": {},
     "output_type": "display_data"
    }
   ],
   "source": [
    "# plot correlation matrix \n",
    "cmap = sns.diverging_palette(220, 10, as_cmap=True) # generate color map\n",
    "sns.heatmap(correlation, vmin=-0.5, vmax=1, cmap=cmap, square=True, linewidths=.5)"
   ]
  },
  {
   "cell_type": "code",
   "execution_count": 1,
   "metadata": {},
   "outputs": [
    {
     "ename": "NameError",
     "evalue": "name 'sns' is not defined",
     "output_type": "error",
     "traceback": [
      "\u001b[1;31m\u001b[0m",
      "\u001b[1;31mNameError\u001b[0mTraceback (most recent call last)",
      "\u001b[1;32m<ipython-input-1-3033a704f09e>\u001b[0m in \u001b[0;36m<module>\u001b[1;34m()\u001b[0m\n\u001b[0;32m      1\u001b[0m \u001b[1;31m# use pairplot to visualize pairwise relationship\u001b[0m\u001b[1;33m\u001b[0m\u001b[1;33m\u001b[0m\u001b[0m\n\u001b[1;32m----> 2\u001b[1;33m \u001b[0mg\u001b[0m \u001b[1;33m=\u001b[0m \u001b[0msns\u001b[0m\u001b[1;33m.\u001b[0m\u001b[0mpairplot\u001b[0m\u001b[1;33m(\u001b[0m\u001b[0mdata\u001b[0m\u001b[1;33m[\u001b[0m\u001b[1;33m[\u001b[0m\u001b[1;34m'bedrooms'\u001b[0m\u001b[1;33m,\u001b[0m \u001b[1;34m'bathrooms'\u001b[0m\u001b[1;33m,\u001b[0m \u001b[1;34m'sqft_living'\u001b[0m\u001b[1;33m,\u001b[0m \u001b[1;34m'sqft_lot'\u001b[0m\u001b[1;33m,\u001b[0m \u001b[1;34m'price'\u001b[0m\u001b[1;33m]\u001b[0m\u001b[1;33m]\u001b[0m\u001b[1;33m)\u001b[0m\u001b[1;33m\u001b[0m\u001b[0m\n\u001b[0m\u001b[0;32m      3\u001b[0m \u001b[1;33m\u001b[0m\u001b[0m\n\u001b[0;32m      4\u001b[0m \u001b[1;33m\u001b[0m\u001b[0m\n\u001b[0;32m      5\u001b[0m \u001b[0mg\u001b[0m\u001b[1;33m.\u001b[0m\u001b[0mmap_diag\u001b[0m\u001b[1;33m(\u001b[0m\u001b[0msns\u001b[0m\u001b[1;33m.\u001b[0m\u001b[0mkdeplot\u001b[0m\u001b[1;33m)\u001b[0m\u001b[1;33m\u001b[0m\u001b[0m\n",
      "\u001b[1;31mNameError\u001b[0m: name 'sns' is not defined"
     ]
    }
   ],
   "source": [
    "# use pairplot to visualize pairwise relationship\n",
    "g = sns.pairplot(data[['bedrooms', 'bathrooms', 'sqft_living', 'sqft_lot', 'price']])"
   ]
  },
  {
   "cell_type": "markdown",
   "metadata": {},
   "source": [
    "---"
   ]
  },
  {
   "cell_type": "markdown",
   "metadata": {},
   "source": [
    "## Step 2: Prepare the Data for Model Building\n",
    "\n",
    "After you have explored your dataset, you usually have to do some preprocessing and cleaning steps to prepare the dataset for your machine learning algorithms. For example, as you learned from last week's tutorial, you should check whether there are missing values in your dataset. If so, there are different strategies for dealing with them (e.g., dropping the feature or some form of imputation). In cases when your dataset has categorical features, you should convert them to numerical variables, either by mapping the categorical features to numerical values, or use *one-hot encoding* to turn the features into dummy variables. \n",
    "\n",
    "**Sometimes, it is also a good idea to scale the features because some machine learning algorithms do not perform well when the input numerical variables have different scales.** For example, in algorithms that calculate the distance between two points by the Euclidean distance, the distance will be governed by the feature with broad range of values. Also, for regularized linear models (Ridge, Lasso, and ElasticNet), normalization is very important because the scale of the variable affects how much regularization will be applied to that specific variable. (More on this [Wikipedia](https://en.wikipedia.org/wiki/Feature_scaling) page for feature scaling). \n",
    "\n",
    "For now, we will just use the data as it is and build linear regression models and decision tree models. "
   ]
  },
  {
   "cell_type": "markdown",
   "metadata": {},
   "source": [
    "---"
   ]
  },
  {
   "cell_type": "markdown",
   "metadata": {},
   "source": [
    "## Step 3: Training, Testing, and Model Evaluation\n",
    "\n",
    "### 1. Univariate Linear Regression \n",
    "\n",
    "Univariate linear regression is an approach for predicting a quantitative response using a single feature (or \"predictor\" or \"input variable\"). For example, we can use `sqft_living` as our feature to predict `price`. However, we know that this feature along probably does not have enough predictive power for the home price. We are only using this as an example to demonstrate linear regression with `sklearn`. \n",
    "\n",
    "But, first, let's split our data into training and test sets using `train_test_split()`. For more impormation about `train_test_split()`, read the [documentation about the method](http://scikit-learn.org/stable/modules/generated/sklearn.model_selection.train_test_split.html). In Jupyter notebook, a handy shortcut to view the documentation is to use **shift + tab** with your cursor inside the parentheses."
   ]
  },
  {
   "cell_type": "code",
   "execution_count": 11,
   "metadata": {},
   "outputs": [
    {
     "data": {
      "text/html": [
       "<div>\n",
       "<style>\n",
       "    .dataframe thead tr:only-child th {\n",
       "        text-align: right;\n",
       "    }\n",
       "\n",
       "    .dataframe thead th {\n",
       "        text-align: left;\n",
       "    }\n",
       "\n",
       "    .dataframe tbody tr th {\n",
       "        vertical-align: top;\n",
       "    }\n",
       "</style>\n",
       "<table border=\"1\" class=\"dataframe\">\n",
       "  <thead>\n",
       "    <tr style=\"text-align: right;\">\n",
       "      <th></th>\n",
       "      <th>bedrooms</th>\n",
       "      <th>bathrooms</th>\n",
       "      <th>sqft_living</th>\n",
       "      <th>sqft_lot</th>\n",
       "      <th>sqft_basement</th>\n",
       "      <th>floors</th>\n",
       "      <th>condition</th>\n",
       "      <th>price</th>\n",
       "    </tr>\n",
       "  </thead>\n",
       "  <tbody>\n",
       "    <tr>\n",
       "      <th>862</th>\n",
       "      <td>3</td>\n",
       "      <td>1.75</td>\n",
       "      <td>1650</td>\n",
       "      <td>10150</td>\n",
       "      <td>420</td>\n",
       "      <td>1.0</td>\n",
       "      <td>3</td>\n",
       "      <td>539900</td>\n",
       "    </tr>\n",
       "    <tr>\n",
       "      <th>16466</th>\n",
       "      <td>4</td>\n",
       "      <td>2.50</td>\n",
       "      <td>2430</td>\n",
       "      <td>8509</td>\n",
       "      <td>0</td>\n",
       "      <td>2.0</td>\n",
       "      <td>3</td>\n",
       "      <td>658100</td>\n",
       "    </tr>\n",
       "    <tr>\n",
       "      <th>15625</th>\n",
       "      <td>5</td>\n",
       "      <td>2.00</td>\n",
       "      <td>1730</td>\n",
       "      <td>7375</td>\n",
       "      <td>0</td>\n",
       "      <td>1.0</td>\n",
       "      <td>4</td>\n",
       "      <td>249950</td>\n",
       "    </tr>\n",
       "    <tr>\n",
       "      <th>18745</th>\n",
       "      <td>3</td>\n",
       "      <td>1.50</td>\n",
       "      <td>1370</td>\n",
       "      <td>10317</td>\n",
       "      <td>0</td>\n",
       "      <td>1.5</td>\n",
       "      <td>3</td>\n",
       "      <td>199950</td>\n",
       "    </tr>\n",
       "    <tr>\n",
       "      <th>7848</th>\n",
       "      <td>3</td>\n",
       "      <td>1.00</td>\n",
       "      <td>1150</td>\n",
       "      <td>8924</td>\n",
       "      <td>0</td>\n",
       "      <td>1.0</td>\n",
       "      <td>3</td>\n",
       "      <td>175000</td>\n",
       "    </tr>\n",
       "  </tbody>\n",
       "</table>\n",
       "</div>"
      ],
      "text/plain": [
       "       bedrooms  bathrooms  sqft_living  sqft_lot  sqft_basement  floors  \\\n",
       "862           3       1.75         1650     10150            420     1.0   \n",
       "16466         4       2.50         2430      8509              0     2.0   \n",
       "15625         5       2.00         1730      7375              0     1.0   \n",
       "18745         3       1.50         1370     10317              0     1.5   \n",
       "7848          3       1.00         1150      8924              0     1.0   \n",
       "\n",
       "       condition   price  \n",
       "862            3  539900  \n",
       "16466          3  658100  \n",
       "15625          4  249950  \n",
       "18745          3  199950  \n",
       "7848           3  175000  "
      ]
     },
     "metadata": {},
     "output_type": "display_data"
    },
    {
     "data": {
      "text/html": [
       "<div>\n",
       "<style>\n",
       "    .dataframe thead tr:only-child th {\n",
       "        text-align: right;\n",
       "    }\n",
       "\n",
       "    .dataframe thead th {\n",
       "        text-align: left;\n",
       "    }\n",
       "\n",
       "    .dataframe tbody tr th {\n",
       "        vertical-align: top;\n",
       "    }\n",
       "</style>\n",
       "<table border=\"1\" class=\"dataframe\">\n",
       "  <thead>\n",
       "    <tr style=\"text-align: right;\">\n",
       "      <th></th>\n",
       "      <th>bedrooms</th>\n",
       "      <th>bathrooms</th>\n",
       "      <th>sqft_living</th>\n",
       "      <th>sqft_lot</th>\n",
       "      <th>sqft_basement</th>\n",
       "      <th>floors</th>\n",
       "      <th>condition</th>\n",
       "      <th>price</th>\n",
       "    </tr>\n",
       "  </thead>\n",
       "  <tbody>\n",
       "    <tr>\n",
       "      <th>5294</th>\n",
       "      <td>3</td>\n",
       "      <td>1.75</td>\n",
       "      <td>1270</td>\n",
       "      <td>4800</td>\n",
       "      <td>0</td>\n",
       "      <td>1.0</td>\n",
       "      <td>3</td>\n",
       "      <td>335000</td>\n",
       "    </tr>\n",
       "    <tr>\n",
       "      <th>19430</th>\n",
       "      <td>3</td>\n",
       "      <td>2.50</td>\n",
       "      <td>2400</td>\n",
       "      <td>6182</td>\n",
       "      <td>0</td>\n",
       "      <td>2.0</td>\n",
       "      <td>3</td>\n",
       "      <td>523000</td>\n",
       "    </tr>\n",
       "    <tr>\n",
       "      <th>10728</th>\n",
       "      <td>3</td>\n",
       "      <td>1.75</td>\n",
       "      <td>1950</td>\n",
       "      <td>7260</td>\n",
       "      <td>430</td>\n",
       "      <td>1.0</td>\n",
       "      <td>3</td>\n",
       "      <td>360000</td>\n",
       "    </tr>\n",
       "    <tr>\n",
       "      <th>12080</th>\n",
       "      <td>4</td>\n",
       "      <td>2.75</td>\n",
       "      <td>2220</td>\n",
       "      <td>8450</td>\n",
       "      <td>960</td>\n",
       "      <td>1.0</td>\n",
       "      <td>4</td>\n",
       "      <td>410000</td>\n",
       "    </tr>\n",
       "    <tr>\n",
       "      <th>15156</th>\n",
       "      <td>3</td>\n",
       "      <td>1.75</td>\n",
       "      <td>1720</td>\n",
       "      <td>9775</td>\n",
       "      <td>0</td>\n",
       "      <td>1.0</td>\n",
       "      <td>3</td>\n",
       "      <td>169000</td>\n",
       "    </tr>\n",
       "  </tbody>\n",
       "</table>\n",
       "</div>"
      ],
      "text/plain": [
       "       bedrooms  bathrooms  sqft_living  sqft_lot  sqft_basement  floors  \\\n",
       "5294          3       1.75         1270      4800              0     1.0   \n",
       "19430         3       2.50         2400      6182              0     2.0   \n",
       "10728         3       1.75         1950      7260            430     1.0   \n",
       "12080         4       2.75         2220      8450            960     1.0   \n",
       "15156         3       1.75         1720      9775              0     1.0   \n",
       "\n",
       "       condition   price  \n",
       "5294           3  335000  \n",
       "19430          3  523000  \n",
       "10728          3  360000  \n",
       "12080          4  410000  \n",
       "15156          3  169000  "
      ]
     },
     "metadata": {},
     "output_type": "display_data"
    },
    {
     "name": "stdout",
     "output_type": "stream",
     "text": [
      "The number of instances in the original data: 21613\n",
      "The number of instances in the training set: 17290\n",
      "The number of instances in the test set: 4323\n"
     ]
    }
   ],
   "source": [
    "# import train_test_split\n",
    "from sklearn.model_selection import train_test_split  \n",
    "\n",
    "# Split the original dataset into training and test data sets\n",
    "# Note that we split the original dataset instead of `X` (features) and `y` (label) arrays \n",
    "train_set, test_set = train_test_split(data, test_size=0.2, random_state=21)\n",
    "\n",
    "# Take a look at the first few rows of the training features and classes\n",
    "display(train_set.head())\n",
    "display(test_set.head())\n",
    "\n",
    "# Verify that the data sets were split 80% training and 20% testing\n",
    "print 'The number of instances in the original data: {}'.format(data.shape[0])\n",
    "print 'The number of instances in the training set: {}'.format(train_set.shape[0])\n",
    "print 'The number of instances in the test set: {}'.format(test_set.shape[0]) "
   ]
  },
  {
   "cell_type": "code",
   "execution_count": 12,
   "metadata": {
    "collapsed": true
   },
   "outputs": [],
   "source": [
    "# Now let's separate features and label\n",
    "X_train = train_set['sqft_living'].values.reshape(-1, 1) # need do reshape if data has a single feature\n",
    "y_train = train_set['price']\n",
    "X_test = test_set['sqft_living'].values.reshape(-1, 1)\n",
    "y_test = test_set['price']"
   ]
  },
  {
   "cell_type": "markdown",
   "metadata": {},
   "source": [
    "Now we can train our model with `sklean`. "
   ]
  },
  {
   "cell_type": "code",
   "execution_count": 13,
   "metadata": {
    "collapsed": true
   },
   "outputs": [],
   "source": [
    "from sklearn.linear_model import LinearRegression\n",
    "\n",
    "# CREATE regression object... in this example\n",
    "lreg = LinearRegression()\n",
    "\n",
    "# TRAIN the object using the method .fit()\n",
    "lreg.fit(X_train, y_train)\n",
    "\n",
    "# PREDICT labels for the train and test set using the method .predict()\n",
    "y_pred_train = lreg.predict(X_train)\n",
    "y_pred_test  = lreg.predict(X_test)"
   ]
  },
  {
   "cell_type": "markdown",
   "metadata": {},
   "source": [
    "### Intepreting the coefficients"
   ]
  },
  {
   "cell_type": "code",
   "execution_count": 14,
   "metadata": {},
   "outputs": [
    {
     "data": {
      "text/plain": [
       "<matplotlib.text.Text at 0x11f3c0990>"
      ]
     },
     "execution_count": 14,
     "metadata": {},
     "output_type": "execute_result"
    },
    {
     "data": {
      "image/png": "[encoded data removed]",
      "text/plain": [
       "<matplotlib.figure.Figure at 0x11e2f8bd0>"
      ]
     },
     "metadata": {},
     "output_type": "display_data"
    }
   ],
   "source": [
    "# plot the training examples and the regression line\n",
    "plt.plot(X_train, y_train, '.', X_train, y_pred_train, '-')\n",
    "plt.xlabel('Living Area Size (sqft)')\n",
    "plt.ylabel('Home Price (USD)')"
   ]
  },
  {
   "cell_type": "code",
   "execution_count": 15,
   "metadata": {},
   "outputs": [
    {
     "name": "stdout",
     "output_type": "stream",
     "text": [
      "Intercept of the regression line is -42901.042321.\n",
      "Slope of the regression line is 279.597286.\n"
     ]
    }
   ],
   "source": [
    "# the coefficients\n",
    "print 'Intercept of the regression line is %f.' % lreg.intercept_\n",
    "print 'Slope of the regression line is %f.' % lreg.coef_"
   ]
  },
  {
   "cell_type": "markdown",
   "metadata": {},
   "source": [
    "#### QUESTION: What does the coefficients mean? "
   ]
  },
  {
   "cell_type": "markdown",
   "metadata": {},
   "source": [
    "**Answer:** "
   ]
  },
  {
   "cell_type": "markdown",
   "metadata": {},
   "source": [
    "> **Note:** the above data shows the so-called [heterosedasticity](https://en.wikipedia.org/wiki/Heteroscedasticity), i.e., the variability of a variable is unequal across the range of values of a second variable that predicts it. In the above case, the regression model is highly inconsistent when it predicts high values of `sqft_living`. Read more about how heterosedasticity would affect regression in this [Quora post](https://www.quora.com/How-would-homo-heteroskedasticity-affect-regression-analysis)."
   ]
  },
  {
   "cell_type": "markdown",
   "metadata": {},
   "source": [
    "### Calculating Metrics"
   ]
  },
  {
   "cell_type": "code",
   "execution_count": 16,
   "metadata": {},
   "outputs": [
    {
     "name": "stdout",
     "output_type": "stream",
     "text": [
      "Root mean squared error for training set: 261515.668\n",
      "Root mean squared error for test set: 261169.867\n"
     ]
    }
   ],
   "source": [
    "# root mean squared error\n",
    "from sklearn.metrics import mean_squared_error\n",
    "print 'Root mean squared error for training set: %.3f' % np.sqrt(mean_squared_error(y_train, y_pred_train))\n",
    "print 'Root mean squared error for test set: %.3f' % np.sqrt(mean_squared_error(y_test, y_pred_test))"
   ]
  },
  {
   "cell_type": "markdown",
   "metadata": {},
   "source": [
    "#### EXERCISE: Calculate regression performance metrics"
   ]
  },
  {
   "cell_type": "code",
   "execution_count": 17,
   "metadata": {},
   "outputs": [
    {
     "name": "stdout",
     "output_type": "stream",
     "text": [
      "R squared for training set: 0.494\n",
      "R squared for test set: 0.487\n"
     ]
    }
   ],
   "source": [
    "# TODO: CALCULATE r squared\n",
    "from sklearn.metrics import r2_score\n",
    "print 'R squared for training set: %.3f' % r2_score(y_train, y_pred_train)\n",
    "print 'R squared for test set: %.3f' % r2_score(y_test, y_pred_test)"
   ]
  },
  {
   "cell_type": "code",
   "execution_count": 18,
   "metadata": {},
   "outputs": [
    {
     "name": "stdout",
     "output_type": "stream",
     "text": [
      "Mean absolute error for training set: 172696.712\n",
      "Mean absolute error for test set: 176178.564\n"
     ]
    }
   ],
   "source": [
    "# TODO: CALCULATE mean absolute error\n",
    "from sklearn.metrics import mean_absolute_error\n",
    "print 'Mean absolute error for training set: %.3f' % mean_absolute_error(y_train, y_pred_train)\n",
    "print 'Mean absolute error for test set: %.3f' % mean_absolute_error(y_test, y_pred_test)"
   ]
  },
  {
   "cell_type": "markdown",
   "metadata": {},
   "source": [
    "### 2. Multivariate Linear Regression  \n",
    "\n",
    "Now let's train the model with all the features. "
   ]
  },
  {
   "cell_type": "code",
   "execution_count": 19,
   "metadata": {
    "collapsed": true
   },
   "outputs": [],
   "source": [
    "# Separate features and label\n",
    "X_train = train_set.drop('price', axis=1)\n",
    "y_train = train_set['price']\n",
    "X_test = test_set.drop('price', axis=1)\n",
    "y_test = test_set['price']"
   ]
  },
  {
   "cell_type": "markdown",
   "metadata": {},
   "source": [
    "#### EXERCISE: Implement multivariate linear regression model"
   ]
  },
  {
   "cell_type": "code",
   "execution_count": 20,
   "metadata": {},
   "outputs": [
    {
     "name": "stdout",
     "output_type": "stream",
     "text": [
      "Root mean squared error for training set: 255411.450\n",
      "Root mean squared error for test set: 253666.329\n",
      "R squared for training set: 0.517\n",
      "R squared for test set: 0.517\n",
      "Mean absolute error for training set: 167182.751\n",
      "Mean absolute error for test set: 170768.143\n"
     ]
    }
   ],
   "source": [
    "# TODO: CREATE regression object\n",
    "lreg_m = LinearRegression()\n",
    "\n",
    "# TODO: TRAIN the object using the method .fit()\n",
    "lreg_m.fit(X_train, y_train)\n",
    "\n",
    "# TODO: PREDICT labels for the train and test set using the method .predict()\n",
    "y_pred_train = lreg_m.predict(X_train)\n",
    "y_pred_test  = lreg_m.predict(X_test)\n",
    "\n",
    "# TODO: CALCULATE performance metrics\n",
    "print 'Root mean squared error for training set: %.3f' % np.sqrt(mean_squared_error(y_train, y_pred_train))\n",
    "print 'Root mean squared error for test set: %.3f' % np.sqrt(mean_squared_error(y_test, y_pred_test))\n",
    "\n",
    "print 'R squared for training set: %.3f' % r2_score(y_train, y_pred_train)\n",
    "print 'R squared for test set: %.3f' % r2_score(y_test, y_pred_test)\n",
    "\n",
    "print 'Mean absolute error for training set: %.3f' % mean_absolute_error(y_train, y_pred_train)\n",
    "print 'Mean absolute error for test set: %.3f' % mean_absolute_error(y_test, y_pred_test)"
   ]
  },
  {
   "cell_type": "markdown",
   "metadata": {},
   "source": [
    "### 3. Decision Tree Regression  \n",
    "\n",
    "Linear regression does not do a very good job in predicting the home price with the given features. Let's see if a different algorithm could do any better. Remember we built a decision tree classifier last week to predict whether a given Titanic passenger survived or not. Decision tree algorithm can also be used for regression problem. It works very similarly as in classification problems by splitting but now the leaf of the tree represents a numerical value instead of a class label. I will let you to work through the unfinished code below. "
   ]
  },
  {
   "cell_type": "markdown",
   "metadata": {},
   "source": [
    "#### EXERCISE: Finish the implementation of a decision tree regressor"
   ]
  },
  {
   "cell_type": "code",
   "execution_count": 21,
   "metadata": {},
   "outputs": [
    {
     "name": "stdout",
     "output_type": "stream",
     "text": [
      "Root mean squared error for training set: 10662.278\n",
      "Root mean squared error for test set: 321260.644\n",
      "R squared for training set: 0.999\n",
      "R squared for test set: 0.225\n",
      "Mean absolute error for training set: 1118.201\n",
      "Mean absolute error for test set: 205468.111\n"
     ]
    }
   ],
   "source": [
    "from sklearn.tree import DecisionTreeRegressor\n",
    "\n",
    "# TODO: CREATE regression object\n",
    "tree = DecisionTreeRegressor()\n",
    "\n",
    "# TODO: TRAIN the object using the method .fit()\n",
    "tree.fit(X_train, y_train)\n",
    "\n",
    "# TODO: PREDICT labels for the train and test set using the method .predict()\n",
    "y_pred_train = tree.predict(X_train)\n",
    "y_pred_test  = tree.predict(X_test)\n",
    "\n",
    "# TODO: CALCULATE performance metrics\n",
    "print 'Root mean squared error for training set: %.3f' % np.sqrt(mean_squared_error(y_train, y_pred_train))\n",
    "print 'Root mean squared error for test set: %.3f' % np.sqrt(mean_squared_error(y_test, y_pred_test))\n",
    "\n",
    "print 'R squared for training set: %.3f' % r2_score(y_train, y_pred_train)\n",
    "print 'R squared for test set: %.3f' % r2_score(y_test, y_pred_test)\n",
    "\n",
    "print 'Mean absolute error for training set: %.3f' % mean_absolute_error(y_train, y_pred_train)\n",
    "print 'Mean absolute error for test set: %.3f' % mean_absolute_error(y_test, y_pred_test)"
   ]
  },
  {
   "cell_type": "markdown",
   "metadata": {},
   "source": [
    "#### EXERCISE: Tune the complexity of the model and compare the model performance. What is the optimal complexity for a decision tree regression model in this case? "
   ]
  },
  {
   "cell_type": "code",
   "execution_count": 22,
   "metadata": {
    "collapsed": true
   },
   "outputs": [],
   "source": [
    "# TUNE max_depth \n",
    "\n",
    "# initiate empty dictionaries for training and test r2 scores\n",
    "r2_train = {} \n",
    "r2_test = {}\n",
    "\n",
    "# loop over different max_depth\n",
    "for depth in range(1, 11):\n",
    "    # train and predict\n",
    "    tree = DecisionTreeRegressor(max_depth=depth)\n",
    "    tree.fit(X_train, y_train)\n",
    "    y_pred_train = tree.predict(X_train)\n",
    "    y_pred_test  = tree.predict(X_test)\n",
    "    # add depth: r2 score pair to the dictionary \n",
    "    r2_train[depth] = r2_score(y_train, y_pred_train)\n",
    "    r2_test[depth] = r2_score(y_test, y_pred_test)"
   ]
  },
  {
   "cell_type": "code",
   "execution_count": 23,
   "metadata": {},
   "outputs": [
    {
     "data": {
      "text/plain": [
       "{1: 0.30802489039370562,\n",
       " 2: 0.45669024321006502,\n",
       " 3: 0.53852024379352392,\n",
       " 4: 0.56803015503801113,\n",
       " 5: 0.59699704119411312,\n",
       " 6: 0.62098680115973059,\n",
       " 7: 0.64937295385918625,\n",
       " 8: 0.68651290300809398,\n",
       " 9: 0.72005214162698028,\n",
       " 10: 0.75933955908447659}"
      ]
     },
     "execution_count": 23,
     "metadata": {},
     "output_type": "execute_result"
    }
   ],
   "source": [
    "r2_train"
   ]
  },
  {
   "cell_type": "code",
   "execution_count": 24,
   "metadata": {},
   "outputs": [
    {
     "data": {
      "text/plain": [
       "{1: 0.31030216873292993,\n",
       " 2: 0.43717949139979984,\n",
       " 3: 0.48713545731391905,\n",
       " 4: 0.50539957266865654,\n",
       " 5: 0.54705174628399589,\n",
       " 6: 0.53459222817723573,\n",
       " 7: 0.52508048654776807,\n",
       " 8: 0.49528666279351885,\n",
       " 9: 0.4719276468803999,\n",
       " 10: 0.44998739431015522}"
      ]
     },
     "execution_count": 24,
     "metadata": {},
     "output_type": "execute_result"
    }
   ],
   "source": [
    "r2_test"
   ]
  },
  {
   "cell_type": "markdown",
   "metadata": {},
   "source": [
    "#### EXERCISE (OPTIONAL) : Can you plot a complexity plot showing train and test performance as a function of model complexity?"
   ]
  },
  {
   "cell_type": "code",
   "execution_count": 25,
   "metadata": {},
   "outputs": [
    {
     "data": {
      "text/plain": [
       "<matplotlib.legend.Legend at 0x11f468d10>"
      ]
     },
     "execution_count": 25,
     "metadata": {},
     "output_type": "execute_result"
    },
    {
     "data": {
      "image/png": "[encoded data removed]",
      "text/plain": [
       "<matplotlib.figure.Figure at 0x11f42f950>"
      ]
     },
     "metadata": {},
     "output_type": "display_data"
    }
   ],
   "source": [
    "# Plot training and test r2 scores as a function of max_depth \n",
    "# return a list of tuples\n",
    "lists1 = r2_train.items() \n",
    "lists2 = r2_test.items()\n",
    "\n",
    "# unpack a list of pairs into two tuples\n",
    "d1, r1 = zip(*lists1) \n",
    "d2, r2 = zip(*lists2)\n",
    "\n",
    "plt.plot(d1, r1, 'bo', linestyle= '-', label = 'Train')\n",
    "plt.plot(d2, r2, 'ro', linestyle= '-', label = 'Test')\n",
    "plt.xlabel('Max_depth')\n",
    "plt.ylabel('R2 score')\n",
    "plt.legend()"
   ]
  },
  {
   "cell_type": "code",
   "execution_count": null,
   "metadata": {
    "collapsed": true
   },
   "outputs": [],
   "source": []
  }
 ],
 "metadata": {
  "anaconda-cloud": {},
  "kernelspec": {
   "display_name": "Python 2",
   "language": "python",
   "name": "python2"
  },
  "language_info": {
   "codemirror_mode": {
    "name": "ipython",
    "version": 2
   },
   "file_extension": ".py",
   "mimetype": "text/x-python",
   "name": "python",
   "nbconvert_exporter": "python",
   "pygments_lexer": "ipython2",
   "version": "2.7.13"
  },
  "toc": {
   "nav_menu": {},
   "number_sections": true,
   "sideBar": true,
   "skip_h1_title": false,
   "toc_cell": false,
   "toc_position": {},
   "toc_section_display": "block",
   "toc_window_display": false
  },
  "varInspector": {
   "cols": {
    "lenName": 16,
    "lenType": 16,
    "lenVar": 40
   },
   "kernels_config": {
    "python": {
     "delete_cmd_postfix": "",
     "delete_cmd_prefix": "del ",
     "library": "var_list.py",
     "varRefreshCmd": "print(var_dic_list())"
    },
    "r": {
     "delete_cmd_postfix": ") ",
     "delete_cmd_prefix": "rm(",
     "library": "var_list.r",
     "varRefreshCmd": "cat(var_dic_list()) "
    }
   },
   "types_to_exclude": [
    "module",
    "function",
    "builtin_function_or_method",
    "instance",
    "_Feature"
   ],
   "window_display": false
  }
 },
 "nbformat": 4,
 "nbformat_minor": 2
}
