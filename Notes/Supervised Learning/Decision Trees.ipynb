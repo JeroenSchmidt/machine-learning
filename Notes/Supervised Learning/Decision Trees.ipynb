{
 "cells": [
  {
   "cell_type": "markdown",
   "metadata": {},
   "source": [
    "# Terms"
   ]
  },
  {
   "cell_type": "markdown",
   "metadata": {},
   "source": [
    "**Instances** - set of inputs - vectors of attributes of what ever your input space is\n",
    "\n",
    "**Concept** - function that maps inputs to outputs\n",
    "* maps objects in the world into sets that they belong to \n",
    "\n",
    "**Target Concept** - the answer (the thing we are trying to find) \n",
    "\n",
    "**Hypothesis Class** - the set of all concepts (function classes) that we are willing to think about\n",
    "* if its all possible functions? it becomes very hard to figure out which function is the best given finite data. \n",
    "\n",
    "**Candidate** - *concept* that we think is the *target concept*\n",
    "\n",
    "**Sample** - training set\n",
    "* set of all our inputs paired with a label (correct output)\n",
    "\n",
    "**Testing Set** \n",
    "* Should not be the same as the training set. Used to prove that the model is able to generalize."
   ]
  },
  {
   "cell_type": "markdown",
   "metadata": {},
   "source": [
    "# Decision Trees"
   ]
  }
 ],
 "metadata": {
  "kernelspec": {
   "display_name": "Python 2",
   "language": "python",
   "name": "python2"
  },
  "language_info": {
   "codemirror_mode": {
    "name": "ipython",
    "version": 2
   },
   "file_extension": ".py",
   "mimetype": "text/x-python",
   "name": "python",
   "nbconvert_exporter": "python",
   "pygments_lexer": "ipython2",
   "version": "2.7.14"
  },
  "toc": {
   "nav_menu": {},
   "number_sections": true,
   "sideBar": true,
   "skip_h1_title": false,
   "toc_cell": false,
   "toc_position": {},
   "toc_section_display": "none",
   "toc_window_display": false
  },
  "varInspector": {
   "cols": {
    "lenName": 16,
    "lenType": 16,
    "lenVar": 40
   },
   "kernels_config": {
    "python": {
     "delete_cmd_postfix": "",
     "delete_cmd_prefix": "del ",
     "library": "var_list.py",
     "varRefreshCmd": "print(var_dic_list())"
    },
    "r": {
     "delete_cmd_postfix": ") ",
     "delete_cmd_prefix": "rm(",
     "library": "var_list.r",
     "varRefreshCmd": "cat(var_dic_list()) "
    }
   },
   "types_to_exclude": [
    "module",
    "function",
    "builtin_function_or_method",
    "instance",
    "_Feature"
   ],
   "window_display": false
  }
 },
 "nbformat": 4,
 "nbformat_minor": 2
}
