{
 "cells": [
  {
   "cell_type": "code",
   "execution_count": 16,
   "metadata": {
    "scrolled": false
   },
   "outputs": [
    {
     "name": "stdout",
     "output_type": "stream",
     "text": [
      "('OHE shape: ', (891, 2413))\n",
      "('Original Data shape:', (891, 5))\n"
     ]
    }
   ],
   "source": [
    "# In this exercise we'll load the titanic data (from Project 0)\n",
    "# And then perform one-hot encoding on the feature names\n",
    "\n",
    "import numpy as np\n",
    "import pandas as pd\n",
    "\n",
    "# Load the dataset\n",
    "X = pd.read_csv('titanic_data.csv')\n",
    "# Limit to categorical data\n",
    "X = X.select_dtypes(include=[object])\n",
    "\n",
    "from sklearn.preprocessing import LabelEncoder\n",
    "from sklearn.preprocessing import OneHotEncoder\n",
    "\n",
    "le = LabelEncoder()\n",
    "\n",
    "\n",
    "# loop through each feature, for each feature fit\n",
    "# and then transform the string catagorical data to numerical data\n",
    "for feature in X:\n",
    "    X[feature] = le.fit_transform(X[feature])\n",
    "\n",
    "# Now perform one-hot-encoding\n",
    "ohe = OneHotEncoder()\n",
    "\n",
    "#fit and transform all the data\n",
    "xt = ohe.fit_transform(X)\n",
    "onehotlabels = xt\n",
    "print(\"OHE shape: \",xt.shape)\n",
    "print(\"Original Data shape:\",X.shape)"
   ]
  },
  {
   "cell_type": "code",
   "execution_count": 17,
   "metadata": {
    "scrolled": true
   },
   "outputs": [
    {
     "name": "stdout",
     "output_type": "stream",
     "text": [
      "LabelEncoder Data Transform\n",
      "     Name  Sex  Ticket  Cabin  Embarked\n",
      "0     108    1     523      0         4\n",
      "1     190    0     596    768         2\n",
      "2     353    0     669    509         4\n",
      "3     272    0      49    742         4\n",
      "4      15    1     472    510         4\n",
      "5     554    1     275    511         3\n",
      "6     515    1      85    816         4\n",
      "7     624    1     395    512         4\n",
      "8     412    0     344    513         4\n",
      "9     576    0     132    514         2\n",
      "10    727    0     616    832         4\n",
      "11     95    0      38    736         4\n",
      "12    729    1     535    515         4\n",
      "13     28    1     333    516         4\n",
      "14    840    0     413    517         4\n",
      "15    359    0     153    519         4\n",
      "16    682    1     480    529         3\n",
      "17    867    1     151    520         4\n",
      "18    839    0     301    521         4\n",
      "19    512    0     184    522         2\n",
      "20    273    1     139    523         4\n",
      "21     80    1     152    798         4\n",
      "22    523    0     278    524         3\n",
      "23    765    1      42    700         4\n",
      "24    626    0     395    525         4\n",
      "25     44    0     329    526         4\n",
      "26    240    1     179    527         2\n",
      "27    260    1      95    750         4\n",
      "28    605    0     283    528         3\n",
      "29    813    1     362    508         4\n",
      "..    ...  ...     ...    ...       ...\n",
      "861   283    1     221    264         4\n",
      "862   797    0      88    781         4\n",
      "863   718    0     568    252         4\n",
      "864   285    1     120    243         4\n",
      "865   122    0     126    244         4\n",
      "866   230    0     632    245         2\n",
      "867   696    1     590    693         4\n",
      "868   890    1     309    246         4\n",
      "869   407    1     344    247         4\n",
      "870    59    1     387    248         4\n",
      "871    79    0      54    789         4\n",
      "872   139    1     502    721         4\n",
      "873   836    1     303    249         4\n",
      "874     4    0     575    250         2\n",
      "875   571    0     195    251         2\n",
      "876   311    1     504    253         4\n",
      "877   657    1     358    263         4\n",
      "878   451    1     363    254         4\n",
      "879   668    0      59    757         2\n",
      "880   739    0     115    255         4\n",
      "881   510    1     394    256         4\n",
      "882   193    0     508    257         4\n",
      "883    61    1     565    258         4\n",
      "884   793    1     650    259         4\n",
      "885   684    0     480    260         3\n",
      "886   548    1     101    261         4\n",
      "887   303    0      14    717         4\n",
      "888   413    0     675    262         4\n",
      "889    81    1       8    747         2\n",
      "890   220    1     466    387         3\n",
      "\n",
      "[891 rows x 5 columns]\n"
     ]
    }
   ],
   "source": [
    "print(\"LabelEncoder Data Transform\")\n",
    "print(X)"
   ]
  }
 ],
 "metadata": {
  "kernelspec": {
   "display_name": "Python 2",
   "language": "python",
   "name": "python2"
  },
  "language_info": {
   "codemirror_mode": {
    "name": "ipython",
    "version": 2
   },
   "file_extension": ".py",
   "mimetype": "text/x-python",
   "name": "python",
   "nbconvert_exporter": "python",
   "pygments_lexer": "ipython2",
   "version": "2.7.14"
  }
 },
 "nbformat": 4,
 "nbformat_minor": 2
}
