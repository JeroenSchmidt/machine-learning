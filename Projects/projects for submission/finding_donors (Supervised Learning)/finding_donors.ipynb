{
 "cells": [
  {
   "cell_type": "markdown",
   "metadata": {
    "toc": "true"
   },
   "source": [
    " # Table of Contents\n",
    "<div class=\"toc\" style=\"margin-top: 1em;\"><ul class=\"toc-item\" id=\"toc-level0\"><li><span><a href=\"http://localhost:8888/notebooks/Documents/Learning/Udacity%20machine-learning/Projects/finding_donors%20(Supervised%20Learning)/finding_donors.ipynb#Machine-Learning-Engineer-Nanodegree\" data-toc-modified-id=\"Machine-Learning-Engineer-Nanodegree-1\"><span class=\"toc-item-num\">1&nbsp;&nbsp;</span>Machine Learning Engineer Nanodegree</a></span><ul class=\"toc-item\"><li><span><a href=\"http://localhost:8888/notebooks/Documents/Learning/Udacity%20machine-learning/Projects/finding_donors%20(Supervised%20Learning)/finding_donors.ipynb#Supervised-Learning\" data-toc-modified-id=\"Supervised-Learning-1.1\"><span class=\"toc-item-num\">1.1&nbsp;&nbsp;</span>Supervised Learning</a></span></li><li><span><a href=\"http://localhost:8888/notebooks/Documents/Learning/Udacity%20machine-learning/Projects/finding_donors%20(Supervised%20Learning)/finding_donors.ipynb#Project:-Finding-Donors-for-CharityML\" data-toc-modified-id=\"Project:-Finding-Donors-for-CharityML-1.2\"><span class=\"toc-item-num\">1.2&nbsp;&nbsp;</span>Project: Finding Donors for <em>CharityML</em></a></span></li><li><span><a href=\"http://localhost:8888/notebooks/Documents/Learning/Udacity%20machine-learning/Projects/finding_donors%20(Supervised%20Learning)/finding_donors.ipynb#Getting-Started\" data-toc-modified-id=\"Getting-Started-1.3\"><span class=\"toc-item-num\">1.3&nbsp;&nbsp;</span>Getting Started</a></span></li><li><span><a href=\"http://localhost:8888/notebooks/Documents/Learning/Udacity%20machine-learning/Projects/finding_donors%20(Supervised%20Learning)/finding_donors.ipynb#Exploring-the-Data\" data-toc-modified-id=\"Exploring-the-Data-1.4\"><span class=\"toc-item-num\">1.4&nbsp;&nbsp;</span>Exploring the Data</a></span><ul class=\"toc-item\"><li><span><a href=\"http://localhost:8888/notebooks/Documents/Learning/Udacity%20machine-learning/Projects/finding_donors%20(Supervised%20Learning)/finding_donors.ipynb#Implementation:-Data-Exploration\" data-toc-modified-id=\"Implementation:-Data-Exploration-1.4.1\"><span class=\"toc-item-num\">1.4.1&nbsp;&nbsp;</span>Implementation: Data Exploration</a></span></li></ul></li><li><span><a href=\"http://localhost:8888/notebooks/Documents/Learning/Udacity%20machine-learning/Projects/finding_donors%20(Supervised%20Learning)/finding_donors.ipynb#Preparing-the-Data\" data-toc-modified-id=\"Preparing-the-Data-1.5\"><span class=\"toc-item-num\">1.5&nbsp;&nbsp;</span>Preparing the Data</a></span><ul class=\"toc-item\"><li><span><a href=\"http://localhost:8888/notebooks/Documents/Learning/Udacity%20machine-learning/Projects/finding_donors%20(Supervised%20Learning)/finding_donors.ipynb#Transforming-Skewed-Continuous-Features\" data-toc-modified-id=\"Transforming-Skewed-Continuous-Features-1.5.1\"><span class=\"toc-item-num\">1.5.1&nbsp;&nbsp;</span>Transforming Skewed Continuous Features</a></span></li><li><span><a href=\"http://localhost:8888/notebooks/Documents/Learning/Udacity%20machine-learning/Projects/finding_donors%20(Supervised%20Learning)/finding_donors.ipynb#Normalizing-Numerical-Features\" data-toc-modified-id=\"Normalizing-Numerical-Features-1.5.2\"><span class=\"toc-item-num\">1.5.2&nbsp;&nbsp;</span>Normalizing Numerical Features</a></span></li><li><span><a href=\"http://localhost:8888/notebooks/Documents/Learning/Udacity%20machine-learning/Projects/finding_donors%20(Supervised%20Learning)/finding_donors.ipynb#Implementation:-Data-Preprocessing\" data-toc-modified-id=\"Implementation:-Data-Preprocessing-1.5.3\"><span class=\"toc-item-num\">1.5.3&nbsp;&nbsp;</span>Implementation: Data Preprocessing</a></span></li><li><span><a href=\"http://localhost:8888/notebooks/Documents/Learning/Udacity%20machine-learning/Projects/finding_donors%20(Supervised%20Learning)/finding_donors.ipynb#Shuffle-and-Split-Data\" data-toc-modified-id=\"Shuffle-and-Split-Data-1.5.4\"><span class=\"toc-item-num\">1.5.4&nbsp;&nbsp;</span>Shuffle and Split Data</a></span></li></ul></li><li><span><a href=\"http://localhost:8888/notebooks/Documents/Learning/Udacity%20machine-learning/Projects/finding_donors%20(Supervised%20Learning)/finding_donors.ipynb#Evaluating-Model-Performance\" data-toc-modified-id=\"Evaluating-Model-Performance-1.6\"><span class=\"toc-item-num\">1.6&nbsp;&nbsp;</span>Evaluating Model Performance</a></span><ul class=\"toc-item\"><li><span><a href=\"http://localhost:8888/notebooks/Documents/Learning/Udacity%20machine-learning/Projects/finding_donors%20(Supervised%20Learning)/finding_donors.ipynb#Metrics-and-the-Naive-Predictor\" data-toc-modified-id=\"Metrics-and-the-Naive-Predictor-1.6.1\"><span class=\"toc-item-num\">1.6.1&nbsp;&nbsp;</span>Metrics and the Naive Predictor</a></span><ul class=\"toc-item\"><li><span><a href=\"http://localhost:8888/notebooks/Documents/Learning/Udacity%20machine-learning/Projects/finding_donors%20(Supervised%20Learning)/finding_donors.ipynb#Note:-Recap-of-accuracy,-precision,-recall\" data-toc-modified-id=\"Note:-Recap-of-accuracy,-precision,-recall-1.6.1.1\"><span class=\"toc-item-num\">1.6.1.1&nbsp;&nbsp;</span>Note: Recap of accuracy, precision, recall</a></span></li></ul></li><li><span><a href=\"http://localhost:8888/notebooks/Documents/Learning/Udacity%20machine-learning/Projects/finding_donors%20(Supervised%20Learning)/finding_donors.ipynb#Question-1---Naive-Predictor-Performace\" data-toc-modified-id=\"Question-1---Naive-Predictor-Performace-1.6.2\"><span class=\"toc-item-num\">1.6.2&nbsp;&nbsp;</span>Question 1 - Naive Predictor Performace</a></span></li><li><span><a href=\"http://localhost:8888/notebooks/Documents/Learning/Udacity%20machine-learning/Projects/finding_donors%20(Supervised%20Learning)/finding_donors.ipynb#Supervised-Learning-Models\" data-toc-modified-id=\"Supervised-Learning-Models-1.6.3\"><span class=\"toc-item-num\">1.6.3&nbsp;&nbsp;</span>Supervised Learning Models</a></span></li><li><span><a href=\"http://localhost:8888/notebooks/Documents/Learning/Udacity%20machine-learning/Projects/finding_donors%20(Supervised%20Learning)/finding_donors.ipynb#Question-2---Model-Application\" data-toc-modified-id=\"Question-2---Model-Application-1.6.4\"><span class=\"toc-item-num\">1.6.4&nbsp;&nbsp;</span>Question 2 - Model Application</a></span><ul class=\"toc-item\"><li><span><a href=\"http://localhost:8888/notebooks/Documents/Learning/Udacity%20machine-learning/Projects/finding_donors%20(Supervised%20Learning)/finding_donors.ipynb#Logistic-Regression\" data-toc-modified-id=\"Logistic-Regression-1.6.4.1\"><span class=\"toc-item-num\">1.6.4.1&nbsp;&nbsp;</span><strong>Logistic Regression</strong></a></span></li><li><span><a href=\"http://localhost:8888/notebooks/Documents/Learning/Udacity%20machine-learning/Projects/finding_donors%20(Supervised%20Learning)/finding_donors.ipynb#Decision-Tree\" data-toc-modified-id=\"Decision-Tree-1.6.4.2\"><span class=\"toc-item-num\">1.6.4.2&nbsp;&nbsp;</span><strong>Decision Tree</strong></a></span></li><li><span><a href=\"http://localhost:8888/notebooks/Documents/Learning/Udacity%20machine-learning/Projects/finding_donors%20(Supervised%20Learning)/finding_donors.ipynb#Ensemble-Methods\" data-toc-modified-id=\"Ensemble-Methods-1.6.4.3\"><span class=\"toc-item-num\">1.6.4.3&nbsp;&nbsp;</span><strong>Ensemble Methods</strong></a></span></li><li><span><a href=\"http://localhost:8888/notebooks/Documents/Learning/Udacity%20machine-learning/Projects/finding_donors%20(Supervised%20Learning)/finding_donors.ipynb#K-Nearest-Neighbors\" data-toc-modified-id=\"K-Nearest-Neighbors-1.6.4.4\"><span class=\"toc-item-num\">1.6.4.4&nbsp;&nbsp;</span><strong>K-Nearest Neighbors</strong></a></span></li><li><span><a href=\"http://localhost:8888/notebooks/Documents/Learning/Udacity%20machine-learning/Projects/finding_donors%20(Supervised%20Learning)/finding_donors.ipynb#Support-Vector-Machines\" data-toc-modified-id=\"Support-Vector-Machines-1.6.4.5\"><span class=\"toc-item-num\">1.6.4.5&nbsp;&nbsp;</span><strong>Support Vector Machines</strong></a></span></li><li><span><a href=\"http://localhost:8888/notebooks/Documents/Learning/Udacity%20machine-learning/Projects/finding_donors%20(Supervised%20Learning)/finding_donors.ipynb#Gaussian-Naive-Bayes\" data-toc-modified-id=\"Gaussian-Naive-Bayes-1.6.4.6\"><span class=\"toc-item-num\">1.6.4.6&nbsp;&nbsp;</span><strong>Gaussian Naive Bayes</strong></a></span></li><li><span><a href=\"http://localhost:8888/notebooks/Documents/Learning/Udacity%20machine-learning/Projects/finding_donors%20(Supervised%20Learning)/finding_donors.ipynb#Stochastic-Gradient-Descent-Classifier-(SGDC)\" data-toc-modified-id=\"Stochastic-Gradient-Descent-Classifier-(SGDC)-1.6.4.7\"><span class=\"toc-item-num\">1.6.4.7&nbsp;&nbsp;</span><strong>Stochastic Gradient Descent Classifier (SGDC)</strong></a></span></li></ul></li><li><span><a href=\"http://localhost:8888/notebooks/Documents/Learning/Udacity%20machine-learning/Projects/finding_donors%20(Supervised%20Learning)/finding_donors.ipynb#Implementation---Creating-a-Training-and-Predicting-Pipeline\" data-toc-modified-id=\"Implementation---Creating-a-Training-and-Predicting-Pipeline-1.6.5\"><span class=\"toc-item-num\">1.6.5&nbsp;&nbsp;</span>Implementation - Creating a Training and Predicting Pipeline</a></span></li><li><span><a href=\"http://localhost:8888/notebooks/Documents/Learning/Udacity%20machine-learning/Projects/finding_donors%20(Supervised%20Learning)/finding_donors.ipynb#Implementation:-Initial-Model-Evaluation\" data-toc-modified-id=\"Implementation:-Initial-Model-Evaluation-1.6.6\"><span class=\"toc-item-num\">1.6.6&nbsp;&nbsp;</span>Implementation: Initial Model Evaluation</a></span></li><li><span><a href=\"http://localhost:8888/notebooks/Documents/Learning/Udacity%20machine-learning/Projects/finding_donors%20(Supervised%20Learning)/finding_donors.ipynb#Looking-at-Ensamble-Methods\" data-toc-modified-id=\"Looking-at-Ensamble-Methods-1.6.7\"><span class=\"toc-item-num\">1.6.7&nbsp;&nbsp;</span>Looking at Ensamble Methods</a></span></li></ul></li><li><span><a href=\"http://localhost:8888/notebooks/Documents/Learning/Udacity%20machine-learning/Projects/finding_donors%20(Supervised%20Learning)/finding_donors.ipynb#Improving-Results\" data-toc-modified-id=\"Improving-Results-1.7\"><span class=\"toc-item-num\">1.7&nbsp;&nbsp;</span>Improving Results</a></span><ul class=\"toc-item\"><li><span><a href=\"http://localhost:8888/notebooks/Documents/Learning/Udacity%20machine-learning/Projects/finding_donors%20(Supervised%20Learning)/finding_donors.ipynb#Question-3---Choosing-the-Best-Model\" data-toc-modified-id=\"Question-3---Choosing-the-Best-Model-1.7.1\"><span class=\"toc-item-num\">1.7.1&nbsp;&nbsp;</span>Question 3 - Choosing the Best Model</a></span><ul class=\"toc-item\"><li><span><a href=\"http://localhost:8888/notebooks/Documents/Learning/Udacity%20machine-learning/Projects/finding_donors%20(Supervised%20Learning)/finding_donors.ipynb#Answer:-\" data-toc-modified-id=\"Answer:--1.7.1.1\"><span class=\"toc-item-num\">1.7.1.1&nbsp;&nbsp;</span><strong>Answer: </strong></a></span></li></ul></li><li><span><a href=\"http://localhost:8888/notebooks/Documents/Learning/Udacity%20machine-learning/Projects/finding_donors%20(Supervised%20Learning)/finding_donors.ipynb#Question-4---Describing-the-Model-in-Layman's-Terms\" data-toc-modified-id=\"Question-4---Describing-the-Model-in-Layman's-Terms-1.7.2\"><span class=\"toc-item-num\">1.7.2&nbsp;&nbsp;</span>Question 4 - Describing the Model in Layman's Terms</a></span><ul class=\"toc-item\"><li><span><a href=\"http://localhost:8888/notebooks/Documents/Learning/Udacity%20machine-learning/Projects/finding_donors%20(Supervised%20Learning)/finding_donors.ipynb#Answer:-\" data-toc-modified-id=\"Answer:--1.7.2.1\"><span class=\"toc-item-num\">1.7.2.1&nbsp;&nbsp;</span><strong>Answer: </strong></a></span></li></ul></li><li><span><a href=\"http://localhost:8888/notebooks/Documents/Learning/Udacity%20machine-learning/Projects/finding_donors%20(Supervised%20Learning)/finding_donors.ipynb#Implementation:-Model-Tuning\" data-toc-modified-id=\"Implementation:-Model-Tuning-1.7.3\"><span class=\"toc-item-num\">1.7.3&nbsp;&nbsp;</span>Implementation: Model Tuning</a></span><ul class=\"toc-item\"><li><span><a href=\"http://localhost:8888/notebooks/Documents/Learning/Udacity%20machine-learning/Projects/finding_donors%20(Supervised%20Learning)/finding_donors.ipynb#Individual-Paramater-Investigation\" data-toc-modified-id=\"Individual-Paramater-Investigation-1.7.3.1\"><span class=\"toc-item-num\">1.7.3.1&nbsp;&nbsp;</span>Individual Paramater Investigation</a></span></li><li><span><a href=\"http://localhost:8888/notebooks/Documents/Learning/Udacity%20machine-learning/Projects/finding_donors%20(Supervised%20Learning)/finding_donors.ipynb#Model-Grid-Search\" data-toc-modified-id=\"Model-Grid-Search-1.7.3.2\"><span class=\"toc-item-num\">1.7.3.2&nbsp;&nbsp;</span>Model Grid Search</a></span></li><li><span><a href=\"http://localhost:8888/notebooks/Documents/Learning/Udacity%20machine-learning/Projects/finding_donors%20(Supervised%20Learning)/finding_donors.ipynb#Inspecting-the-Best-Model\" data-toc-modified-id=\"Inspecting-the-Best-Model-1.7.3.3\"><span class=\"toc-item-num\">1.7.3.3&nbsp;&nbsp;</span>Inspecting the Best Model</a></span></li></ul></li><li><span><a href=\"http://localhost:8888/notebooks/Documents/Learning/Udacity%20machine-learning/Projects/finding_donors%20(Supervised%20Learning)/finding_donors.ipynb#Question-5---Final-Model-Evaluation\" data-toc-modified-id=\"Question-5---Final-Model-Evaluation-1.7.4\"><span class=\"toc-item-num\">1.7.4&nbsp;&nbsp;</span>Question 5 - Final Model Evaluation</a></span><ul class=\"toc-item\"><li><span><a href=\"http://localhost:8888/notebooks/Documents/Learning/Udacity%20machine-learning/Projects/finding_donors%20(Supervised%20Learning)/finding_donors.ipynb#Answer:-\" data-toc-modified-id=\"Answer:--1.7.4.1\"><span class=\"toc-item-num\">1.7.4.1&nbsp;&nbsp;</span><strong>Answer: </strong></a></span></li></ul></li></ul></li><li><span><a href=\"http://localhost:8888/notebooks/Documents/Learning/Udacity%20machine-learning/Projects/finding_donors%20(Supervised%20Learning)/finding_donors.ipynb#Feature-Importance\" data-toc-modified-id=\"Feature-Importance-1.8\"><span class=\"toc-item-num\">1.8&nbsp;&nbsp;</span>Feature Importance</a></span><ul class=\"toc-item\"><li><span><a href=\"http://localhost:8888/notebooks/Documents/Learning/Udacity%20machine-learning/Projects/finding_donors%20(Supervised%20Learning)/finding_donors.ipynb#Question-6---Feature-Relevance-Observation\" data-toc-modified-id=\"Question-6---Feature-Relevance-Observation-1.8.1\"><span class=\"toc-item-num\">1.8.1&nbsp;&nbsp;</span>Question 6 - Feature Relevance Observation</a></span><ul class=\"toc-item\"><li><span><a href=\"http://localhost:8888/notebooks/Documents/Learning/Udacity%20machine-learning/Projects/finding_donors%20(Supervised%20Learning)/finding_donors.ipynb#Answer:\" data-toc-modified-id=\"Answer:-1.8.1.1\"><span class=\"toc-item-num\">1.8.1.1&nbsp;&nbsp;</span><strong>Answer:</strong></a></span></li></ul></li><li><span><a href=\"http://localhost:8888/notebooks/Documents/Learning/Udacity%20machine-learning/Projects/finding_donors%20(Supervised%20Learning)/finding_donors.ipynb#Implementation---Extracting-Feature-Importance\" data-toc-modified-id=\"Implementation---Extracting-Feature-Importance-1.8.2\"><span class=\"toc-item-num\">1.8.2&nbsp;&nbsp;</span>Implementation - Extracting Feature Importance</a></span></li><li><span><a href=\"http://localhost:8888/notebooks/Documents/Learning/Udacity%20machine-learning/Projects/finding_donors%20(Supervised%20Learning)/finding_donors.ipynb#Question-7---Extracting-Feature-Importance\" data-toc-modified-id=\"Question-7---Extracting-Feature-Importance-1.8.3\"><span class=\"toc-item-num\">1.8.3&nbsp;&nbsp;</span>Question 7 - Extracting Feature Importance</a></span><ul class=\"toc-item\"><li><span><a href=\"http://localhost:8888/notebooks/Documents/Learning/Udacity%20machine-learning/Projects/finding_donors%20(Supervised%20Learning)/finding_donors.ipynb#Answer:\" data-toc-modified-id=\"Answer:-1.8.3.1\"><span class=\"toc-item-num\">1.8.3.1&nbsp;&nbsp;</span><strong>Answer:</strong></a></span></li></ul></li><li><span><a href=\"http://localhost:8888/notebooks/Documents/Learning/Udacity%20machine-learning/Projects/finding_donors%20(Supervised%20Learning)/finding_donors.ipynb#Feature-Selection\" data-toc-modified-id=\"Feature-Selection-1.8.4\"><span class=\"toc-item-num\">1.8.4&nbsp;&nbsp;</span>Feature Selection</a></span></li><li><span><a href=\"http://localhost:8888/notebooks/Documents/Learning/Udacity%20machine-learning/Projects/finding_donors%20(Supervised%20Learning)/finding_donors.ipynb#Question-8---Effects-of-Feature-Selection\" data-toc-modified-id=\"Question-8---Effects-of-Feature-Selection-1.8.5\"><span class=\"toc-item-num\">1.8.5&nbsp;&nbsp;</span>Question 8 - Effects of Feature Selection</a></span><ul class=\"toc-item\"><li><span><a href=\"http://localhost:8888/notebooks/Documents/Learning/Udacity%20machine-learning/Projects/finding_donors%20(Supervised%20Learning)/finding_donors.ipynb#Answer:\" data-toc-modified-id=\"Answer:-1.8.5.1\"><span class=\"toc-item-num\">1.8.5.1&nbsp;&nbsp;</span><strong>Answer:</strong></a></span></li></ul></li></ul></li></ul></li></ul></div>"
   ]
  },
  {
   "cell_type": "markdown",
   "metadata": {},
   "source": [
    "# Machine Learning Engineer Nanodegree\n",
    "## Supervised Learning\n",
    "## Project: Finding Donors for *CharityML*"
   ]
  },
  {
   "cell_type": "markdown",
   "metadata": {
    "slideshow": {
     "slide_type": "-"
    }
   },
   "source": [
    "Welcome to the second project of the Machine Learning Engineer Nanodegree! In this notebook, some template code has already been provided for you, and it will be your job to implement the additional functionality necessary to successfully complete this project. Sections that begin with **'Implementation'** in the header indicate that the following block of code will require additional functionality which you must provide. Instructions will be provided for each section and the specifics of the implementation are marked in the code block with a `'TODO'` statement. Please be sure to read the instructions carefully!\n",
    "\n",
    "In addition to implementing code, there will be questions that you must answer which relate to the project and your implementation. Each section where you will answer a question is preceded by a **'Question X'** header. Carefully read each question and provide thorough answers in the following text boxes that begin with **'Answer:'**. Your project submission will be evaluated based on your answers to each of the questions and the implementation you provide.  \n",
    "\n",
    ">**Note:** Please specify WHICH VERSION OF PYTHON you are using when submitting this notebook. Code and Markdown cells can be executed using the **Shift + Enter** keyboard shortcut. In addition, Markdown cells can be edited by typically double-clicking the cell to enter edit mode."
   ]
  },
  {
   "cell_type": "markdown",
   "metadata": {},
   "source": [
    "## Getting Started\n",
    "\n",
    "In this project, you will employ several supervised algorithms of your choice to accurately model individuals' income using data collected from the 1994 U.S. Census. You will then choose the best candidate algorithm from preliminary results and further optimize this algorithm to best model the data. Your goal with this implementation is to construct a model that accurately predicts whether an individual makes more than $50,000. This sort of task can arise in a non-profit setting, where organizations survive on donations.  Understanding an individual's income can help a non-profit better understand how large of a donation to request, or whether or not they should reach out to begin with.  While it can be difficult to determine an individual's general income bracket directly from public sources, we can (as we will see) infer this value from other publically available features. \n",
    "\n",
    "The dataset for this project originates from the [UCI Machine Learning Repository](https://archive.ics.uci.edu/ml/datasets/Census+Income). The datset was donated by Ron Kohavi and Barry Becker, after being published in the article _\"Scaling Up the Accuracy of Naive-Bayes Classifiers: A Decision-Tree Hybrid\"_. You can find the article by Ron Kohavi [online](https://www.aaai.org/Papers/KDD/1996/KDD96-033.pdf). The data we investigate here consists of small changes to the original dataset, such as removing the `'fnlwgt'` feature and records with missing or ill-formatted entries."
   ]
  },
  {
   "cell_type": "markdown",
   "metadata": {},
   "source": [
    "----\n",
    "## Exploring the Data\n",
    "Run the code cell below to load necessary Python libraries and load the census data. Note that the last column from this dataset, `'income'`, will be our target label (whether an individual makes more than, or at most, $50,000 annually). All other columns are features about each individual in the census database."
   ]
  },
  {
   "cell_type": "code",
   "execution_count": 1,
   "metadata": {},
   "outputs": [
    {
     "data": {
      "text/html": [
       "<div>\n",
       "<style>\n",
       "    .dataframe thead tr:only-child th {\n",
       "        text-align: right;\n",
       "    }\n",
       "\n",
       "    .dataframe thead th {\n",
       "        text-align: left;\n",
       "    }\n",
       "\n",
       "    .dataframe tbody tr th {\n",
       "        vertical-align: top;\n",
       "    }\n",
       "</style>\n",
       "<table border=\"1\" class=\"dataframe\">\n",
       "  <thead>\n",
       "    <tr style=\"text-align: right;\">\n",
       "      <th></th>\n",
       "      <th>age</th>\n",
       "      <th>workclass</th>\n",
       "      <th>education_level</th>\n",
       "      <th>education-num</th>\n",
       "      <th>marital-status</th>\n",
       "      <th>occupation</th>\n",
       "      <th>relationship</th>\n",
       "      <th>race</th>\n",
       "      <th>sex</th>\n",
       "      <th>capital-gain</th>\n",
       "      <th>capital-loss</th>\n",
       "      <th>hours-per-week</th>\n",
       "      <th>native-country</th>\n",
       "      <th>income</th>\n",
       "    </tr>\n",
       "  </thead>\n",
       "  <tbody>\n",
       "    <tr>\n",
       "      <th>0</th>\n",
       "      <td>39</td>\n",
       "      <td>State-gov</td>\n",
       "      <td>Bachelors</td>\n",
       "      <td>13.0</td>\n",
       "      <td>Never-married</td>\n",
       "      <td>Adm-clerical</td>\n",
       "      <td>Not-in-family</td>\n",
       "      <td>White</td>\n",
       "      <td>Male</td>\n",
       "      <td>2174.0</td>\n",
       "      <td>0.0</td>\n",
       "      <td>40.0</td>\n",
       "      <td>United-States</td>\n",
       "      <td>&lt;=50K</td>\n",
       "    </tr>\n",
       "  </tbody>\n",
       "</table>\n",
       "</div>"
      ],
      "text/plain": [
       "   age   workclass education_level  education-num  marital-status  \\\n",
       "0   39   State-gov       Bachelors           13.0   Never-married   \n",
       "\n",
       "      occupation    relationship    race    sex  capital-gain  capital-loss  \\\n",
       "0   Adm-clerical   Not-in-family   White   Male        2174.0           0.0   \n",
       "\n",
       "   hours-per-week  native-country income  \n",
       "0            40.0   United-States  <=50K  "
      ]
     },
     "metadata": {},
     "output_type": "display_data"
    }
   ],
   "source": [
    "# Import libraries necessary for this project\n",
    "import numpy as np\n",
    "import pandas as pd\n",
    "from time import time\n",
    "from IPython.display import display # Allows the use of display() for DataFrames\n",
    "\n",
    "# Import supplementary visualization code visuals.py\n",
    "import visuals as vs\n",
    "\n",
    "# Pretty display for notebooks\n",
    "%matplotlib inline\n",
    "\n",
    "# Load the Census dataset\n",
    "data = pd.read_csv(\"census.csv\")\n",
    "\n",
    "# Success - Display the first record\n",
    "display(data.head(n=1))"
   ]
  },
  {
   "cell_type": "markdown",
   "metadata": {},
   "source": [
    "### Implementation: Data Exploration\n",
    "A cursory investigation of the dataset will determine how many individuals fit into either group, and will tell us about the percentage of these individuals making more than \\$50,000. In the code cell below, you will need to compute the following:\n",
    "- The total number of records, `'n_records'`\n",
    "- The number of individuals making more than \\$50,000 annually, `'n_greater_50k'`.\n",
    "- The number of individuals making at most \\$50,000 annually, `'n_at_most_50k'`.\n",
    "- The percentage of individuals making more than \\$50,000 annually, `'greater_percent'`.\n",
    "\n",
    "** HINT: ** You may need to look at the table above to understand how the `'income'` entries are formatted. "
   ]
  },
  {
   "cell_type": "code",
   "execution_count": 2,
   "metadata": {},
   "outputs": [
    {
     "name": "stdout",
     "output_type": "stream",
     "text": [
      "Total number of records: 45222\n",
      "Individuals making more than $50,000: 11208\n",
      "Individuals making at most $50,000: 34014\n",
      "Percentage of individuals making more than $50,000: 24.78%\n"
     ]
    }
   ],
   "source": [
    "# TODO: Total number of records\n",
    "n_records = data.shape[0]\n",
    "\n",
    "# TODO: Number of records where individual's income is more than $50,000\n",
    "n_greater_50k = data[data.income == \">50K\"].shape[0]\n",
    "\n",
    "# TODO: Number of records where individual's income is at most $50,000\n",
    "n_at_most_50k = data[data.income == \"<=50K\"].shape[0]\n",
    "\n",
    "# TODO: Percentage of individuals whose income is more than $50,000\n",
    "greater_percent = float(n_greater_50k)/float(n_records)*100\n",
    "\n",
    "# Print the results\n",
    "print \"Total number of records: {}\".format(n_records)\n",
    "print \"Individuals making more than $50,000: {}\".format(n_greater_50k)\n",
    "print \"Individuals making at most $50,000: {}\".format(n_at_most_50k)\n",
    "print \"Percentage of individuals making more than $50,000: {:.2f}%\".format(greater_percent)"
   ]
  },
  {
   "cell_type": "markdown",
   "metadata": {},
   "source": [
    "** Featureset Exploration **\n",
    "\n",
    "* **age**: continuous. \n",
    "* **workclass**: Private, Self-emp-not-inc, Self-emp-inc, Federal-gov, Local-gov, State-gov, Without-pay, Never-worked. \n",
    "* **education**: Bachelors, Some-college, 11th, HS-grad, Prof-school, Assoc-acdm, Assoc-voc, 9th, 7th-8th, 12th, Masters, 1st-4th, 10th, Doctorate, 5th-6th, Preschool. \n",
    "* **education-num**: continuous. \n",
    "* **marital-status**: Married-civ-spouse, Divorced, Never-married, Separated, Widowed, Married-spouse-absent, Married-AF-spouse. \n",
    "* **occupation**: Tech-support, Craft-repair, Other-service, Sales, Exec-managerial, Prof-specialty, Handlers-cleaners, Machine-op-inspct, Adm-clerical, Farming-fishing, Transport-moving, Priv-house-serv, Protective-serv, Armed-Forces. \n",
    "* **relationship**: Wife, Own-child, Husband, Not-in-family, Other-relative, Unmarried. \n",
    "* **race**: Black, White, Asian-Pac-Islander, Amer-Indian-Eskimo, Other. \n",
    "* **sex**: Female, Male. \n",
    "* **capital-gain**: continuous. \n",
    "* **capital-loss**: continuous. \n",
    "* **hours-per-week**: continuous. \n",
    "* **native-country**: United-States, Cambodia, England, Puerto-Rico, Canada, Germany, Outlying-US(Guam-USVI-etc), India, Japan, Greece, South, China, Cuba, Iran, Honduras, Philippines, Italy, Poland, Jamaica, Vietnam, Mexico, Portugal, Ireland, France, Dominican-Republic, Laos, Ecuador, Taiwan, Haiti, Columbia, Hungary, Guatemala, Nicaragua, Scotland, Thailand, Yugoslavia, El-Salvador, Trinadad&Tobago, Peru, Hong, Holand-Netherlands."
   ]
  },
  {
   "cell_type": "markdown",
   "metadata": {},
   "source": [
    "----\n",
    "## Preparing the Data\n",
    "Before data can be used as input for machine learning algorithms, it often must be cleaned, formatted, and restructured — this is typically known as **preprocessing**. Fortunately, for this dataset, there are no invalid or missing entries we must deal with, however, there are some qualities about certain features that must be adjusted. This preprocessing can help tremendously with the outcome and predictive power of nearly all learning algorithms."
   ]
  },
  {
   "cell_type": "markdown",
   "metadata": {},
   "source": [
    "### Transforming Skewed Continuous Features\n",
    "A dataset may sometimes contain at least one feature whose values tend to lie near a single number, but will also have a non-trivial number of vastly larger or smaller values than that single number.  Algorithms can be sensitive to such distributions of values and can underperform if the range is not properly normalized. With the census dataset two features fit this description: '`capital-gain'` and `'capital-loss'`. \n",
    "\n",
    "Run the code cell below to plot a histogram of these two features. Note the range of the values present and how they are distributed."
   ]
  },
  {
   "cell_type": "code",
   "execution_count": 3,
   "metadata": {},
   "outputs": [
    {
     "data": {
      "image/png": "[encoded data removed]",
      "text/plain": [
       "<matplotlib.figure.Figure at 0x4d2a128>"
      ]
     },
     "metadata": {},
     "output_type": "display_data"
    }
   ],
   "source": [
    "# Split the data into features and target label\n",
    "income_raw = data['income']\n",
    "features_raw = data.drop('income', axis = 1)\n",
    "\n",
    "# Visualize skewed continuous features of original data\n",
    "vs.distribution(data)"
   ]
  },
  {
   "cell_type": "markdown",
   "metadata": {},
   "source": [
    "For highly-skewed feature distributions such as `'capital-gain'` and `'capital-loss'`, it is common practice to apply a <a href=\"https://en.wikipedia.org/wiki/Data_transformation_(statistics)\">logarithmic transformation</a> on the data so that the very large and very small values do not negatively affect the performance of a learning algorithm. Using a logarithmic transformation significantly reduces the range of values caused by outliers. Care must be taken when applying this transformation however: The logarithm of `0` is undefined, so we must translate the values by a small amount above `0` to apply the the logarithm successfully.\n",
    "\n",
    "Run the code cell below to perform a transformation on the data and visualize the results. Again, note the range of values and how they are distributed. "
   ]
  },
  {
   "cell_type": "code",
   "execution_count": 4,
   "metadata": {},
   "outputs": [
    {
     "data": {
      "image/png": "[encoded data removed]",
      "text/plain": [
       "<matplotlib.figure.Figure at 0xdd96cc0>"
      ]
     },
     "metadata": {},
     "output_type": "display_data"
    }
   ],
   "source": [
    "# Log-transform the skewed features\n",
    "skewed_cols = ['capital-gain', 'capital-loss']\n",
    "features_log_transformed = pd.DataFrame(data = features_raw)\n",
    "features_log_transformed[skewed_cols] = features_raw[skewed_cols]\\\n",
    "                                        .apply(lambda x: np.log(x + 1))\n",
    "\n",
    "# Visualize the new log distributions\n",
    "vs.distribution(features_log_transformed, transformed = True)"
   ]
  },
  {
   "cell_type": "markdown",
   "metadata": {},
   "source": [
    "### Normalizing Numerical Features\n",
    "In addition to performing transformations on features that are highly skewed, it is often **good practice to perform some type of scaling on numerical features**. Applying a scaling to the data does not change the shape of each feature's distribution (such as `'capital-gain'` or `'capital-loss'` above); however, **normalization ensures that each feature is treated equally when applying supervised learners**. Note that once scaling is applied, observing the data in its raw form will no longer have the same original meaning, as exampled below.\n",
    "\n",
    "Run the code cell below to normalize each numerical feature. We will use [`sklearn.preprocessing.MinMaxScaler`](http://scikit-learn.org/stable/modules/generated/sklearn.preprocessing.MinMaxScaler.html) for this."
   ]
  },
  {
   "cell_type": "code",
   "execution_count": 5,
   "metadata": {},
   "outputs": [
    {
     "data": {
      "text/html": [
       "<div>\n",
       "<style>\n",
       "    .dataframe thead tr:only-child th {\n",
       "        text-align: right;\n",
       "    }\n",
       "\n",
       "    .dataframe thead th {\n",
       "        text-align: left;\n",
       "    }\n",
       "\n",
       "    .dataframe tbody tr th {\n",
       "        vertical-align: top;\n",
       "    }\n",
       "</style>\n",
       "<table border=\"1\" class=\"dataframe\">\n",
       "  <thead>\n",
       "    <tr style=\"text-align: right;\">\n",
       "      <th></th>\n",
       "      <th>age</th>\n",
       "      <th>workclass</th>\n",
       "      <th>education_level</th>\n",
       "      <th>education-num</th>\n",
       "      <th>marital-status</th>\n",
       "      <th>occupation</th>\n",
       "      <th>relationship</th>\n",
       "      <th>race</th>\n",
       "      <th>sex</th>\n",
       "      <th>capital-gain</th>\n",
       "      <th>capital-loss</th>\n",
       "      <th>hours-per-week</th>\n",
       "      <th>native-country</th>\n",
       "    </tr>\n",
       "  </thead>\n",
       "  <tbody>\n",
       "    <tr>\n",
       "      <th>0</th>\n",
       "      <td>0.301370</td>\n",
       "      <td>State-gov</td>\n",
       "      <td>Bachelors</td>\n",
       "      <td>0.800000</td>\n",
       "      <td>Never-married</td>\n",
       "      <td>Adm-clerical</td>\n",
       "      <td>Not-in-family</td>\n",
       "      <td>White</td>\n",
       "      <td>Male</td>\n",
       "      <td>0.667492</td>\n",
       "      <td>0.0</td>\n",
       "      <td>0.397959</td>\n",
       "      <td>United-States</td>\n",
       "    </tr>\n",
       "    <tr>\n",
       "      <th>1</th>\n",
       "      <td>0.452055</td>\n",
       "      <td>Self-emp-not-inc</td>\n",
       "      <td>Bachelors</td>\n",
       "      <td>0.800000</td>\n",
       "      <td>Married-civ-spouse</td>\n",
       "      <td>Exec-managerial</td>\n",
       "      <td>Husband</td>\n",
       "      <td>White</td>\n",
       "      <td>Male</td>\n",
       "      <td>0.000000</td>\n",
       "      <td>0.0</td>\n",
       "      <td>0.122449</td>\n",
       "      <td>United-States</td>\n",
       "    </tr>\n",
       "    <tr>\n",
       "      <th>2</th>\n",
       "      <td>0.287671</td>\n",
       "      <td>Private</td>\n",
       "      <td>HS-grad</td>\n",
       "      <td>0.533333</td>\n",
       "      <td>Divorced</td>\n",
       "      <td>Handlers-cleaners</td>\n",
       "      <td>Not-in-family</td>\n",
       "      <td>White</td>\n",
       "      <td>Male</td>\n",
       "      <td>0.000000</td>\n",
       "      <td>0.0</td>\n",
       "      <td>0.397959</td>\n",
       "      <td>United-States</td>\n",
       "    </tr>\n",
       "    <tr>\n",
       "      <th>3</th>\n",
       "      <td>0.493151</td>\n",
       "      <td>Private</td>\n",
       "      <td>11th</td>\n",
       "      <td>0.400000</td>\n",
       "      <td>Married-civ-spouse</td>\n",
       "      <td>Handlers-cleaners</td>\n",
       "      <td>Husband</td>\n",
       "      <td>Black</td>\n",
       "      <td>Male</td>\n",
       "      <td>0.000000</td>\n",
       "      <td>0.0</td>\n",
       "      <td>0.397959</td>\n",
       "      <td>United-States</td>\n",
       "    </tr>\n",
       "    <tr>\n",
       "      <th>4</th>\n",
       "      <td>0.150685</td>\n",
       "      <td>Private</td>\n",
       "      <td>Bachelors</td>\n",
       "      <td>0.800000</td>\n",
       "      <td>Married-civ-spouse</td>\n",
       "      <td>Prof-specialty</td>\n",
       "      <td>Wife</td>\n",
       "      <td>Black</td>\n",
       "      <td>Female</td>\n",
       "      <td>0.000000</td>\n",
       "      <td>0.0</td>\n",
       "      <td>0.397959</td>\n",
       "      <td>Cuba</td>\n",
       "    </tr>\n",
       "  </tbody>\n",
       "</table>\n",
       "</div>"
      ],
      "text/plain": [
       "        age          workclass education_level  education-num  \\\n",
       "0  0.301370          State-gov       Bachelors       0.800000   \n",
       "1  0.452055   Self-emp-not-inc       Bachelors       0.800000   \n",
       "2  0.287671            Private         HS-grad       0.533333   \n",
       "3  0.493151            Private            11th       0.400000   \n",
       "4  0.150685            Private       Bachelors       0.800000   \n",
       "\n",
       "        marital-status          occupation    relationship    race      sex  \\\n",
       "0        Never-married        Adm-clerical   Not-in-family   White     Male   \n",
       "1   Married-civ-spouse     Exec-managerial         Husband   White     Male   \n",
       "2             Divorced   Handlers-cleaners   Not-in-family   White     Male   \n",
       "3   Married-civ-spouse   Handlers-cleaners         Husband   Black     Male   \n",
       "4   Married-civ-spouse      Prof-specialty            Wife   Black   Female   \n",
       "\n",
       "   capital-gain  capital-loss  hours-per-week  native-country  \n",
       "0      0.667492           0.0        0.397959   United-States  \n",
       "1      0.000000           0.0        0.122449   United-States  \n",
       "2      0.000000           0.0        0.397959   United-States  \n",
       "3      0.000000           0.0        0.397959   United-States  \n",
       "4      0.000000           0.0        0.397959            Cuba  "
      ]
     },
     "metadata": {},
     "output_type": "display_data"
    }
   ],
   "source": [
    "# Import sklearn.preprocessing.StandardScaler\n",
    "from sklearn.preprocessing import MinMaxScaler\n",
    "\n",
    "# Initialize a scaler, then apply it to the features\n",
    "scaler = MinMaxScaler() # default=(0, 1)\n",
    "numerical_cols = ['age', 'education-num', 'capital-gain', 'capital-loss', 'hours-per-week']\n",
    "\n",
    "features_log_minmax_transform = pd.DataFrame(data = features_log_transformed)\n",
    "features_log_minmax_transform[numerical_cols] = scaler.fit_transform(features_log_transformed[numerical_cols])\n",
    "\n",
    "# Show an example of a record with scaling applied\n",
    "display(features_log_minmax_transform.head(n = 5))"
   ]
  },
  {
   "cell_type": "markdown",
   "metadata": {},
   "source": [
    "### Implementation: Data Preprocessing\n",
    "\n",
    "From the table in **Exploring the Data** above, we can see there are several features for each record that are non-numeric. Typically, learning algorithms expect input to be numeric, which requires that non-numeric features (called *categorical variables*) be converted. One popular way to convert categorical variables is by using the **one-hot encoding** scheme. One-hot encoding creates a _\"dummy\"_ variable for each possible category of each non-numeric feature. For example, assume `someFeature` has three possible entries: `A`, `B`, or `C`. We then encode this feature into `someFeature_A`, `someFeature_B` and `someFeature_C`.\n",
    "\n",
    "|   | someFeature |                    | someFeature_A | someFeature_B | someFeature_C |\n",
    "| :-: | :-: |                            | :-: | :-: | :-: |\n",
    "| 0 |  B  |  | 0 | 1 | 0 |\n",
    "| 1 |  C  | ----> one-hot encode ----> | 0 | 0 | 1 |\n",
    "| 2 |  A  |  | 1 | 0 | 0 |\n",
    "\n",
    "Additionally, as with the non-numeric features, we need to convert the non-numeric target label, `'income'` to numerical values for the learning algorithm to work. **Since there are only two possible categories for this label** (\"<=50K\" and \">50K\"), we can avoid using one-hot encoding and simply encode these two categories as `0` and `1`, respectively. In code cell below, you will need to implement the following:\n",
    " - Use [`pandas.get_dummies()`](http://pandas.pydata.org/pandas-docs/stable/generated/pandas.get_dummies.html?highlight=get_dummies#pandas.get_dummies) to perform one-hot encoding on the `'features_raw'` data.\n",
    " - Convert the target label `'income_raw'` to numerical entries.\n",
    "   - Set records with \"<=50K\" to `0` and records with \">50K\" to `1`."
   ]
  },
  {
   "cell_type": "code",
   "execution_count": 6,
   "metadata": {
    "scrolled": true
   },
   "outputs": [
    {
     "name": "stdout",
     "output_type": "stream",
     "text": [
      "103 total features after one-hot encoding.\n"
     ]
    },
    {
     "data": {
      "text/plain": [
       "['age',\n",
       " 'education-num',\n",
       " 'capital-gain',\n",
       " 'capital-loss',\n",
       " 'hours-per-week',\n",
       " 'workclass_ Federal-gov',\n",
       " 'workclass_ Local-gov',\n",
       " 'workclass_ Private',\n",
       " 'workclass_ Self-emp-inc',\n",
       " 'workclass_ Self-emp-not-inc',\n",
       " 'workclass_ State-gov',\n",
       " 'workclass_ Without-pay',\n",
       " 'education_level_ 10th',\n",
       " 'education_level_ 11th',\n",
       " 'education_level_ 12th',\n",
       " 'education_level_ 1st-4th',\n",
       " 'education_level_ 5th-6th',\n",
       " 'education_level_ 7th-8th',\n",
       " 'education_level_ 9th',\n",
       " 'education_level_ Assoc-acdm',\n",
       " 'education_level_ Assoc-voc',\n",
       " 'education_level_ Bachelors',\n",
       " 'education_level_ Doctorate',\n",
       " 'education_level_ HS-grad',\n",
       " 'education_level_ Masters',\n",
       " 'education_level_ Preschool',\n",
       " 'education_level_ Prof-school',\n",
       " 'education_level_ Some-college',\n",
       " 'marital-status_ Divorced',\n",
       " 'marital-status_ Married-AF-spouse',\n",
       " 'marital-status_ Married-civ-spouse',\n",
       " 'marital-status_ Married-spouse-absent',\n",
       " 'marital-status_ Never-married',\n",
       " 'marital-status_ Separated',\n",
       " 'marital-status_ Widowed',\n",
       " 'occupation_ Adm-clerical',\n",
       " 'occupation_ Armed-Forces',\n",
       " 'occupation_ Craft-repair',\n",
       " 'occupation_ Exec-managerial',\n",
       " 'occupation_ Farming-fishing',\n",
       " 'occupation_ Handlers-cleaners',\n",
       " 'occupation_ Machine-op-inspct',\n",
       " 'occupation_ Other-service',\n",
       " 'occupation_ Priv-house-serv',\n",
       " 'occupation_ Prof-specialty',\n",
       " 'occupation_ Protective-serv',\n",
       " 'occupation_ Sales',\n",
       " 'occupation_ Tech-support',\n",
       " 'occupation_ Transport-moving',\n",
       " 'relationship_ Husband',\n",
       " 'relationship_ Not-in-family',\n",
       " 'relationship_ Other-relative',\n",
       " 'relationship_ Own-child',\n",
       " 'relationship_ Unmarried',\n",
       " 'relationship_ Wife',\n",
       " 'race_ Amer-Indian-Eskimo',\n",
       " 'race_ Asian-Pac-Islander',\n",
       " 'race_ Black',\n",
       " 'race_ Other',\n",
       " 'race_ White',\n",
       " 'sex_ Female',\n",
       " 'sex_ Male',\n",
       " 'native-country_ Cambodia',\n",
       " 'native-country_ Canada',\n",
       " 'native-country_ China',\n",
       " 'native-country_ Columbia',\n",
       " 'native-country_ Cuba',\n",
       " 'native-country_ Dominican-Republic',\n",
       " 'native-country_ Ecuador',\n",
       " 'native-country_ El-Salvador',\n",
       " 'native-country_ England',\n",
       " 'native-country_ France',\n",
       " 'native-country_ Germany',\n",
       " 'native-country_ Greece',\n",
       " 'native-country_ Guatemala',\n",
       " 'native-country_ Haiti',\n",
       " 'native-country_ Holand-Netherlands',\n",
       " 'native-country_ Honduras',\n",
       " 'native-country_ Hong',\n",
       " 'native-country_ Hungary',\n",
       " 'native-country_ India',\n",
       " 'native-country_ Iran',\n",
       " 'native-country_ Ireland',\n",
       " 'native-country_ Italy',\n",
       " 'native-country_ Jamaica',\n",
       " 'native-country_ Japan',\n",
       " 'native-country_ Laos',\n",
       " 'native-country_ Mexico',\n",
       " 'native-country_ Nicaragua',\n",
       " 'native-country_ Outlying-US(Guam-USVI-etc)',\n",
       " 'native-country_ Peru',\n",
       " 'native-country_ Philippines',\n",
       " 'native-country_ Poland',\n",
       " 'native-country_ Portugal',\n",
       " 'native-country_ Puerto-Rico',\n",
       " 'native-country_ Scotland',\n",
       " 'native-country_ South',\n",
       " 'native-country_ Taiwan',\n",
       " 'native-country_ Thailand',\n",
       " 'native-country_ Trinadad&Tobago',\n",
       " 'native-country_ United-States',\n",
       " 'native-country_ Vietnam',\n",
       " 'native-country_ Yugoslavia']"
      ]
     },
     "execution_count": 6,
     "metadata": {},
     "output_type": "execute_result"
    }
   ],
   "source": [
    "# TODO: One-hot encode the 'features_log_minmax_transform' data using pandas.get_dummies()\n",
    "features_final = pd.get_dummies(data = features_log_minmax_transform)\n",
    "\n",
    "# TODO: Encode the 'income_raw' data to numerical values\n",
    "income = pd.get_dummies(data = income_raw,drop_first=True)\n",
    "\n",
    "# Print the number of features after one-hot encoding\n",
    "encoded_columns = list(features_final.columns)\n",
    "print \"{} total features after one-hot encoding.\".format(len(encoded_columns))\n",
    "\n",
    "# Uncomment the following line to see the encoded feature names\n",
    "encoded_columns"
   ]
  },
  {
   "cell_type": "markdown",
   "metadata": {},
   "source": [
    "### Shuffle and Split Data\n",
    "Now all \n",
    "* _categorical variables_ have been converted into numerical features\n",
    "* all numerical features have been normalized.\n",
    "\n",
    "As always, we will now split the data (both features and their labels) into training and test sets. 80% of the data will be used for training and 20% for testing.\n",
    "\n",
    "Run the code cell below to perform this split."
   ]
  },
  {
   "cell_type": "code",
   "execution_count": 7,
   "metadata": {},
   "outputs": [
    {
     "name": "stdout",
     "output_type": "stream",
     "text": [
      "Training set has 36177 samples.\n",
      "Testing set has 9045 samples.\n"
     ]
    }
   ],
   "source": [
    "# Import train_test_split\n",
    "from sklearn.model_selection import train_test_split\n",
    "\n",
    "# Split the 'features' and 'income' data into training and testing sets\n",
    "X_train, X_test, y_train, y_test = train_test_split(features_final, \n",
    "                                                    income, \n",
    "                                                    test_size = 0.2, \n",
    "                                                    random_state = 0)\n",
    "\n",
    "# Show the results of the split\n",
    "print \"Training set has {} samples.\".format(X_train.shape[0])\n",
    "print \"Testing set has {} samples.\".format(X_test.shape[0])"
   ]
  },
  {
   "cell_type": "markdown",
   "metadata": {},
   "source": [
    "----\n",
    "## Evaluating Model Performance\n",
    "In this section, we will investigate four different algorithms, and determine which is best at modeling the data. Three of these algorithms will be supervised learners of your choice, and the fourth algorithm is known as a *naive predictor*."
   ]
  },
  {
   "cell_type": "markdown",
   "metadata": {},
   "source": [
    "### Metrics and the Naive Predictor\n",
    "*CharityML*, equipped with their research, knows individuals that make more than \\$50,000 are most likely to donate to their charity. Because of this, *CharityML* is particularly interested in predicting who makes more than \\$50,000 accurately. It would seem that using **accuracy** as a metric for evaluating a particular model's performace would be appropriate. Additionally, identifying someone that *does not* make more than \\$50,000 as someone who does would be detrimental to *CharityML*, since they are looking to find individuals willing to donate. Therefore, a model's ability to precisely predict those that make more than \\$50,000 is *more important* than the model's ability to **recall** those individuals. We can use **F-beta score** as a metric that considers both precision and recall:\n",
    "\n",
    "$$ F_{\\beta} = (1 + \\beta^2) \\cdot \\frac{precision \\cdot recall}{\\left( \\beta^2 \\cdot precision \\right) + recall} $$\n",
    "\n",
    "In particular, when $\\beta = 0.5$, more emphasis is placed on precision. This is called the **F$_{0.5}$ score** (or F-score for simplicity).\n",
    "\n",
    "Looking at the distribution of classes (those who make at most \\$50,000, and those who make more), it's clear most individuals do not make more than \\$50,000. This can greatly affect **accuracy**, since we could simply say *\"this person does not make more than \\$50,000\"* and generally be right, without ever looking at the data! Making such a statement would be called **naive**, since we have not considered any information to substantiate the claim. It is always important to consider the *naive prediction* for your data, to help establish a benchmark for whether a model is performing well. That been said, using that prediction would be pointless: If we predicted all people made less than \\$50,000, *CharityML* would identify no one as donors. \n",
    "\n",
    "\n",
    "#### Note: Recap of accuracy, precision, recall\n",
    "\n",
    "** Accuracy ** measures how often the classifier makes the correct prediction. It’s the ratio of the number of correct predictions to the total number of predictions (the number of test data points).\n",
    "\n",
    "** Precision ** tells us what proportion of messages we classified as spam, actually were spam.\n",
    "It is a ratio of true positives(words classified as spam, and which are actually spam) to all positives(all words classified as spam, irrespective of whether that was the correct classificatio), in other words it is the ratio of\n",
    "\n",
    "`[True Positives/(True Positives + False Positives)]`\n",
    "\n",
    "** Recall(sensitivity)** tells us what proportion of messages that actually were spam were classified by us as spam.\n",
    "It is a ratio of true positives(words classified as spam, and which are actually spam) to all the words that were actually spam, in other words it is the ratio of\n",
    "\n",
    "`[True Positives/(True Positives + False Negatives)]`\n",
    "\n",
    "For classification problems that are skewed in their classification distributions like in our case, for example if we had a 100 text messages and only 2 were spam and the rest 98 weren't, accuracy by itself is not a very good metric. We could classify 90 messages as not spam(including the 2 that were spam but we classify them as not spam, hence they would be false negatives) and 10 as spam(all 10 false positives) and still get a reasonably good accuracy score. For such cases, precision and recall come in very handy. These two metrics can be combined to get the F1 score, which is weighted average(harmonic mean) of the precision and recall scores. This score can range from 0 to 1, with 1 being the best possible F1 score(we take the harmonic mean as we are dealing with ratios)."
   ]
  },
  {
   "cell_type": "markdown",
   "metadata": {},
   "source": [
    "### Question 1 - Naive Predictor Performace\n",
    "* If we chose a model that always predicted an individual made more than $50,000, what would  that model's accuracy and F-score be on this dataset? You must use the code cell below and assign your results to `'accuracy'` and `'fscore'` to be used later.\n",
    "\n",
    "** Please note ** that the the purpose of generating a naive predictor is simply to show what a base model without any intelligence would look like. In the real world, ideally your base model would be either the results of a previous model or could be based on a research paper upon which you are looking to improve. When there is no benchmark model set, getting a result better than random choice is a place you could start from.\n",
    "\n",
    "** HINT: ** \n",
    "\n",
    "* When we have a model that always predicts '1' (i.e. the individual makes more than 50k) then our model will have no True Negatives(TN) or False Negatives(FN) as we are not making any negative('0' value) predictions. Therefore our Accuracy in this case becomes the same as our Precision(True Positives/(True Positives + False Positives)) as every prediction that we have made with value '1' that should have '0' becomes a False Positive; therefore our denominator in this case is the total number of records we have in total. \n",
    "* Our Recall score(True Positives/(True Positives + False Negatives)) in this setting becomes 1 as we have no False Negatives."
   ]
  },
  {
   "cell_type": "code",
   "execution_count": 8,
   "metadata": {},
   "outputs": [
    {
     "name": "stdout",
     "output_type": "stream",
     "text": [
      "Naive Predictor: [Accuracy score: 0.2478, F-score: 0.2917]\n"
     ]
    }
   ],
   "source": [
    "'''\n",
    "TP = np.sum(income) # Counting the ones as this is the naive case. Note that 'income' is the 'income_raw' data \n",
    "encoded to numerical values done in the data preprocessing step.\n",
    "FP = income.count() - TP # Specific to the naive case\n",
    "\n",
    "TN = 0 # No predicted negatives in the naive case\n",
    "FN = 0 # No predicted negatives in the naive case\n",
    "'''\n",
    "TP = np.sum(income)\n",
    "FP = income.count() - TP\n",
    "TN = 0\n",
    "FN = 0\n",
    "\n",
    "# TODO: Calculate accuracy, precision and recall\n",
    "accuracy = float(TP+TN)/float(FP+FN+TP+TN)\n",
    "recall = float(TP)/float((TP + FN))\n",
    "precision = float(TP)/float((TP + FP))\n",
    "\n",
    "# TODO: Calculate F-score using the formula above for beta = 0.5 and correct values for precision and recall.\n",
    "# HINT: The formula above can be written as (1 + beta**2) * (precision * recall) / ((beta**2 * precision) + recall)\n",
    "beta = 0.5\n",
    "fscore = (1+beta**2)*precision*recall/(beta**2*precision+recall)\n",
    "\n",
    "# Print the results \n",
    "print \"Naive Predictor: [Accuracy score: {:.4f}, F-score: {:.4f}]\".format(accuracy, fscore)"
   ]
  },
  {
   "cell_type": "markdown",
   "metadata": {},
   "source": [
    "###  Supervised Learning Models\n",
    "**The following are some of the supervised learning models that are currently available in** [`scikit-learn`](http://scikit-learn.org/stable/supervised_learning.html) **that you may choose from:**\n",
    "- Gaussian Naive Bayes (GaussianNB)\n",
    "- Decision Trees\n",
    "- Ensemble Methods (Bagging, AdaBoost, Random Forest, Gradient Boosting)\n",
    "- K-Nearest Neighbors (KNeighbors)\n",
    "- Stochastic Gradient Descent Classifier (SGDC)\n",
    "- Support Vector Machines (SVM)\n",
    "- Logistic Regression"
   ]
  },
  {
   "cell_type": "markdown",
   "metadata": {},
   "source": [
    "### Question 2 - Model Application\n",
    "List three of the supervised learning models above that are appropriate for this problem that you will test on the census data. For each model chosen\n",
    "\n",
    "- Describe one real-world application in industry where the model can be applied. \n",
    "- What are the strengths of the model; when does it perform well?\n",
    "- What are the weaknesses of the model; when does it perform poorly?\n",
    "- What makes this model a good candidate for the problem, given what you know about the data?\n",
    "\n",
    "** HINT: **\n",
    "\n",
    "Structure your answer in the same format as above^, with 4 parts for each of the three models you pick. Please include references with your answer."
   ]
  },
  {
   "cell_type": "markdown",
   "metadata": {},
   "source": [
    "**Answer:**\n",
    "\n",
    "***Please note:*** I have elected to look at all the models mentioned inorder to learn the most I can in this project"
   ]
  },
  {
   "cell_type": "markdown",
   "metadata": {},
   "source": [
    "#### **Logistic Regression**"
   ]
  },
  {
   "cell_type": "markdown",
   "metadata": {},
   "source": [
    "source: http://www.statisticssolutions.com/what-is-logistic-regression/"
   ]
  },
  {
   "cell_type": "markdown",
   "metadata": {},
   "source": [
    "***What are the strengths of the model; when does it perform well?***"
   ]
  },
  {
   "cell_type": "markdown",
   "metadata": {},
   "source": [
    "* It provides probability of outcome\n",
    "* It is easy to explain and understand the models behavior by referring to the trained coefficiants and the regression formula that was used.\n",
    "* Fast training of model relative to other, more complex, models like neural networks\n",
    " * Space and data complexity vary depending on optimisation technique used and be selected to suit the applications time vs space requirments .\n",
    "* Dependent variable is dichotomous (binary) - allows for catagorical classification "
   ]
  },
  {
   "cell_type": "markdown",
   "metadata": {},
   "source": [
    "***What are the weaknesses of the model; when does it perform poorly?***"
   ]
  },
  {
   "cell_type": "markdown",
   "metadata": {},
   "source": [
    "You need to identify the Independent Variables and their relationships. The model will train on the data given without using any information gain/loss techniques. It takes everything at face value; this means that you need to understand you domain very well and be able to explicity specify the relationships and interactions of the independant variables with respect to the dependant variable. \n",
    "\n",
    "A few things to look out for:\n",
    "* Logistic regression is also very sensitive to outliers. \n",
    "* In cases where the data is non-linear care must be taken to make sure that the defined regressor is able to capture those relationships. \n",
    "* Unable to handle missing data\n",
    "\n",
    "\n",
    "\n"
   ]
  },
  {
   "cell_type": "markdown",
   "metadata": {},
   "source": [
    "***What makes this model a good candidate for the problem, given what you know about the data?***"
   ]
  },
  {
   "cell_type": "markdown",
   "metadata": {},
   "source": [
    "Logistic regression is a good base line model to use when trying to benchmark other models. Because of its depth but simplicity there is alot it can do and should always be tried inorder to avoid using a model that would otherwise be overkill for the situation."
   ]
  },
  {
   "cell_type": "markdown",
   "metadata": {},
   "source": [
    "***Describe one real-world application in industry where the model can be applied.***"
   ]
  },
  {
   "cell_type": "markdown",
   "metadata": {},
   "source": [
    "[Bankruptcy Prediction in Retail Industry Using Logistic Regression](http://www.emeraldinsight.com/doi/pdfplus/10.1108/S0276-8976%282009%290000013006)"
   ]
  },
  {
   "cell_type": "markdown",
   "metadata": {},
   "source": [
    "#### **Decision Tree**"
   ]
  },
  {
   "cell_type": "markdown",
   "metadata": {},
   "source": [
    "Source: [scikit-trees](http://scikit-learn.org/stable/modules/tree.html#complexity)"
   ]
  },
  {
   "cell_type": "markdown",
   "metadata": {},
   "source": [
    "***What are the strengths of the model; when does it perform well?***"
   ]
  },
  {
   "cell_type": "markdown",
   "metadata": {},
   "source": [
    "* Decision trees are ideal for when your data points aren't easily separated by a single hyperplane.\n",
    "* No need to define the relationship between variables, it can automatically take into account interactions between variables. Decision trees implicitly perform variable screening / feature selection.\n",
    "* Decision trees require little effort from users for data preparation  \n",
    " * Data transforms like scaling and normalisation are not needed\n",
    " * Handles missing values\n",
    " * Handles outliers, the splitting happens based on proportion of samples within the split ranges and not on absolute values.\n",
    "* Nonlinear relationships between parameters do not affect tree performance.\n",
    "* Decision trees are very intuitive and easy to explain. The splits of the tree can be graphically shown and understood."
   ]
  },
  {
   "cell_type": "markdown",
   "metadata": {},
   "source": [
    "***What are the weaknesses of the model; when does it perform poorly?***"
   ]
  },
  {
   "cell_type": "markdown",
   "metadata": {},
   "source": [
    "* Decisions trees are very flexible and as a result are prone to overfitting. This can be account for by:\n",
    " * Stopping the growth of the tree at an apporiate level to stop overfitting\n",
    " * Using validation methods and pruning, but this requires fine tuning to find the desired model performance.\n",
    "* If data isn't balanced the tree will train a bias towards the dominant class \n",
    "* They can be extremely sensitive to small perturbations in the data; this is particualrly obviouse with leaf nodes which will often capture the noise in the data if not careful. \n",
    "* All terms are assumed to interact, this makes it unideal for cases where the outcome is determined independantly of several variables.\n",
    "* Decision trees tend to overfit on data with a large number of features. Getting the right ratio of samples to number of features is important\n",
    "* A bit slower then logistic regression\n",
    " * Balance tree construction time: $O(n_{sample}n_{features}log(n_{samples}))$\n",
    " * Query Time: $O(log(n_{samples}))$"
   ]
  },
  {
   "cell_type": "markdown",
   "metadata": {},
   "source": [
    "***What makes this model a good candidate for the problem, given what you know about the data?***"
   ]
  },
  {
   "cell_type": "markdown",
   "metadata": {},
   "source": [
    "Decision trees will allow for the trained model to be explained to managment very easily."
   ]
  },
  {
   "cell_type": "markdown",
   "metadata": {},
   "source": [
    "***Describe one real-world application in industry where the model can be applied.***"
   ]
  },
  {
   "cell_type": "markdown",
   "metadata": {},
   "source": [
    "[Applying machine learning to agricultural data](http://www.sciencedirect.com/science/article/pii/0168169995986019) - decison trees were used to better understand *how* farmers in New Zealand choose the cull their milk producing livestock."
   ]
  },
  {
   "cell_type": "markdown",
   "metadata": {},
   "source": [
    "#### **Ensemble Methods**"
   ]
  },
  {
   "cell_type": "markdown",
   "metadata": {},
   "source": [
    "***What are the strengths of the model; when does it perform well?***"
   ]
  },
  {
   "cell_type": "markdown",
   "metadata": {},
   "source": [
    "The following apply to all ensemble methods:\n",
    "* Computationally efficient\n",
    "* No difficult parameters to set\n",
    "* Versatile - a wide range of base learners can be used\n",
    "* The resultant hypothesis class constructed from the hypothesis class $H$ is at least more complicated then then $H$ it self. \n",
    "\n",
    "\n",
    "A few notes on the different kinds of ensemble methods:\n",
    "* Bagging: (e.g. random forest)\n",
    " * aim to decrease variance, not bias\n",
    " * suitable for high variance low bias models (complex models)\n",
    "* Boosting: (e.g. gradient boosting)\n",
    " * aim to decrease bias, not variance\n",
    " * suitable for low variance high bias models"
   ]
  },
  {
   "cell_type": "markdown",
   "metadata": {},
   "source": [
    "***What are the weaknesses of the model; when does it perform poorly?***"
   ]
  },
  {
   "cell_type": "markdown",
   "metadata": {},
   "source": [
    "* Algorithms are susceptible to uniform noise\n",
    "* If a large number of interpretable estimators are used it becomes difficult to understand how the model behaves.\n",
    "* Weak learner should not be too complex - to avoid overfitting\n",
    "* If the weak learner is susceptible to overfitting then so will the ensemble method\n",
    "* There needs to be enough data for the weak learner requirment to be satisfied - the base learner should perform consistenly better than random guessing, with generalization error < 0.5"
   ]
  },
  {
   "cell_type": "markdown",
   "metadata": {},
   "source": [
    "***What makes this model a good candidate for the problem, given what you know about the data?***"
   ]
  },
  {
   "cell_type": "markdown",
   "metadata": {},
   "source": [
    "We have a large training set and ensamble methods have been shown (asusming the weak learners can't overfit) to not overfit the data."
   ]
  },
  {
   "cell_type": "markdown",
   "metadata": {},
   "source": [
    "***Describe one real-world application in industry where the model can be applied.***"
   ]
  },
  {
   "cell_type": "markdown",
   "metadata": {},
   "source": [
    "Take a random forest as an example: [Decision fusion for the classification of urban remote sensing images.](http://ieeexplore.ieee.org/abstract/document/1704969/?reload=true)"
   ]
  },
  {
   "cell_type": "markdown",
   "metadata": {},
   "source": [
    "#### **K-Nearest Neighbors**"
   ]
  },
  {
   "cell_type": "markdown",
   "metadata": {},
   "source": [
    "Sources:\n",
    "* [CrossValidate - k-NN computational complexity](https://stats.stackexchange.com/questions/219655/k-nn-computational-complexity)\n",
    "* [CS434a/541a: Pattern Recognition Prof. Olga Veksler](http://www.csd.uwo.ca/courses/CS9840a/Lecture2_knn.pdf)"
   ]
  },
  {
   "cell_type": "markdown",
   "metadata": {},
   "source": [
    "***What are the strengths of the model; when does it perform well?***"
   ]
  },
  {
   "cell_type": "markdown",
   "metadata": {},
   "source": [
    "* Avoids the situation of “quartet” date (different data procduce the same hypothesis) that regression faces.  \n",
    "* It is strongly (that is for any joint distribution on $(X,Y)$ ) consistent provided $k:=k_n$ diverges and $\\frac{k_n}{n}$ converges to zero as $n\\rightarrow \\infty$\n",
    "* We can define the distance metric any way we want relevant to the domain.\n",
    "* No time spent learning\n",
    "* Robust to noisy training data."
   ]
  },
  {
   "cell_type": "markdown",
   "metadata": {},
   "source": [
    "***What are the weaknesses of the model; when does it perform poorly?***"
   ]
  },
  {
   "cell_type": "markdown",
   "metadata": {},
   "source": [
    "* It is expensive to make predictions; it needs to store and search through all the training data for every prediction.\n",
    " * Query Time: $O(nk + nd)$ where; $n$ is the number of data points; $O(nk)$ is the time to find k closest examples; $O(nd)$ is the time to compute distance to all examples\n",
    "* Susceptible to Preference Bias in the way that the distance metric is defined.\n",
    "* Curse-of-dimensionality: as the number of dimensions grows the number of data points needed to maintain the same information density grows exponentially.\n",
    "* If feature $x$ has irrelevant, noisy data, then the distance function becomes useless\n",
    "* A lot of paramaters to consider\n",
    " * How you apply the domain knowledge to define the similarity metric\n",
    " * What K should be\n",
    " * How ties and voting are implemented when deciding on a classification"
   ]
  },
  {
   "cell_type": "markdown",
   "metadata": {},
   "source": [
    "***What makes this model a good candidate for the problem, given what you know about the data?***"
   ]
  },
  {
   "cell_type": "markdown",
   "metadata": {},
   "source": [
    "If the data causes trouble with models that are sensitive to noise or outliers this model will perform better. Also if data size and prediction time aren't an issue for the orgnaisation this model can be passivly operating in the background untill its needed to predict.  "
   ]
  },
  {
   "cell_type": "markdown",
   "metadata": {},
   "source": [
    "***Describe one real-world application in industry where the model can be applied.***"
   ]
  },
  {
   "cell_type": "markdown",
   "metadata": {},
   "source": [
    "[The Research on Price Prediction of Second-hand house based on KNN and Stimulated Annealing Algorithm](http://www.sersc.org/journals/IJSH/vol8_no2_2014/19.pdf)"
   ]
  },
  {
   "cell_type": "markdown",
   "metadata": {},
   "source": [
    "#### **Support Vector Machines**\n"
   ]
  },
  {
   "cell_type": "markdown",
   "metadata": {},
   "source": [
    " ***What are the strengths of the model; when does it perform well?***"
   ]
  },
  {
   "cell_type": "markdown",
   "metadata": {},
   "source": [
    "* Performs well with non-linear boundary depending on the kernel used\n",
    "* It handles high dimensional data well\n",
    "* Work well in complicated domains, where there is a clear margin of seperation\n",
    "* Memory efficient; uses a subset of training point in the decision function (the support vectors)"
   ]
  },
  {
   "cell_type": "markdown",
   "metadata": {},
   "source": [
    "***What are the weaknesses of the model; when does it perform poorly?***"
   ]
  },
  {
   "cell_type": "markdown",
   "metadata": {},
   "source": [
    "* Sensitive to noise\n",
    "* Sensitive to scaling and normalisation\n",
    "* Susceptible to Preference Bias in the way that the kernel is defined.\n",
    "* Don't provide a probability estimate\n",
    "* The training time is between $O(n_{features} \\times n_{samples}^2)$ and $O(n_{features} \\times n_{samples}^3)$ \n",
    " * i.e. SVMs can become very expensive to train as our data grows.\n"
   ]
  },
  {
   "cell_type": "markdown",
   "metadata": {},
   "source": [
    "***What makes this model a good candidate for the problem, given what you know about the data?***"
   ]
  },
  {
   "cell_type": "markdown",
   "metadata": {},
   "source": [
    "Due to the one-hot encoding there are alot of features, this makes SVMs a good candidate when many features are present. Because the training data is relativly large we should keep an eye out for long training times as SVM quickly become slow as shown in the subsection above."
   ]
  },
  {
   "cell_type": "markdown",
   "metadata": {},
   "source": [
    "***Describe one real-world application in industry where the model can be applied.***"
   ]
  },
  {
   "cell_type": "markdown",
   "metadata": {},
   "source": [
    "[Text Categorization with Support Vector Machines: Learning with Many Relevant Features](https://www.cs.cornell.edu/people/tj/publications/joachims_98a.pdf)"
   ]
  },
  {
   "cell_type": "markdown",
   "metadata": {},
   "source": [
    "#### **Gaussian Naive Bayes**"
   ]
  },
  {
   "cell_type": "markdown",
   "metadata": {},
   "source": [
    "Sources:\n",
    "* [Quora - What are the disadvantages of using a naive bayes for classification?](https://www.quora.com/What-are-the-disadvantages-of-using-a-naive-bayes-for-classification)\n",
    "* https://monkeylearn.com/blog/practical-explanation-naive-bayes-classifier/"
   ]
  },
  {
   "cell_type": "markdown",
   "metadata": {},
   "source": [
    "***What are the strengths of the model; when does it perform well?***"
   ]
  },
  {
   "cell_type": "markdown",
   "metadata": {},
   "source": [
    "* Computationally fast\n",
    " * doesn't need to cope with the correlation of features helps it converge more quickly (no iteration needed) and scale up.\n",
    "* Works well with high dimensions"
   ]
  },
  {
   "cell_type": "markdown",
   "metadata": {},
   "source": [
    "***What are the weaknesses of the model; when does it perform poorly?***"
   ]
  },
  {
   "cell_type": "markdown",
   "metadata": {},
   "source": [
    "* Relies on independence assumption and will perform badly if this assumption is not met\n",
    "* NB ignores correlation among the features"
   ]
  },
  {
   "cell_type": "markdown",
   "metadata": {},
   "source": [
    "***What makes this model a good candidate for the problem, given what you know about the data?***"
   ]
  },
  {
   "cell_type": "markdown",
   "metadata": {},
   "source": [
    "Due to the one-hot encoding there are alot of features. This makes naive bayes a good candidate, but the independance assumption should be kept in mind especially with features like education level and occupation."
   ]
  },
  {
   "cell_type": "markdown",
   "metadata": {},
   "source": [
    "***Describe one real-world application in industry where the model can be applied.***\n",
    "\n",
    "Naive Bayes is used extensivly in in document classification; marking an email as spam, or not spam. Classify a news article according to catagories. [Source](https://en.wikipedia.org/wiki/Naive_Bayes_spam_filtering)"
   ]
  },
  {
   "cell_type": "markdown",
   "metadata": {},
   "source": [
    "#### **Stochastic Gradient Descent Classifier (SGDC)**"
   ]
  },
  {
   "cell_type": "markdown",
   "metadata": {},
   "source": [
    "Sources:\n",
    "* [Scikit - SGD](http://scikit-learn.org/stable/modules/sgd.html)\n",
    "* [Batch gradient descent versus stochastic gradient descent](https://stats.stackexchange.com/questions/49528/batch-gradient-descent-versus-stochastic-gradient-descent)"
   ]
  },
  {
   "cell_type": "markdown",
   "metadata": {},
   "source": [
    "***What are the strengths of the model; when does it perform well?***\n",
    "* Very quick to train; If $X$ is a matrix of size $(n, p)$ training has a cost of $O(k n \\bar p)$, where $k$ is the number of iterations (epochs) and $\\bar p$ is the average number of non-zero attributes per sample.\n",
    "* A reasonable first guess for the number of iterations is $n_\\text{iter} = \\text{np.ceil}(10^6 / n)$, where $n$ is the size of the training set\n",
    "* Averaged SGD works best with a larger number of features and a higher learning rate eta0\n",
    "* Better then batch gradient descent for error manifolds that have lots of local maxima/minima - noisier gradient calculated using the reduced number of samples tends to jerk the model out of local minima into a region that hopefully is more optimal."
   ]
  },
  {
   "cell_type": "markdown",
   "metadata": {},
   "source": [
    "***What are the weaknesses of the model; when does it perform poorly?***\n",
    "* Sensitive to scaling and normalisation\n",
    "* Several hyperparamaters to consider: (e.g.)\n",
    " * Number of iterations\n",
    " * Regularization parameter \n",
    " * Learning rate \n",
    " * Batch Size\n",
    " * Momentum"
   ]
  },
  {
   "cell_type": "markdown",
   "metadata": {},
   "source": [
    "***What makes this model a good candidate for the problem, given what you know about the data?***"
   ]
  },
  {
   "cell_type": "markdown",
   "metadata": {},
   "source": [
    "SGD is able to rapidly train on large data sets if training time is an issue."
   ]
  },
  {
   "cell_type": "markdown",
   "metadata": {},
   "source": [
    "***Describe one real-world application in industry where the model can be applied.***"
   ]
  },
  {
   "cell_type": "markdown",
   "metadata": {},
   "source": [
    "[Large-scale image classification: Fast feature extraction and SVM training](http://ieeexplore.ieee.org/abstract/document/5995477/) "
   ]
  },
  {
   "cell_type": "markdown",
   "metadata": {},
   "source": [
    "### Implementation - Creating a Training and Predicting Pipeline\n",
    "To properly evaluate the performance of each model you've chosen, it's important that you create a training and predicting pipeline that allows you to quickly and effectively train models using various sizes of training data and perform predictions on the testing data. Your implementation here will be used in the following section.\n",
    "In the code block below, you will need to implement the following:\n",
    " - Import `fbeta_score` and `accuracy_score` from [`sklearn.metrics`](http://scikit-learn.org/stable/modules/classes.html#sklearn-metrics-metrics).\n",
    " - Fit the learner to the sampled training data and record the training time.\n",
    " - Perform predictions on the test data `X_test`, and also on the first 300 training points `X_train[:300]`.\n",
    "   - Record the total prediction time.\n",
    " - Calculate the accuracy score for both the training subset and testing set.\n",
    " - Calculate the F-score for both the training subset and testing set.\n",
    "   - Make sure that you set the `beta` parameter!"
   ]
  },
  {
   "cell_type": "code",
   "execution_count": 24,
   "metadata": {
    "collapsed": true
   },
   "outputs": [],
   "source": [
    "# TODO: Import two metrics from sklearn - fbeta_score and accuracy_score\n",
    "from sklearn.metrics import fbeta_score, accuracy_score\n",
    "\n",
    "def train_predict(learner, sample_size, X_train, y_train, X_test, y_test): \n",
    "    '''\n",
    "    inputs:\n",
    "       - learner: the learning algorithm to be trained and predicted on\n",
    "       - sample_size: the size of samples (number) to be drawn from training set\n",
    "       - X_train: features training set\n",
    "       - y_train: income training set\n",
    "       - X_test: features testing set\n",
    "       - y_test: income testing set\n",
    "    '''\n",
    "    \n",
    "    results = {}\n",
    "    \n",
    "    sample_X_train = X_train[:sample_size]\n",
    "    sample_y_train = y_train[:sample_size]\n",
    "    \n",
    "    # TODO: Fit the learner to the training data using slicing with 'sample_size' \n",
    "    ## using .fit(training_features[:], training_labels[:])\n",
    "    start = time() # Get start time\n",
    "    learner = learner.fit(sample_X_train, sample_y_train)\n",
    "    end = time() # Get end time\n",
    "    \n",
    "    # TODO: Calculate the training time\n",
    "    results['train_time'] = end - start\n",
    "        \n",
    "    # TODO: Get the predictions on the test set(X_test),\n",
    "    #       then get predictions on the first 300 training samples(X_train) using .predict()\n",
    "    start = time() # Get start time\n",
    "    predictions_test = learner.predict(X_test)\n",
    "    predictions_train = learner.predict(X_train[:300])\n",
    "    end = time() # Get end time\n",
    "    \n",
    "    # TODO: Calculate the total prediction time\n",
    "    results['pred_time'] = end - start\n",
    "            \n",
    "    # TODO: Compute accuracy on the first 300 training samples which is y_train[:300]\n",
    "    results['acc_train'] = accuracy_score(y_true=y_train[:300],\n",
    "                                          y_pred=predictions_train,\n",
    "                                          normalize=True)\n",
    "        \n",
    "    # TODO: Compute accuracy on test set using accuracy_score()\n",
    "    results['acc_test'] = accuracy_score(y_true=y_test,\n",
    "                                        y_pred=predictions_test,\n",
    "                                        normalize=True)\n",
    "    \n",
    "    # TODO: Compute F-score on the the first 300 training samples using fbeta_score()\n",
    "    results['f_train'] = fbeta_score(y_true=y_train[:300],\n",
    "                                    y_pred=predictions_train,\n",
    "                                    beta=0.5)\n",
    "        \n",
    "    # TODO: Compute F-score on the test set which is y_test\n",
    "    results['f_test'] = fbeta_score(y_true=y_test,\n",
    "                                    y_pred=predictions_test,\n",
    "                                    beta=0.5)\n",
    "       \n",
    "    # Success\n",
    "    print \"{} trained on {} samples.\".format(learner.__class__.__name__, sample_size)\n",
    "        \n",
    "    # Return the results\n",
    "    return results"
   ]
  },
  {
   "cell_type": "markdown",
   "metadata": {},
   "source": [
    "### Implementation: Initial Model Evaluation\n",
    "In the code cell, you will need to implement the following:\n",
    "- Import the three supervised learning models you've discussed in the previous section.\n",
    "- Initialize the three models and store them in `'clf_A'`, `'clf_B'`, and `'clf_C'`.\n",
    "  - Use a `'random_state'` for each model you use, if provided.\n",
    "  - **Note:** Use the default settings for each model — you will tune one specific model in a later section.\n",
    "- Calculate the number of records equal to 1%, 10%, and 100% of the training data.\n",
    "  - Store those values in `'samples_1'`, `'samples_10'`, and `'samples_100'` respectively.\n",
    "\n",
    "**Note:** Depending on which algorithms you chose, the following implementation may take some time to run!"
   ]
  },
  {
   "cell_type": "code",
   "execution_count": 44,
   "metadata": {
    "scrolled": true
   },
   "outputs": [
    {
     "name": "stderr",
     "output_type": "stream",
     "text": [
      "C:\\Users\\jeroe\\AppData\\Local\\conda\\conda\\envs\\ipkernel_py_2\\lib\\site-packages\\sklearn\\linear_model\\stochastic_gradient.py:84: FutureWarning: max_iter and tol parameters have been added in <class 'sklearn.linear_model.stochastic_gradient.SGDClassifier'> in 0.19. If both are left unset, they default to max_iter=5 and tol=None. If tol is not None, max_iter defaults to max_iter=1000. From 0.21, default max_iter will be 1000, and default tol will be 1e-3.\n",
      "  \"and default tol will be 1e-3.\" % type(self), FutureWarning)\n"
     ]
    },
    {
     "name": "stdout",
     "output_type": "stream",
     "text": [
      "LogisticRegression trained on 362 samples.\n",
      "LogisticRegression trained on 3618 samples.\n",
      "LogisticRegression trained on 36177 samples.\n",
      "DecisionTreeClassifier trained on 362 samples.\n",
      "DecisionTreeClassifier trained on 3618 samples.\n",
      "DecisionTreeClassifier trained on 36177 samples.\n",
      "AdaBoostClassifier trained on 362 samples.\n",
      "AdaBoostClassifier trained on 3618 samples.\n",
      "AdaBoostClassifier trained on 36177 samples.\n",
      "GaussianNB trained on 362 samples.\n",
      "GaussianNB trained on 3618 samples.\n",
      "GaussianNB trained on 36177 samples.\n"
     ]
    },
    {
     "name": "stderr",
     "output_type": "stream",
     "text": [
      "C:\\Users\\jeroe\\AppData\\Local\\conda\\conda\\envs\\ipkernel_py_2\\lib\\site-packages\\ipykernel_launcher.py:23: DataConversionWarning: A column-vector y was passed when a 1d array was expected. Please change the shape of y to (n_samples, ), for example using ravel().\n"
     ]
    },
    {
     "name": "stdout",
     "output_type": "stream",
     "text": [
      "KNeighborsClassifier trained on 362 samples.\n",
      "KNeighborsClassifier trained on 3618 samples.\n",
      "KNeighborsClassifier trained on 36177 samples.\n"
     ]
    },
    {
     "name": "stderr",
     "output_type": "stream",
     "text": [
      "C:\\Users\\jeroe\\AppData\\Local\\conda\\conda\\envs\\ipkernel_py_2\\lib\\site-packages\\sklearn\\metrics\\classification.py:1135: UndefinedMetricWarning: F-score is ill-defined and being set to 0.0 due to no predicted samples.\n",
      "  'precision', 'predicted', average, warn_for)\n"
     ]
    },
    {
     "name": "stdout",
     "output_type": "stream",
     "text": [
      "SVC trained on 362 samples.\n",
      "SVC trained on 3618 samples.\n",
      "SVC trained on 36177 samples.\n",
      "SGDClassifier trained on 362 samples.\n",
      "SGDClassifier trained on 3618 samples.\n",
      "SGDClassifier trained on 36177 samples.\n"
     ]
    }
   ],
   "source": [
    "#other imports\n",
    "from math import floor\n",
    "\n",
    "# TODO: Import the three supervised learning models from sklearn\n",
    "from sklearn.linear_model import LogisticRegression \n",
    "from sklearn.tree import DecisionTreeClassifier \n",
    "from sklearn.ensemble import AdaBoostClassifier\n",
    "from sklearn.naive_bayes import GaussianNB\n",
    "from sklearn.neighbors import KNeighborsClassifier\n",
    "from sklearn.svm import SVC\n",
    "from sklearn.linear_model import SGDClassifier\n",
    "\n",
    "# TODO: Initialize the three models\n",
    "clf_A = LogisticRegression()\n",
    "clf_B = DecisionTreeClassifier()\n",
    "clf_C = AdaBoostClassifier()\n",
    "\n",
    "clf_D = GaussianNB()\n",
    "clf_F = KNeighborsClassifier()\n",
    "clf_G = SVC()\n",
    "clf_H = SGDClassifier()\n",
    "\n",
    "models = [clf_A, clf_B, clf_C, clf_D, clf_F, clf_G, clf_H]\n",
    "#models = [clf_A, clf_B, clf_C, clf_D, clf_H]\n",
    "\n",
    "#TODO: Calculate the number of samples for 1%, 10%, and 100% of the training data\n",
    "#HINT: samples_100 is the entire training set i.e. len(y_train)\n",
    "#HINT: samples_10 is 10% of samples_100\n",
    "#HINT: samples_1 is 1% of samples_100\n",
    "samples_100 = len(y_train)\n",
    "samples_10 = int(round(samples_100*0.1))\n",
    "samples_1 = int(round(samples_100*0.01))\n",
    "\n",
    "# Collect results on the learners\n",
    "results = {}\n",
    "for clf in models:\n",
    "    clf_name = clf.__class__.__name__\n",
    "    results[clf_name] = {}\n",
    "    for i, samples in enumerate([samples_1, samples_10, samples_100]):\n",
    "        results[clf_name][i] = \\\n",
    "        train_predict(clf, samples, X_train, y_train, X_test, y_test)\n",
    "\n"
   ]
  },
  {
   "cell_type": "code",
   "execution_count": 45,
   "metadata": {
    "collapsed": true
   },
   "outputs": [],
   "source": [
    "# Own code, modification of provided visualization code\n",
    "import matplotlib.pyplot as pl\n",
    "import matplotlib.patches as mpatches\n",
    "def evaluate_v2(results, accuracy, f1):\n",
    "    \"\"\"\n",
    "    Visualization code to display results of various learners.\n",
    "    \n",
    "    inputs:\n",
    "      - learners: a list of supervised learners\n",
    "      - stats: a list of dictionaries of the statistic results from 'train_predict()'\n",
    "      - accuracy: The score for the naive predictor\n",
    "      - f1: The score for the naive predictor\n",
    "    \"\"\"\n",
    "  \n",
    "    # Create figure\n",
    "    fig, ax = pl.subplots(2, 3, figsize = (30,10))\n",
    "\n",
    "    # Constants\n",
    "    bar_width = 0.1\n",
    "    colors = ['#A31621',\n",
    "                '#BFDBF7',\n",
    "                '#053C5E',\n",
    "                '#1F7A8C',\n",
    "                '#A80874',\n",
    "                '#0081AF',\n",
    "                '#320E3B']\n",
    "    \n",
    "    size = len(results)\n",
    "    \n",
    "    # Super loop to plot four panels of data\n",
    "    for k, learner in enumerate(results.keys()):\n",
    "        for j, metric in enumerate(['train_time', 'acc_train', 'f_train', 'pred_time', 'acc_test', 'f_test']):\n",
    "            for i in np.arange(3):\n",
    "                \n",
    "                # Creative plot code\n",
    "                ax[j/3, j%3].bar(i+k*bar_width, results[learner][i][metric], width = bar_width, color = colors[k])\n",
    "                ax[j/3, j%3].set_xticks([0.45, 1.45, 2.45])\n",
    "                ax[j/3, j%3].set_xticklabels([\"1%\", \"10%\", \"100%\"])\n",
    "                ax[j/3, j%3].set_xlabel(\"Training Set Size\")\n",
    "                ax[j/3, j%3].set_xlim((-0.1, 3.0))\n",
    "    \n",
    "    # Add unique y-labels\n",
    "    ax[0, 0].set_ylabel(\"Time (in seconds)\")\n",
    "    ax[0, 1].set_ylabel(\"Accuracy Score\")\n",
    "    ax[0, 2].set_ylabel(\"F-score\")\n",
    "    ax[1, 0].set_ylabel(\"Time (in seconds)\")\n",
    "    ax[1, 1].set_ylabel(\"Accuracy Score\")\n",
    "    ax[1, 2].set_ylabel(\"F-score\")\n",
    "    \n",
    "    # Add titles\n",
    "    ax[0, 0].set_title(\"Model Training\")\n",
    "    ax[0, 1].set_title(\"Accuracy Score on Training Subset\")\n",
    "    ax[0, 2].set_title(\"F-score on Training Subset\")\n",
    "    ax[1, 0].set_title(\"Model Predicting\")\n",
    "    ax[1, 1].set_title(\"Accuracy Score on Testing Set\")\n",
    "    ax[1, 2].set_title(\"F-score on Testing Set\")\n",
    "    \n",
    "    # Add horizontal lines for naive predictors\n",
    "    ax[0, 1].axhline(y = accuracy, xmin = -0.1, xmax = 3.0, linewidth = 1, color = 'k', linestyle = 'dashed')\n",
    "    ax[1, 1].axhline(y = accuracy, xmin = -0.1, xmax = 3.0, linewidth = 1, color = 'k', linestyle = 'dashed')\n",
    "    ax[0, 2].axhline(y = f1, xmin = -0.1, xmax = 3.0, linewidth = 1, color = 'k', linestyle = 'dashed')\n",
    "    ax[1, 2].axhline(y = f1, xmin = -0.1, xmax = 3.0, linewidth = 1, color = 'k', linestyle = 'dashed')\n",
    "    \n",
    "    # Set y-limits for score panels\n",
    "    ax[0, 1].set_ylim((0, 1))\n",
    "    ax[0, 2].set_ylim((0, 1))\n",
    "    ax[1, 1].set_ylim((0, 1))\n",
    "    ax[1, 2].set_ylim((0, 1))\n",
    "\n",
    "    # Create patches for the legend\n",
    "    patches = []\n",
    "    for i, learner in enumerate(results.keys()):\n",
    "        patches.append(mpatches.Patch(color = colors[i], label = learner))\n",
    "    \n",
    "    pl.legend(handles = patches, bbox_to_anchor = (-.80, 2.73), \\\n",
    "               loc = 'upper center', borderaxespad = 0., ncol = size, fontsize = 'x-large')\n",
    "    \n",
    "    # Aesthetics\n",
    "    pl.suptitle(\"Performance Metrics for Three Supervised Learning Models\", fontsize = 16, y = 1.10)\n",
    "    pl.tight_layout()\n",
    "    pl.show()\n"
   ]
  },
  {
   "cell_type": "code",
   "execution_count": 46,
   "metadata": {},
   "outputs": [
    {
     "data": {
      "image/png": "[encoded data removed]",
      "text/plain": [
       "<matplotlib.figure.Figure at 0xbccce48>"
      ]
     },
     "metadata": {},
     "output_type": "display_data"
    }
   ],
   "source": [
    "# Run metrics visualization for the three supervised learning models chosen\n",
    "evaluate_v2(results, accuracy, fscore)"
   ]
  },
  {
   "cell_type": "markdown",
   "metadata": {},
   "source": [
    "Looking at the F-score and the accuracy metrics in the above plots, I can conclude that AdaBoost is the best classification model. As a result of this result I will now further investigate other ensamble methods. "
   ]
  },
  {
   "cell_type": "markdown",
   "metadata": {},
   "source": [
    "### Looking at Ensamble Methods"
   ]
  },
  {
   "cell_type": "code",
   "execution_count": 13,
   "metadata": {},
   "outputs": [
    {
     "name": "stdout",
     "output_type": "stream",
     "text": [
      "AdaBoostClassifier trained on 362 samples.\n",
      "AdaBoostClassifier trained on 3618 samples.\n",
      "AdaBoostClassifier trained on 36177 samples.\n",
      "BaggingClassifier trained on 362 samples.\n",
      "BaggingClassifier trained on 3618 samples.\n",
      "BaggingClassifier trained on 36177 samples.\n",
      "GradientBoostingClassifier trained on 362 samples.\n",
      "GradientBoostingClassifier trained on 3618 samples.\n",
      "GradientBoostingClassifier trained on 36177 samples.\n",
      "RandomForestClassifier trained on 362 samples.\n",
      "RandomForestClassifier trained on 3618 samples.\n"
     ]
    },
    {
     "name": "stderr",
     "output_type": "stream",
     "text": [
      "C:\\Users\\jeroe\\AppData\\Local\\conda\\conda\\envs\\ipkernel_py_2\\lib\\site-packages\\ipykernel_launcher.py:23: DataConversionWarning: A column-vector y was passed when a 1d array was expected. Please change the shape of y to (n_samples,), for example using ravel().\n"
     ]
    },
    {
     "name": "stdout",
     "output_type": "stream",
     "text": [
      "RandomForestClassifier trained on 36177 samples.\n"
     ]
    }
   ],
   "source": [
    "#other imports\n",
    "from math import floor\n",
    "\n",
    "# TODO: Import the three supervised learning models from sklearn\n",
    "from sklearn.ensemble import AdaBoostClassifier, BaggingClassifier, GradientBoostingClassifier, RandomForestClassifier\n",
    "\n",
    "# TODO: Initialize the three models\n",
    "clf_A = AdaBoostClassifier()\n",
    "clf_B = BaggingClassifier()\n",
    "clf_C = GradientBoostingClassifier()\n",
    "clf_D = RandomForestClassifier()\n",
    "\n",
    "\n",
    "models = [clf_A, clf_B, clf_C, clf_D]\n",
    "\n",
    "#TODO: Calculate the number of samples for 1%, 10%, and 100% of the training data\n",
    "#HINT: samples_100 is the entire training set i.e. len(y_train)\n",
    "#HINT: samples_10 is 10% of samples_100\n",
    "#HINT: samples_1 is 1% of samples_100\n",
    "samples_100 = len(y_train)\n",
    "samples_10 = int(round(samples_100*0.1))\n",
    "samples_1 = int(round(samples_100*0.01))\n",
    "\n",
    "# Collect results on the learners\n",
    "ensamble_results = {}\n",
    "for clf in models:\n",
    "    clf_name = clf.__class__.__name__\n",
    "    ensamble_results[clf_name] = {}\n",
    "    for i, samples in enumerate([samples_1, samples_10, samples_100]):\n",
    "        ensamble_results[clf_name][i] = \\\n",
    "        train_predict(clf, samples, X_train, y_train, X_test, y_test)\n",
    "\n"
   ]
  },
  {
   "cell_type": "code",
   "execution_count": 14,
   "metadata": {},
   "outputs": [
    {
     "data": {
      "image/png": "[encoded data removed]",
      "text/plain": [
       "<matplotlib.figure.Figure at 0xc3cf710>"
      ]
     },
     "metadata": {},
     "output_type": "display_data"
    }
   ],
   "source": [
    "# Run metrics visualization for the three supervised learning models chosen\n",
    "evaluate_v2(ensamble_results, accuracy, fscore)"
   ]
  },
  {
   "cell_type": "code",
   "execution_count": 15,
   "metadata": {
    "scrolled": false
   },
   "outputs": [
    {
     "data": {
      "text/plain": [
       "{'AdaBoostClassifier': {0: {'acc_test': 0.81028192371475949,\n",
       "   'acc_train': 0.89666666666666661,\n",
       "   'f_test': 0.61025300862314025,\n",
       "   'f_train': 0.81168831168831157,\n",
       "   'pred_time': 0.1100001335144043,\n",
       "   'train_time': 0.23000001907348633},\n",
       "  1: {'acc_test': 0.84986180210060802,\n",
       "   'acc_train': 0.83999999999999997,\n",
       "   'f_test': 0.7018820838099199,\n",
       "   'f_train': 0.68014705882352933,\n",
       "   'pred_time': 0.11500000953674316,\n",
       "   'train_time': 0.30900001525878906},\n",
       "  2: {'acc_test': 0.85760088446655613,\n",
       "   'acc_train': 0.84999999999999998,\n",
       "   'f_test': 0.72455089820359275,\n",
       "   'f_train': 0.71153846153846156,\n",
       "   'pred_time': 0.0970001220703125,\n",
       "   'train_time': 2.3499999046325684}},\n",
       " 'BaggingClassifier': {0: {'acc_test': 0.80784964068546161,\n",
       "   'acc_train': 0.97666666666666668,\n",
       "   'f_test': 0.60300720476140734,\n",
       "   'f_train': 0.96264367816091956,\n",
       "   'pred_time': 0.09999990463256836,\n",
       "   'train_time': 0.03800010681152344},\n",
       "  1: {'acc_test': 0.8389165284687673,\n",
       "   'acc_train': 0.98666666666666669,\n",
       "   'f_test': 0.67707781895182628,\n",
       "   'f_train': 0.9883720930232559,\n",
       "   'pred_time': 0.0989999771118164,\n",
       "   'train_time': 0.22600007057189941},\n",
       "  2: {'acc_test': 0.84223327805417358,\n",
       "   'acc_train': 0.96999999999999997,\n",
       "   'f_test': 0.68134380280290241,\n",
       "   'f_train': 0.95588235294117652,\n",
       "   'pred_time': 0.1099998950958252,\n",
       "   'train_time': 3.315000057220459}},\n",
       " 'GradientBoostingClassifier': {0: {'acc_test': 0.82321724709784416,\n",
       "   'acc_train': 0.93666666666666665,\n",
       "   'f_test': 0.63917952967989233,\n",
       "   'f_train': 0.93309859154929575,\n",
       "   'pred_time': 0.03099989891052246,\n",
       "   'train_time': 0.11700010299682617},\n",
       "  1: {'acc_test': 0.85627418463239358,\n",
       "   'acc_train': 0.87666666666666671,\n",
       "   'f_test': 0.72264546759412607,\n",
       "   'f_train': 0.78846153846153844,\n",
       "   'pred_time': 0.04400014877319336,\n",
       "   'train_time': 1.000999927520752},\n",
       "  2: {'acc_test': 0.86301824212271971,\n",
       "   'acc_train': 0.85666666666666669,\n",
       "   'f_test': 0.7395338561802719,\n",
       "   'f_train': 0.73412698412698407,\n",
       "   'pred_time': 0.04200005531311035,\n",
       "   'train_time': 11.72000002861023}},\n",
       " 'RandomForestClassifier': {0: {'acc_test': 0.80829187396351576,\n",
       "   'acc_train': 0.98666666666666669,\n",
       "   'f_test': 0.60253107850823162,\n",
       "   'f_train': 0.9883720930232559,\n",
       "   'pred_time': 0.02700018882751465,\n",
       "   'train_time': 0.03599977493286133},\n",
       "  1: {'acc_test': 0.82830292979546716,\n",
       "   'acc_train': 0.97999999999999998,\n",
       "   'f_test': 0.65262696062301195,\n",
       "   'f_train': 0.97383720930232565,\n",
       "   'pred_time': 0.019999980926513672,\n",
       "   'train_time': 0.0820000171661377},\n",
       "  2: {'acc_test': 0.8385848535102266,\n",
       "   'acc_train': 0.97666666666666668,\n",
       "   'f_test': 0.67382320330611822,\n",
       "   'f_train': 0.97058823529411753,\n",
       "   'pred_time': 0.03099989891052246,\n",
       "   'train_time': 0.6840000152587891}}}"
      ]
     },
     "execution_count": 15,
     "metadata": {},
     "output_type": "execute_result"
    }
   ],
   "source": [
    "ensamble_results"
   ]
  },
  {
   "cell_type": "markdown",
   "metadata": {},
   "source": [
    "Looking at the F-score and the accuracy metrics in the above plots, I can conclude out of the Ensamble methods looked at, the GradientBoosting model performs best. "
   ]
  },
  {
   "cell_type": "markdown",
   "metadata": {},
   "source": [
    "----\n",
    "## Improving Results\n",
    "In this final section, you will choose from the three supervised learning models the *best* model to use on the student data. You will then perform a grid search optimization for the model over the entire training set (`X_train` and `y_train`) by tuning at least one parameter to improve upon the untuned model's F-score. "
   ]
  },
  {
   "cell_type": "markdown",
   "metadata": {},
   "source": [
    "### Question 3 - Choosing the Best Model\n",
    "\n",
    "* Based on the evaluation you performed earlier, in one to two paragraphs, explain to *CharityML* which of the three models you believe to be most appropriate for the task of identifying individuals that make more than \\$50,000. \n",
    "\n",
    "** HINT: ** \n",
    "Look at the graph at the bottom left from the cell above(the visualization created by `vs.evaluate(results, accuracy, fscore)`) and check the F score for the testing set when 100% of the training set is used. Which model has the highest score? Your answer should include discussion of the:\n",
    "* metrics - F score on the testing when 100% of the training data is used, \n",
    "* prediction/training time\n",
    "* the algorithm's suitability for the data."
   ]
  },
  {
   "cell_type": "markdown",
   "metadata": {},
   "source": [
    "#### **Answer: **"
   ]
  },
  {
   "cell_type": "markdown",
   "metadata": {},
   "source": [
    "The accuracy score represents percentage of true positive and true negatives. Precision is a percentage of True Positve among Positve subjects. \n",
    "\n",
    "The problem brief outlined how it is more important to find individuales who earn more then 50k. By having an f-0.5 score more weighting has been given to the precision score in the weighted f-beta score, and subsaquently the f-0.5 score is the most important metric to look at as it tells us the performance of the model in finding True Positve among Positve subjects - i.e. assigns more of a weight to prediction of individuales who make more then 50k.\n",
    "\n",
    "Out of all the different classes of models that were investigated, the meta ensamble models performed the best. This lead to an investigation of the different ensamble methods, of which the *Gradient boosting classifier* just beat the *adaboost classifier* in both the f-0.5 score and the accuracy score.  \n",
    "\n",
    "The prediction and training times should always be taken into account of how the business would like to use the model. If I were to assume that the model will be rarly trained (because it takes time to collect sensitive financial data), I would elect to select the model with the best f-beta score at the cost of a very high training time. This means that the gradient boosting method will be the most suitable. Adaboost should be selected if training time is an issue but a comparable accuracy and f-0.5 score is desired. "
   ]
  },
  {
   "cell_type": "markdown",
   "metadata": {},
   "source": [
    "### Question 4 - Describing the Model in Layman's Terms\n",
    "\n",
    "* In one to two paragraphs, explain to *CharityML*, in layman's terms, how the final model chosen is supposed to work. Be sure that you are describing the major qualities of the model, such as how the model is trained and how the model makes a prediction. Avoid using advanced mathematical jargon, such as describing equations.\n",
    "\n",
    "** HINT: **\n",
    "\n",
    "When explaining your model, if using external resources please include all citations."
   ]
  },
  {
   "cell_type": "markdown",
   "metadata": {},
   "source": [
    "#### **Answer: ** "
   ]
  },
  {
   "cell_type": "markdown",
   "metadata": {},
   "source": [
    "Gradient boosting classifier is an ensamble method, what this means is that it makes a prediction my consulting multiple overlapping models to find the best outcome. \n",
    "\n",
    "Think of it like a quiz night where you have a bunch of people who each know a bit of the topic but not the whole topic space, this would be a problem if they compeated alone but if they worked together they are able to come up with a solution by comparing what they know and voting on the most confident outcome. This is exactly what ensamble methods do, they take \"weak learners\" i.e. individuals who know a bit here and there and combine what they know to form a better idea of the problem.\n",
    "\n",
    "In this case the ensamble method used decision trees as their \"weak learners\". By looking a the data the computer is able to learn rules that create a \"structure of reason\" that leads to an outcome. The diagram bellow [(source)](http://help.prognoz.com/en/mergedProjects/Lib/06_datamining/lib_decisiontree.htm) is an example of how to determine credit worthiness, where the blue boxes are the values that are being feed into it and the red boxes are the outcomes."
   ]
  },
  {
   "attachments": {
    "image.png": {
     "image/png": "[encoded data removed]"
    }
   },
   "cell_type": "markdown",
   "metadata": {},
   "source": [
    "![image.png](attachment:image.png)"
   ]
  },
  {
   "cell_type": "markdown",
   "metadata": {},
   "source": [
    "In the context of ensamble methods, that means that the machine constructs a bunch of these trees and then uses them to vote on the best outcome it belives reflects the data that it was trained on.\n",
    "\n",
    "\n",
    "***Going a bit more indepth***\n",
    "Gradient boosting is an extension of ensamble boosting methods. Boosting methods work by training weak learners iterativly and then adjusting the weighting of the training points depending on how  each new weak learner performs on the training set."
   ]
  },
  {
   "cell_type": "markdown",
   "metadata": {},
   "source": [
    "### Implementation: Model Tuning\n",
    "Fine tune the chosen model. Use grid search (`GridSearchCV`) with at least one important parameter tuned with at least 3 different values. You will need to use the entire training set for this. In the code cell below, you will need to implement the following:\n",
    "- Import [`sklearn.grid_search.GridSearchCV`](http://scikit-learn.org/0.17/modules/generated/sklearn.grid_search.GridSearchCV.html) and [`sklearn.metrics.make_scorer`](http://scikit-learn.org/stable/modules/generated/sklearn.metrics.make_scorer.html).\n",
    "- Initialize the classifier you've chosen and store it in `clf`.\n",
    " - Set a `random_state` if one is available to the same state you set before.\n",
    "- Create a dictionary of parameters you wish to tune for the chosen model.\n",
    " - Example: `parameters = {'parameter' : [list of values]}`.\n",
    " - **Note:** Avoid tuning the `max_features` parameter of your learner if that parameter is available!\n",
    "- Use `make_scorer` to create an `fbeta_score` scoring object (with $\\beta = 0.5$).\n",
    "- Perform grid search on the classifier `clf` using the `'scorer'`, and store it in `grid_obj`.\n",
    "- Fit the grid search object to the training data (`X_train`, `y_train`), and store it in `grid_fit`.\n",
    "\n",
    "**Note:** Depending on the algorithm chosen and the parameter list, the following implementation may take some time to run!"
   ]
  },
  {
   "cell_type": "markdown",
   "metadata": {},
   "source": [
    "#### Individual Paramater Investigation"
   ]
  },
  {
   "cell_type": "markdown",
   "metadata": {},
   "source": [
    "The purpose of this section is to better understand how the model behaves as the hyperparamaters and meta hyperparamaters are changes."
   ]
  },
  {
   "cell_type": "markdown",
   "metadata": {},
   "source": [
    "I have refered to the following [article](https://www.analyticsvidhya.com/blog/2016/02/complete-guide-parameter-tuning-gradient-boosting-gbm-python/) to help me understand GBC better.\n",
    "\n",
    "The overall parameters can be divided into 3 categories:\n",
    "\n",
    "* Tree-Specific Parameters: These affect each individual tree in the model.\n",
    "* Boosting Parameters: These affect the boosting operation in the model.\n",
    "* Miscellaneous Parameters: Other parameters for overall functioning.\n",
    "\n"
   ]
  },
  {
   "cell_type": "code",
   "execution_count": 41,
   "metadata": {},
   "outputs": [
    {
     "name": "stdout",
     "output_type": "stream",
     "text": [
      "Overwriting train_models.py\n"
     ]
    }
   ],
   "source": [
    "%%writefile train_models.py\n",
    "#NOTE, this class has to be writen to a py script inorder for joblib Parallel to work in jupyter notebooks on windows\n",
    "\n",
    "from joblib import Parallel, delayed\n",
    "from sklearn.grid_search import GridSearchCV\n",
    "from sklearn.metrics import make_scorer, fbeta_score\n",
    "from sklearn.ensemble import RandomForestClassifier, GradientBoostingClassifier\n",
    "from sklearn import model_selection\n",
    "\n",
    "#clf = RandomForestClassifier(random_state=10)\n",
    "clf = GradientBoostingClassifier(random_state=10)\n",
    "\n",
    "\n",
    "seed = 123\n",
    "\n",
    "scorer = make_scorer(fbeta_score, beta=2)\n",
    "\n",
    "def train_model_n_estimators(X, y, n_est):\n",
    "    clf.set_params(n_estimators=n_est)\n",
    "    kfold = model_selection.KFold(n_splits=3, random_state=seed)\n",
    "    scores = model_selection.cross_val_score(clf, X,y, cv=kfold, scoring=scorer)\n",
    "    return scores.mean()*100\n",
    "\n",
    "def train_model_max_depth(X, y, max_depth):\n",
    "    clf.set_params(max_depth=max_depth)\n",
    "    kfold = model_selection.KFold(n_splits=3, random_state=seed)\n",
    "    scores = model_selection.cross_val_score(clf, X,y, cv=kfold, scoring=scorer)\n",
    "    return scores.mean()*100\n",
    "\n",
    "def train_model_min_samples_leaf(X, y, min_samples_leaf):\n",
    "    clf.set_params(min_samples_leaf=min_samples_leaf)\n",
    "    kfold = model_selection.KFold(n_splits=3, random_state=seed)\n",
    "    scores = model_selection.cross_val_score(clf, X,y, cv=kfold, scoring=scorer)\n",
    "    return scores.mean()*100"
   ]
  },
  {
   "cell_type": "code",
   "execution_count": 15,
   "metadata": {
    "collapsed": true
   },
   "outputs": [],
   "source": [
    "from joblib import Parallel, delayed\n",
    "from train_models import train_model_n_estimators, train_model_max_depth, train_model_min_samples_leaf\n",
    "\n",
    "n_estim = filter(lambda x: x % 20 == 0, list(range(1,400)))\n",
    "max_depth = range(1,15)\n",
    "min_samples_leaf = filter(lambda x: x % 2 == 0, list(range(1,40)))"
   ]
  },
  {
   "cell_type": "code",
   "execution_count": 16,
   "metadata": {
    "collapsed": true
   },
   "outputs": [],
   "source": [
    "if __name__ == '__main__':\n",
    "    cv_n_estimators = Parallel(n_jobs=8)(delayed(train_model_n_estimators)(X_train,y_train,i) for i in n_estim)"
   ]
  },
  {
   "cell_type": "code",
   "execution_count": 17,
   "metadata": {
    "collapsed": true
   },
   "outputs": [],
   "source": [
    "if __name__ == '__main__':\n",
    "    cv_max_depth = Parallel(n_jobs=8)(delayed(train_model_max_depth)(X_train,y_train,i) for i in max_depth)"
   ]
  },
  {
   "cell_type": "code",
   "execution_count": 18,
   "metadata": {
    "collapsed": true
   },
   "outputs": [],
   "source": [
    "if __name__ == '__main__':\n",
    "    cv_min_samples_leaf = Parallel(n_jobs=8)(delayed(train_model_min_samples_leaf)(X_train,y_train,i) for i in min_samples_leaf)"
   ]
  },
  {
   "cell_type": "code",
   "execution_count": 12,
   "metadata": {
    "collapsed": true
   },
   "outputs": [],
   "source": [
    "import matplotlib.pyplot as plt"
   ]
  },
  {
   "cell_type": "code",
   "execution_count": 13,
   "metadata": {},
   "outputs": [
    {
     "data": {
      "image/png": "[encoded data removed]",
      "text/plain": [
       "<matplotlib.figure.Figure at 0xff7c208>"
      ]
     },
     "metadata": {},
     "output_type": "display_data"
    }
   ],
   "source": [
    "plt.plot(n_estim, cv_n_estimators)\n",
    "plt.xlabel('Number of Estimators')\n",
    "plt.ylabel('Train Accuracy')\n",
    "plt.show()"
   ]
  },
  {
   "cell_type": "code",
   "execution_count": 19,
   "metadata": {},
   "outputs": [
    {
     "data": {
      "image/png": "[encoded data removed]",
      "text/plain": [
       "<matplotlib.figure.Figure at 0x102d25c0>"
      ]
     },
     "metadata": {},
     "output_type": "display_data"
    }
   ],
   "source": [
    "plt.plot(max_depth, cv_max_depth)\n",
    "plt.xlabel('(max_depth')\n",
    "plt.ylabel('Train Accuracy')\n",
    "plt.show()"
   ]
  },
  {
   "cell_type": "code",
   "execution_count": 37,
   "metadata": {},
   "outputs": [
    {
     "data": {
      "image/png": "[encoded data removed]",
      "text/plain": [
       "<matplotlib.figure.Figure at 0x1085bef0>"
      ]
     },
     "metadata": {},
     "output_type": "display_data"
    }
   ],
   "source": [
    "plt.plot(min_samples_leaf, cv_min_samples_leaf)\n",
    "plt.xlabel('min_samples_leaf')\n",
    "plt.ylabel('Train Accuracy')\n",
    "plt.show()"
   ]
  },
  {
   "cell_type": "markdown",
   "metadata": {},
   "source": [
    "**Some Thoughts:**\n",
    "* After 200 estimators, little gain is seen\n",
    "* Between a depth of 4 and 9 the accuracy starts  to platou and then decreases\n",
    "* Between min sample leaf of 14 30 the most local maximum scores are obtained  "
   ]
  },
  {
   "cell_type": "markdown",
   "metadata": {},
   "source": [
    "#### Model Grid Search"
   ]
  },
  {
   "cell_type": "code",
   "execution_count": 21,
   "metadata": {
    "scrolled": true
   },
   "outputs": [
    {
     "name": "stdout",
     "output_type": "stream",
     "text": [
      "Fitting 3 folds for each of 200 candidates, totalling 600 fits\n"
     ]
    },
    {
     "name": "stderr",
     "output_type": "stream",
     "text": [
      "[Parallel(n_jobs=8)]: Done   2 tasks      | elapsed:   26.5s\n",
      "[Parallel(n_jobs=8)]: Done   9 tasks      | elapsed:   54.1s\n",
      "[Parallel(n_jobs=8)]: Done  16 tasks      | elapsed:  1.2min\n",
      "[Parallel(n_jobs=8)]: Done  25 tasks      | elapsed:  1.8min\n",
      "[Parallel(n_jobs=8)]: Done  34 tasks      | elapsed:  2.3min\n",
      "[Parallel(n_jobs=8)]: Done  45 tasks      | elapsed:  2.9min\n",
      "[Parallel(n_jobs=8)]: Done  56 tasks      | elapsed:  3.6min\n",
      "[Parallel(n_jobs=8)]: Done  69 tasks      | elapsed:  4.4min\n",
      "[Parallel(n_jobs=8)]: Done  82 tasks      | elapsed:  5.2min\n",
      "[Parallel(n_jobs=8)]: Done  97 tasks      | elapsed:  6.1min\n",
      "[Parallel(n_jobs=8)]: Done 112 tasks      | elapsed:  6.9min\n",
      "[Parallel(n_jobs=8)]: Done 129 tasks      | elapsed:  8.2min\n",
      "[Parallel(n_jobs=8)]: Done 146 tasks      | elapsed:  9.6min\n",
      "[Parallel(n_jobs=8)]: Done 165 tasks      | elapsed: 11.2min\n",
      "[Parallel(n_jobs=8)]: Done 184 tasks      | elapsed: 12.7min\n",
      "[Parallel(n_jobs=8)]: Done 205 tasks      | elapsed: 14.4min\n",
      "[Parallel(n_jobs=8)]: Done 226 tasks      | elapsed: 16.2min\n",
      "[Parallel(n_jobs=8)]: Done 249 tasks      | elapsed: 18.3min\n",
      "[Parallel(n_jobs=8)]: Done 272 tasks      | elapsed: 20.7min\n",
      "[Parallel(n_jobs=8)]: Done 297 tasks      | elapsed: 23.6min\n",
      "[Parallel(n_jobs=8)]: Done 322 tasks      | elapsed: 26.2min\n",
      "[Parallel(n_jobs=8)]: Done 349 tasks      | elapsed: 28.9min\n",
      "[Parallel(n_jobs=8)]: Done 376 tasks      | elapsed: 32.3min\n",
      "[Parallel(n_jobs=8)]: Done 405 tasks      | elapsed: 36.3min\n",
      "[Parallel(n_jobs=8)]: Done 434 tasks      | elapsed: 40.3min\n",
      "[Parallel(n_jobs=8)]: Done 465 tasks      | elapsed: 44.2min\n",
      "[Parallel(n_jobs=8)]: Done 496 tasks      | elapsed: 48.9min\n",
      "[Parallel(n_jobs=8)]: Done 529 tasks      | elapsed: 54.3min\n",
      "[Parallel(n_jobs=8)]: Done 562 tasks      | elapsed: 59.7min\n",
      "[Parallel(n_jobs=8)]: Done 600 out of 600 | elapsed: 65.4min finished\n",
      "C:\\Users\\jeroe\\AppData\\Local\\conda\\conda\\envs\\ipkernel_py_2\\lib\\site-packages\\sklearn\\utils\\validation.py:547: DataConversionWarning: A column-vector y was passed when a 1d array was expected. Please change the shape of y to (n_samples, ), for example using ravel().\n",
      "  y = column_or_1d(y, warn=True)\n"
     ]
    },
    {
     "name": "stdout",
     "output_type": "stream",
     "text": [
      "Unoptimized model\n",
      "------\n"
     ]
    },
    {
     "ename": "NameError",
     "evalue": "name 'accuracy_score' is not defined",
     "output_type": "error",
     "traceback": [
      "\u001b[1;31m---------------------------------------------------------------------------\u001b[0m",
      "\u001b[1;31mNameError\u001b[0m                                 Traceback (most recent call last)",
      "\u001b[1;32m<ipython-input-21-b72c6696a004>\u001b[0m in \u001b[0;36m<module>\u001b[1;34m()\u001b[0m\n\u001b[0;32m     43\u001b[0m \u001b[1;31m# Report the before-and-afterscores\u001b[0m\u001b[1;33m\u001b[0m\u001b[1;33m\u001b[0m\u001b[0m\n\u001b[0;32m     44\u001b[0m \u001b[1;32mprint\u001b[0m \u001b[1;34m\"Unoptimized model\\n------\"\u001b[0m\u001b[1;33m\u001b[0m\u001b[0m\n\u001b[1;32m---> 45\u001b[1;33m \u001b[1;32mprint\u001b[0m \u001b[1;34m\"Accuracy score on testing data: {:.4f}\"\u001b[0m\u001b[1;33m.\u001b[0m\u001b[0mformat\u001b[0m\u001b[1;33m(\u001b[0m\u001b[0maccuracy_score\u001b[0m\u001b[1;33m(\u001b[0m\u001b[0my_test\u001b[0m\u001b[1;33m,\u001b[0m \u001b[0mpredictions\u001b[0m\u001b[1;33m)\u001b[0m\u001b[1;33m)\u001b[0m\u001b[1;33m\u001b[0m\u001b[0m\n\u001b[0m\u001b[0;32m     46\u001b[0m \u001b[1;32mprint\u001b[0m \u001b[1;34m\"F-score on testing data: {:.4f}\"\u001b[0m\u001b[1;33m.\u001b[0m\u001b[0mformat\u001b[0m\u001b[1;33m(\u001b[0m\u001b[0mfbeta_score\u001b[0m\u001b[1;33m(\u001b[0m\u001b[0my_test\u001b[0m\u001b[1;33m,\u001b[0m \u001b[0mpredictions\u001b[0m\u001b[1;33m,\u001b[0m \u001b[0mbeta\u001b[0m \u001b[1;33m=\u001b[0m \u001b[1;36m0.5\u001b[0m\u001b[1;33m)\u001b[0m\u001b[1;33m)\u001b[0m\u001b[1;33m\u001b[0m\u001b[0m\n\u001b[0;32m     47\u001b[0m \u001b[1;32mprint\u001b[0m \u001b[1;34m\"\\nOptimized Model\\n------\"\u001b[0m\u001b[1;33m\u001b[0m\u001b[0m\n",
      "\u001b[1;31mNameError\u001b[0m: name 'accuracy_score' is not defined"
     ]
    }
   ],
   "source": [
    "# TODO: Import 'GridSearchCV', 'make_scorer', and any other necessary libraries\n",
    "from sklearn.grid_search import GridSearchCV\n",
    "from sklearn.metrics import make_scorer, fbeta_score\n",
    "from sklearn.ensemble import RandomForestClassifier, GradientBoostingClassifier\n",
    "\n",
    "# TODO: Initialize the classifier\n",
    "clf = GradientBoostingClassifier(random_state=10)\n",
    "\n",
    "# TODO: Create the parameters list you wish to tune, using a dictionary if needed.\n",
    "# HINT: parameters = {'parameter_1': [value1, value2], 'parameter_2': [value1, value2]}\n",
    "n_estim = filter(lambda x: x % 20 == 0, list(range(100,200)))\n",
    "max_depth = range(4,9)\n",
    "min_samples_leaf = filter(lambda x: x % 2 == 0, list(range(14,30)))\n",
    "\n",
    "\n",
    "parameters = {'n_estimators':n_estim,\n",
    "              'max_depth':max_depth, \n",
    "              \"min_samples_leaf\" : min_samples_leaf\n",
    "             }\n",
    "\n",
    "\n",
    "\n",
    "# TODO: Make an fbeta_score scoring object using make_scorer()\n",
    "scorer = make_scorer(fbeta_score, beta=2)\n",
    "\n",
    "# TODO: Perform grid search on the classifier using 'scorer' as the scoring method using GridSearchCV()\n",
    "grid_obj = GridSearchCV(estimator=clf,\n",
    "                        scoring =scorer,\n",
    "                        param_grid=parameters,\n",
    "                        verbose=10,\n",
    "                        n_jobs=8)\n",
    "\n",
    "# TODO: Fit the grid search object to the training data and find the optimal parameters using fit()\n",
    "grid_fit = grid_obj.fit(X_train,y_train.values.ravel())\n",
    "\n",
    "# Get the estimator\n",
    "best_clf = grid_fit.best_estimator_\n",
    "\n",
    "# Make predictions using the unoptimized and model\n",
    "predictions = (clf.fit(X_train, y_train)).predict(X_test)\n",
    "best_predictions = best_clf.predict(X_test)\n"
   ]
  },
  {
   "cell_type": "code",
   "execution_count": 25,
   "metadata": {},
   "outputs": [
    {
     "name": "stdout",
     "output_type": "stream",
     "text": [
      "Unoptimized model\n",
      "------\n",
      "Accuracy score on testing data: 0.8630\n",
      "F-score on testing data: 0.7395\n",
      "\n",
      "Optimized Model\n",
      "------\n",
      "Final accuracy score on the testing data: 0.8699\n",
      "Final F-score on the testing data: 0.7489\n"
     ]
    }
   ],
   "source": [
    "# Report the before-and-afterscores\n",
    "print \"Unoptimized model\\n------\"\n",
    "print \"Accuracy score on testing data: {:.4f}\".format(accuracy_score(y_test, predictions))\n",
    "print \"F-score on testing data: {:.4f}\".format(fbeta_score(y_test, predictions, beta = 0.5))\n",
    "print \"\\nOptimized Model\\n------\"\n",
    "print \"Final accuracy score on the testing data: {:.4f}\".format(accuracy_score(y_test, best_predictions))\n",
    "print \"Final F-score on the testing data: {:.4f}\".format(fbeta_score(y_test, best_predictions, beta = 0.5))"
   ]
  },
  {
   "cell_type": "markdown",
   "metadata": {},
   "source": [
    "#### Inspecting the Best Model"
   ]
  },
  {
   "cell_type": "code",
   "execution_count": 26,
   "metadata": {},
   "outputs": [
    {
     "data": {
      "text/plain": [
       "GradientBoostingClassifier(criterion='friedman_mse', init=None,\n",
       "              learning_rate=0.1, loss='deviance', max_depth=7,\n",
       "              max_features=None, max_leaf_nodes=None,\n",
       "              min_impurity_decrease=0.0, min_impurity_split=None,\n",
       "              min_samples_leaf=18, min_samples_split=2,\n",
       "              min_weight_fraction_leaf=0.0, n_estimators=180,\n",
       "              presort='auto', random_state=10, subsample=1.0, verbose=0,\n",
       "              warm_start=False)"
      ]
     },
     "execution_count": 26,
     "metadata": {},
     "output_type": "execute_result"
    }
   ],
   "source": [
    "best_clf"
   ]
  },
  {
   "cell_type": "code",
   "execution_count": 40,
   "metadata": {
    "collapsed": true
   },
   "outputs": [],
   "source": [
    "sub_tree = best_clf.fit(X_test,y_test).estimators_[40, 0]"
   ]
  },
  {
   "cell_type": "code",
   "execution_count": 41,
   "metadata": {
    "scrolled": false
   },
   "outputs": [
    {
     "data": {
      "image/svg+xml": [
       "<?xml version=\"1.0\" encoding=\"UTF-8\" standalone=\"no\"?>\r\n",
       "<!DOCTYPE svg PUBLIC \"-//W3C//DTD SVG 1.1//EN\"\r\n",
       " \"http://www.w3.org/Graphics/SVG/1.1/DTD/svg11.dtd\">\r\n",
       "<!-- Generated by graphviz version 2.38.0 (20140413.2041)\r\n",
       " -->\r\n",
       "<!-- Title: Tree Pages: 1 -->\r\n",
       "<svg width=\"7929pt\" height=\"789pt\"\r\n",
       " viewBox=\"0.00 0.00 7928.50 789.00\" xmlns=\"http://www.w3.org/2000/svg\" xmlns:xlink=\"http://www.w3.org/1999/xlink\">\r\n",
       "<g id=\"graph0\" class=\"graph\" transform=\"scale(1 1) rotate(0) translate(4 785)\">\r\n",
       "<title>Tree</title>\r\n",
       "<polygon fill=\"white\" stroke=\"none\" points=\"-4,4 -4,-785 7924.5,-785 7924.5,4 -4,4\"/>\r\n",
       "<!-- 0 -->\r\n",
       "<g id=\"node1\" class=\"node\"><title>0</title>\r\n",
       "<path fill=\"#e58139\" fill-opacity=\"0.454902\" stroke=\"black\" d=\"M4093.5,-781C4093.5,-781 3956.5,-781 3956.5,-781 3950.5,-781 3944.5,-775 3944.5,-769 3944.5,-769 3944.5,-725 3944.5,-725 3944.5,-719 3950.5,-713 3956.5,-713 3956.5,-713 4093.5,-713 4093.5,-713 4099.5,-713 4105.5,-719 4105.5,-725 4105.5,-725 4105.5,-769 4105.5,-769 4105.5,-775 4099.5,-781 4093.5,-781\"/>\r\n",
       "<text text-anchor=\"start\" x=\"3987\" y=\"-765.8\" font-family=\"Helvetica,sans-Serif\" font-size=\"14.00\">age ≤ 0.158</text>\r\n",
       "<text text-anchor=\"start\" x=\"3952.5\" y=\"-750.8\" font-family=\"Helvetica,sans-Serif\" font-size=\"14.00\">friedman_mse = 0.082</text>\r\n",
       "<text text-anchor=\"start\" x=\"3973.5\" y=\"-735.8\" font-family=\"Helvetica,sans-Serif\" font-size=\"14.00\">samples = 9045</text>\r\n",
       "<text text-anchor=\"start\" x=\"3990\" y=\"-720.8\" font-family=\"Helvetica,sans-Serif\" font-size=\"14.00\">value = 0.0</text>\r\n",
       "</g>\r\n",
       "<!-- 1 -->\r\n",
       "<g id=\"node2\" class=\"node\"><title>1</title>\r\n",
       "<path fill=\"#e58139\" fill-opacity=\"0.450980\" stroke=\"black\" d=\"M3261,-677C3261,-677 3037,-677 3037,-677 3031,-677 3025,-671 3025,-665 3025,-665 3025,-621 3025,-621 3025,-615 3031,-609 3037,-609 3037,-609 3261,-609 3261,-609 3267,-609 3273,-615 3273,-621 3273,-621 3273,-665 3273,-665 3273,-671 3267,-677 3261,-677\"/>\r\n",
       "<text text-anchor=\"start\" x=\"3033\" y=\"-661.8\" font-family=\"Helvetica,sans-Serif\" font-size=\"14.00\">occupation_ Machine&#45;op&#45;inspct ≤ 0.5</text>\r\n",
       "<text text-anchor=\"start\" x=\"3076.5\" y=\"-646.8\" font-family=\"Helvetica,sans-Serif\" font-size=\"14.00\">friedman_mse = 0.022</text>\r\n",
       "<text text-anchor=\"start\" x=\"3097.5\" y=\"-631.8\" font-family=\"Helvetica,sans-Serif\" font-size=\"14.00\">samples = 2410</text>\r\n",
       "<text text-anchor=\"start\" x=\"3103.5\" y=\"-616.8\" font-family=\"Helvetica,sans-Serif\" font-size=\"14.00\">value = &#45;0.013</text>\r\n",
       "</g>\r\n",
       "<!-- 0&#45;&gt;1 -->\r\n",
       "<g id=\"edge1\" class=\"edge\"><title>0&#45;&gt;1</title>\r\n",
       "<path fill=\"none\" stroke=\"black\" d=\"M3944.16,-736.587C3793.29,-719.02 3467.49,-681.084 3283.17,-659.623\"/>\r\n",
       "<polygon fill=\"black\" stroke=\"black\" points=\"3283.48,-656.135 3273.14,-658.455 3282.67,-663.088 3283.48,-656.135\"/>\r\n",
       "<text text-anchor=\"middle\" x=\"3288.66\" y=\"-674.359\" font-family=\"Helvetica,sans-Serif\" font-size=\"14.00\">True</text>\r\n",
       "</g>\r\n",
       "<!-- 54 -->\r\n",
       "<g id=\"node55\" class=\"node\"><title>54</title>\r\n",
       "<path fill=\"#e58139\" fill-opacity=\"0.454902\" stroke=\"black\" d=\"M4979,-677C4979,-677 4837,-677 4837,-677 4831,-677 4825,-671 4825,-665 4825,-665 4825,-621 4825,-621 4825,-615 4831,-609 4837,-609 4837,-609 4979,-609 4979,-609 4985,-609 4991,-615 4991,-621 4991,-621 4991,-665 4991,-665 4991,-671 4985,-677 4979,-677\"/>\r\n",
       "<text text-anchor=\"start\" x=\"4833\" y=\"-661.8\" font-family=\"Helvetica,sans-Serif\" font-size=\"14.00\">relationship_ Wife ≤ 0.5</text>\r\n",
       "<text text-anchor=\"start\" x=\"4835.5\" y=\"-646.8\" font-family=\"Helvetica,sans-Serif\" font-size=\"14.00\">friedman_mse = 0.103</text>\r\n",
       "<text text-anchor=\"start\" x=\"4856.5\" y=\"-631.8\" font-family=\"Helvetica,sans-Serif\" font-size=\"14.00\">samples = 6635</text>\r\n",
       "<text text-anchor=\"start\" x=\"4865\" y=\"-616.8\" font-family=\"Helvetica,sans-Serif\" font-size=\"14.00\">value = 0.004</text>\r\n",
       "</g>\r\n",
       "<!-- 0&#45;&gt;54 -->\r\n",
       "<g id=\"edge54\" class=\"edge\"><title>0&#45;&gt;54</title>\r\n",
       "<path fill=\"none\" stroke=\"black\" d=\"M4105.7,-736.678C4269.64,-717.74 4640.81,-674.864 4814.76,-654.771\"/>\r\n",
       "<polygon fill=\"black\" stroke=\"black\" points=\"4815.39,-658.222 4824.92,-653.597 4814.58,-651.268 4815.39,-658.222\"/>\r\n",
       "<text text-anchor=\"middle\" x=\"4809.39\" y=\"-669.487\" font-family=\"Helvetica,sans-Serif\" font-size=\"14.00\">False</text>\r\n",
       "</g>\r\n",
       "<!-- 2 -->\r\n",
       "<g id=\"node3\" class=\"node\"><title>2</title>\r\n",
       "<path fill=\"#e58139\" fill-opacity=\"0.450980\" stroke=\"black\" d=\"M1982.5,-573C1982.5,-573 1845.5,-573 1845.5,-573 1839.5,-573 1833.5,-567 1833.5,-561 1833.5,-561 1833.5,-517 1833.5,-517 1833.5,-511 1839.5,-505 1845.5,-505 1845.5,-505 1982.5,-505 1982.5,-505 1988.5,-505 1994.5,-511 1994.5,-517 1994.5,-517 1994.5,-561 1994.5,-561 1994.5,-567 1988.5,-573 1982.5,-573\"/>\r\n",
       "<text text-anchor=\"start\" x=\"1876\" y=\"-557.8\" font-family=\"Helvetica,sans-Serif\" font-size=\"14.00\">age ≤ 0.103</text>\r\n",
       "<text text-anchor=\"start\" x=\"1841.5\" y=\"-542.8\" font-family=\"Helvetica,sans-Serif\" font-size=\"14.00\">friedman_mse = 0.024</text>\r\n",
       "<text text-anchor=\"start\" x=\"1862.5\" y=\"-527.8\" font-family=\"Helvetica,sans-Serif\" font-size=\"14.00\">samples = 2252</text>\r\n",
       "<text text-anchor=\"start\" x=\"1868.5\" y=\"-512.8\" font-family=\"Helvetica,sans-Serif\" font-size=\"14.00\">value = &#45;0.011</text>\r\n",
       "</g>\r\n",
       "<!-- 1&#45;&gt;2 -->\r\n",
       "<g id=\"edge2\" class=\"edge\"><title>1&#45;&gt;2</title>\r\n",
       "<path fill=\"none\" stroke=\"black\" d=\"M3024.93,-631.753C2776.4,-611.227 2222.73,-565.498 2004.72,-547.492\"/>\r\n",
       "<polygon fill=\"black\" stroke=\"black\" points=\"2004.84,-543.991 1994.59,-546.656 2004.27,-550.967 2004.84,-543.991\"/>\r\n",
       "</g>\r\n",
       "<!-- 41 -->\r\n",
       "<g id=\"node42\" class=\"node\"><title>41</title>\r\n",
       "<path fill=\"#e58139\" fill-opacity=\"0.443137\" stroke=\"black\" d=\"M3271,-573C3271,-573 3027,-573 3027,-573 3021,-573 3015,-567 3015,-561 3015,-561 3015,-517 3015,-517 3015,-511 3021,-505 3027,-505 3027,-505 3271,-505 3271,-505 3277,-505 3283,-511 3283,-517 3283,-517 3283,-561 3283,-561 3283,-567 3277,-573 3271,-573\"/>\r\n",
       "<text text-anchor=\"start\" x=\"3023\" y=\"-557.8\" font-family=\"Helvetica,sans-Serif\" font-size=\"14.00\">marital&#45;status_ Married&#45;civ&#45;spouse ≤ 0.5</text>\r\n",
       "<text text-anchor=\"start\" x=\"3076.5\" y=\"-542.8\" font-family=\"Helvetica,sans-Serif\" font-size=\"14.00\">friedman_mse = 0.002</text>\r\n",
       "<text text-anchor=\"start\" x=\"3101.5\" y=\"-527.8\" font-family=\"Helvetica,sans-Serif\" font-size=\"14.00\">samples = 158</text>\r\n",
       "<text text-anchor=\"start\" x=\"3103.5\" y=\"-512.8\" font-family=\"Helvetica,sans-Serif\" font-size=\"14.00\">value = &#45;0.037</text>\r\n",
       "</g>\r\n",
       "<!-- 1&#45;&gt;41 -->\r\n",
       "<g id=\"edge41\" class=\"edge\"><title>1&#45;&gt;41</title>\r\n",
       "<path fill=\"none\" stroke=\"black\" d=\"M3149,-608.884C3149,-600.778 3149,-591.982 3149,-583.472\"/>\r\n",
       "<polygon fill=\"black\" stroke=\"black\" points=\"3152.5,-583.299 3149,-573.299 3145.5,-583.299 3152.5,-583.299\"/>\r\n",
       "</g>\r\n",
       "<!-- 3 -->\r\n",
       "<g id=\"node4\" class=\"node\"><title>3</title>\r\n",
       "<path fill=\"#e58139\" fill-opacity=\"0.447059\" stroke=\"black\" d=\"M1054,-469C1054,-469 810,-469 810,-469 804,-469 798,-463 798,-457 798,-457 798,-413 798,-413 798,-407 804,-401 810,-401 810,-401 1054,-401 1054,-401 1060,-401 1066,-407 1066,-413 1066,-413 1066,-457 1066,-457 1066,-463 1060,-469 1054,-469\"/>\r\n",
       "<text text-anchor=\"start\" x=\"806\" y=\"-453.8\" font-family=\"Helvetica,sans-Serif\" font-size=\"14.00\">marital&#45;status_ Married&#45;civ&#45;spouse ≤ 0.5</text>\r\n",
       "<text text-anchor=\"start\" x=\"859.5\" y=\"-438.8\" font-family=\"Helvetica,sans-Serif\" font-size=\"14.00\">friedman_mse = 0.005</text>\r\n",
       "<text text-anchor=\"start\" x=\"880.5\" y=\"-423.8\" font-family=\"Helvetica,sans-Serif\" font-size=\"14.00\">samples = 1357</text>\r\n",
       "<text text-anchor=\"start\" x=\"886.5\" y=\"-408.8\" font-family=\"Helvetica,sans-Serif\" font-size=\"14.00\">value = &#45;0.016</text>\r\n",
       "</g>\r\n",
       "<!-- 2&#45;&gt;3 -->\r\n",
       "<g id=\"edge3\" class=\"edge\"><title>2&#45;&gt;3</title>\r\n",
       "<path fill=\"none\" stroke=\"black\" d=\"M1833.22,-529.61C1667.22,-512.367 1285.76,-472.745 1076.27,-450.986\"/>\r\n",
       "<polygon fill=\"black\" stroke=\"black\" points=\"1076.43,-447.483 1066.12,-449.931 1075.71,-454.446 1076.43,-447.483\"/>\r\n",
       "</g>\r\n",
       "<!-- 20 -->\r\n",
       "<g id=\"node21\" class=\"node\"><title>20</title>\r\n",
       "<path fill=\"#e58139\" fill-opacity=\"0.454902\" stroke=\"black\" d=\"M1982.5,-469C1982.5,-469 1845.5,-469 1845.5,-469 1839.5,-469 1833.5,-463 1833.5,-457 1833.5,-457 1833.5,-413 1833.5,-413 1833.5,-407 1839.5,-401 1845.5,-401 1845.5,-401 1982.5,-401 1982.5,-401 1988.5,-401 1994.5,-407 1994.5,-413 1994.5,-413 1994.5,-457 1994.5,-457 1994.5,-463 1988.5,-469 1982.5,-469\"/>\r\n",
       "<text text-anchor=\"start\" x=\"1841.5\" y=\"-453.8\" font-family=\"Helvetica,sans-Serif\" font-size=\"14.00\">education&#45;num ≤ 0.567</text>\r\n",
       "<text text-anchor=\"start\" x=\"1841.5\" y=\"-438.8\" font-family=\"Helvetica,sans-Serif\" font-size=\"14.00\">friedman_mse = 0.052</text>\r\n",
       "<text text-anchor=\"start\" x=\"1866.5\" y=\"-423.8\" font-family=\"Helvetica,sans-Serif\" font-size=\"14.00\">samples = 895</text>\r\n",
       "<text text-anchor=\"start\" x=\"1868.5\" y=\"-408.8\" font-family=\"Helvetica,sans-Serif\" font-size=\"14.00\">value = &#45;0.003</text>\r\n",
       "</g>\r\n",
       "<!-- 2&#45;&gt;20 -->\r\n",
       "<g id=\"edge20\" class=\"edge\"><title>2&#45;&gt;20</title>\r\n",
       "<path fill=\"none\" stroke=\"black\" d=\"M1914,-504.884C1914,-496.778 1914,-487.982 1914,-479.472\"/>\r\n",
       "<polygon fill=\"black\" stroke=\"black\" points=\"1917.5,-479.299 1914,-469.299 1910.5,-479.299 1917.5,-479.299\"/>\r\n",
       "</g>\r\n",
       "<!-- 4 -->\r\n",
       "<g id=\"node5\" class=\"node\"><title>4</title>\r\n",
       "<path fill=\"#e58139\" fill-opacity=\"0.450980\" stroke=\"black\" d=\"M632.5,-365C632.5,-365 495.5,-365 495.5,-365 489.5,-365 483.5,-359 483.5,-353 483.5,-353 483.5,-309 483.5,-309 483.5,-303 489.5,-297 495.5,-297 495.5,-297 632.5,-297 632.5,-297 638.5,-297 644.5,-303 644.5,-309 644.5,-309 644.5,-353 644.5,-353 644.5,-359 638.5,-365 632.5,-365\"/>\r\n",
       "<text text-anchor=\"start\" x=\"491.5\" y=\"-349.8\" font-family=\"Helvetica,sans-Serif\" font-size=\"14.00\">education&#45;num ≤ 0.233</text>\r\n",
       "<text text-anchor=\"start\" x=\"491.5\" y=\"-334.8\" font-family=\"Helvetica,sans-Serif\" font-size=\"14.00\">friedman_mse = 0.003</text>\r\n",
       "<text text-anchor=\"start\" x=\"512.5\" y=\"-319.8\" font-family=\"Helvetica,sans-Serif\" font-size=\"14.00\">samples = 1244</text>\r\n",
       "<text text-anchor=\"start\" x=\"518.5\" y=\"-304.8\" font-family=\"Helvetica,sans-Serif\" font-size=\"14.00\">value = &#45;0.014</text>\r\n",
       "</g>\r\n",
       "<!-- 3&#45;&gt;4 -->\r\n",
       "<g id=\"edge4\" class=\"edge\"><title>3&#45;&gt;4</title>\r\n",
       "<path fill=\"none\" stroke=\"black\" d=\"M812.775,-400.954C761.318,-386.691 702.113,-370.281 654.372,-357.049\"/>\r\n",
       "<polygon fill=\"black\" stroke=\"black\" points=\"655.246,-353.659 644.675,-354.361 653.377,-360.405 655.246,-353.659\"/>\r\n",
       "</g>\r\n",
       "<!-- 13 -->\r\n",
       "<g id=\"node14\" class=\"node\"><title>13</title>\r\n",
       "<path fill=\"#e58139\" fill-opacity=\"0.439216\" stroke=\"black\" d=\"M1003.5,-365C1003.5,-365 860.5,-365 860.5,-365 854.5,-365 848.5,-359 848.5,-353 848.5,-353 848.5,-309 848.5,-309 848.5,-303 854.5,-297 860.5,-297 860.5,-297 1003.5,-297 1003.5,-297 1009.5,-297 1015.5,-303 1015.5,-309 1015.5,-309 1015.5,-353 1015.5,-353 1015.5,-359 1009.5,-365 1003.5,-365\"/>\r\n",
       "<text text-anchor=\"start\" x=\"856.5\" y=\"-349.8\" font-family=\"Helvetica,sans-Serif\" font-size=\"14.00\">hours&#45;per&#45;week ≤ 0.444</text>\r\n",
       "<text text-anchor=\"start\" x=\"859.5\" y=\"-334.8\" font-family=\"Helvetica,sans-Serif\" font-size=\"14.00\">friedman_mse = 0.026</text>\r\n",
       "<text text-anchor=\"start\" x=\"884.5\" y=\"-319.8\" font-family=\"Helvetica,sans-Serif\" font-size=\"14.00\">samples = 113</text>\r\n",
       "<text text-anchor=\"start\" x=\"886.5\" y=\"-304.8\" font-family=\"Helvetica,sans-Serif\" font-size=\"14.00\">value = &#45;0.046</text>\r\n",
       "</g>\r\n",
       "<!-- 3&#45;&gt;13 -->\r\n",
       "<g id=\"edge13\" class=\"edge\"><title>3&#45;&gt;13</title>\r\n",
       "<path fill=\"none\" stroke=\"black\" d=\"M932,-400.884C932,-392.778 932,-383.982 932,-375.472\"/>\r\n",
       "<polygon fill=\"black\" stroke=\"black\" points=\"935.5,-375.299 932,-365.299 928.5,-375.299 935.5,-375.299\"/>\r\n",
       "</g>\r\n",
       "<!-- 5 -->\r\n",
       "<g id=\"node6\" class=\"node\"><title>5</title>\r\n",
       "<path fill=\"#e58139\" fill-opacity=\"0.760784\" stroke=\"black\" d=\"M438.5,-253.5C438.5,-253.5 301.5,-253.5 301.5,-253.5 295.5,-253.5 289.5,-247.5 289.5,-241.5 289.5,-241.5 289.5,-212.5 289.5,-212.5 289.5,-206.5 295.5,-200.5 301.5,-200.5 301.5,-200.5 438.5,-200.5 438.5,-200.5 444.5,-200.5 450.5,-206.5 450.5,-212.5 450.5,-212.5 450.5,-241.5 450.5,-241.5 450.5,-247.5 444.5,-253.5 438.5,-253.5\"/>\r\n",
       "<text text-anchor=\"start\" x=\"297.5\" y=\"-238.3\" font-family=\"Helvetica,sans-Serif\" font-size=\"14.00\">friedman_mse = 0.047</text>\r\n",
       "<text text-anchor=\"start\" x=\"326.5\" y=\"-223.3\" font-family=\"Helvetica,sans-Serif\" font-size=\"14.00\">samples = 20</text>\r\n",
       "<text text-anchor=\"start\" x=\"327\" y=\"-208.3\" font-family=\"Helvetica,sans-Serif\" font-size=\"14.00\">value = 0.912</text>\r\n",
       "</g>\r\n",
       "<!-- 4&#45;&gt;5 -->\r\n",
       "<g id=\"edge5\" class=\"edge\"><title>4&#45;&gt;5</title>\r\n",
       "<path fill=\"none\" stroke=\"black\" d=\"M501.014,-296.884C477.377,-284.456 450.655,-270.406 427.538,-258.252\"/>\r\n",
       "<polygon fill=\"black\" stroke=\"black\" points=\"429.018,-255.076 418.538,-253.52 425.76,-261.272 429.018,-255.076\"/>\r\n",
       "</g>\r\n",
       "<!-- 6 -->\r\n",
       "<g id=\"node7\" class=\"node\"><title>6</title>\r\n",
       "<path fill=\"#e58139\" fill-opacity=\"0.450980\" stroke=\"black\" d=\"M647.5,-261C647.5,-261 480.5,-261 480.5,-261 474.5,-261 468.5,-255 468.5,-249 468.5,-249 468.5,-205 468.5,-205 468.5,-199 474.5,-193 480.5,-193 480.5,-193 647.5,-193 647.5,-193 653.5,-193 659.5,-199 659.5,-205 659.5,-205 659.5,-249 659.5,-249 659.5,-255 653.5,-261 647.5,-261\"/>\r\n",
       "<text text-anchor=\"start\" x=\"476.5\" y=\"-245.8\" font-family=\"Helvetica,sans-Serif\" font-size=\"14.00\">education_level_ 12th ≤ 0.5</text>\r\n",
       "<text text-anchor=\"start\" x=\"491.5\" y=\"-230.8\" font-family=\"Helvetica,sans-Serif\" font-size=\"14.00\">friedman_mse = 0.002</text>\r\n",
       "<text text-anchor=\"start\" x=\"512.5\" y=\"-215.8\" font-family=\"Helvetica,sans-Serif\" font-size=\"14.00\">samples = 1224</text>\r\n",
       "<text text-anchor=\"start\" x=\"518.5\" y=\"-200.8\" font-family=\"Helvetica,sans-Serif\" font-size=\"14.00\">value = &#45;0.014</text>\r\n",
       "</g>\r\n",
       "<!-- 4&#45;&gt;6 -->\r\n",
       "<g id=\"edge6\" class=\"edge\"><title>4&#45;&gt;6</title>\r\n",
       "<path fill=\"none\" stroke=\"black\" d=\"M564,-296.884C564,-288.778 564,-279.982 564,-271.472\"/>\r\n",
       "<polygon fill=\"black\" stroke=\"black\" points=\"567.5,-271.299 564,-261.299 560.5,-271.299 567.5,-271.299\"/>\r\n",
       "</g>\r\n",
       "<!-- 7 -->\r\n",
       "<g id=\"node8\" class=\"node\"><title>7</title>\r\n",
       "<path fill=\"#e58139\" fill-opacity=\"0.447059\" stroke=\"black\" d=\"M336,-157C336,-157 140,-157 140,-157 134,-157 128,-151 128,-145 128,-145 128,-101 128,-101 128,-95 134,-89 140,-89 140,-89 336,-89 336,-89 342,-89 348,-95 348,-101 348,-101 348,-145 348,-145 348,-151 342,-157 336,-157\"/>\r\n",
       "<text text-anchor=\"start\" x=\"136\" y=\"-141.8\" font-family=\"Helvetica,sans-Serif\" font-size=\"14.00\">occupation_ Prof&#45;specialty ≤ 0.5</text>\r\n",
       "<text text-anchor=\"start\" x=\"165.5\" y=\"-126.8\" font-family=\"Helvetica,sans-Serif\" font-size=\"14.00\">friedman_mse = 0.002</text>\r\n",
       "<text text-anchor=\"start\" x=\"186.5\" y=\"-111.8\" font-family=\"Helvetica,sans-Serif\" font-size=\"14.00\">samples = 1179</text>\r\n",
       "<text text-anchor=\"start\" x=\"192.5\" y=\"-96.8\" font-family=\"Helvetica,sans-Serif\" font-size=\"14.00\">value = &#45;0.015</text>\r\n",
       "</g>\r\n",
       "<!-- 6&#45;&gt;7 -->\r\n",
       "<g id=\"edge7\" class=\"edge\"><title>6&#45;&gt;7</title>\r\n",
       "<path fill=\"none\" stroke=\"black\" d=\"M468.433,-195.956C465.251,-194.959 462.1,-193.971 459,-193 424.875,-182.31 387.777,-170.717 353.894,-160.139\"/>\r\n",
       "<polygon fill=\"black\" stroke=\"black\" points=\"354.549,-156.677 343.96,-157.038 352.463,-163.359 354.549,-156.677\"/>\r\n",
       "</g>\r\n",
       "<!-- 10 -->\r\n",
       "<g id=\"node11\" class=\"node\"><title>10</title>\r\n",
       "<path fill=\"#e58139\" fill-opacity=\"0.454902\" stroke=\"black\" d=\"M632.5,-157C632.5,-157 495.5,-157 495.5,-157 489.5,-157 483.5,-151 483.5,-145 483.5,-145 483.5,-101 483.5,-101 483.5,-95 489.5,-89 495.5,-89 495.5,-89 632.5,-89 632.5,-89 638.5,-89 644.5,-95 644.5,-101 644.5,-101 644.5,-145 644.5,-145 644.5,-151 638.5,-157 632.5,-157\"/>\r\n",
       "<text text-anchor=\"start\" x=\"526\" y=\"-141.8\" font-family=\"Helvetica,sans-Serif\" font-size=\"14.00\">age ≤ 0.021</text>\r\n",
       "<text text-anchor=\"start\" x=\"491.5\" y=\"-126.8\" font-family=\"Helvetica,sans-Serif\" font-size=\"14.00\">friedman_mse = 0.019</text>\r\n",
       "<text text-anchor=\"start\" x=\"520.5\" y=\"-111.8\" font-family=\"Helvetica,sans-Serif\" font-size=\"14.00\">samples = 45</text>\r\n",
       "<text text-anchor=\"start\" x=\"521\" y=\"-96.8\" font-family=\"Helvetica,sans-Serif\" font-size=\"14.00\">value = 0.006</text>\r\n",
       "</g>\r\n",
       "<!-- 6&#45;&gt;10 -->\r\n",
       "<g id=\"edge10\" class=\"edge\"><title>6&#45;&gt;10</title>\r\n",
       "<path fill=\"none\" stroke=\"black\" d=\"M564,-192.884C564,-184.778 564,-175.982 564,-167.472\"/>\r\n",
       "<polygon fill=\"black\" stroke=\"black\" points=\"567.5,-167.299 564,-157.299 560.5,-167.299 567.5,-167.299\"/>\r\n",
       "</g>\r\n",
       "<!-- 8 -->\r\n",
       "<g id=\"node9\" class=\"node\"><title>8</title>\r\n",
       "<path fill=\"#e58139\" fill-opacity=\"0.109804\" stroke=\"black\" d=\"M132,-53C132,-53 12,-53 12,-53 6,-53 0,-47 0,-41 0,-41 0,-12 0,-12 0,-6 6,-0 12,-0 12,-0 132,-0 132,-0 138,-0 144,-6 144,-12 144,-12 144,-41 144,-41 144,-47 138,-53 132,-53\"/>\r\n",
       "<text text-anchor=\"start\" x=\"8\" y=\"-37.8\" font-family=\"Helvetica,sans-Serif\" font-size=\"14.00\">friedman_mse = 0.0</text>\r\n",
       "<text text-anchor=\"start\" x=\"20.5\" y=\"-22.8\" font-family=\"Helvetica,sans-Serif\" font-size=\"14.00\">samples = 1088</text>\r\n",
       "<text text-anchor=\"start\" x=\"26.5\" y=\"-7.8\" font-family=\"Helvetica,sans-Serif\" font-size=\"14.00\">value = &#45;1.015</text>\r\n",
       "</g>\r\n",
       "<!-- 7&#45;&gt;8 -->\r\n",
       "<g id=\"edge8\" class=\"edge\"><title>7&#45;&gt;8</title>\r\n",
       "<path fill=\"none\" stroke=\"black\" d=\"M179.941,-88.9485C162.346,-78.9318 143.102,-67.9767 125.799,-58.1263\"/>\r\n",
       "<polygon fill=\"black\" stroke=\"black\" points=\"127.368,-54.9924 116.946,-53.0867 123.905,-61.0757 127.368,-54.9924\"/>\r\n",
       "</g>\r\n",
       "<!-- 9 -->\r\n",
       "<g id=\"node10\" class=\"node\"><title>9</title>\r\n",
       "<path fill=\"#e58139\" fill-opacity=\"0.443137\" stroke=\"black\" d=\"M302,-53C302,-53 174,-53 174,-53 168,-53 162,-47 162,-41 162,-41 162,-12 162,-12 162,-6 168,-0 174,-0 174,-0 302,-0 302,-0 308,-0 314,-6 314,-12 314,-12 314,-41 314,-41 314,-47 308,-53 302,-53\"/>\r\n",
       "<text text-anchor=\"start\" x=\"170\" y=\"-37.8\" font-family=\"Helvetica,sans-Serif\" font-size=\"14.00\">friedman_mse = 0.02</text>\r\n",
       "<text text-anchor=\"start\" x=\"194.5\" y=\"-22.8\" font-family=\"Helvetica,sans-Serif\" font-size=\"14.00\">samples = 91</text>\r\n",
       "<text text-anchor=\"start\" x=\"192.5\" y=\"-7.8\" font-family=\"Helvetica,sans-Serif\" font-size=\"14.00\">value = &#45;0.031</text>\r\n",
       "</g>\r\n",
       "<!-- 7&#45;&gt;9 -->\r\n",
       "<g id=\"edge9\" class=\"edge\"><title>7&#45;&gt;9</title>\r\n",
       "<path fill=\"none\" stroke=\"black\" d=\"M238,-88.9485C238,-80.7153 238,-71.848 238,-63.4814\"/>\r\n",
       "<polygon fill=\"black\" stroke=\"black\" points=\"241.5,-63.2367 238,-53.2367 234.5,-63.2367 241.5,-63.2367\"/>\r\n",
       "</g>\r\n",
       "<!-- 11 -->\r\n",
       "<g id=\"node12\" class=\"node\"><title>11</title>\r\n",
       "<path fill=\"#e58139\" fill-opacity=\"0.109804\" stroke=\"black\" d=\"M464,-53C464,-53 344,-53 344,-53 338,-53 332,-47 332,-41 332,-41 332,-12 332,-12 332,-6 338,-0 344,-0 344,-0 464,-0 464,-0 470,-0 476,-6 476,-12 476,-12 476,-41 476,-41 476,-47 470,-53 464,-53\"/>\r\n",
       "<text text-anchor=\"start\" x=\"340\" y=\"-37.8\" font-family=\"Helvetica,sans-Serif\" font-size=\"14.00\">friedman_mse = 0.0</text>\r\n",
       "<text text-anchor=\"start\" x=\"360.5\" y=\"-22.8\" font-family=\"Helvetica,sans-Serif\" font-size=\"14.00\">samples = 25</text>\r\n",
       "<text text-anchor=\"start\" x=\"358.5\" y=\"-7.8\" font-family=\"Helvetica,sans-Serif\" font-size=\"14.00\">value = &#45;1.014</text>\r\n",
       "</g>\r\n",
       "<!-- 10&#45;&gt;11 -->\r\n",
       "<g id=\"edge11\" class=\"edge\"><title>10&#45;&gt;11</title>\r\n",
       "<path fill=\"none\" stroke=\"black\" d=\"M508.04,-88.9485C491.236,-79.0237 472.872,-68.1776 456.314,-58.3977\"/>\r\n",
       "<polygon fill=\"black\" stroke=\"black\" points=\"457.712,-55.1586 447.321,-53.0867 454.152,-61.1858 457.712,-55.1586\"/>\r\n",
       "</g>\r\n",
       "<!-- 12 -->\r\n",
       "<g id=\"node13\" class=\"node\"><title>12</title>\r\n",
       "<path fill=\"#e58139\" fill-opacity=\"0.968627\" stroke=\"black\" d=\"M643.5,-53C643.5,-53 506.5,-53 506.5,-53 500.5,-53 494.5,-47 494.5,-41 494.5,-41 494.5,-12 494.5,-12 494.5,-6 500.5,-0 506.5,-0 506.5,-0 643.5,-0 643.5,-0 649.5,-0 655.5,-6 655.5,-12 655.5,-12 655.5,-41 655.5,-41 655.5,-47 649.5,-53 643.5,-53\"/>\r\n",
       "<text text-anchor=\"start\" x=\"502.5\" y=\"-37.8\" font-family=\"Helvetica,sans-Serif\" font-size=\"14.00\">friedman_mse = 0.042</text>\r\n",
       "<text text-anchor=\"start\" x=\"531.5\" y=\"-22.8\" font-family=\"Helvetica,sans-Serif\" font-size=\"14.00\">samples = 20</text>\r\n",
       "<text text-anchor=\"start\" x=\"536\" y=\"-7.8\" font-family=\"Helvetica,sans-Serif\" font-size=\"14.00\">value = 1.52</text>\r\n",
       "</g>\r\n",
       "<!-- 10&#45;&gt;12 -->\r\n",
       "<g id=\"edge12\" class=\"edge\"><title>10&#45;&gt;12</title>\r\n",
       "<path fill=\"none\" stroke=\"black\" d=\"M567.847,-88.9485C568.816,-80.6238 569.861,-71.6509 570.844,-63.2027\"/>\r\n",
       "<polygon fill=\"black\" stroke=\"black\" points=\"574.324,-63.5743 572.004,-53.2367 567.371,-62.7649 574.324,-63.5743\"/>\r\n",
       "</g>\r\n",
       "<!-- 14 -->\r\n",
       "<g id=\"node15\" class=\"node\"><title>14</title>\r\n",
       "<path fill=\"#e58139\" fill-opacity=\"0.431373\" stroke=\"black\" d=\"M911.5,-261C911.5,-261 774.5,-261 774.5,-261 768.5,-261 762.5,-255 762.5,-249 762.5,-249 762.5,-205 762.5,-205 762.5,-199 768.5,-193 774.5,-193 774.5,-193 911.5,-193 911.5,-193 917.5,-193 923.5,-199 923.5,-205 923.5,-205 923.5,-249 923.5,-249 923.5,-255 917.5,-261 911.5,-261\"/>\r\n",
       "<text text-anchor=\"start\" x=\"770.5\" y=\"-245.8\" font-family=\"Helvetica,sans-Serif\" font-size=\"14.00\">education&#45;num ≤ 0.567</text>\r\n",
       "<text text-anchor=\"start\" x=\"770.5\" y=\"-230.8\" font-family=\"Helvetica,sans-Serif\" font-size=\"14.00\">friedman_mse = 0.005</text>\r\n",
       "<text text-anchor=\"start\" x=\"799.5\" y=\"-215.8\" font-family=\"Helvetica,sans-Serif\" font-size=\"14.00\">samples = 90</text>\r\n",
       "<text text-anchor=\"start\" x=\"797.5\" y=\"-200.8\" font-family=\"Helvetica,sans-Serif\" font-size=\"14.00\">value = &#45;0.061</text>\r\n",
       "</g>\r\n",
       "<!-- 13&#45;&gt;14 -->\r\n",
       "<g id=\"edge14\" class=\"edge\"><title>13&#45;&gt;14</title>\r\n",
       "<path fill=\"none\" stroke=\"black\" d=\"M903.104,-296.884C895.332,-287.976 886.833,-278.235 878.737,-268.957\"/>\r\n",
       "<polygon fill=\"black\" stroke=\"black\" points=\"881.267,-266.533 872.055,-261.299 875.993,-271.135 881.267,-266.533\"/>\r\n",
       "</g>\r\n",
       "<!-- 19 -->\r\n",
       "<g id=\"node20\" class=\"node\"><title>19</title>\r\n",
       "<path fill=\"#e58139\" fill-opacity=\"0.509804\" stroke=\"black\" d=\"M1090.5,-253.5C1090.5,-253.5 953.5,-253.5 953.5,-253.5 947.5,-253.5 941.5,-247.5 941.5,-241.5 941.5,-241.5 941.5,-212.5 941.5,-212.5 941.5,-206.5 947.5,-200.5 953.5,-200.5 953.5,-200.5 1090.5,-200.5 1090.5,-200.5 1096.5,-200.5 1102.5,-206.5 1102.5,-212.5 1102.5,-212.5 1102.5,-241.5 1102.5,-241.5 1102.5,-247.5 1096.5,-253.5 1090.5,-253.5\"/>\r\n",
       "<text text-anchor=\"start\" x=\"949.5\" y=\"-238.3\" font-family=\"Helvetica,sans-Serif\" font-size=\"14.00\">friedman_mse = 0.105</text>\r\n",
       "<text text-anchor=\"start\" x=\"978.5\" y=\"-223.3\" font-family=\"Helvetica,sans-Serif\" font-size=\"14.00\">samples = 23</text>\r\n",
       "<text text-anchor=\"start\" x=\"979\" y=\"-208.3\" font-family=\"Helvetica,sans-Serif\" font-size=\"14.00\">value = 0.168</text>\r\n",
       "</g>\r\n",
       "<!-- 13&#45;&gt;19 -->\r\n",
       "<g id=\"edge19\" class=\"edge\"><title>13&#45;&gt;19</title>\r\n",
       "<path fill=\"none\" stroke=\"black\" d=\"M961.22,-296.884C971.313,-285.446 982.617,-272.634 992.715,-261.19\"/>\r\n",
       "<polygon fill=\"black\" stroke=\"black\" points=\"995.491,-263.334 999.482,-253.52 990.242,-258.703 995.491,-263.334\"/>\r\n",
       "</g>\r\n",
       "<!-- 15 -->\r\n",
       "<g id=\"node16\" class=\"node\"><title>15</title>\r\n",
       "<path fill=\"#e58139\" fill-opacity=\"0.439216\" stroke=\"black\" d=\"M818.5,-157C818.5,-157 681.5,-157 681.5,-157 675.5,-157 669.5,-151 669.5,-145 669.5,-145 669.5,-101 669.5,-101 669.5,-95 675.5,-89 681.5,-89 681.5,-89 818.5,-89 818.5,-89 824.5,-89 830.5,-95 830.5,-101 830.5,-101 830.5,-145 830.5,-145 830.5,-151 824.5,-157 818.5,-157\"/>\r\n",
       "<text text-anchor=\"start\" x=\"712\" y=\"-141.8\" font-family=\"Helvetica,sans-Serif\" font-size=\"14.00\">age ≤ 0.075</text>\r\n",
       "<text text-anchor=\"start\" x=\"677.5\" y=\"-126.8\" font-family=\"Helvetica,sans-Serif\" font-size=\"14.00\">friedman_mse = 0.006</text>\r\n",
       "<text text-anchor=\"start\" x=\"706.5\" y=\"-111.8\" font-family=\"Helvetica,sans-Serif\" font-size=\"14.00\">samples = 55</text>\r\n",
       "<text text-anchor=\"start\" x=\"704.5\" y=\"-96.8\" font-family=\"Helvetica,sans-Serif\" font-size=\"14.00\">value = &#45;0.047</text>\r\n",
       "</g>\r\n",
       "<!-- 14&#45;&gt;15 -->\r\n",
       "<g id=\"edge15\" class=\"edge\"><title>14&#45;&gt;15</title>\r\n",
       "<path fill=\"none\" stroke=\"black\" d=\"M812.806,-192.884C804.684,-183.976 795.803,-174.235 787.343,-164.957\"/>\r\n",
       "<polygon fill=\"black\" stroke=\"black\" points=\"789.685,-162.331 780.361,-157.299 784.512,-167.047 789.685,-162.331\"/>\r\n",
       "</g>\r\n",
       "<!-- 18 -->\r\n",
       "<g id=\"node19\" class=\"node\"><title>18</title>\r\n",
       "<path fill=\"#e58139\" fill-opacity=\"0.074510\" stroke=\"black\" d=\"M997.5,-149.5C997.5,-149.5 860.5,-149.5 860.5,-149.5 854.5,-149.5 848.5,-143.5 848.5,-137.5 848.5,-137.5 848.5,-108.5 848.5,-108.5 848.5,-102.5 854.5,-96.5 860.5,-96.5 860.5,-96.5 997.5,-96.5 997.5,-96.5 1003.5,-96.5 1009.5,-102.5 1009.5,-108.5 1009.5,-108.5 1009.5,-137.5 1009.5,-137.5 1009.5,-143.5 1003.5,-149.5 997.5,-149.5\"/>\r\n",
       "<text text-anchor=\"start\" x=\"856.5\" y=\"-134.3\" font-family=\"Helvetica,sans-Serif\" font-size=\"14.00\">friedman_mse = 0.002</text>\r\n",
       "<text text-anchor=\"start\" x=\"885.5\" y=\"-119.3\" font-family=\"Helvetica,sans-Serif\" font-size=\"14.00\">samples = 35</text>\r\n",
       "<text text-anchor=\"start\" x=\"883.5\" y=\"-104.3\" font-family=\"Helvetica,sans-Serif\" font-size=\"14.00\">value = &#45;1.119</text>\r\n",
       "</g>\r\n",
       "<!-- 14&#45;&gt;18 -->\r\n",
       "<g id=\"edge18\" class=\"edge\"><title>14&#45;&gt;18</title>\r\n",
       "<path fill=\"none\" stroke=\"black\" d=\"M870.922,-192.884C880.565,-181.446 891.368,-168.634 901.016,-157.19\"/>\r\n",
       "<polygon fill=\"black\" stroke=\"black\" points=\"903.713,-159.421 907.483,-149.52 898.361,-154.909 903.713,-159.421\"/>\r\n",
       "</g>\r\n",
       "<!-- 16 -->\r\n",
       "<g id=\"node17\" class=\"node\"><title>16</title>\r\n",
       "<path fill=\"#e58139\" fill-opacity=\"0.094118\" stroke=\"black\" d=\"M806,-53C806,-53 686,-53 686,-53 680,-53 674,-47 674,-41 674,-41 674,-12 674,-12 674,-6 680,-0 686,-0 686,-0 806,-0 806,-0 812,-0 818,-6 818,-12 818,-12 818,-41 818,-41 818,-47 812,-53 806,-53\"/>\r\n",
       "<text text-anchor=\"start\" x=\"682\" y=\"-37.8\" font-family=\"Helvetica,sans-Serif\" font-size=\"14.00\">friedman_mse = 0.0</text>\r\n",
       "<text text-anchor=\"start\" x=\"702.5\" y=\"-22.8\" font-family=\"Helvetica,sans-Serif\" font-size=\"14.00\">samples = 25</text>\r\n",
       "<text text-anchor=\"start\" x=\"700.5\" y=\"-7.8\" font-family=\"Helvetica,sans-Serif\" font-size=\"14.00\">value = &#45;1.068</text>\r\n",
       "</g>\r\n",
       "<!-- 15&#45;&gt;16 -->\r\n",
       "<g id=\"edge16\" class=\"edge\"><title>15&#45;&gt;16</title>\r\n",
       "<path fill=\"none\" stroke=\"black\" d=\"M748.601,-88.9485C748.252,-80.7153 747.877,-71.848 747.523,-63.4814\"/>\r\n",
       "<polygon fill=\"black\" stroke=\"black\" points=\"751.009,-63.0797 747.089,-53.2367 744.016,-63.3758 751.009,-63.0797\"/>\r\n",
       "</g>\r\n",
       "<!-- 17 -->\r\n",
       "<g id=\"node18\" class=\"node\"><title>17</title>\r\n",
       "<path fill=\"#e58139\" fill-opacity=\"0.274510\" stroke=\"black\" d=\"M976,-53C976,-53 848,-53 848,-53 842,-53 836,-47 836,-41 836,-41 836,-12 836,-12 836,-6 842,-0 848,-0 848,-0 976,-0 976,-0 982,-0 988,-6 988,-12 988,-12 988,-41 988,-41 988,-47 982,-53 976,-53\"/>\r\n",
       "<text text-anchor=\"start\" x=\"844\" y=\"-37.8\" font-family=\"Helvetica,sans-Serif\" font-size=\"14.00\">friedman_mse = 0.01</text>\r\n",
       "<text text-anchor=\"start\" x=\"868.5\" y=\"-22.8\" font-family=\"Helvetica,sans-Serif\" font-size=\"14.00\">samples = 30</text>\r\n",
       "<text text-anchor=\"start\" x=\"866.5\" y=\"-7.8\" font-family=\"Helvetica,sans-Serif\" font-size=\"14.00\">value = &#45;0.533</text>\r\n",
       "</g>\r\n",
       "<!-- 15&#45;&gt;17 -->\r\n",
       "<g id=\"edge17\" class=\"edge\"><title>15&#45;&gt;17</title>\r\n",
       "<path fill=\"none\" stroke=\"black\" d=\"M806.66,-88.9485C823.831,-78.9318 842.611,-67.9767 859.498,-58.1263\"/>\r\n",
       "<polygon fill=\"black\" stroke=\"black\" points=\"861.263,-61.1487 868.137,-53.0867 857.736,-55.1022 861.263,-61.1487\"/>\r\n",
       "</g>\r\n",
       "<!-- 21 -->\r\n",
       "<g id=\"node22\" class=\"node\"><title>21</title>\r\n",
       "<path fill=\"#e58139\" fill-opacity=\"0.447059\" stroke=\"black\" d=\"M1824,-365C1824,-365 1660,-365 1660,-365 1654,-365 1648,-359 1648,-353 1648,-353 1648,-309 1648,-309 1648,-303 1654,-297 1660,-297 1660,-297 1824,-297 1824,-297 1830,-297 1836,-303 1836,-309 1836,-309 1836,-353 1836,-353 1836,-359 1830,-365 1824,-365\"/>\r\n",
       "<text text-anchor=\"start\" x=\"1656\" y=\"-349.8\" font-family=\"Helvetica,sans-Serif\" font-size=\"14.00\">workclass_ Local&#45;gov ≤ 0.5</text>\r\n",
       "<text text-anchor=\"start\" x=\"1669.5\" y=\"-334.8\" font-family=\"Helvetica,sans-Serif\" font-size=\"14.00\">friedman_mse = 0.028</text>\r\n",
       "<text text-anchor=\"start\" x=\"1694.5\" y=\"-319.8\" font-family=\"Helvetica,sans-Serif\" font-size=\"14.00\">samples = 373</text>\r\n",
       "<text text-anchor=\"start\" x=\"1696.5\" y=\"-304.8\" font-family=\"Helvetica,sans-Serif\" font-size=\"14.00\">value = &#45;0.015</text>\r\n",
       "</g>\r\n",
       "<!-- 20&#45;&gt;21 -->\r\n",
       "<g id=\"edge21\" class=\"edge\"><title>20&#45;&gt;21</title>\r\n",
       "<path fill=\"none\" stroke=\"black\" d=\"M1858.16,-400.884C1841.7,-391.125 1823.56,-380.366 1806.6,-370.31\"/>\r\n",
       "<polygon fill=\"black\" stroke=\"black\" points=\"1808.24,-367.215 1797.86,-365.125 1804.67,-373.236 1808.24,-367.215\"/>\r\n",
       "</g>\r\n",
       "<!-- 30 -->\r\n",
       "<g id=\"node31\" class=\"node\"><title>30</title>\r\n",
       "<path fill=\"#e58139\" fill-opacity=\"0.454902\" stroke=\"black\" d=\"M2142,-365C2142,-365 1936,-365 1936,-365 1930,-365 1924,-359 1924,-353 1924,-353 1924,-309 1924,-309 1924,-303 1930,-297 1936,-297 1936,-297 2142,-297 2142,-297 2148,-297 2154,-303 2154,-309 2154,-309 2154,-353 2154,-353 2154,-359 2148,-365 2142,-365\"/>\r\n",
       "<text text-anchor=\"start\" x=\"1932\" y=\"-349.8\" font-family=\"Helvetica,sans-Serif\" font-size=\"14.00\">education_level_ Assoc&#45;voc ≤ 0.5</text>\r\n",
       "<text text-anchor=\"start\" x=\"1966.5\" y=\"-334.8\" font-family=\"Helvetica,sans-Serif\" font-size=\"14.00\">friedman_mse = 0.069</text>\r\n",
       "<text text-anchor=\"start\" x=\"1991.5\" y=\"-319.8\" font-family=\"Helvetica,sans-Serif\" font-size=\"14.00\">samples = 522</text>\r\n",
       "<text text-anchor=\"start\" x=\"1996\" y=\"-304.8\" font-family=\"Helvetica,sans-Serif\" font-size=\"14.00\">value = 0.005</text>\r\n",
       "</g>\r\n",
       "<!-- 20&#45;&gt;30 -->\r\n",
       "<g id=\"edge30\" class=\"edge\"><title>20&#45;&gt;30</title>\r\n",
       "<path fill=\"none\" stroke=\"black\" d=\"M1954.58,-400.884C1965.94,-391.62 1978.39,-381.455 1990.17,-371.845\"/>\r\n",
       "<polygon fill=\"black\" stroke=\"black\" points=\"1992.66,-374.333 1998.19,-365.299 1988.23,-368.91 1992.66,-374.333\"/>\r\n",
       "</g>\r\n",
       "<!-- 22 -->\r\n",
       "<g id=\"node23\" class=\"node\"><title>22</title>\r\n",
       "<path fill=\"#e58139\" fill-opacity=\"0.450980\" stroke=\"black\" d=\"M1584.5,-261C1584.5,-261 1447.5,-261 1447.5,-261 1441.5,-261 1435.5,-255 1435.5,-249 1435.5,-249 1435.5,-205 1435.5,-205 1435.5,-199 1441.5,-193 1447.5,-193 1447.5,-193 1584.5,-193 1584.5,-193 1590.5,-193 1596.5,-199 1596.5,-205 1596.5,-205 1596.5,-249 1596.5,-249 1596.5,-255 1590.5,-261 1584.5,-261\"/>\r\n",
       "<text text-anchor=\"start\" x=\"1482\" y=\"-245.8\" font-family=\"Helvetica,sans-Serif\" font-size=\"14.00\">age ≤ 0.13</text>\r\n",
       "<text text-anchor=\"start\" x=\"1443.5\" y=\"-230.8\" font-family=\"Helvetica,sans-Serif\" font-size=\"14.00\">friedman_mse = 0.029</text>\r\n",
       "<text text-anchor=\"start\" x=\"1468.5\" y=\"-215.8\" font-family=\"Helvetica,sans-Serif\" font-size=\"14.00\">samples = 352</text>\r\n",
       "<text text-anchor=\"start\" x=\"1470.5\" y=\"-200.8\" font-family=\"Helvetica,sans-Serif\" font-size=\"14.00\">value = &#45;0.013</text>\r\n",
       "</g>\r\n",
       "<!-- 21&#45;&gt;22 -->\r\n",
       "<g id=\"edge22\" class=\"edge\"><title>21&#45;&gt;22</title>\r\n",
       "<path fill=\"none\" stroke=\"black\" d=\"M1668.62,-296.884C1646.31,-286.812 1621.63,-275.674 1598.74,-265.344\"/>\r\n",
       "<polygon fill=\"black\" stroke=\"black\" points=\"1599.95,-262.048 1589.39,-261.125 1597.07,-268.429 1599.95,-262.048\"/>\r\n",
       "</g>\r\n",
       "<!-- 29 -->\r\n",
       "<g id=\"node30\" class=\"node\"><title>29</title>\r\n",
       "<path fill=\"#e58139\" fill-opacity=\"0.074510\" stroke=\"black\" d=\"M1810.5,-253.5C1810.5,-253.5 1673.5,-253.5 1673.5,-253.5 1667.5,-253.5 1661.5,-247.5 1661.5,-241.5 1661.5,-241.5 1661.5,-212.5 1661.5,-212.5 1661.5,-206.5 1667.5,-200.5 1673.5,-200.5 1673.5,-200.5 1810.5,-200.5 1810.5,-200.5 1816.5,-200.5 1822.5,-206.5 1822.5,-212.5 1822.5,-212.5 1822.5,-241.5 1822.5,-241.5 1822.5,-247.5 1816.5,-253.5 1810.5,-253.5\"/>\r\n",
       "<text text-anchor=\"start\" x=\"1669.5\" y=\"-238.3\" font-family=\"Helvetica,sans-Serif\" font-size=\"14.00\">friedman_mse = 0.003</text>\r\n",
       "<text text-anchor=\"start\" x=\"1698.5\" y=\"-223.3\" font-family=\"Helvetica,sans-Serif\" font-size=\"14.00\">samples = 21</text>\r\n",
       "<text text-anchor=\"start\" x=\"1696.5\" y=\"-208.3\" font-family=\"Helvetica,sans-Serif\" font-size=\"14.00\">value = &#45;1.128</text>\r\n",
       "</g>\r\n",
       "<!-- 21&#45;&gt;29 -->\r\n",
       "<g id=\"edge29\" class=\"edge\"><title>21&#45;&gt;29</title>\r\n",
       "<path fill=\"none\" stroke=\"black\" d=\"M1742,-296.884C1742,-286.326 1742,-274.597 1742,-263.854\"/>\r\n",
       "<polygon fill=\"black\" stroke=\"black\" points=\"1745.5,-263.52 1742,-253.52 1738.5,-263.52 1745.5,-263.52\"/>\r\n",
       "</g>\r\n",
       "<!-- 23 -->\r\n",
       "<g id=\"node24\" class=\"node\"><title>23</title>\r\n",
       "<path fill=\"#e58139\" fill-opacity=\"0.447059\" stroke=\"black\" d=\"M1360,-157C1360,-157 1172,-157 1172,-157 1166,-157 1160,-151 1160,-145 1160,-145 1160,-101 1160,-101 1160,-95 1166,-89 1172,-89 1172,-89 1360,-89 1360,-89 1366,-89 1372,-95 1372,-101 1372,-101 1372,-145 1372,-145 1372,-151 1366,-157 1360,-157\"/>\r\n",
       "<text text-anchor=\"start\" x=\"1168\" y=\"-141.8\" font-family=\"Helvetica,sans-Serif\" font-size=\"14.00\">occupation_ Adm&#45;clerical ≤ 0.5</text>\r\n",
       "<text text-anchor=\"start\" x=\"1193.5\" y=\"-126.8\" font-family=\"Helvetica,sans-Serif\" font-size=\"14.00\">friedman_mse = 0.014</text>\r\n",
       "<text text-anchor=\"start\" x=\"1218.5\" y=\"-111.8\" font-family=\"Helvetica,sans-Serif\" font-size=\"14.00\">samples = 191</text>\r\n",
       "<text text-anchor=\"start\" x=\"1220.5\" y=\"-96.8\" font-family=\"Helvetica,sans-Serif\" font-size=\"14.00\">value = &#45;0.026</text>\r\n",
       "</g>\r\n",
       "<!-- 22&#45;&gt;23 -->\r\n",
       "<g id=\"edge23\" class=\"edge\"><title>22&#45;&gt;23</title>\r\n",
       "<path fill=\"none\" stroke=\"black\" d=\"M1435.18,-193.024C1410.02,-182.76 1382.12,-171.379 1356.36,-160.867\"/>\r\n",
       "<polygon fill=\"black\" stroke=\"black\" points=\"1357.55,-157.574 1346.97,-157.037 1354.91,-164.055 1357.55,-157.574\"/>\r\n",
       "</g>\r\n",
       "<!-- 26 -->\r\n",
       "<g id=\"node27\" class=\"node\"><title>26</title>\r\n",
       "<path fill=\"#e58139\" fill-opacity=\"0.454902\" stroke=\"black\" d=\"M1587.5,-157C1587.5,-157 1444.5,-157 1444.5,-157 1438.5,-157 1432.5,-151 1432.5,-145 1432.5,-145 1432.5,-101 1432.5,-101 1432.5,-95 1438.5,-89 1444.5,-89 1444.5,-89 1587.5,-89 1587.5,-89 1593.5,-89 1599.5,-95 1599.5,-101 1599.5,-101 1599.5,-145 1599.5,-145 1599.5,-151 1593.5,-157 1587.5,-157\"/>\r\n",
       "<text text-anchor=\"start\" x=\"1440.5\" y=\"-141.8\" font-family=\"Helvetica,sans-Serif\" font-size=\"14.00\">hours&#45;per&#45;week ≤ 0.418</text>\r\n",
       "<text text-anchor=\"start\" x=\"1443.5\" y=\"-126.8\" font-family=\"Helvetica,sans-Serif\" font-size=\"14.00\">friedman_mse = 0.046</text>\r\n",
       "<text text-anchor=\"start\" x=\"1468.5\" y=\"-111.8\" font-family=\"Helvetica,sans-Serif\" font-size=\"14.00\">samples = 161</text>\r\n",
       "<text text-anchor=\"start\" x=\"1473\" y=\"-96.8\" font-family=\"Helvetica,sans-Serif\" font-size=\"14.00\">value = 0.003</text>\r\n",
       "</g>\r\n",
       "<!-- 22&#45;&gt;26 -->\r\n",
       "<g id=\"edge26\" class=\"edge\"><title>22&#45;&gt;26</title>\r\n",
       "<path fill=\"none\" stroke=\"black\" d=\"M1516,-192.884C1516,-184.778 1516,-175.982 1516,-167.472\"/>\r\n",
       "<polygon fill=\"black\" stroke=\"black\" points=\"1519.5,-167.299 1516,-157.299 1512.5,-167.299 1519.5,-167.299\"/>\r\n",
       "</g>\r\n",
       "<!-- 24 -->\r\n",
       "<g id=\"node25\" class=\"node\"><title>24</title>\r\n",
       "<path fill=\"#e58139\" fill-opacity=\"0.192157\" stroke=\"black\" d=\"M1155.5,-53C1155.5,-53 1018.5,-53 1018.5,-53 1012.5,-53 1006.5,-47 1006.5,-41 1006.5,-41 1006.5,-12 1006.5,-12 1006.5,-6 1012.5,-0 1018.5,-0 1018.5,-0 1155.5,-0 1155.5,-0 1161.5,-0 1167.5,-6 1167.5,-12 1167.5,-12 1167.5,-41 1167.5,-41 1167.5,-47 1161.5,-53 1155.5,-53\"/>\r\n",
       "<text text-anchor=\"start\" x=\"1014.5\" y=\"-37.8\" font-family=\"Helvetica,sans-Serif\" font-size=\"14.00\">friedman_mse = 0.011</text>\r\n",
       "<text text-anchor=\"start\" x=\"1039.5\" y=\"-22.8\" font-family=\"Helvetica,sans-Serif\" font-size=\"14.00\">samples = 165</text>\r\n",
       "<text text-anchor=\"start\" x=\"1041.5\" y=\"-7.8\" font-family=\"Helvetica,sans-Serif\" font-size=\"14.00\">value = &#45;0.774</text>\r\n",
       "</g>\r\n",
       "<!-- 23&#45;&gt;24 -->\r\n",
       "<g id=\"edge24\" class=\"edge\"><title>23&#45;&gt;24</title>\r\n",
       "<path fill=\"none\" stroke=\"black\" d=\"M1203.39,-88.9485C1184.25,-78.8399 1163.29,-67.7756 1144.5,-57.8555\"/>\r\n",
       "<polygon fill=\"black\" stroke=\"black\" points=\"1145.94,-54.6602 1135.47,-53.0867 1142.68,-60.8506 1145.94,-54.6602\"/>\r\n",
       "</g>\r\n",
       "<!-- 25 -->\r\n",
       "<g id=\"node26\" class=\"node\"><title>25</title>\r\n",
       "<path fill=\"#e58139\" fill-opacity=\"0.572549\" stroke=\"black\" d=\"M1334.5,-53C1334.5,-53 1197.5,-53 1197.5,-53 1191.5,-53 1185.5,-47 1185.5,-41 1185.5,-41 1185.5,-12 1185.5,-12 1185.5,-6 1191.5,-0 1197.5,-0 1197.5,-0 1334.5,-0 1334.5,-0 1340.5,-0 1346.5,-6 1346.5,-12 1346.5,-12 1346.5,-41 1346.5,-41 1346.5,-47 1340.5,-53 1334.5,-53\"/>\r\n",
       "<text text-anchor=\"start\" x=\"1193.5\" y=\"-37.8\" font-family=\"Helvetica,sans-Serif\" font-size=\"14.00\">friedman_mse = 0.033</text>\r\n",
       "<text text-anchor=\"start\" x=\"1222.5\" y=\"-22.8\" font-family=\"Helvetica,sans-Serif\" font-size=\"14.00\">samples = 26</text>\r\n",
       "<text text-anchor=\"start\" x=\"1223\" y=\"-7.8\" font-family=\"Helvetica,sans-Serif\" font-size=\"14.00\">value = 0.353</text>\r\n",
       "</g>\r\n",
       "<!-- 23&#45;&gt;25 -->\r\n",
       "<g id=\"edge25\" class=\"edge\"><title>23&#45;&gt;25</title>\r\n",
       "<path fill=\"none\" stroke=\"black\" d=\"M1266,-88.9485C1266,-80.7153 1266,-71.848 1266,-63.4814\"/>\r\n",
       "<polygon fill=\"black\" stroke=\"black\" points=\"1269.5,-63.2367 1266,-53.2367 1262.5,-63.2367 1269.5,-63.2367\"/>\r\n",
       "</g>\r\n",
       "<!-- 27 -->\r\n",
       "<g id=\"node28\" class=\"node\"><title>27</title>\r\n",
       "<path fill=\"#e58139\" fill-opacity=\"0.376471\" stroke=\"black\" d=\"M1505,-53C1505,-53 1377,-53 1377,-53 1371,-53 1365,-47 1365,-41 1365,-41 1365,-12 1365,-12 1365,-6 1371,-0 1377,-0 1377,-0 1505,-0 1505,-0 1511,-0 1517,-6 1517,-12 1517,-12 1517,-41 1517,-41 1517,-47 1511,-53 1505,-53\"/>\r\n",
       "<text text-anchor=\"start\" x=\"1373\" y=\"-37.8\" font-family=\"Helvetica,sans-Serif\" font-size=\"14.00\">friedman_mse = 0.03</text>\r\n",
       "<text text-anchor=\"start\" x=\"1393.5\" y=\"-22.8\" font-family=\"Helvetica,sans-Serif\" font-size=\"14.00\">samples = 117</text>\r\n",
       "<text text-anchor=\"start\" x=\"1395.5\" y=\"-7.8\" font-family=\"Helvetica,sans-Serif\" font-size=\"14.00\">value = &#45;0.233</text>\r\n",
       "</g>\r\n",
       "<!-- 26&#45;&gt;27 -->\r\n",
       "<g id=\"edge27\" class=\"edge\"><title>26&#45;&gt;27</title>\r\n",
       "<path fill=\"none\" stroke=\"black\" d=\"M1489.77,-88.9485C1482.65,-79.9834 1474.94,-70.2666 1467.8,-61.2629\"/>\r\n",
       "<polygon fill=\"black\" stroke=\"black\" points=\"1470.38,-58.8938 1461.43,-53.2367 1464.9,-63.2454 1470.38,-58.8938\"/>\r\n",
       "</g>\r\n",
       "<!-- 28 -->\r\n",
       "<g id=\"node29\" class=\"node\"><title>28</title>\r\n",
       "<path fill=\"#e58139\" fill-opacity=\"0.631373\" stroke=\"black\" d=\"M1684.5,-53C1684.5,-53 1547.5,-53 1547.5,-53 1541.5,-53 1535.5,-47 1535.5,-41 1535.5,-41 1535.5,-12 1535.5,-12 1535.5,-6 1541.5,-0 1547.5,-0 1547.5,-0 1684.5,-0 1684.5,-0 1690.5,-0 1696.5,-6 1696.5,-12 1696.5,-12 1696.5,-41 1696.5,-41 1696.5,-47 1690.5,-53 1684.5,-53\"/>\r\n",
       "<text text-anchor=\"start\" x=\"1543.5\" y=\"-37.8\" font-family=\"Helvetica,sans-Serif\" font-size=\"14.00\">friedman_mse = 0.087</text>\r\n",
       "<text text-anchor=\"start\" x=\"1572.5\" y=\"-22.8\" font-family=\"Helvetica,sans-Serif\" font-size=\"14.00\">samples = 44</text>\r\n",
       "<text text-anchor=\"start\" x=\"1577\" y=\"-7.8\" font-family=\"Helvetica,sans-Serif\" font-size=\"14.00\">value = 0.53</text>\r\n",
       "</g>\r\n",
       "<!-- 26&#45;&gt;28 -->\r\n",
       "<g id=\"edge28\" class=\"edge\"><title>26&#45;&gt;28</title>\r\n",
       "<path fill=\"none\" stroke=\"black\" d=\"M1550.98,-88.9485C1560.85,-79.6175 1571.59,-69.4722 1581.43,-60.1641\"/>\r\n",
       "<polygon fill=\"black\" stroke=\"black\" points=\"1583.9,-62.649 1588.77,-53.2367 1579.09,-57.5613 1583.9,-62.649\"/>\r\n",
       "</g>\r\n",
       "<!-- 31 -->\r\n",
       "<g id=\"node32\" class=\"node\"><title>31</title>\r\n",
       "<path fill=\"#e58139\" fill-opacity=\"0.458824\" stroke=\"black\" d=\"M2146.5,-261C2146.5,-261 1931.5,-261 1931.5,-261 1925.5,-261 1919.5,-255 1919.5,-249 1919.5,-249 1919.5,-205 1919.5,-205 1919.5,-199 1925.5,-193 1931.5,-193 1931.5,-193 2146.5,-193 2146.5,-193 2152.5,-193 2158.5,-199 2158.5,-205 2158.5,-205 2158.5,-249 2158.5,-249 2158.5,-255 2152.5,-261 2146.5,-261\"/>\r\n",
       "<text text-anchor=\"start\" x=\"1927.5\" y=\"-245.8\" font-family=\"Helvetica,sans-Serif\" font-size=\"14.00\">occupation_ Exec&#45;managerial ≤ 0.5</text>\r\n",
       "<text text-anchor=\"start\" x=\"1966.5\" y=\"-230.8\" font-family=\"Helvetica,sans-Serif\" font-size=\"14.00\">friedman_mse = 0.074</text>\r\n",
       "<text text-anchor=\"start\" x=\"1991.5\" y=\"-215.8\" font-family=\"Helvetica,sans-Serif\" font-size=\"14.00\">samples = 475</text>\r\n",
       "<text text-anchor=\"start\" x=\"2000\" y=\"-200.8\" font-family=\"Helvetica,sans-Serif\" font-size=\"14.00\">value = 0.01</text>\r\n",
       "</g>\r\n",
       "<!-- 30&#45;&gt;31 -->\r\n",
       "<g id=\"edge31\" class=\"edge\"><title>30&#45;&gt;31</title>\r\n",
       "<path fill=\"none\" stroke=\"black\" d=\"M2039,-296.884C2039,-288.778 2039,-279.982 2039,-271.472\"/>\r\n",
       "<polygon fill=\"black\" stroke=\"black\" points=\"2042.5,-271.299 2039,-261.299 2035.5,-271.299 2042.5,-271.299\"/>\r\n",
       "</g>\r\n",
       "<!-- 38 -->\r\n",
       "<g id=\"node39\" class=\"node\"><title>38</title>\r\n",
       "<path fill=\"#e58139\" fill-opacity=\"0.439216\" stroke=\"black\" d=\"M2425.5,-261C2425.5,-261 2212.5,-261 2212.5,-261 2206.5,-261 2200.5,-255 2200.5,-249 2200.5,-249 2200.5,-205 2200.5,-205 2200.5,-199 2206.5,-193 2212.5,-193 2212.5,-193 2425.5,-193 2425.5,-193 2431.5,-193 2437.5,-199 2437.5,-205 2437.5,-205 2437.5,-249 2437.5,-249 2437.5,-255 2431.5,-261 2425.5,-261\"/>\r\n",
       "<text text-anchor=\"start\" x=\"2208.5\" y=\"-245.8\" font-family=\"Helvetica,sans-Serif\" font-size=\"14.00\">marital&#45;status_ Never&#45;married ≤ 0.5</text>\r\n",
       "<text text-anchor=\"start\" x=\"2246.5\" y=\"-230.8\" font-family=\"Helvetica,sans-Serif\" font-size=\"14.00\">friedman_mse = 0.024</text>\r\n",
       "<text text-anchor=\"start\" x=\"2275.5\" y=\"-215.8\" font-family=\"Helvetica,sans-Serif\" font-size=\"14.00\">samples = 47</text>\r\n",
       "<text text-anchor=\"start\" x=\"2273.5\" y=\"-200.8\" font-family=\"Helvetica,sans-Serif\" font-size=\"14.00\">value = &#45;0.045</text>\r\n",
       "</g>\r\n",
       "<!-- 30&#45;&gt;38 -->\r\n",
       "<g id=\"edge38\" class=\"edge\"><title>30&#45;&gt;38</title>\r\n",
       "<path fill=\"none\" stroke=\"black\" d=\"M2129.91,-296.884C2158.17,-286.588 2189.49,-275.179 2218.37,-264.656\"/>\r\n",
       "<polygon fill=\"black\" stroke=\"black\" points=\"2219.87,-267.836 2228.07,-261.125 2217.48,-261.259 2219.87,-267.836\"/>\r\n",
       "</g>\r\n",
       "<!-- 32 -->\r\n",
       "<g id=\"node33\" class=\"node\"><title>32</title>\r\n",
       "<path fill=\"#e58139\" fill-opacity=\"0.458824\" stroke=\"black\" d=\"M1963,-157C1963,-157 1719,-157 1719,-157 1713,-157 1707,-151 1707,-145 1707,-145 1707,-101 1707,-101 1707,-95 1713,-89 1719,-89 1719,-89 1963,-89 1963,-89 1969,-89 1975,-95 1975,-101 1975,-101 1975,-145 1975,-145 1975,-151 1969,-157 1963,-157\"/>\r\n",
       "<text text-anchor=\"start\" x=\"1715\" y=\"-141.8\" font-family=\"Helvetica,sans-Serif\" font-size=\"14.00\">marital&#45;status_ Married&#45;civ&#45;spouse ≤ 0.5</text>\r\n",
       "<text text-anchor=\"start\" x=\"1768.5\" y=\"-126.8\" font-family=\"Helvetica,sans-Serif\" font-size=\"14.00\">friedman_mse = 0.071</text>\r\n",
       "<text text-anchor=\"start\" x=\"1793.5\" y=\"-111.8\" font-family=\"Helvetica,sans-Serif\" font-size=\"14.00\">samples = 409</text>\r\n",
       "<text text-anchor=\"start\" x=\"1798\" y=\"-96.8\" font-family=\"Helvetica,sans-Serif\" font-size=\"14.00\">value = 0.017</text>\r\n",
       "</g>\r\n",
       "<!-- 31&#45;&gt;32 -->\r\n",
       "<g id=\"edge32\" class=\"edge\"><title>31&#45;&gt;32</title>\r\n",
       "<path fill=\"none\" stroke=\"black\" d=\"M1974.72,-192.884C1955.42,-182.946 1934.12,-171.971 1914.29,-161.757\"/>\r\n",
       "<polygon fill=\"black\" stroke=\"black\" points=\"1915.79,-158.593 1905.3,-157.125 1912.59,-164.816 1915.79,-158.593\"/>\r\n",
       "</g>\r\n",
       "<!-- 35 -->\r\n",
       "<g id=\"node36\" class=\"node\"><title>35</title>\r\n",
       "<path fill=\"#e58139\" fill-opacity=\"0.443137\" stroke=\"black\" d=\"M2208.5,-157C2208.5,-157 2005.5,-157 2005.5,-157 1999.5,-157 1993.5,-151 1993.5,-145 1993.5,-145 1993.5,-101 1993.5,-101 1993.5,-95 1999.5,-89 2005.5,-89 2005.5,-89 2208.5,-89 2208.5,-89 2214.5,-89 2220.5,-95 2220.5,-101 2220.5,-101 2220.5,-145 2220.5,-145 2220.5,-151 2214.5,-157 2208.5,-157\"/>\r\n",
       "<text text-anchor=\"start\" x=\"2001.5\" y=\"-141.8\" font-family=\"Helvetica,sans-Serif\" font-size=\"14.00\">education_level_ Bachelors ≤ 0.5</text>\r\n",
       "<text text-anchor=\"start\" x=\"2034.5\" y=\"-126.8\" font-family=\"Helvetica,sans-Serif\" font-size=\"14.00\">friedman_mse = 0.088</text>\r\n",
       "<text text-anchor=\"start\" x=\"2063.5\" y=\"-111.8\" font-family=\"Helvetica,sans-Serif\" font-size=\"14.00\">samples = 66</text>\r\n",
       "<text text-anchor=\"start\" x=\"2061.5\" y=\"-96.8\" font-family=\"Helvetica,sans-Serif\" font-size=\"14.00\">value = &#45;0.032</text>\r\n",
       "</g>\r\n",
       "<!-- 31&#45;&gt;35 -->\r\n",
       "<g id=\"edge35\" class=\"edge\"><title>31&#45;&gt;35</title>\r\n",
       "<path fill=\"none\" stroke=\"black\" d=\"M2061.08,-192.884C2066.84,-184.243 2073.12,-174.819 2079.14,-165.793\"/>\r\n",
       "<polygon fill=\"black\" stroke=\"black\" points=\"2082.17,-167.561 2084.8,-157.299 2076.34,-163.678 2082.17,-167.561\"/>\r\n",
       "</g>\r\n",
       "<!-- 33 -->\r\n",
       "<g id=\"node34\" class=\"node\"><title>33</title>\r\n",
       "<path fill=\"#e58139\" fill-opacity=\"0.466667\" stroke=\"black\" d=\"M1863.5,-53C1863.5,-53 1726.5,-53 1726.5,-53 1720.5,-53 1714.5,-47 1714.5,-41 1714.5,-41 1714.5,-12 1714.5,-12 1714.5,-6 1720.5,-0 1726.5,-0 1726.5,-0 1863.5,-0 1863.5,-0 1869.5,-0 1875.5,-6 1875.5,-12 1875.5,-12 1875.5,-41 1875.5,-41 1875.5,-47 1869.5,-53 1863.5,-53\"/>\r\n",
       "<text text-anchor=\"start\" x=\"1722.5\" y=\"-37.8\" font-family=\"Helvetica,sans-Serif\" font-size=\"14.00\">friedman_mse = 0.032</text>\r\n",
       "<text text-anchor=\"start\" x=\"1747.5\" y=\"-22.8\" font-family=\"Helvetica,sans-Serif\" font-size=\"14.00\">samples = 302</text>\r\n",
       "<text text-anchor=\"start\" x=\"1752\" y=\"-7.8\" font-family=\"Helvetica,sans-Serif\" font-size=\"14.00\">value = 0.037</text>\r\n",
       "</g>\r\n",
       "<!-- 32&#45;&gt;33 -->\r\n",
       "<g id=\"edge33\" class=\"edge\"><title>32&#45;&gt;33</title>\r\n",
       "<path fill=\"none\" stroke=\"black\" d=\"M1824.91,-88.9485C1820.73,-80.3494 1816.2,-71.0586 1811.97,-62.3689\"/>\r\n",
       "<polygon fill=\"black\" stroke=\"black\" points=\"1815.05,-60.6962 1807.53,-53.2367 1808.76,-63.7599 1815.05,-60.6962\"/>\r\n",
       "</g>\r\n",
       "<!-- 34 -->\r\n",
       "<g id=\"node35\" class=\"node\"><title>34</title>\r\n",
       "<path fill=\"#e58139\" fill-opacity=\"0.572549\" stroke=\"black\" d=\"M2042.5,-53C2042.5,-53 1905.5,-53 1905.5,-53 1899.5,-53 1893.5,-47 1893.5,-41 1893.5,-41 1893.5,-12 1893.5,-12 1893.5,-6 1899.5,-0 1905.5,-0 1905.5,-0 2042.5,-0 2042.5,-0 2048.5,-0 2054.5,-6 2054.5,-12 2054.5,-12 2054.5,-41 2054.5,-41 2054.5,-47 2048.5,-53 2042.5,-53\"/>\r\n",
       "<text text-anchor=\"start\" x=\"1901.5\" y=\"-37.8\" font-family=\"Helvetica,sans-Serif\" font-size=\"14.00\">friedman_mse = 0.177</text>\r\n",
       "<text text-anchor=\"start\" x=\"1926.5\" y=\"-22.8\" font-family=\"Helvetica,sans-Serif\" font-size=\"14.00\">samples = 107</text>\r\n",
       "<text text-anchor=\"start\" x=\"1931\" y=\"-7.8\" font-family=\"Helvetica,sans-Serif\" font-size=\"14.00\">value = 0.347</text>\r\n",
       "</g>\r\n",
       "<!-- 32&#45;&gt;34 -->\r\n",
       "<g id=\"edge34\" class=\"edge\"><title>32&#45;&gt;34</title>\r\n",
       "<path fill=\"none\" stroke=\"black\" d=\"M1887.52,-88.9485C1901.16,-79.2516 1916.05,-68.6752 1929.56,-59.073\"/>\r\n",
       "<polygon fill=\"black\" stroke=\"black\" points=\"1931.65,-61.882 1937.78,-53.2367 1927.6,-56.1757 1931.65,-61.882\"/>\r\n",
       "</g>\r\n",
       "<!-- 36 -->\r\n",
       "<g id=\"node37\" class=\"node\"><title>36</title>\r\n",
       "<path fill=\"#e58139\" fill-opacity=\"0.200000\" stroke=\"black\" d=\"M2221.5,-53C2221.5,-53 2084.5,-53 2084.5,-53 2078.5,-53 2072.5,-47 2072.5,-41 2072.5,-41 2072.5,-12 2072.5,-12 2072.5,-6 2078.5,-0 2084.5,-0 2084.5,-0 2221.5,-0 2221.5,-0 2227.5,-0 2233.5,-6 2233.5,-12 2233.5,-12 2233.5,-41 2233.5,-41 2233.5,-47 2227.5,-53 2221.5,-53\"/>\r\n",
       "<text text-anchor=\"start\" x=\"2080.5\" y=\"-37.8\" font-family=\"Helvetica,sans-Serif\" font-size=\"14.00\">friedman_mse = 0.062</text>\r\n",
       "<text text-anchor=\"start\" x=\"2109.5\" y=\"-22.8\" font-family=\"Helvetica,sans-Serif\" font-size=\"14.00\">samples = 30</text>\r\n",
       "<text text-anchor=\"start\" x=\"2107.5\" y=\"-7.8\" font-family=\"Helvetica,sans-Serif\" font-size=\"14.00\">value = &#45;0.749</text>\r\n",
       "</g>\r\n",
       "<!-- 35&#45;&gt;36 -->\r\n",
       "<g id=\"edge36\" class=\"edge\"><title>35&#45;&gt;36</title>\r\n",
       "<path fill=\"none\" stroke=\"black\" d=\"M2123.09,-88.9485C2127.27,-80.3494 2131.8,-71.0586 2136.03,-62.3689\"/>\r\n",
       "<polygon fill=\"black\" stroke=\"black\" points=\"2139.24,-63.7599 2140.47,-53.2367 2132.95,-60.6962 2139.24,-63.7599\"/>\r\n",
       "</g>\r\n",
       "<!-- 37 -->\r\n",
       "<g id=\"node38\" class=\"node\"><title>37</title>\r\n",
       "<path fill=\"#e58139\" fill-opacity=\"0.482353\" stroke=\"black\" d=\"M2400.5,-53C2400.5,-53 2263.5,-53 2263.5,-53 2257.5,-53 2251.5,-47 2251.5,-41 2251.5,-41 2251.5,-12 2251.5,-12 2251.5,-6 2257.5,-0 2263.5,-0 2263.5,-0 2400.5,-0 2400.5,-0 2406.5,-0 2412.5,-6 2412.5,-12 2412.5,-12 2412.5,-41 2412.5,-41 2412.5,-47 2406.5,-53 2400.5,-53\"/>\r\n",
       "<text text-anchor=\"start\" x=\"2259.5\" y=\"-37.8\" font-family=\"Helvetica,sans-Serif\" font-size=\"14.00\">friedman_mse = 0.107</text>\r\n",
       "<text text-anchor=\"start\" x=\"2288.5\" y=\"-22.8\" font-family=\"Helvetica,sans-Serif\" font-size=\"14.00\">samples = 36</text>\r\n",
       "<text text-anchor=\"start\" x=\"2289\" y=\"-7.8\" font-family=\"Helvetica,sans-Serif\" font-size=\"14.00\">value = 0.083</text>\r\n",
       "</g>\r\n",
       "<!-- 35&#45;&gt;37 -->\r\n",
       "<g id=\"edge37\" class=\"edge\"><title>35&#45;&gt;37</title>\r\n",
       "<path fill=\"none\" stroke=\"black\" d=\"M2185.69,-88.9485C2210.42,-78.5643 2237.54,-67.1714 2261.65,-57.0464\"/>\r\n",
       "<polygon fill=\"black\" stroke=\"black\" points=\"2263.21,-60.186 2271.08,-53.0867 2260.5,-53.7321 2263.21,-60.186\"/>\r\n",
       "</g>\r\n",
       "<!-- 39 -->\r\n",
       "<g id=\"node40\" class=\"node\"><title>39</title>\r\n",
       "<path fill=\"#e58139\" fill-opacity=\"0.219608\" stroke=\"black\" d=\"M2387.5,-149.5C2387.5,-149.5 2250.5,-149.5 2250.5,-149.5 2244.5,-149.5 2238.5,-143.5 2238.5,-137.5 2238.5,-137.5 2238.5,-108.5 2238.5,-108.5 2238.5,-102.5 2244.5,-96.5 2250.5,-96.5 2250.5,-96.5 2387.5,-96.5 2387.5,-96.5 2393.5,-96.5 2399.5,-102.5 2399.5,-108.5 2399.5,-108.5 2399.5,-137.5 2399.5,-137.5 2399.5,-143.5 2393.5,-149.5 2387.5,-149.5\"/>\r\n",
       "<text text-anchor=\"start\" x=\"2246.5\" y=\"-134.3\" font-family=\"Helvetica,sans-Serif\" font-size=\"14.00\">friedman_mse = 0.054</text>\r\n",
       "<text text-anchor=\"start\" x=\"2275.5\" y=\"-119.3\" font-family=\"Helvetica,sans-Serif\" font-size=\"14.00\">samples = 20</text>\r\n",
       "<text text-anchor=\"start\" x=\"2273.5\" y=\"-104.3\" font-family=\"Helvetica,sans-Serif\" font-size=\"14.00\">value = &#45;0.696</text>\r\n",
       "</g>\r\n",
       "<!-- 38&#45;&gt;39 -->\r\n",
       "<g id=\"edge39\" class=\"edge\"><title>38&#45;&gt;39</title>\r\n",
       "<path fill=\"none\" stroke=\"black\" d=\"M2319,-192.884C2319,-182.326 2319,-170.597 2319,-159.854\"/>\r\n",
       "<polygon fill=\"black\" stroke=\"black\" points=\"2322.5,-159.52 2319,-149.52 2315.5,-159.52 2322.5,-159.52\"/>\r\n",
       "</g>\r\n",
       "<!-- 40 -->\r\n",
       "<g id=\"node41\" class=\"node\"><title>40</title>\r\n",
       "<path fill=\"#e58139\" fill-opacity=\"0.129412\" stroke=\"black\" d=\"M2550,-149.5C2550,-149.5 2430,-149.5 2430,-149.5 2424,-149.5 2418,-143.5 2418,-137.5 2418,-137.5 2418,-108.5 2418,-108.5 2418,-102.5 2424,-96.5 2430,-96.5 2430,-96.5 2550,-96.5 2550,-96.5 2556,-96.5 2562,-102.5 2562,-108.5 2562,-108.5 2562,-137.5 2562,-137.5 2562,-143.5 2556,-149.5 2550,-149.5\"/>\r\n",
       "<text text-anchor=\"start\" x=\"2426\" y=\"-134.3\" font-family=\"Helvetica,sans-Serif\" font-size=\"14.00\">friedman_mse = 0.0</text>\r\n",
       "<text text-anchor=\"start\" x=\"2446.5\" y=\"-119.3\" font-family=\"Helvetica,sans-Serif\" font-size=\"14.00\">samples = 27</text>\r\n",
       "<text text-anchor=\"start\" x=\"2444.5\" y=\"-104.3\" font-family=\"Helvetica,sans-Serif\" font-size=\"14.00\">value = &#45;0.964</text>\r\n",
       "</g>\r\n",
       "<!-- 38&#45;&gt;40 -->\r\n",
       "<g id=\"edge40\" class=\"edge\"><title>38&#45;&gt;40</title>\r\n",
       "<path fill=\"none\" stroke=\"black\" d=\"M2374.52,-192.884C2395.08,-180.621 2418.28,-166.779 2438.47,-154.737\"/>\r\n",
       "<polygon fill=\"black\" stroke=\"black\" points=\"2440.42,-157.649 2447.22,-149.52 2436.84,-151.637 2440.42,-157.649\"/>\r\n",
       "</g>\r\n",
       "<!-- 42 -->\r\n",
       "<g id=\"node43\" class=\"node\"><title>42</title>\r\n",
       "<path fill=\"#e58139\" fill-opacity=\"0.447059\" stroke=\"black\" d=\"M3110,-469C3110,-469 2990,-469 2990,-469 2984,-469 2978,-463 2978,-457 2978,-457 2978,-413 2978,-413 2978,-407 2984,-401 2990,-401 2990,-401 3110,-401 3110,-401 3116,-401 3122,-407 3122,-413 3122,-413 3122,-457 3122,-457 3122,-463 3116,-469 3110,-469\"/>\r\n",
       "<text text-anchor=\"start\" x=\"3016\" y=\"-453.8\" font-family=\"Helvetica,sans-Serif\" font-size=\"14.00\">age ≤ 0.13</text>\r\n",
       "<text text-anchor=\"start\" x=\"2986\" y=\"-438.8\" font-family=\"Helvetica,sans-Serif\" font-size=\"14.00\">friedman_mse = 0.0</text>\r\n",
       "<text text-anchor=\"start\" x=\"3002.5\" y=\"-423.8\" font-family=\"Helvetica,sans-Serif\" font-size=\"14.00\">samples = 112</text>\r\n",
       "<text text-anchor=\"start\" x=\"3004.5\" y=\"-408.8\" font-family=\"Helvetica,sans-Serif\" font-size=\"14.00\">value = &#45;0.018</text>\r\n",
       "</g>\r\n",
       "<!-- 41&#45;&gt;42 -->\r\n",
       "<g id=\"edge42\" class=\"edge\"><title>41&#45;&gt;42</title>\r\n",
       "<path fill=\"none\" stroke=\"black\" d=\"M3116.86,-504.884C3108.13,-495.887 3098.57,-486.041 3089.48,-476.678\"/>\r\n",
       "<polygon fill=\"black\" stroke=\"black\" points=\"3091.8,-474.038 3082.32,-469.299 3086.77,-478.913 3091.8,-474.038\"/>\r\n",
       "</g>\r\n",
       "<!-- 51 -->\r\n",
       "<g id=\"node52\" class=\"node\"><title>51</title>\r\n",
       "<path fill=\"#e58139\" fill-opacity=\"0.427451\" stroke=\"black\" d=\"M3343.5,-469C3343.5,-469 3152.5,-469 3152.5,-469 3146.5,-469 3140.5,-463 3140.5,-457 3140.5,-457 3140.5,-413 3140.5,-413 3140.5,-407 3146.5,-401 3152.5,-401 3152.5,-401 3343.5,-401 3343.5,-401 3349.5,-401 3355.5,-407 3355.5,-413 3355.5,-413 3355.5,-457 3355.5,-457 3355.5,-463 3349.5,-469 3343.5,-469\"/>\r\n",
       "<text text-anchor=\"start\" x=\"3148.5\" y=\"-453.8\" font-family=\"Helvetica,sans-Serif\" font-size=\"14.00\">education_level_ HS&#45;grad ≤ 0.5</text>\r\n",
       "<text text-anchor=\"start\" x=\"3175.5\" y=\"-438.8\" font-family=\"Helvetica,sans-Serif\" font-size=\"14.00\">friedman_mse = 0.005</text>\r\n",
       "<text text-anchor=\"start\" x=\"3204.5\" y=\"-423.8\" font-family=\"Helvetica,sans-Serif\" font-size=\"14.00\">samples = 46</text>\r\n",
       "<text text-anchor=\"start\" x=\"3202.5\" y=\"-408.8\" font-family=\"Helvetica,sans-Serif\" font-size=\"14.00\">value = &#45;0.083</text>\r\n",
       "</g>\r\n",
       "<!-- 41&#45;&gt;51 -->\r\n",
       "<g id=\"edge51\" class=\"edge\"><title>41&#45;&gt;51</title>\r\n",
       "<path fill=\"none\" stroke=\"black\" d=\"M3181.14,-504.884C3189.87,-495.887 3199.43,-486.041 3208.52,-476.678\"/>\r\n",
       "<polygon fill=\"black\" stroke=\"black\" points=\"3211.23,-478.913 3215.68,-469.299 3206.2,-474.038 3211.23,-478.913\"/>\r\n",
       "</g>\r\n",
       "<!-- 43 -->\r\n",
       "<g id=\"node44\" class=\"node\"><title>43</title>\r\n",
       "<path fill=\"#e58139\" fill-opacity=\"0.447059\" stroke=\"black\" d=\"M2964,-365C2964,-365 2790,-365 2790,-365 2784,-365 2778,-359 2778,-353 2778,-353 2778,-309 2778,-309 2778,-303 2784,-297 2790,-297 2790,-297 2964,-297 2964,-297 2970,-297 2976,-303 2976,-309 2976,-309 2976,-353 2976,-353 2976,-359 2970,-365 2964,-365\"/>\r\n",
       "<text text-anchor=\"start\" x=\"2786\" y=\"-349.8\" font-family=\"Helvetica,sans-Serif\" font-size=\"14.00\">relationship_ Own&#45;child ≤ 0.5</text>\r\n",
       "<text text-anchor=\"start\" x=\"2813\" y=\"-334.8\" font-family=\"Helvetica,sans-Serif\" font-size=\"14.00\">friedman_mse = 0.0</text>\r\n",
       "<text text-anchor=\"start\" x=\"2833.5\" y=\"-319.8\" font-family=\"Helvetica,sans-Serif\" font-size=\"14.00\">samples = 90</text>\r\n",
       "<text text-anchor=\"start\" x=\"2831.5\" y=\"-304.8\" font-family=\"Helvetica,sans-Serif\" font-size=\"14.00\">value = &#45;0.017</text>\r\n",
       "</g>\r\n",
       "<!-- 42&#45;&gt;43 -->\r\n",
       "<g id=\"edge43\" class=\"edge\"><title>42&#45;&gt;43</title>\r\n",
       "<path fill=\"none\" stroke=\"black\" d=\"M2993.83,-400.884C2977.28,-391.125 2959.03,-380.366 2941.98,-370.31\"/>\r\n",
       "<polygon fill=\"black\" stroke=\"black\" points=\"2943.57,-367.189 2933.18,-365.125 2940.02,-373.219 2943.57,-367.189\"/>\r\n",
       "</g>\r\n",
       "<!-- 50 -->\r\n",
       "<g id=\"node51\" class=\"node\"><title>50</title>\r\n",
       "<path fill=\"#e58139\" fill-opacity=\"0.109804\" stroke=\"black\" d=\"M3126,-357.5C3126,-357.5 3006,-357.5 3006,-357.5 3000,-357.5 2994,-351.5 2994,-345.5 2994,-345.5 2994,-316.5 2994,-316.5 2994,-310.5 3000,-304.5 3006,-304.5 3006,-304.5 3126,-304.5 3126,-304.5 3132,-304.5 3138,-310.5 3138,-316.5 3138,-316.5 3138,-345.5 3138,-345.5 3138,-351.5 3132,-357.5 3126,-357.5\"/>\r\n",
       "<text text-anchor=\"start\" x=\"3002\" y=\"-342.3\" font-family=\"Helvetica,sans-Serif\" font-size=\"14.00\">friedman_mse = 0.0</text>\r\n",
       "<text text-anchor=\"start\" x=\"3022.5\" y=\"-327.3\" font-family=\"Helvetica,sans-Serif\" font-size=\"14.00\">samples = 22</text>\r\n",
       "<text text-anchor=\"start\" x=\"3020.5\" y=\"-312.3\" font-family=\"Helvetica,sans-Serif\" font-size=\"14.00\">value = &#45;1.023</text>\r\n",
       "</g>\r\n",
       "<!-- 42&#45;&gt;50 -->\r\n",
       "<g id=\"edge50\" class=\"edge\"><title>42&#45;&gt;50</title>\r\n",
       "<path fill=\"none\" stroke=\"black\" d=\"M3055.19,-400.884C3056.87,-390.216 3058.73,-378.352 3060.43,-367.519\"/>\r\n",
       "<polygon fill=\"black\" stroke=\"black\" points=\"3063.9,-367.942 3062,-357.52 3056.99,-366.857 3063.9,-367.942\"/>\r\n",
       "</g>\r\n",
       "<!-- 44 -->\r\n",
       "<g id=\"node45\" class=\"node\"><title>44</title>\r\n",
       "<path fill=\"#e58139\" fill-opacity=\"0.447059\" stroke=\"black\" d=\"M2891.5,-261C2891.5,-261 2700.5,-261 2700.5,-261 2694.5,-261 2688.5,-255 2688.5,-249 2688.5,-249 2688.5,-205 2688.5,-205 2688.5,-199 2694.5,-193 2700.5,-193 2700.5,-193 2891.5,-193 2891.5,-193 2897.5,-193 2903.5,-199 2903.5,-205 2903.5,-205 2903.5,-249 2903.5,-249 2903.5,-255 2897.5,-261 2891.5,-261\"/>\r\n",
       "<text text-anchor=\"start\" x=\"2696.5\" y=\"-245.8\" font-family=\"Helvetica,sans-Serif\" font-size=\"14.00\">education_level_ HS&#45;grad ≤ 0.5</text>\r\n",
       "<text text-anchor=\"start\" x=\"2732\" y=\"-230.8\" font-family=\"Helvetica,sans-Serif\" font-size=\"14.00\">friedman_mse = 0.0</text>\r\n",
       "<text text-anchor=\"start\" x=\"2752.5\" y=\"-215.8\" font-family=\"Helvetica,sans-Serif\" font-size=\"14.00\">samples = 46</text>\r\n",
       "<text text-anchor=\"start\" x=\"2750.5\" y=\"-200.8\" font-family=\"Helvetica,sans-Serif\" font-size=\"14.00\">value = &#45;0.018</text>\r\n",
       "</g>\r\n",
       "<!-- 43&#45;&gt;44 -->\r\n",
       "<g id=\"edge44\" class=\"edge\"><title>43&#45;&gt;44</title>\r\n",
       "<path fill=\"none\" stroke=\"black\" d=\"M2850.7,-296.884C2843.7,-288.065 2836.05,-278.43 2828.75,-269.235\"/>\r\n",
       "<polygon fill=\"black\" stroke=\"black\" points=\"2831.4,-266.954 2822.44,-261.299 2825.92,-271.307 2831.4,-266.954\"/>\r\n",
       "</g>\r\n",
       "<!-- 47 -->\r\n",
       "<g id=\"node48\" class=\"node\"><title>47</title>\r\n",
       "<path fill=\"#e58139\" fill-opacity=\"0.450980\" stroke=\"black\" d=\"M3054,-261C3054,-261 2934,-261 2934,-261 2928,-261 2922,-255 2922,-249 2922,-249 2922,-205 2922,-205 2922,-199 2928,-193 2934,-193 2934,-193 3054,-193 3054,-193 3060,-193 3066,-199 3066,-205 3066,-205 3066,-249 3066,-249 3066,-255 3060,-261 3054,-261\"/>\r\n",
       "<text text-anchor=\"start\" x=\"2956\" y=\"-245.8\" font-family=\"Helvetica,sans-Serif\" font-size=\"14.00\">age ≤ 0.048</text>\r\n",
       "<text text-anchor=\"start\" x=\"2930\" y=\"-230.8\" font-family=\"Helvetica,sans-Serif\" font-size=\"14.00\">friedman_mse = 0.0</text>\r\n",
       "<text text-anchor=\"start\" x=\"2950.5\" y=\"-215.8\" font-family=\"Helvetica,sans-Serif\" font-size=\"14.00\">samples = 44</text>\r\n",
       "<text text-anchor=\"start\" x=\"2948.5\" y=\"-200.8\" font-family=\"Helvetica,sans-Serif\" font-size=\"14.00\">value = &#45;0.015</text>\r\n",
       "</g>\r\n",
       "<!-- 43&#45;&gt;47 -->\r\n",
       "<g id=\"edge47\" class=\"edge\"><title>43&#45;&gt;47</title>\r\n",
       "<path fill=\"none\" stroke=\"black\" d=\"M2914.99,-296.884C2925.51,-287.709 2937.05,-277.65 2947.98,-268.123\"/>\r\n",
       "<polygon fill=\"black\" stroke=\"black\" points=\"2950.57,-270.509 2955.8,-261.299 2945.97,-265.233 2950.57,-270.509\"/>\r\n",
       "</g>\r\n",
       "<!-- 45 -->\r\n",
       "<g id=\"node46\" class=\"node\"><title>45</title>\r\n",
       "<path fill=\"#e58139\" fill-opacity=\"0.109804\" stroke=\"black\" d=\"M2712,-149.5C2712,-149.5 2592,-149.5 2592,-149.5 2586,-149.5 2580,-143.5 2580,-137.5 2580,-137.5 2580,-108.5 2580,-108.5 2580,-102.5 2586,-96.5 2592,-96.5 2592,-96.5 2712,-96.5 2712,-96.5 2718,-96.5 2724,-102.5 2724,-108.5 2724,-108.5 2724,-137.5 2724,-137.5 2724,-143.5 2718,-149.5 2712,-149.5\"/>\r\n",
       "<text text-anchor=\"start\" x=\"2588\" y=\"-134.3\" font-family=\"Helvetica,sans-Serif\" font-size=\"14.00\">friedman_mse = 0.0</text>\r\n",
       "<text text-anchor=\"start\" x=\"2608.5\" y=\"-119.3\" font-family=\"Helvetica,sans-Serif\" font-size=\"14.00\">samples = 25</text>\r\n",
       "<text text-anchor=\"start\" x=\"2606.5\" y=\"-104.3\" font-family=\"Helvetica,sans-Serif\" font-size=\"14.00\">value = &#45;1.021</text>\r\n",
       "</g>\r\n",
       "<!-- 44&#45;&gt;45 -->\r\n",
       "<g id=\"edge45\" class=\"edge\"><title>44&#45;&gt;45</title>\r\n",
       "<path fill=\"none\" stroke=\"black\" d=\"M2749.25,-192.884C2732.32,-180.896 2713.27,-167.399 2696.54,-155.549\"/>\r\n",
       "<polygon fill=\"black\" stroke=\"black\" points=\"2698.21,-152.444 2688.03,-149.52 2694.17,-158.156 2698.21,-152.444\"/>\r\n",
       "</g>\r\n",
       "<!-- 46 -->\r\n",
       "<g id=\"node47\" class=\"node\"><title>46</title>\r\n",
       "<path fill=\"#e58139\" fill-opacity=\"0.109804\" stroke=\"black\" d=\"M2874,-149.5C2874,-149.5 2754,-149.5 2754,-149.5 2748,-149.5 2742,-143.5 2742,-137.5 2742,-137.5 2742,-108.5 2742,-108.5 2742,-102.5 2748,-96.5 2754,-96.5 2754,-96.5 2874,-96.5 2874,-96.5 2880,-96.5 2886,-102.5 2886,-108.5 2886,-108.5 2886,-137.5 2886,-137.5 2886,-143.5 2880,-149.5 2874,-149.5\"/>\r\n",
       "<text text-anchor=\"start\" x=\"2750\" y=\"-134.3\" font-family=\"Helvetica,sans-Serif\" font-size=\"14.00\">friedman_mse = 0.0</text>\r\n",
       "<text text-anchor=\"start\" x=\"2770.5\" y=\"-119.3\" font-family=\"Helvetica,sans-Serif\" font-size=\"14.00\">samples = 21</text>\r\n",
       "<text text-anchor=\"start\" x=\"2768.5\" y=\"-104.3\" font-family=\"Helvetica,sans-Serif\" font-size=\"14.00\">value = &#45;1.018</text>\r\n",
       "</g>\r\n",
       "<!-- 44&#45;&gt;46 -->\r\n",
       "<g id=\"edge46\" class=\"edge\"><title>44&#45;&gt;46</title>\r\n",
       "<path fill=\"none\" stroke=\"black\" d=\"M2801.84,-192.884C2803.73,-182.216 2805.82,-170.352 2807.73,-159.519\"/>\r\n",
       "<polygon fill=\"black\" stroke=\"black\" points=\"2811.21,-159.976 2809.5,-149.52 2804.31,-158.759 2811.21,-159.976\"/>\r\n",
       "</g>\r\n",
       "<!-- 48 -->\r\n",
       "<g id=\"node49\" class=\"node\"><title>48</title>\r\n",
       "<path fill=\"#e58139\" fill-opacity=\"0.109804\" stroke=\"black\" d=\"M3036,-149.5C3036,-149.5 2916,-149.5 2916,-149.5 2910,-149.5 2904,-143.5 2904,-137.5 2904,-137.5 2904,-108.5 2904,-108.5 2904,-102.5 2910,-96.5 2916,-96.5 2916,-96.5 3036,-96.5 3036,-96.5 3042,-96.5 3048,-102.5 3048,-108.5 3048,-108.5 3048,-137.5 3048,-137.5 3048,-143.5 3042,-149.5 3036,-149.5\"/>\r\n",
       "<text text-anchor=\"start\" x=\"2912\" y=\"-134.3\" font-family=\"Helvetica,sans-Serif\" font-size=\"14.00\">friedman_mse = 0.0</text>\r\n",
       "<text text-anchor=\"start\" x=\"2932.5\" y=\"-119.3\" font-family=\"Helvetica,sans-Serif\" font-size=\"14.00\">samples = 18</text>\r\n",
       "<text text-anchor=\"start\" x=\"2930.5\" y=\"-104.3\" font-family=\"Helvetica,sans-Serif\" font-size=\"14.00\">value = &#45;1.014</text>\r\n",
       "</g>\r\n",
       "<!-- 47&#45;&gt;48 -->\r\n",
       "<g id=\"edge48\" class=\"edge\"><title>47&#45;&gt;48</title>\r\n",
       "<path fill=\"none\" stroke=\"black\" d=\"M2988.16,-192.884C2986.27,-182.216 2984.18,-170.352 2982.27,-159.519\"/>\r\n",
       "<polygon fill=\"black\" stroke=\"black\" points=\"2985.69,-158.759 2980.5,-149.52 2978.79,-159.976 2985.69,-158.759\"/>\r\n",
       "</g>\r\n",
       "<!-- 49 -->\r\n",
       "<g id=\"node50\" class=\"node\"><title>49</title>\r\n",
       "<path fill=\"#e58139\" fill-opacity=\"0.109804\" stroke=\"black\" d=\"M3198,-149.5C3198,-149.5 3078,-149.5 3078,-149.5 3072,-149.5 3066,-143.5 3066,-137.5 3066,-137.5 3066,-108.5 3066,-108.5 3066,-102.5 3072,-96.5 3078,-96.5 3078,-96.5 3198,-96.5 3198,-96.5 3204,-96.5 3210,-102.5 3210,-108.5 3210,-108.5 3210,-137.5 3210,-137.5 3210,-143.5 3204,-149.5 3198,-149.5\"/>\r\n",
       "<text text-anchor=\"start\" x=\"3074\" y=\"-134.3\" font-family=\"Helvetica,sans-Serif\" font-size=\"14.00\">friedman_mse = 0.0</text>\r\n",
       "<text text-anchor=\"start\" x=\"3094.5\" y=\"-119.3\" font-family=\"Helvetica,sans-Serif\" font-size=\"14.00\">samples = 26</text>\r\n",
       "<text text-anchor=\"start\" x=\"3092.5\" y=\"-104.3\" font-family=\"Helvetica,sans-Serif\" font-size=\"14.00\">value = &#45;1.016</text>\r\n",
       "</g>\r\n",
       "<!-- 47&#45;&gt;49 -->\r\n",
       "<g id=\"edge49\" class=\"edge\"><title>47&#45;&gt;49</title>\r\n",
       "<path fill=\"none\" stroke=\"black\" d=\"M3040.75,-192.884C3057.68,-180.896 3076.73,-167.399 3093.46,-155.549\"/>\r\n",
       "<polygon fill=\"black\" stroke=\"black\" points=\"3095.83,-158.156 3101.97,-149.52 3091.79,-152.444 3095.83,-158.156\"/>\r\n",
       "</g>\r\n",
       "<!-- 52 -->\r\n",
       "<g id=\"node53\" class=\"node\"><title>52</title>\r\n",
       "<path fill=\"#e58139\" fill-opacity=\"0.031373\" stroke=\"black\" d=\"M3304,-357.5C3304,-357.5 3176,-357.5 3176,-357.5 3170,-357.5 3164,-351.5 3164,-345.5 3164,-345.5 3164,-316.5 3164,-316.5 3164,-310.5 3170,-304.5 3176,-304.5 3176,-304.5 3304,-304.5 3304,-304.5 3310,-304.5 3316,-310.5 3316,-316.5 3316,-316.5 3316,-345.5 3316,-345.5 3316,-351.5 3310,-357.5 3304,-357.5\"/>\r\n",
       "<text text-anchor=\"start\" x=\"3172\" y=\"-342.3\" font-family=\"Helvetica,sans-Serif\" font-size=\"14.00\">friedman_mse = 0.01</text>\r\n",
       "<text text-anchor=\"start\" x=\"3196.5\" y=\"-327.3\" font-family=\"Helvetica,sans-Serif\" font-size=\"14.00\">samples = 22</text>\r\n",
       "<text text-anchor=\"start\" x=\"3194.5\" y=\"-312.3\" font-family=\"Helvetica,sans-Serif\" font-size=\"14.00\">value = &#45;1.247</text>\r\n",
       "</g>\r\n",
       "<!-- 51&#45;&gt;52 -->\r\n",
       "<g id=\"edge52\" class=\"edge\"><title>51&#45;&gt;52</title>\r\n",
       "<path fill=\"none\" stroke=\"black\" d=\"M3245.4,-400.884C3244.57,-390.216 3243.64,-378.352 3242.79,-367.519\"/>\r\n",
       "<polygon fill=\"black\" stroke=\"black\" points=\"3246.27,-367.216 3242,-357.52 3239.29,-367.763 3246.27,-367.216\"/>\r\n",
       "</g>\r\n",
       "<!-- 53 -->\r\n",
       "<g id=\"node54\" class=\"node\"><title>53</title>\r\n",
       "<path fill=\"#e58139\" fill-opacity=\"0.090196\" stroke=\"black\" d=\"M3466,-357.5C3466,-357.5 3346,-357.5 3346,-357.5 3340,-357.5 3334,-351.5 3334,-345.5 3334,-345.5 3334,-316.5 3334,-316.5 3334,-310.5 3340,-304.5 3346,-304.5 3346,-304.5 3466,-304.5 3466,-304.5 3472,-304.5 3478,-310.5 3478,-316.5 3478,-316.5 3478,-345.5 3478,-345.5 3478,-351.5 3472,-357.5 3466,-357.5\"/>\r\n",
       "<text text-anchor=\"start\" x=\"3342\" y=\"-342.3\" font-family=\"Helvetica,sans-Serif\" font-size=\"14.00\">friedman_mse = 0.0</text>\r\n",
       "<text text-anchor=\"start\" x=\"3362.5\" y=\"-327.3\" font-family=\"Helvetica,sans-Serif\" font-size=\"14.00\">samples = 24</text>\r\n",
       "<text text-anchor=\"start\" x=\"3360.5\" y=\"-312.3\" font-family=\"Helvetica,sans-Serif\" font-size=\"14.00\">value = &#45;1.079</text>\r\n",
       "</g>\r\n",
       "<!-- 51&#45;&gt;53 -->\r\n",
       "<g id=\"edge53\" class=\"edge\"><title>51&#45;&gt;53</title>\r\n",
       "<path fill=\"none\" stroke=\"black\" d=\"M3299.3,-400.884C3318.12,-388.731 3339.35,-375.027 3357.89,-363.061\"/>\r\n",
       "<polygon fill=\"black\" stroke=\"black\" points=\"3359.97,-365.884 3366.47,-357.52 3356.17,-360.003 3359.97,-365.884\"/>\r\n",
       "</g>\r\n",
       "<!-- 55 -->\r\n",
       "<g id=\"node56\" class=\"node\"><title>55</title>\r\n",
       "<path fill=\"#e58139\" fill-opacity=\"0.454902\" stroke=\"black\" d=\"M5015.5,-573C5015.5,-573 4800.5,-573 4800.5,-573 4794.5,-573 4788.5,-567 4788.5,-561 4788.5,-561 4788.5,-517 4788.5,-517 4788.5,-511 4794.5,-505 4800.5,-505 4800.5,-505 5015.5,-505 5015.5,-505 5021.5,-505 5027.5,-511 5027.5,-517 5027.5,-517 5027.5,-561 5027.5,-561 5027.5,-567 5021.5,-573 5015.5,-573\"/>\r\n",
       "<text text-anchor=\"start\" x=\"4796.5\" y=\"-557.8\" font-family=\"Helvetica,sans-Serif\" font-size=\"14.00\">occupation_ Exec&#45;managerial ≤ 0.5</text>\r\n",
       "<text text-anchor=\"start\" x=\"4835.5\" y=\"-542.8\" font-family=\"Helvetica,sans-Serif\" font-size=\"14.00\">friedman_mse = 0.101</text>\r\n",
       "<text text-anchor=\"start\" x=\"4856.5\" y=\"-527.8\" font-family=\"Helvetica,sans-Serif\" font-size=\"14.00\">samples = 6290</text>\r\n",
       "<text text-anchor=\"start\" x=\"4865\" y=\"-512.8\" font-family=\"Helvetica,sans-Serif\" font-size=\"14.00\">value = 0.002</text>\r\n",
       "</g>\r\n",
       "<!-- 54&#45;&gt;55 -->\r\n",
       "<g id=\"edge55\" class=\"edge\"><title>54&#45;&gt;55</title>\r\n",
       "<path fill=\"none\" stroke=\"black\" d=\"M4908,-608.884C4908,-600.778 4908,-591.982 4908,-583.472\"/>\r\n",
       "<polygon fill=\"black\" stroke=\"black\" points=\"4911.5,-583.299 4908,-573.299 4904.5,-583.299 4911.5,-583.299\"/>\r\n",
       "</g>\r\n",
       "<!-- 104 -->\r\n",
       "<g id=\"node105\" class=\"node\"><title>104</title>\r\n",
       "<path fill=\"#e58139\" fill-opacity=\"0.470588\" stroke=\"black\" d=\"M7267.5,-573C7267.5,-573 7130.5,-573 7130.5,-573 7124.5,-573 7118.5,-567 7118.5,-561 7118.5,-561 7118.5,-517 7118.5,-517 7118.5,-511 7124.5,-505 7130.5,-505 7130.5,-505 7267.5,-505 7267.5,-505 7273.5,-505 7279.5,-511 7279.5,-517 7279.5,-517 7279.5,-561 7279.5,-561 7279.5,-567 7273.5,-573 7267.5,-573\"/>\r\n",
       "<text text-anchor=\"start\" x=\"7161\" y=\"-557.8\" font-family=\"Helvetica,sans-Serif\" font-size=\"14.00\">age ≤ 0.582</text>\r\n",
       "<text text-anchor=\"start\" x=\"7126.5\" y=\"-542.8\" font-family=\"Helvetica,sans-Serif\" font-size=\"14.00\">friedman_mse = 0.139</text>\r\n",
       "<text text-anchor=\"start\" x=\"7151.5\" y=\"-527.8\" font-family=\"Helvetica,sans-Serif\" font-size=\"14.00\">samples = 345</text>\r\n",
       "<text text-anchor=\"start\" x=\"7156\" y=\"-512.8\" font-family=\"Helvetica,sans-Serif\" font-size=\"14.00\">value = 0.044</text>\r\n",
       "</g>\r\n",
       "<!-- 54&#45;&gt;104 -->\r\n",
       "<g id=\"edge104\" class=\"edge\"><title>54&#45;&gt;104</title>\r\n",
       "<path fill=\"none\" stroke=\"black\" d=\"M4991.23,-638.294C5346.95,-622.457 6738.27,-560.513 7108.23,-544.041\"/>\r\n",
       "<polygon fill=\"black\" stroke=\"black\" points=\"7108.52,-547.532 7118.36,-543.59 7108.21,-540.539 7108.52,-547.532\"/>\r\n",
       "</g>\r\n",
       "<!-- 56 -->\r\n",
       "<g id=\"node57\" class=\"node\"><title>56</title>\r\n",
       "<path fill=\"#e58139\" fill-opacity=\"0.454902\" stroke=\"black\" d=\"M4679.5,-469C4679.5,-469 4542.5,-469 4542.5,-469 4536.5,-469 4530.5,-463 4530.5,-457 4530.5,-457 4530.5,-413 4530.5,-413 4530.5,-407 4536.5,-401 4542.5,-401 4542.5,-401 4679.5,-401 4679.5,-401 4685.5,-401 4691.5,-407 4691.5,-413 4691.5,-413 4691.5,-457 4691.5,-457 4691.5,-463 4685.5,-469 4679.5,-469\"/>\r\n",
       "<text text-anchor=\"start\" x=\"4538.5\" y=\"-453.8\" font-family=\"Helvetica,sans-Serif\" font-size=\"14.00\">education&#45;num ≤ 0.433</text>\r\n",
       "<text text-anchor=\"start\" x=\"4538.5\" y=\"-438.8\" font-family=\"Helvetica,sans-Serif\" font-size=\"14.00\">friedman_mse = 0.099</text>\r\n",
       "<text text-anchor=\"start\" x=\"4559.5\" y=\"-423.8\" font-family=\"Helvetica,sans-Serif\" font-size=\"14.00\">samples = 5325</text>\r\n",
       "<text text-anchor=\"start\" x=\"4565.5\" y=\"-408.8\" font-family=\"Helvetica,sans-Serif\" font-size=\"14.00\">value = &#45;0.002</text>\r\n",
       "</g>\r\n",
       "<!-- 55&#45;&gt;56 -->\r\n",
       "<g id=\"edge56\" class=\"edge\"><title>55&#45;&gt;56</title>\r\n",
       "<path fill=\"none\" stroke=\"black\" d=\"M4811.57,-504.884C4776.12,-492.707 4736.13,-478.974 4701.24,-466.991\"/>\r\n",
       "<polygon fill=\"black\" stroke=\"black\" points=\"4702.14,-463.599 4691.54,-463.661 4699.86,-470.219 4702.14,-463.599\"/>\r\n",
       "</g>\r\n",
       "<!-- 85 -->\r\n",
       "<g id=\"node86\" class=\"node\"><title>85</title>\r\n",
       "<path fill=\"#e58139\" fill-opacity=\"0.462745\" stroke=\"black\" d=\"M5365.5,-469C5365.5,-469 5222.5,-469 5222.5,-469 5216.5,-469 5210.5,-463 5210.5,-457 5210.5,-457 5210.5,-413 5210.5,-413 5210.5,-407 5216.5,-401 5222.5,-401 5222.5,-401 5365.5,-401 5365.5,-401 5371.5,-401 5377.5,-407 5377.5,-413 5377.5,-413 5377.5,-457 5377.5,-457 5377.5,-463 5371.5,-469 5365.5,-469\"/>\r\n",
       "<text text-anchor=\"start\" x=\"5218.5\" y=\"-453.8\" font-family=\"Helvetica,sans-Serif\" font-size=\"14.00\">hours&#45;per&#45;week ≤ 0.362</text>\r\n",
       "<text text-anchor=\"start\" x=\"5221.5\" y=\"-438.8\" font-family=\"Helvetica,sans-Serif\" font-size=\"14.00\">friedman_mse = 0.112</text>\r\n",
       "<text text-anchor=\"start\" x=\"5246.5\" y=\"-423.8\" font-family=\"Helvetica,sans-Serif\" font-size=\"14.00\">samples = 965</text>\r\n",
       "<text text-anchor=\"start\" x=\"5251\" y=\"-408.8\" font-family=\"Helvetica,sans-Serif\" font-size=\"14.00\">value = 0.023</text>\r\n",
       "</g>\r\n",
       "<!-- 55&#45;&gt;85 -->\r\n",
       "<g id=\"edge85\" class=\"edge\"><title>55&#45;&gt;85</title>\r\n",
       "<path fill=\"none\" stroke=\"black\" d=\"M5027.75,-506.355C5083.38,-491.655 5148.54,-474.436 5200.48,-460.712\"/>\r\n",
       "<polygon fill=\"black\" stroke=\"black\" points=\"5201.58,-464.043 5210.35,-458.104 5199.79,-457.275 5201.58,-464.043\"/>\r\n",
       "</g>\r\n",
       "<!-- 57 -->\r\n",
       "<g id=\"node58\" class=\"node\"><title>57</title>\r\n",
       "<path fill=\"#e58139\" fill-opacity=\"0.447059\" stroke=\"black\" d=\"M3816,-365C3816,-365 3596,-365 3596,-365 3590,-365 3584,-359 3584,-353 3584,-353 3584,-309 3584,-309 3584,-303 3590,-297 3596,-297 3596,-297 3816,-297 3816,-297 3822,-297 3828,-303 3828,-309 3828,-309 3828,-353 3828,-353 3828,-359 3822,-365 3816,-365\"/>\r\n",
       "<text text-anchor=\"start\" x=\"3592\" y=\"-349.8\" font-family=\"Helvetica,sans-Serif\" font-size=\"14.00\">occupation_ Transport&#45;moving ≤ 0.5</text>\r\n",
       "<text text-anchor=\"start\" x=\"3633.5\" y=\"-334.8\" font-family=\"Helvetica,sans-Serif\" font-size=\"14.00\">friedman_mse = 0.039</text>\r\n",
       "<text text-anchor=\"start\" x=\"3658.5\" y=\"-319.8\" font-family=\"Helvetica,sans-Serif\" font-size=\"14.00\">samples = 633</text>\r\n",
       "<text text-anchor=\"start\" x=\"3660.5\" y=\"-304.8\" font-family=\"Helvetica,sans-Serif\" font-size=\"14.00\">value = &#45;0.024</text>\r\n",
       "</g>\r\n",
       "<!-- 56&#45;&gt;57 -->\r\n",
       "<g id=\"edge57\" class=\"edge\"><title>56&#45;&gt;57</title>\r\n",
       "<path fill=\"none\" stroke=\"black\" d=\"M4530.29,-424.903C4373.98,-407.287 4028.65,-368.365 3838.31,-346.913\"/>\r\n",
       "<polygon fill=\"black\" stroke=\"black\" points=\"3838.58,-343.42 3828.25,-345.778 3837.79,-350.376 3838.58,-343.42\"/>\r\n",
       "</g>\r\n",
       "<!-- 70 -->\r\n",
       "<g id=\"node71\" class=\"node\"><title>70</title>\r\n",
       "<path fill=\"#e58139\" fill-opacity=\"0.454902\" stroke=\"black\" d=\"M4679.5,-365C4679.5,-365 4542.5,-365 4542.5,-365 4536.5,-365 4530.5,-359 4530.5,-353 4530.5,-353 4530.5,-309 4530.5,-309 4530.5,-303 4536.5,-297 4542.5,-297 4542.5,-297 4679.5,-297 4679.5,-297 4685.5,-297 4691.5,-303 4691.5,-309 4691.5,-309 4691.5,-353 4691.5,-353 4691.5,-359 4685.5,-365 4679.5,-365\"/>\r\n",
       "<text text-anchor=\"start\" x=\"4549\" y=\"-349.8\" font-family=\"Helvetica,sans-Serif\" font-size=\"14.00\">capital&#45;loss ≤ 0.898</text>\r\n",
       "<text text-anchor=\"start\" x=\"4538.5\" y=\"-334.8\" font-family=\"Helvetica,sans-Serif\" font-size=\"14.00\">friedman_mse = 0.107</text>\r\n",
       "<text text-anchor=\"start\" x=\"4559.5\" y=\"-319.8\" font-family=\"Helvetica,sans-Serif\" font-size=\"14.00\">samples = 4692</text>\r\n",
       "<text text-anchor=\"start\" x=\"4568\" y=\"-304.8\" font-family=\"Helvetica,sans-Serif\" font-size=\"14.00\">value = 0.001</text>\r\n",
       "</g>\r\n",
       "<!-- 56&#45;&gt;70 -->\r\n",
       "<g id=\"edge70\" class=\"edge\"><title>56&#45;&gt;70</title>\r\n",
       "<path fill=\"none\" stroke=\"black\" d=\"M4611,-400.884C4611,-392.778 4611,-383.982 4611,-375.472\"/>\r\n",
       "<polygon fill=\"black\" stroke=\"black\" points=\"4614.5,-375.299 4611,-365.299 4607.5,-375.299 4614.5,-375.299\"/>\r\n",
       "</g>\r\n",
       "<!-- 58 -->\r\n",
       "<g id=\"node59\" class=\"node\"><title>58</title>\r\n",
       "<path fill=\"#e58139\" fill-opacity=\"0.443137\" stroke=\"black\" d=\"M3589,-261C3589,-261 3409,-261 3409,-261 3403,-261 3397,-255 3397,-249 3397,-249 3397,-205 3397,-205 3397,-199 3403,-193 3409,-193 3409,-193 3589,-193 3589,-193 3595,-193 3601,-199 3601,-205 3601,-205 3601,-249 3601,-249 3601,-255 3595,-261 3589,-261\"/>\r\n",
       "<text text-anchor=\"start\" x=\"3405\" y=\"-245.8\" font-family=\"Helvetica,sans-Serif\" font-size=\"14.00\">occupation_ Craft&#45;repair ≤ 0.5</text>\r\n",
       "<text text-anchor=\"start\" x=\"3426.5\" y=\"-230.8\" font-family=\"Helvetica,sans-Serif\" font-size=\"14.00\">friedman_mse = 0.031</text>\r\n",
       "<text text-anchor=\"start\" x=\"3451.5\" y=\"-215.8\" font-family=\"Helvetica,sans-Serif\" font-size=\"14.00\">samples = 554</text>\r\n",
       "<text text-anchor=\"start\" x=\"3458\" y=\"-200.8\" font-family=\"Helvetica,sans-Serif\" font-size=\"14.00\">value = &#45;0.03</text>\r\n",
       "</g>\r\n",
       "<!-- 57&#45;&gt;58 -->\r\n",
       "<g id=\"edge58\" class=\"edge\"><title>57&#45;&gt;58</title>\r\n",
       "<path fill=\"none\" stroke=\"black\" d=\"M3638.79,-296.884C3618.53,-286.901 3596.15,-275.872 3575.35,-265.619\"/>\r\n",
       "<polygon fill=\"black\" stroke=\"black\" points=\"3576.74,-262.405 3566.22,-261.125 3573.65,-268.684 3576.74,-262.405\"/>\r\n",
       "</g>\r\n",
       "<!-- 65 -->\r\n",
       "<g id=\"node66\" class=\"node\"><title>65</title>\r\n",
       "<path fill=\"#e58139\" fill-opacity=\"0.458824\" stroke=\"black\" d=\"M3777.5,-261C3777.5,-261 3634.5,-261 3634.5,-261 3628.5,-261 3622.5,-255 3622.5,-249 3622.5,-249 3622.5,-205 3622.5,-205 3622.5,-199 3628.5,-193 3634.5,-193 3634.5,-193 3777.5,-193 3777.5,-193 3783.5,-193 3789.5,-199 3789.5,-205 3789.5,-205 3789.5,-249 3789.5,-249 3789.5,-255 3783.5,-261 3777.5,-261\"/>\r\n",
       "<text text-anchor=\"start\" x=\"3630.5\" y=\"-245.8\" font-family=\"Helvetica,sans-Serif\" font-size=\"14.00\">hours&#45;per&#45;week ≤ 0.464</text>\r\n",
       "<text text-anchor=\"start\" x=\"3633.5\" y=\"-230.8\" font-family=\"Helvetica,sans-Serif\" font-size=\"14.00\">friedman_mse = 0.094</text>\r\n",
       "<text text-anchor=\"start\" x=\"3662.5\" y=\"-215.8\" font-family=\"Helvetica,sans-Serif\" font-size=\"14.00\">samples = 79</text>\r\n",
       "<text text-anchor=\"start\" x=\"3663\" y=\"-200.8\" font-family=\"Helvetica,sans-Serif\" font-size=\"14.00\">value = 0.018</text>\r\n",
       "</g>\r\n",
       "<!-- 57&#45;&gt;65 -->\r\n",
       "<g id=\"edge65\" class=\"edge\"><title>57&#45;&gt;65</title>\r\n",
       "<path fill=\"none\" stroke=\"black\" d=\"M3706,-296.884C3706,-288.778 3706,-279.982 3706,-271.472\"/>\r\n",
       "<polygon fill=\"black\" stroke=\"black\" points=\"3709.5,-271.299 3706,-261.299 3702.5,-271.299 3709.5,-271.299\"/>\r\n",
       "</g>\r\n",
       "<!-- 59 -->\r\n",
       "<g id=\"node60\" class=\"node\"><title>59</title>\r\n",
       "<path fill=\"#e58139\" fill-opacity=\"0.439216\" stroke=\"black\" d=\"M3383.5,-157C3383.5,-157 3240.5,-157 3240.5,-157 3234.5,-157 3228.5,-151 3228.5,-145 3228.5,-145 3228.5,-101 3228.5,-101 3228.5,-95 3234.5,-89 3240.5,-89 3240.5,-89 3383.5,-89 3383.5,-89 3389.5,-89 3395.5,-95 3395.5,-101 3395.5,-101 3395.5,-145 3395.5,-145 3395.5,-151 3389.5,-157 3383.5,-157\"/>\r\n",
       "<text text-anchor=\"start\" x=\"3236.5\" y=\"-141.8\" font-family=\"Helvetica,sans-Serif\" font-size=\"14.00\">hours&#45;per&#45;week ≤ 0.403</text>\r\n",
       "<text text-anchor=\"start\" x=\"3239.5\" y=\"-126.8\" font-family=\"Helvetica,sans-Serif\" font-size=\"14.00\">friedman_mse = 0.017</text>\r\n",
       "<text text-anchor=\"start\" x=\"3264.5\" y=\"-111.8\" font-family=\"Helvetica,sans-Serif\" font-size=\"14.00\">samples = 412</text>\r\n",
       "<text text-anchor=\"start\" x=\"3271\" y=\"-96.8\" font-family=\"Helvetica,sans-Serif\" font-size=\"14.00\">value = &#45;0.04</text>\r\n",
       "</g>\r\n",
       "<!-- 58&#45;&gt;59 -->\r\n",
       "<g id=\"edge59\" class=\"edge\"><title>58&#45;&gt;59</title>\r\n",
       "<path fill=\"none\" stroke=\"black\" d=\"M3438.29,-192.884C3420.23,-183.035 3400.31,-172.169 3381.73,-162.034\"/>\r\n",
       "<polygon fill=\"black\" stroke=\"black\" points=\"3383.18,-158.841 3372.73,-157.125 3379.83,-164.986 3383.18,-158.841\"/>\r\n",
       "</g>\r\n",
       "<!-- 62 -->\r\n",
       "<g id=\"node63\" class=\"node\"><title>62</title>\r\n",
       "<path fill=\"#e58139\" fill-opacity=\"0.454902\" stroke=\"black\" d=\"M3567.5,-157C3567.5,-157 3430.5,-157 3430.5,-157 3424.5,-157 3418.5,-151 3418.5,-145 3418.5,-145 3418.5,-101 3418.5,-101 3418.5,-95 3424.5,-89 3430.5,-89 3430.5,-89 3567.5,-89 3567.5,-89 3573.5,-89 3579.5,-95 3579.5,-101 3579.5,-101 3579.5,-145 3579.5,-145 3579.5,-151 3573.5,-157 3567.5,-157\"/>\r\n",
       "<text text-anchor=\"start\" x=\"3461\" y=\"-141.8\" font-family=\"Helvetica,sans-Serif\" font-size=\"14.00\">age ≤ 0.404</text>\r\n",
       "<text text-anchor=\"start\" x=\"3426.5\" y=\"-126.8\" font-family=\"Helvetica,sans-Serif\" font-size=\"14.00\">friedman_mse = 0.073</text>\r\n",
       "<text text-anchor=\"start\" x=\"3451.5\" y=\"-111.8\" font-family=\"Helvetica,sans-Serif\" font-size=\"14.00\">samples = 142</text>\r\n",
       "<text text-anchor=\"start\" x=\"3453.5\" y=\"-96.8\" font-family=\"Helvetica,sans-Serif\" font-size=\"14.00\">value = &#45;0.001</text>\r\n",
       "</g>\r\n",
       "<!-- 58&#45;&gt;62 -->\r\n",
       "<g id=\"edge62\" class=\"edge\"><title>58&#45;&gt;62</title>\r\n",
       "<path fill=\"none\" stroke=\"black\" d=\"M3499,-192.884C3499,-184.778 3499,-175.982 3499,-167.472\"/>\r\n",
       "<polygon fill=\"black\" stroke=\"black\" points=\"3502.5,-167.299 3499,-157.299 3495.5,-167.299 3502.5,-167.299\"/>\r\n",
       "</g>\r\n",
       "<!-- 60 -->\r\n",
       "<g id=\"node61\" class=\"node\"><title>60</title>\r\n",
       "<path fill=\"#e58139\" fill-opacity=\"0.215686\" stroke=\"black\" d=\"M3036.5,-53C3036.5,-53 2899.5,-53 2899.5,-53 2893.5,-53 2887.5,-47 2887.5,-41 2887.5,-41 2887.5,-12 2887.5,-12 2887.5,-6 2893.5,-0 2899.5,-0 2899.5,-0 3036.5,-0 3036.5,-0 3042.5,-0 3048.5,-6 3048.5,-12 3048.5,-12 3048.5,-41 3048.5,-41 3048.5,-47 3042.5,-53 3036.5,-53\"/>\r\n",
       "<text text-anchor=\"start\" x=\"2895.5\" y=\"-37.8\" font-family=\"Helvetica,sans-Serif\" font-size=\"14.00\">friedman_mse = 0.012</text>\r\n",
       "<text text-anchor=\"start\" x=\"2920.5\" y=\"-22.8\" font-family=\"Helvetica,sans-Serif\" font-size=\"14.00\">samples = 341</text>\r\n",
       "<text text-anchor=\"start\" x=\"2922.5\" y=\"-7.8\" font-family=\"Helvetica,sans-Serif\" font-size=\"14.00\">value = &#45;0.701</text>\r\n",
       "</g>\r\n",
       "<!-- 59&#45;&gt;60 -->\r\n",
       "<g id=\"edge60\" class=\"edge\"><title>59&#45;&gt;60</title>\r\n",
       "<path fill=\"none\" stroke=\"black\" d=\"M3228.25,-91.7523C3225.14,-90.7965 3222.05,-89.8754 3219,-89 3151.16,-69.5048 3130.27,-70.9901 3058.88,-53.4054\"/>\r\n",
       "<polygon fill=\"black\" stroke=\"black\" points=\"3059.5,-49.953 3048.95,-50.9179 3057.8,-56.7431 3059.5,-49.953\"/>\r\n",
       "</g>\r\n",
       "<!-- 61 -->\r\n",
       "<g id=\"node62\" class=\"node\"><title>61</title>\r\n",
       "<path fill=\"#e58139\" fill-opacity=\"0.192157\" stroke=\"black\" d=\"M3215.5,-53C3215.5,-53 3078.5,-53 3078.5,-53 3072.5,-53 3066.5,-47 3066.5,-41 3066.5,-41 3066.5,-12 3066.5,-12 3066.5,-6 3072.5,-0 3078.5,-0 3078.5,-0 3215.5,-0 3215.5,-0 3221.5,-0 3227.5,-6 3227.5,-12 3227.5,-12 3227.5,-41 3227.5,-41 3227.5,-47 3221.5,-53 3215.5,-53\"/>\r\n",
       "<text text-anchor=\"start\" x=\"3074.5\" y=\"-37.8\" font-family=\"Helvetica,sans-Serif\" font-size=\"14.00\">friedman_mse = 0.036</text>\r\n",
       "<text text-anchor=\"start\" x=\"3103.5\" y=\"-22.8\" font-family=\"Helvetica,sans-Serif\" font-size=\"14.00\">samples = 71</text>\r\n",
       "<text text-anchor=\"start\" x=\"3101.5\" y=\"-7.8\" font-family=\"Helvetica,sans-Serif\" font-size=\"14.00\">value = &#45;0.778</text>\r\n",
       "</g>\r\n",
       "<!-- 59&#45;&gt;61 -->\r\n",
       "<g id=\"edge61\" class=\"edge\"><title>59&#45;&gt;61</title>\r\n",
       "<path fill=\"none\" stroke=\"black\" d=\"M3254.29,-88.9485C3236.8,-78.9318 3217.67,-67.9767 3200.47,-58.1263\"/>\r\n",
       "<polygon fill=\"black\" stroke=\"black\" points=\"3202.09,-55.0195 3191.68,-53.0867 3198.61,-61.0938 3202.09,-55.0195\"/>\r\n",
       "</g>\r\n",
       "<!-- 63 -->\r\n",
       "<g id=\"node64\" class=\"node\"><title>63</title>\r\n",
       "<path fill=\"#e58139\" fill-opacity=\"0.282353\" stroke=\"black\" d=\"M3394.5,-53C3394.5,-53 3257.5,-53 3257.5,-53 3251.5,-53 3245.5,-47 3245.5,-41 3245.5,-41 3245.5,-12 3245.5,-12 3245.5,-6 3251.5,-0 3257.5,-0 3257.5,-0 3394.5,-0 3394.5,-0 3400.5,-0 3406.5,-6 3406.5,-12 3406.5,-12 3406.5,-41 3406.5,-41 3406.5,-47 3400.5,-53 3394.5,-53\"/>\r\n",
       "<text text-anchor=\"start\" x=\"3253.5\" y=\"-37.8\" font-family=\"Helvetica,sans-Serif\" font-size=\"14.00\">friedman_mse = 0.045</text>\r\n",
       "<text text-anchor=\"start\" x=\"3282.5\" y=\"-22.8\" font-family=\"Helvetica,sans-Serif\" font-size=\"14.00\">samples = 79</text>\r\n",
       "<text text-anchor=\"start\" x=\"3280.5\" y=\"-7.8\" font-family=\"Helvetica,sans-Serif\" font-size=\"14.00\">value = &#45;0.508</text>\r\n",
       "</g>\r\n",
       "<!-- 62&#45;&gt;63 -->\r\n",
       "<g id=\"edge63\" class=\"edge\"><title>62&#45;&gt;63</title>\r\n",
       "<path fill=\"none\" stroke=\"black\" d=\"M3438.49,-88.9485C3420.16,-78.9318 3400.1,-67.9767 3382.07,-58.1263\"/>\r\n",
       "<polygon fill=\"black\" stroke=\"black\" points=\"3383.3,-54.809 3372.84,-53.0867 3379.94,-60.9522 3383.3,-54.809\"/>\r\n",
       "</g>\r\n",
       "<!-- 64 -->\r\n",
       "<g id=\"node65\" class=\"node\"><title>64</title>\r\n",
       "<path fill=\"#e58139\" fill-opacity=\"0.635294\" stroke=\"black\" d=\"M3573.5,-53C3573.5,-53 3436.5,-53 3436.5,-53 3430.5,-53 3424.5,-47 3424.5,-41 3424.5,-41 3424.5,-12 3424.5,-12 3424.5,-6 3430.5,-0 3436.5,-0 3436.5,-0 3573.5,-0 3573.5,-0 3579.5,-0 3585.5,-6 3585.5,-12 3585.5,-12 3585.5,-41 3585.5,-41 3585.5,-47 3579.5,-53 3573.5,-53\"/>\r\n",
       "<text text-anchor=\"start\" x=\"3432.5\" y=\"-37.8\" font-family=\"Helvetica,sans-Serif\" font-size=\"14.00\">friedman_mse = 0.104</text>\r\n",
       "<text text-anchor=\"start\" x=\"3461.5\" y=\"-22.8\" font-family=\"Helvetica,sans-Serif\" font-size=\"14.00\">samples = 63</text>\r\n",
       "<text text-anchor=\"start\" x=\"3462\" y=\"-7.8\" font-family=\"Helvetica,sans-Serif\" font-size=\"14.00\">value = 0.538</text>\r\n",
       "</g>\r\n",
       "<!-- 62&#45;&gt;64 -->\r\n",
       "<g id=\"edge64\" class=\"edge\"><title>62&#45;&gt;64</title>\r\n",
       "<path fill=\"none\" stroke=\"black\" d=\"M3501.1,-88.9485C3501.62,-80.7153 3502.18,-71.848 3502.72,-63.4814\"/>\r\n",
       "<polygon fill=\"black\" stroke=\"black\" points=\"3506.23,-63.4384 3503.37,-53.2367 3499.24,-62.9948 3506.23,-63.4384\"/>\r\n",
       "</g>\r\n",
       "<!-- 66 -->\r\n",
       "<g id=\"node67\" class=\"node\"><title>66</title>\r\n",
       "<path fill=\"#e58139\" fill-opacity=\"0.443137\" stroke=\"black\" d=\"M3758.5,-157C3758.5,-157 3621.5,-157 3621.5,-157 3615.5,-157 3609.5,-151 3609.5,-145 3609.5,-145 3609.5,-101 3609.5,-101 3609.5,-95 3615.5,-89 3621.5,-89 3621.5,-89 3758.5,-89 3758.5,-89 3764.5,-89 3770.5,-95 3770.5,-101 3770.5,-101 3770.5,-145 3770.5,-145 3770.5,-151 3764.5,-157 3758.5,-157\"/>\r\n",
       "<text text-anchor=\"start\" x=\"3625.5\" y=\"-141.8\" font-family=\"Helvetica,sans-Serif\" font-size=\"14.00\">education&#45;num ≤ 0.3</text>\r\n",
       "<text text-anchor=\"start\" x=\"3617.5\" y=\"-126.8\" font-family=\"Helvetica,sans-Serif\" font-size=\"14.00\">friedman_mse = 0.047</text>\r\n",
       "<text text-anchor=\"start\" x=\"3646.5\" y=\"-111.8\" font-family=\"Helvetica,sans-Serif\" font-size=\"14.00\">samples = 57</text>\r\n",
       "<text text-anchor=\"start\" x=\"3644.5\" y=\"-96.8\" font-family=\"Helvetica,sans-Serif\" font-size=\"14.00\">value = &#45;0.028</text>\r\n",
       "</g>\r\n",
       "<!-- 65&#45;&gt;66 -->\r\n",
       "<g id=\"edge66\" class=\"edge\"><title>65&#45;&gt;66</title>\r\n",
       "<path fill=\"none\" stroke=\"black\" d=\"M3700.81,-192.884C3699.52,-184.689 3698.12,-175.789 3696.78,-167.192\"/>\r\n",
       "<polygon fill=\"black\" stroke=\"black\" points=\"3700.23,-166.636 3695.22,-157.299 3693.32,-167.721 3700.23,-166.636\"/>\r\n",
       "</g>\r\n",
       "<!-- 69 -->\r\n",
       "<g id=\"node70\" class=\"node\"><title>69</title>\r\n",
       "<path fill=\"#e58139\" fill-opacity=\"0.772549\" stroke=\"black\" d=\"M3937.5,-149.5C3937.5,-149.5 3800.5,-149.5 3800.5,-149.5 3794.5,-149.5 3788.5,-143.5 3788.5,-137.5 3788.5,-137.5 3788.5,-108.5 3788.5,-108.5 3788.5,-102.5 3794.5,-96.5 3800.5,-96.5 3800.5,-96.5 3937.5,-96.5 3937.5,-96.5 3943.5,-96.5 3949.5,-102.5 3949.5,-108.5 3949.5,-108.5 3949.5,-137.5 3949.5,-137.5 3949.5,-143.5 3943.5,-149.5 3937.5,-149.5\"/>\r\n",
       "<text text-anchor=\"start\" x=\"3796.5\" y=\"-134.3\" font-family=\"Helvetica,sans-Serif\" font-size=\"14.00\">friedman_mse = 0.196</text>\r\n",
       "<text text-anchor=\"start\" x=\"3825.5\" y=\"-119.3\" font-family=\"Helvetica,sans-Serif\" font-size=\"14.00\">samples = 22</text>\r\n",
       "<text text-anchor=\"start\" x=\"3826\" y=\"-104.3\" font-family=\"Helvetica,sans-Serif\" font-size=\"14.00\">value = 0.939</text>\r\n",
       "</g>\r\n",
       "<!-- 65&#45;&gt;69 -->\r\n",
       "<g id=\"edge69\" class=\"edge\"><title>65&#45;&gt;69</title>\r\n",
       "<path fill=\"none\" stroke=\"black\" d=\"M3758.92,-192.884C3778.43,-180.676 3800.44,-166.903 3819.62,-154.899\"/>\r\n",
       "<polygon fill=\"black\" stroke=\"black\" points=\"3821.6,-157.792 3828.22,-149.52 3817.88,-151.858 3821.6,-157.792\"/>\r\n",
       "</g>\r\n",
       "<!-- 67 -->\r\n",
       "<g id=\"node68\" class=\"node\"><title>67</title>\r\n",
       "<path fill=\"#e58139\" fill-opacity=\"0.090196\" stroke=\"black\" d=\"M3752.5,-53C3752.5,-53 3615.5,-53 3615.5,-53 3609.5,-53 3603.5,-47 3603.5,-41 3603.5,-41 3603.5,-12 3603.5,-12 3603.5,-6 3609.5,-0 3615.5,-0 3615.5,-0 3752.5,-0 3752.5,-0 3758.5,-0 3764.5,-6 3764.5,-12 3764.5,-12 3764.5,-41 3764.5,-41 3764.5,-47 3758.5,-53 3752.5,-53\"/>\r\n",
       "<text text-anchor=\"start\" x=\"3611.5\" y=\"-37.8\" font-family=\"Helvetica,sans-Serif\" font-size=\"14.00\">friedman_mse = 0.001</text>\r\n",
       "<text text-anchor=\"start\" x=\"3640.5\" y=\"-22.8\" font-family=\"Helvetica,sans-Serif\" font-size=\"14.00\">samples = 30</text>\r\n",
       "<text text-anchor=\"start\" x=\"3638.5\" y=\"-7.8\" font-family=\"Helvetica,sans-Serif\" font-size=\"14.00\">value = &#45;1.081</text>\r\n",
       "</g>\r\n",
       "<!-- 66&#45;&gt;67 -->\r\n",
       "<g id=\"edge67\" class=\"edge\"><title>66&#45;&gt;67</title>\r\n",
       "<path fill=\"none\" stroke=\"black\" d=\"M3687.9,-88.9485C3687.38,-80.7153 3686.82,-71.848 3686.28,-63.4814\"/>\r\n",
       "<polygon fill=\"black\" stroke=\"black\" points=\"3689.76,-62.9948 3685.63,-53.2367 3682.77,-63.4384 3689.76,-62.9948\"/>\r\n",
       "</g>\r\n",
       "<!-- 68 -->\r\n",
       "<g id=\"node69\" class=\"node\"><title>68</title>\r\n",
       "<path fill=\"#e58139\" fill-opacity=\"0.509804\" stroke=\"black\" d=\"M3931.5,-53C3931.5,-53 3794.5,-53 3794.5,-53 3788.5,-53 3782.5,-47 3782.5,-41 3782.5,-41 3782.5,-12 3782.5,-12 3782.5,-6 3788.5,-0 3794.5,-0 3794.5,-0 3931.5,-0 3931.5,-0 3937.5,-0 3943.5,-6 3943.5,-12 3943.5,-12 3943.5,-41 3943.5,-41 3943.5,-47 3937.5,-53 3931.5,-53\"/>\r\n",
       "<text text-anchor=\"start\" x=\"3790.5\" y=\"-37.8\" font-family=\"Helvetica,sans-Serif\" font-size=\"14.00\">friedman_mse = 0.095</text>\r\n",
       "<text text-anchor=\"start\" x=\"3819.5\" y=\"-22.8\" font-family=\"Helvetica,sans-Serif\" font-size=\"14.00\">samples = 27</text>\r\n",
       "<text text-anchor=\"start\" x=\"3820\" y=\"-7.8\" font-family=\"Helvetica,sans-Serif\" font-size=\"14.00\">value = 0.166</text>\r\n",
       "</g>\r\n",
       "<!-- 66&#45;&gt;68 -->\r\n",
       "<g id=\"edge68\" class=\"edge\"><title>66&#45;&gt;68</title>\r\n",
       "<path fill=\"none\" stroke=\"black\" d=\"M3750.51,-88.9485C3768.84,-78.9318 3788.9,-67.9767 3806.93,-58.1263\"/>\r\n",
       "<polygon fill=\"black\" stroke=\"black\" points=\"3809.06,-60.9522 3816.16,-53.0867 3805.7,-54.809 3809.06,-60.9522\"/>\r\n",
       "</g>\r\n",
       "<!-- 71 -->\r\n",
       "<g id=\"node72\" class=\"node\"><title>71</title>\r\n",
       "<path fill=\"#e58139\" fill-opacity=\"0.454902\" stroke=\"black\" d=\"M4541.5,-261C4541.5,-261 4404.5,-261 4404.5,-261 4398.5,-261 4392.5,-255 4392.5,-249 4392.5,-249 4392.5,-205 4392.5,-205 4392.5,-199 4398.5,-193 4404.5,-193 4404.5,-193 4541.5,-193 4541.5,-193 4547.5,-193 4553.5,-199 4553.5,-205 4553.5,-205 4553.5,-249 4553.5,-249 4553.5,-255 4547.5,-261 4541.5,-261\"/>\r\n",
       "<text text-anchor=\"start\" x=\"4411\" y=\"-245.8\" font-family=\"Helvetica,sans-Serif\" font-size=\"14.00\">capital&#45;loss ≤ 0.878</text>\r\n",
       "<text text-anchor=\"start\" x=\"4400.5\" y=\"-230.8\" font-family=\"Helvetica,sans-Serif\" font-size=\"14.00\">friedman_mse = 0.109</text>\r\n",
       "<text text-anchor=\"start\" x=\"4421.5\" y=\"-215.8\" font-family=\"Helvetica,sans-Serif\" font-size=\"14.00\">samples = 4539</text>\r\n",
       "<text text-anchor=\"start\" x=\"4438\" y=\"-200.8\" font-family=\"Helvetica,sans-Serif\" font-size=\"14.00\">value = 0.0</text>\r\n",
       "</g>\r\n",
       "<!-- 70&#45;&gt;71 -->\r\n",
       "<g id=\"edge71\" class=\"edge\"><title>70&#45;&gt;71</title>\r\n",
       "<path fill=\"none\" stroke=\"black\" d=\"M4566.2,-296.884C4553.42,-287.442 4539.38,-277.064 4526.16,-267.292\"/>\r\n",
       "<polygon fill=\"black\" stroke=\"black\" points=\"4528.17,-264.429 4518.05,-261.299 4524.01,-270.058 4528.17,-264.429\"/>\r\n",
       "</g>\r\n",
       "<!-- 78 -->\r\n",
       "<g id=\"node79\" class=\"node\"><title>78</title>\r\n",
       "<path fill=\"#e58139\" fill-opacity=\"0.470588\" stroke=\"black\" d=\"M4934.5,-261C4934.5,-261 4743.5,-261 4743.5,-261 4737.5,-261 4731.5,-255 4731.5,-249 4731.5,-249 4731.5,-205 4731.5,-205 4731.5,-199 4737.5,-193 4743.5,-193 4743.5,-193 4934.5,-193 4934.5,-193 4940.5,-193 4946.5,-199 4946.5,-205 4946.5,-205 4946.5,-249 4946.5,-249 4946.5,-255 4940.5,-261 4934.5,-261\"/>\r\n",
       "<text text-anchor=\"start\" x=\"4739.5\" y=\"-245.8\" font-family=\"Helvetica,sans-Serif\" font-size=\"14.00\">education_level_ HS&#45;grad ≤ 0.5</text>\r\n",
       "<text text-anchor=\"start\" x=\"4766.5\" y=\"-230.8\" font-family=\"Helvetica,sans-Serif\" font-size=\"14.00\">friedman_mse = 0.034</text>\r\n",
       "<text text-anchor=\"start\" x=\"4791.5\" y=\"-215.8\" font-family=\"Helvetica,sans-Serif\" font-size=\"14.00\">samples = 153</text>\r\n",
       "<text text-anchor=\"start\" x=\"4796\" y=\"-200.8\" font-family=\"Helvetica,sans-Serif\" font-size=\"14.00\">value = 0.053</text>\r\n",
       "</g>\r\n",
       "<!-- 70&#45;&gt;78 -->\r\n",
       "<g id=\"edge78\" class=\"edge\"><title>70&#45;&gt;78</title>\r\n",
       "<path fill=\"none\" stroke=\"black\" d=\"M4685.03,-296.884C4707.54,-286.812 4732.43,-275.674 4755.53,-265.344\"/>\r\n",
       "<polygon fill=\"black\" stroke=\"black\" points=\"4757.26,-268.403 4764.96,-261.125 4754.4,-262.014 4757.26,-268.403\"/>\r\n",
       "</g>\r\n",
       "<!-- 72 -->\r\n",
       "<g id=\"node73\" class=\"node\"><title>72</title>\r\n",
       "<path fill=\"#e58139\" fill-opacity=\"0.454902\" stroke=\"black\" d=\"M4277,-157C4277,-157 4149,-157 4149,-157 4143,-157 4137,-151 4137,-145 4137,-145 4137,-101 4137,-101 4137,-95 4143,-89 4149,-89 4149,-89 4277,-89 4277,-89 4283,-89 4289,-95 4289,-101 4289,-101 4289,-145 4289,-145 4289,-151 4283,-157 4277,-157\"/>\r\n",
       "<text text-anchor=\"start\" x=\"4151\" y=\"-141.8\" font-family=\"Helvetica,sans-Serif\" font-size=\"14.00\">capital&#45;loss ≤ 0.868</text>\r\n",
       "<text text-anchor=\"start\" x=\"4145\" y=\"-126.8\" font-family=\"Helvetica,sans-Serif\" font-size=\"14.00\">friedman_mse = 0.11</text>\r\n",
       "<text text-anchor=\"start\" x=\"4161.5\" y=\"-111.8\" font-family=\"Helvetica,sans-Serif\" font-size=\"14.00\">samples = 4488</text>\r\n",
       "<text text-anchor=\"start\" x=\"4170\" y=\"-96.8\" font-family=\"Helvetica,sans-Serif\" font-size=\"14.00\">value = 0.001</text>\r\n",
       "</g>\r\n",
       "<!-- 71&#45;&gt;72 -->\r\n",
       "<g id=\"edge72\" class=\"edge\"><title>71&#45;&gt;72</title>\r\n",
       "<path fill=\"none\" stroke=\"black\" d=\"M4392.16,-194.286C4362.57,-182.676 4328.99,-169.503 4298.96,-157.724\"/>\r\n",
       "<polygon fill=\"black\" stroke=\"black\" points=\"4299.94,-154.347 4289.35,-153.953 4297.38,-160.863 4299.94,-154.347\"/>\r\n",
       "</g>\r\n",
       "<!-- 75 -->\r\n",
       "<g id=\"node76\" class=\"node\"><title>75</title>\r\n",
       "<path fill=\"#e58139\" fill-opacity=\"0.419608\" stroke=\"black\" d=\"M4557,-157C4557,-157 4389,-157 4389,-157 4383,-157 4377,-151 4377,-145 4377,-145 4377,-101 4377,-101 4377,-95 4383,-89 4389,-89 4389,-89 4557,-89 4557,-89 4563,-89 4569,-95 4569,-101 4569,-101 4569,-145 4569,-145 4569,-151 4563,-157 4557,-157\"/>\r\n",
       "<text text-anchor=\"start\" x=\"4385\" y=\"-141.8\" font-family=\"Helvetica,sans-Serif\" font-size=\"14.00\">relationship_ Husband ≤ 0.5</text>\r\n",
       "<text text-anchor=\"start\" x=\"4400.5\" y=\"-126.8\" font-family=\"Helvetica,sans-Serif\" font-size=\"14.00\">friedman_mse = 0.016</text>\r\n",
       "<text text-anchor=\"start\" x=\"4429.5\" y=\"-111.8\" font-family=\"Helvetica,sans-Serif\" font-size=\"14.00\">samples = 51</text>\r\n",
       "<text text-anchor=\"start\" x=\"4427.5\" y=\"-96.8\" font-family=\"Helvetica,sans-Serif\" font-size=\"14.00\">value = &#45;0.098</text>\r\n",
       "</g>\r\n",
       "<!-- 71&#45;&gt;75 -->\r\n",
       "<g id=\"edge75\" class=\"edge\"><title>71&#45;&gt;75</title>\r\n",
       "<path fill=\"none\" stroke=\"black\" d=\"M4473,-192.884C4473,-184.778 4473,-175.982 4473,-167.472\"/>\r\n",
       "<polygon fill=\"black\" stroke=\"black\" points=\"4476.5,-167.299 4473,-157.299 4469.5,-167.299 4476.5,-167.299\"/>\r\n",
       "</g>\r\n",
       "<!-- 73 -->\r\n",
       "<g id=\"node74\" class=\"node\"><title>73</title>\r\n",
       "<path fill=\"#e58139\" fill-opacity=\"0.454902\" stroke=\"black\" d=\"M4102,-53C4102,-53 3974,-53 3974,-53 3968,-53 3962,-47 3962,-41 3962,-41 3962,-12 3962,-12 3962,-6 3968,-0 3974,-0 3974,-0 4102,-0 4102,-0 4108,-0 4114,-6 4114,-12 4114,-12 4114,-41 4114,-41 4114,-47 4108,-53 4102,-53\"/>\r\n",
       "<text text-anchor=\"start\" x=\"3970\" y=\"-37.8\" font-family=\"Helvetica,sans-Serif\" font-size=\"14.00\">friedman_mse = 0.11</text>\r\n",
       "<text text-anchor=\"start\" x=\"3986.5\" y=\"-22.8\" font-family=\"Helvetica,sans-Serif\" font-size=\"14.00\">samples = 4468</text>\r\n",
       "<text text-anchor=\"start\" x=\"3992.5\" y=\"-7.8\" font-family=\"Helvetica,sans-Serif\" font-size=\"14.00\">value = &#45;0.002</text>\r\n",
       "</g>\r\n",
       "<!-- 72&#45;&gt;73 -->\r\n",
       "<g id=\"edge73\" class=\"edge\"><title>72&#45;&gt;73</title>\r\n",
       "<path fill=\"none\" stroke=\"black\" d=\"M4151.79,-88.9485C4133.07,-78.8399 4112.58,-67.7756 4094.21,-57.8555\"/>\r\n",
       "<polygon fill=\"black\" stroke=\"black\" points=\"4095.84,-54.7586 4085.38,-53.0867 4092.52,-60.9179 4095.84,-54.7586\"/>\r\n",
       "</g>\r\n",
       "<!-- 74 -->\r\n",
       "<g id=\"node75\" class=\"node\"><title>74</title>\r\n",
       "<path fill=\"#e58139\" fill-opacity=\"0.803922\" stroke=\"black\" d=\"M4281.5,-53C4281.5,-53 4144.5,-53 4144.5,-53 4138.5,-53 4132.5,-47 4132.5,-41 4132.5,-41 4132.5,-12 4132.5,-12 4132.5,-6 4138.5,-0 4144.5,-0 4144.5,-0 4281.5,-0 4281.5,-0 4287.5,-0 4293.5,-6 4293.5,-12 4293.5,-12 4293.5,-41 4293.5,-41 4293.5,-47 4287.5,-53 4281.5,-53\"/>\r\n",
       "<text text-anchor=\"start\" x=\"4140.5\" y=\"-37.8\" font-family=\"Helvetica,sans-Serif\" font-size=\"14.00\">friedman_mse = 0.162</text>\r\n",
       "<text text-anchor=\"start\" x=\"4169.5\" y=\"-22.8\" font-family=\"Helvetica,sans-Serif\" font-size=\"14.00\">samples = 20</text>\r\n",
       "<text text-anchor=\"start\" x=\"4170\" y=\"-7.8\" font-family=\"Helvetica,sans-Serif\" font-size=\"14.00\">value = 1.034</text>\r\n",
       "</g>\r\n",
       "<!-- 72&#45;&gt;74 -->\r\n",
       "<g id=\"edge74\" class=\"edge\"><title>72&#45;&gt;74</title>\r\n",
       "<path fill=\"none\" stroke=\"black\" d=\"M4213,-88.9485C4213,-80.7153 4213,-71.848 4213,-63.4814\"/>\r\n",
       "<polygon fill=\"black\" stroke=\"black\" points=\"4216.5,-63.2367 4213,-53.2367 4209.5,-63.2367 4216.5,-63.2367\"/>\r\n",
       "</g>\r\n",
       "<!-- 76 -->\r\n",
       "<g id=\"node77\" class=\"node\"><title>76</title>\r\n",
       "<path fill=\"#e58139\" fill-opacity=\"0.070588\" stroke=\"black\" d=\"M4460.5,-53C4460.5,-53 4323.5,-53 4323.5,-53 4317.5,-53 4311.5,-47 4311.5,-41 4311.5,-41 4311.5,-12 4311.5,-12 4311.5,-6 4317.5,-0 4323.5,-0 4323.5,-0 4460.5,-0 4460.5,-0 4466.5,-0 4472.5,-6 4472.5,-12 4472.5,-12 4472.5,-41 4472.5,-41 4472.5,-47 4466.5,-53 4460.5,-53\"/>\r\n",
       "<text text-anchor=\"start\" x=\"4319.5\" y=\"-37.8\" font-family=\"Helvetica,sans-Serif\" font-size=\"14.00\">friedman_mse = 0.004</text>\r\n",
       "<text text-anchor=\"start\" x=\"4348.5\" y=\"-22.8\" font-family=\"Helvetica,sans-Serif\" font-size=\"14.00\">samples = 27</text>\r\n",
       "<text text-anchor=\"start\" x=\"4346.5\" y=\"-7.8\" font-family=\"Helvetica,sans-Serif\" font-size=\"14.00\">value = &#45;1.139</text>\r\n",
       "</g>\r\n",
       "<!-- 75&#45;&gt;76 -->\r\n",
       "<g id=\"edge76\" class=\"edge\"><title>75&#45;&gt;76</title>\r\n",
       "<path fill=\"none\" stroke=\"black\" d=\"M4444.67,-88.9485C4436.91,-79.892 4428.49,-70.0682 4420.7,-60.9875\"/>\r\n",
       "<polygon fill=\"black\" stroke=\"black\" points=\"4423.23,-58.5515 4414.06,-53.2367 4417.91,-63.1071 4423.23,-58.5515\"/>\r\n",
       "</g>\r\n",
       "<!-- 77 -->\r\n",
       "<g id=\"node78\" class=\"node\"><title>77</title>\r\n",
       "<path fill=\"#e58139\" fill-opacity=\"0.090196\" stroke=\"black\" d=\"M4639.5,-53C4639.5,-53 4502.5,-53 4502.5,-53 4496.5,-53 4490.5,-47 4490.5,-41 4490.5,-41 4490.5,-12 4490.5,-12 4490.5,-6 4496.5,-0 4502.5,-0 4502.5,-0 4639.5,-0 4639.5,-0 4645.5,-0 4651.5,-6 4651.5,-12 4651.5,-12 4651.5,-41 4651.5,-41 4651.5,-47 4645.5,-53 4639.5,-53\"/>\r\n",
       "<text text-anchor=\"start\" x=\"4498.5\" y=\"-37.8\" font-family=\"Helvetica,sans-Serif\" font-size=\"14.00\">friedman_mse = 0.025</text>\r\n",
       "<text text-anchor=\"start\" x=\"4527.5\" y=\"-22.8\" font-family=\"Helvetica,sans-Serif\" font-size=\"14.00\">samples = 24</text>\r\n",
       "<text text-anchor=\"start\" x=\"4525.5\" y=\"-7.8\" font-family=\"Helvetica,sans-Serif\" font-size=\"14.00\">value = &#45;1.077</text>\r\n",
       "</g>\r\n",
       "<!-- 75&#45;&gt;77 -->\r\n",
       "<g id=\"edge77\" class=\"edge\"><title>75&#45;&gt;77</title>\r\n",
       "<path fill=\"none\" stroke=\"black\" d=\"M4507.28,-88.9485C4516.86,-79.709 4527.27,-69.671 4536.84,-60.4381\"/>\r\n",
       "<polygon fill=\"black\" stroke=\"black\" points=\"4539.54,-62.6976 4544.31,-53.2367 4534.68,-57.6586 4539.54,-62.6976\"/>\r\n",
       "</g>\r\n",
       "<!-- 79 -->\r\n",
       "<g id=\"node80\" class=\"node\"><title>79</title>\r\n",
       "<path fill=\"#e58139\" fill-opacity=\"0.478431\" stroke=\"black\" d=\"M4907.5,-157C4907.5,-157 4770.5,-157 4770.5,-157 4764.5,-157 4758.5,-151 4758.5,-145 4758.5,-145 4758.5,-101 4758.5,-101 4758.5,-95 4764.5,-89 4770.5,-89 4770.5,-89 4907.5,-89 4907.5,-89 4913.5,-89 4919.5,-95 4919.5,-101 4919.5,-101 4919.5,-145 4919.5,-145 4919.5,-151 4913.5,-157 4907.5,-157\"/>\r\n",
       "<text text-anchor=\"start\" x=\"4801\" y=\"-141.8\" font-family=\"Helvetica,sans-Serif\" font-size=\"14.00\">age ≤ 0.534</text>\r\n",
       "<text text-anchor=\"start\" x=\"4766.5\" y=\"-126.8\" font-family=\"Helvetica,sans-Serif\" font-size=\"14.00\">friedman_mse = 0.033</text>\r\n",
       "<text text-anchor=\"start\" x=\"4791.5\" y=\"-111.8\" font-family=\"Helvetica,sans-Serif\" font-size=\"14.00\">samples = 112</text>\r\n",
       "<text text-anchor=\"start\" x=\"4796\" y=\"-96.8\" font-family=\"Helvetica,sans-Serif\" font-size=\"14.00\">value = 0.078</text>\r\n",
       "</g>\r\n",
       "<!-- 78&#45;&gt;79 -->\r\n",
       "<g id=\"edge79\" class=\"edge\"><title>78&#45;&gt;79</title>\r\n",
       "<path fill=\"none\" stroke=\"black\" d=\"M4839,-192.884C4839,-184.778 4839,-175.982 4839,-167.472\"/>\r\n",
       "<polygon fill=\"black\" stroke=\"black\" points=\"4842.5,-167.299 4839,-157.299 4835.5,-167.299 4842.5,-167.299\"/>\r\n",
       "</g>\r\n",
       "<!-- 82 -->\r\n",
       "<g id=\"node83\" class=\"node\"><title>82</title>\r\n",
       "<path fill=\"#e58139\" fill-opacity=\"0.447059\" stroke=\"black\" d=\"M5176.5,-157C5176.5,-157 5039.5,-157 5039.5,-157 5033.5,-157 5027.5,-151 5027.5,-145 5027.5,-145 5027.5,-101 5027.5,-101 5027.5,-95 5033.5,-89 5039.5,-89 5039.5,-89 5176.5,-89 5176.5,-89 5182.5,-89 5188.5,-95 5188.5,-101 5188.5,-101 5188.5,-145 5188.5,-145 5188.5,-151 5182.5,-157 5176.5,-157\"/>\r\n",
       "<text text-anchor=\"start\" x=\"5046\" y=\"-141.8\" font-family=\"Helvetica,sans-Serif\" font-size=\"14.00\">capital&#45;loss ≤ 0.903</text>\r\n",
       "<text text-anchor=\"start\" x=\"5035.5\" y=\"-126.8\" font-family=\"Helvetica,sans-Serif\" font-size=\"14.00\">friedman_mse = 0.031</text>\r\n",
       "<text text-anchor=\"start\" x=\"5064.5\" y=\"-111.8\" font-family=\"Helvetica,sans-Serif\" font-size=\"14.00\">samples = 41</text>\r\n",
       "<text text-anchor=\"start\" x=\"5062.5\" y=\"-96.8\" font-family=\"Helvetica,sans-Serif\" font-size=\"14.00\">value = &#45;0.017</text>\r\n",
       "</g>\r\n",
       "<!-- 78&#45;&gt;82 -->\r\n",
       "<g id=\"edge82\" class=\"edge\"><title>78&#45;&gt;82</title>\r\n",
       "<path fill=\"none\" stroke=\"black\" d=\"M4926.34,-192.884C4955.68,-181.756 4988.46,-169.327 5018.01,-158.123\"/>\r\n",
       "<polygon fill=\"black\" stroke=\"black\" points=\"5019.37,-161.35 5027.48,-154.532 5016.89,-154.805 5019.37,-161.35\"/>\r\n",
       "</g>\r\n",
       "<!-- 80 -->\r\n",
       "<g id=\"node81\" class=\"node\"><title>80</title>\r\n",
       "<path fill=\"#e58139\" fill-opacity=\"0.647059\" stroke=\"black\" d=\"M4818.5,-53C4818.5,-53 4681.5,-53 4681.5,-53 4675.5,-53 4669.5,-47 4669.5,-41 4669.5,-41 4669.5,-12 4669.5,-12 4669.5,-6 4675.5,-0 4681.5,-0 4681.5,-0 4818.5,-0 4818.5,-0 4824.5,-0 4830.5,-6 4830.5,-12 4830.5,-12 4830.5,-41 4830.5,-41 4830.5,-47 4824.5,-53 4818.5,-53\"/>\r\n",
       "<text text-anchor=\"start\" x=\"4677.5\" y=\"-37.8\" font-family=\"Helvetica,sans-Serif\" font-size=\"14.00\">friedman_mse = 0.027</text>\r\n",
       "<text text-anchor=\"start\" x=\"4706.5\" y=\"-22.8\" font-family=\"Helvetica,sans-Serif\" font-size=\"14.00\">samples = 94</text>\r\n",
       "<text text-anchor=\"start\" x=\"4707\" y=\"-7.8\" font-family=\"Helvetica,sans-Serif\" font-size=\"14.00\">value = 0.571</text>\r\n",
       "</g>\r\n",
       "<!-- 79&#45;&gt;80 -->\r\n",
       "<g id=\"edge80\" class=\"edge\"><title>79&#45;&gt;80</title>\r\n",
       "<path fill=\"none\" stroke=\"black\" d=\"M4807.87,-88.9485C4799.26,-79.8005 4789.9,-69.8697 4781.28,-60.7126\"/>\r\n",
       "<polygon fill=\"black\" stroke=\"black\" points=\"4783.64,-58.1168 4774.24,-53.2367 4778.55,-62.9161 4783.64,-58.1168\"/>\r\n",
       "</g>\r\n",
       "<!-- 81 -->\r\n",
       "<g id=\"node82\" class=\"node\"><title>81</title>\r\n",
       "<path fill=\"#e58139\" stroke=\"black\" d=\"M4997.5,-53C4997.5,-53 4860.5,-53 4860.5,-53 4854.5,-53 4848.5,-47 4848.5,-41 4848.5,-41 4848.5,-12 4848.5,-12 4848.5,-6 4854.5,-0 4860.5,-0 4860.5,-0 4997.5,-0 4997.5,-0 5003.5,-0 5009.5,-6 5009.5,-12 5009.5,-12 5009.5,-41 5009.5,-41 5009.5,-47 5003.5,-53 4997.5,-53\"/>\r\n",
       "<text text-anchor=\"start\" x=\"4856.5\" y=\"-37.8\" font-family=\"Helvetica,sans-Serif\" font-size=\"14.00\">friedman_mse = 0.044</text>\r\n",
       "<text text-anchor=\"start\" x=\"4885.5\" y=\"-22.8\" font-family=\"Helvetica,sans-Serif\" font-size=\"14.00\">samples = 18</text>\r\n",
       "<text text-anchor=\"start\" x=\"4886\" y=\"-7.8\" font-family=\"Helvetica,sans-Serif\" font-size=\"14.00\">value = 1.617</text>\r\n",
       "</g>\r\n",
       "<!-- 79&#45;&gt;81 -->\r\n",
       "<g id=\"edge81\" class=\"edge\"><title>79&#45;&gt;81</title>\r\n",
       "<path fill=\"none\" stroke=\"black\" d=\"M4870.48,-88.9485C4879.19,-79.8005 4888.65,-69.8697 4897.37,-60.7126\"/>\r\n",
       "<polygon fill=\"black\" stroke=\"black\" points=\"4900.13,-62.8919 4904.49,-53.2367 4895.06,-58.0643 4900.13,-62.8919\"/>\r\n",
       "</g>\r\n",
       "<!-- 83 -->\r\n",
       "<g id=\"node84\" class=\"node\"><title>83</title>\r\n",
       "<path fill=\"#e58139\" fill-opacity=\"0.631373\" stroke=\"black\" d=\"M5176.5,-53C5176.5,-53 5039.5,-53 5039.5,-53 5033.5,-53 5027.5,-47 5027.5,-41 5027.5,-41 5027.5,-12 5027.5,-12 5027.5,-6 5033.5,-0 5039.5,-0 5039.5,-0 5176.5,-0 5176.5,-0 5182.5,-0 5188.5,-6 5188.5,-12 5188.5,-12 5188.5,-41 5188.5,-41 5188.5,-47 5182.5,-53 5176.5,-53\"/>\r\n",
       "<text text-anchor=\"start\" x=\"5035.5\" y=\"-37.8\" font-family=\"Helvetica,sans-Serif\" font-size=\"14.00\">friedman_mse = 0.032</text>\r\n",
       "<text text-anchor=\"start\" x=\"5064.5\" y=\"-22.8\" font-family=\"Helvetica,sans-Serif\" font-size=\"14.00\">samples = 21</text>\r\n",
       "<text text-anchor=\"start\" x=\"5065\" y=\"-7.8\" font-family=\"Helvetica,sans-Serif\" font-size=\"14.00\">value = 0.528</text>\r\n",
       "</g>\r\n",
       "<!-- 82&#45;&gt;83 -->\r\n",
       "<g id=\"edge83\" class=\"edge\"><title>82&#45;&gt;83</title>\r\n",
       "<path fill=\"none\" stroke=\"black\" d=\"M5108,-88.9485C5108,-80.7153 5108,-71.848 5108,-63.4814\"/>\r\n",
       "<polygon fill=\"black\" stroke=\"black\" points=\"5111.5,-63.2367 5108,-53.2367 5104.5,-63.2367 5111.5,-63.2367\"/>\r\n",
       "</g>\r\n",
       "<!-- 84 -->\r\n",
       "<g id=\"node85\" class=\"node\"><title>84</title>\r\n",
       "<path fill=\"#e58139\" fill-opacity=\"0.200000\" stroke=\"black\" d=\"M5347,-53C5347,-53 5219,-53 5219,-53 5213,-53 5207,-47 5207,-41 5207,-41 5207,-12 5207,-12 5207,-6 5213,-0 5219,-0 5219,-0 5347,-0 5347,-0 5353,-0 5359,-6 5359,-12 5359,-12 5359,-41 5359,-41 5359,-47 5353,-53 5347,-53\"/>\r\n",
       "<text text-anchor=\"start\" x=\"5215\" y=\"-37.8\" font-family=\"Helvetica,sans-Serif\" font-size=\"14.00\">friedman_mse = 0.02</text>\r\n",
       "<text text-anchor=\"start\" x=\"5239.5\" y=\"-22.8\" font-family=\"Helvetica,sans-Serif\" font-size=\"14.00\">samples = 20</text>\r\n",
       "<text text-anchor=\"start\" x=\"5237.5\" y=\"-7.8\" font-family=\"Helvetica,sans-Serif\" font-size=\"14.00\">value = &#45;0.757</text>\r\n",
       "</g>\r\n",
       "<!-- 82&#45;&gt;84 -->\r\n",
       "<g id=\"edge84\" class=\"edge\"><title>82&#45;&gt;84</title>\r\n",
       "<path fill=\"none\" stroke=\"black\" d=\"M5169.21,-88.9485C5187.93,-78.8399 5208.42,-67.7756 5226.79,-57.8555\"/>\r\n",
       "<polygon fill=\"black\" stroke=\"black\" points=\"5228.48,-60.9179 5235.62,-53.0867 5225.16,-54.7586 5228.48,-60.9179\"/>\r\n",
       "</g>\r\n",
       "<!-- 86 -->\r\n",
       "<g id=\"node87\" class=\"node\"><title>86</title>\r\n",
       "<path fill=\"#e58139\" fill-opacity=\"0.435294\" stroke=\"black\" d=\"M5362.5,-365C5362.5,-365 5225.5,-365 5225.5,-365 5219.5,-365 5213.5,-359 5213.5,-353 5213.5,-353 5213.5,-309 5213.5,-309 5213.5,-303 5219.5,-297 5225.5,-297 5225.5,-297 5362.5,-297 5362.5,-297 5368.5,-297 5374.5,-303 5374.5,-309 5374.5,-309 5374.5,-353 5374.5,-353 5374.5,-359 5368.5,-365 5362.5,-365\"/>\r\n",
       "<text text-anchor=\"start\" x=\"5256\" y=\"-349.8\" font-family=\"Helvetica,sans-Serif\" font-size=\"14.00\">age ≤ 0.527</text>\r\n",
       "<text text-anchor=\"start\" x=\"5221.5\" y=\"-334.8\" font-family=\"Helvetica,sans-Serif\" font-size=\"14.00\">friedman_mse = 0.079</text>\r\n",
       "<text text-anchor=\"start\" x=\"5250.5\" y=\"-319.8\" font-family=\"Helvetica,sans-Serif\" font-size=\"14.00\">samples = 69</text>\r\n",
       "<text text-anchor=\"start\" x=\"5248.5\" y=\"-304.8\" font-family=\"Helvetica,sans-Serif\" font-size=\"14.00\">value = &#45;0.056</text>\r\n",
       "</g>\r\n",
       "<!-- 85&#45;&gt;86 -->\r\n",
       "<g id=\"edge86\" class=\"edge\"><title>85&#45;&gt;86</title>\r\n",
       "<path fill=\"none\" stroke=\"black\" d=\"M5294,-400.884C5294,-392.778 5294,-383.982 5294,-375.472\"/>\r\n",
       "<polygon fill=\"black\" stroke=\"black\" points=\"5297.5,-375.299 5294,-365.299 5290.5,-375.299 5297.5,-375.299\"/>\r\n",
       "</g>\r\n",
       "<!-- 89 -->\r\n",
       "<g id=\"node90\" class=\"node\"><title>89</title>\r\n",
       "<path fill=\"#e58139\" fill-opacity=\"0.462745\" stroke=\"black\" d=\"M5795.5,-365C5795.5,-365 5658.5,-365 5658.5,-365 5652.5,-365 5646.5,-359 5646.5,-353 5646.5,-353 5646.5,-309 5646.5,-309 5646.5,-303 5652.5,-297 5658.5,-297 5658.5,-297 5795.5,-297 5795.5,-297 5801.5,-297 5807.5,-303 5807.5,-309 5807.5,-309 5807.5,-353 5807.5,-353 5807.5,-359 5801.5,-365 5795.5,-365\"/>\r\n",
       "<text text-anchor=\"start\" x=\"5689\" y=\"-349.8\" font-family=\"Helvetica,sans-Serif\" font-size=\"14.00\">age ≤ 0.445</text>\r\n",
       "<text text-anchor=\"start\" x=\"5654.5\" y=\"-334.8\" font-family=\"Helvetica,sans-Serif\" font-size=\"14.00\">friedman_mse = 0.114</text>\r\n",
       "<text text-anchor=\"start\" x=\"5679.5\" y=\"-319.8\" font-family=\"Helvetica,sans-Serif\" font-size=\"14.00\">samples = 896</text>\r\n",
       "<text text-anchor=\"start\" x=\"5684\" y=\"-304.8\" font-family=\"Helvetica,sans-Serif\" font-size=\"14.00\">value = 0.029</text>\r\n",
       "</g>\r\n",
       "<!-- 85&#45;&gt;89 -->\r\n",
       "<g id=\"edge89\" class=\"edge\"><title>85&#45;&gt;89</title>\r\n",
       "<path fill=\"none\" stroke=\"black\" d=\"M5377.74,-414.273C5451.97,-396.787 5560.12,-371.312 5636.36,-353.352\"/>\r\n",
       "<polygon fill=\"black\" stroke=\"black\" points=\"5637.5,-356.679 5646.43,-350.979 5635.89,-349.866 5637.5,-356.679\"/>\r\n",
       "</g>\r\n",
       "<!-- 87 -->\r\n",
       "<g id=\"node88\" class=\"node\"><title>87</title>\r\n",
       "<path fill=\"none\" stroke=\"black\" d=\"M5272.5,-253.5C5272.5,-253.5 5135.5,-253.5 5135.5,-253.5 5129.5,-253.5 5123.5,-247.5 5123.5,-241.5 5123.5,-241.5 5123.5,-212.5 5123.5,-212.5 5123.5,-206.5 5129.5,-200.5 5135.5,-200.5 5135.5,-200.5 5272.5,-200.5 5272.5,-200.5 5278.5,-200.5 5284.5,-206.5 5284.5,-212.5 5284.5,-212.5 5284.5,-241.5 5284.5,-241.5 5284.5,-247.5 5278.5,-253.5 5272.5,-253.5\"/>\r\n",
       "<text text-anchor=\"start\" x=\"5131.5\" y=\"-238.3\" font-family=\"Helvetica,sans-Serif\" font-size=\"14.00\">friedman_mse = 0.037</text>\r\n",
       "<text text-anchor=\"start\" x=\"5160.5\" y=\"-223.3\" font-family=\"Helvetica,sans-Serif\" font-size=\"14.00\">samples = 35</text>\r\n",
       "<text text-anchor=\"start\" x=\"5158.5\" y=\"-208.3\" font-family=\"Helvetica,sans-Serif\" font-size=\"14.00\">value = &#45;1.344</text>\r\n",
       "</g>\r\n",
       "<!-- 86&#45;&gt;87 -->\r\n",
       "<g id=\"edge87\" class=\"edge\"><title>86&#45;&gt;87</title>\r\n",
       "<path fill=\"none\" stroke=\"black\" d=\"M5264.78,-296.884C5254.69,-285.446 5243.38,-272.634 5233.29,-261.19\"/>\r\n",
       "<polygon fill=\"black\" stroke=\"black\" points=\"5235.76,-258.703 5226.52,-253.52 5230.51,-263.334 5235.76,-258.703\"/>\r\n",
       "</g>\r\n",
       "<!-- 88 -->\r\n",
       "<g id=\"node89\" class=\"node\"><title>88</title>\r\n",
       "<path fill=\"#e58139\" fill-opacity=\"0.478431\" stroke=\"black\" d=\"M5451.5,-253.5C5451.5,-253.5 5314.5,-253.5 5314.5,-253.5 5308.5,-253.5 5302.5,-247.5 5302.5,-241.5 5302.5,-241.5 5302.5,-212.5 5302.5,-212.5 5302.5,-206.5 5308.5,-200.5 5314.5,-200.5 5314.5,-200.5 5451.5,-200.5 5451.5,-200.5 5457.5,-200.5 5463.5,-206.5 5463.5,-212.5 5463.5,-212.5 5463.5,-241.5 5463.5,-241.5 5463.5,-247.5 5457.5,-253.5 5451.5,-253.5\"/>\r\n",
       "<text text-anchor=\"start\" x=\"5310.5\" y=\"-238.3\" font-family=\"Helvetica,sans-Serif\" font-size=\"14.00\">friedman_mse = 0.113</text>\r\n",
       "<text text-anchor=\"start\" x=\"5339.5\" y=\"-223.3\" font-family=\"Helvetica,sans-Serif\" font-size=\"14.00\">samples = 34</text>\r\n",
       "<text text-anchor=\"start\" x=\"5344\" y=\"-208.3\" font-family=\"Helvetica,sans-Serif\" font-size=\"14.00\">value = 0.07</text>\r\n",
       "</g>\r\n",
       "<!-- 86&#45;&gt;88 -->\r\n",
       "<g id=\"edge88\" class=\"edge\"><title>86&#45;&gt;88</title>\r\n",
       "<path fill=\"none\" stroke=\"black\" d=\"M5322.9,-296.884C5332.88,-285.446 5344.05,-272.634 5354.04,-261.19\"/>\r\n",
       "<polygon fill=\"black\" stroke=\"black\" points=\"5356.8,-263.356 5360.73,-253.52 5351.52,-258.754 5356.8,-263.356\"/>\r\n",
       "</g>\r\n",
       "<!-- 90 -->\r\n",
       "<g id=\"node91\" class=\"node\"><title>90</title>\r\n",
       "<path fill=\"#e58139\" fill-opacity=\"0.458824\" stroke=\"black\" d=\"M5800,-261C5800,-261 5654,-261 5654,-261 5648,-261 5642,-255 5642,-249 5642,-249 5642,-205 5642,-205 5642,-199 5648,-193 5654,-193 5654,-193 5800,-193 5800,-193 5806,-193 5812,-199 5812,-205 5812,-205 5812,-249 5812,-249 5812,-255 5806,-261 5800,-261\"/>\r\n",
       "<text text-anchor=\"start\" x=\"5650\" y=\"-245.8\" font-family=\"Helvetica,sans-Serif\" font-size=\"14.00\">workclass_ Private ≤ 0.5</text>\r\n",
       "<text text-anchor=\"start\" x=\"5654.5\" y=\"-230.8\" font-family=\"Helvetica,sans-Serif\" font-size=\"14.00\">friedman_mse = 0.116</text>\r\n",
       "<text text-anchor=\"start\" x=\"5679.5\" y=\"-215.8\" font-family=\"Helvetica,sans-Serif\" font-size=\"14.00\">samples = 635</text>\r\n",
       "<text text-anchor=\"start\" x=\"5684\" y=\"-200.8\" font-family=\"Helvetica,sans-Serif\" font-size=\"14.00\">value = 0.014</text>\r\n",
       "</g>\r\n",
       "<!-- 89&#45;&gt;90 -->\r\n",
       "<g id=\"edge90\" class=\"edge\"><title>89&#45;&gt;90</title>\r\n",
       "<path fill=\"none\" stroke=\"black\" d=\"M5727,-296.884C5727,-288.778 5727,-279.982 5727,-271.472\"/>\r\n",
       "<polygon fill=\"black\" stroke=\"black\" points=\"5730.5,-271.299 5727,-261.299 5723.5,-271.299 5730.5,-271.299\"/>\r\n",
       "</g>\r\n",
       "<!-- 97 -->\r\n",
       "<g id=\"node98\" class=\"node\"><title>97</title>\r\n",
       "<path fill=\"#e58139\" fill-opacity=\"0.478431\" stroke=\"black\" d=\"M6357.5,-261C6357.5,-261 6166.5,-261 6166.5,-261 6160.5,-261 6154.5,-255 6154.5,-249 6154.5,-249 6154.5,-205 6154.5,-205 6154.5,-199 6160.5,-193 6166.5,-193 6166.5,-193 6357.5,-193 6357.5,-193 6363.5,-193 6369.5,-199 6369.5,-205 6369.5,-205 6369.5,-249 6369.5,-249 6369.5,-255 6363.5,-261 6357.5,-261\"/>\r\n",
       "<text text-anchor=\"start\" x=\"6162.5\" y=\"-245.8\" font-family=\"Helvetica,sans-Serif\" font-size=\"14.00\">education_level_ HS&#45;grad ≤ 0.5</text>\r\n",
       "<text text-anchor=\"start\" x=\"6189.5\" y=\"-230.8\" font-family=\"Helvetica,sans-Serif\" font-size=\"14.00\">friedman_mse = 0.108</text>\r\n",
       "<text text-anchor=\"start\" x=\"6214.5\" y=\"-215.8\" font-family=\"Helvetica,sans-Serif\" font-size=\"14.00\">samples = 261</text>\r\n",
       "<text text-anchor=\"start\" x=\"6219\" y=\"-200.8\" font-family=\"Helvetica,sans-Serif\" font-size=\"14.00\">value = 0.067</text>\r\n",
       "</g>\r\n",
       "<!-- 89&#45;&gt;97 -->\r\n",
       "<g id=\"edge97\" class=\"edge\"><title>89&#45;&gt;97</title>\r\n",
       "<path fill=\"none\" stroke=\"black\" d=\"M5807.67,-314.619C5897.09,-297.572 6042.12,-269.921 6144.22,-250.455\"/>\r\n",
       "<polygon fill=\"black\" stroke=\"black\" points=\"6145.11,-253.849 6154.28,-248.538 6143.8,-246.973 6145.11,-253.849\"/>\r\n",
       "</g>\r\n",
       "<!-- 91 -->\r\n",
       "<g id=\"node92\" class=\"node\"><title>91</title>\r\n",
       "<path fill=\"#e58139\" fill-opacity=\"0.447059\" stroke=\"black\" d=\"M5699.5,-157C5699.5,-157 5522.5,-157 5522.5,-157 5516.5,-157 5510.5,-151 5510.5,-145 5510.5,-145 5510.5,-101 5510.5,-101 5510.5,-95 5516.5,-89 5522.5,-89 5522.5,-89 5699.5,-89 5699.5,-89 5705.5,-89 5711.5,-95 5711.5,-101 5711.5,-101 5711.5,-145 5711.5,-145 5711.5,-151 5705.5,-157 5699.5,-157\"/>\r\n",
       "<text text-anchor=\"start\" x=\"5518.5\" y=\"-141.8\" font-family=\"Helvetica,sans-Serif\" font-size=\"14.00\">relationship_ Unmarried ≤ 0.5</text>\r\n",
       "<text text-anchor=\"start\" x=\"5538.5\" y=\"-126.8\" font-family=\"Helvetica,sans-Serif\" font-size=\"14.00\">friedman_mse = 0.133</text>\r\n",
       "<text text-anchor=\"start\" x=\"5563.5\" y=\"-111.8\" font-family=\"Helvetica,sans-Serif\" font-size=\"14.00\">samples = 195</text>\r\n",
       "<text text-anchor=\"start\" x=\"5565.5\" y=\"-96.8\" font-family=\"Helvetica,sans-Serif\" font-size=\"14.00\">value = &#45;0.021</text>\r\n",
       "</g>\r\n",
       "<!-- 90&#45;&gt;91 -->\r\n",
       "<g id=\"edge91\" class=\"edge\"><title>90&#45;&gt;91</title>\r\n",
       "<path fill=\"none\" stroke=\"black\" d=\"M5689.34,-192.884C5678.9,-183.709 5667.46,-173.65 5656.63,-164.123\"/>\r\n",
       "<polygon fill=\"black\" stroke=\"black\" points=\"5658.69,-161.274 5648.87,-157.299 5654.07,-166.531 5658.69,-161.274\"/>\r\n",
       "</g>\r\n",
       "<!-- 94 -->\r\n",
       "<g id=\"node95\" class=\"node\"><title>94</title>\r\n",
       "<path fill=\"#e58139\" fill-opacity=\"0.462745\" stroke=\"black\" d=\"M5944.5,-157C5944.5,-157 5741.5,-157 5741.5,-157 5735.5,-157 5729.5,-151 5729.5,-145 5729.5,-145 5729.5,-101 5729.5,-101 5729.5,-95 5735.5,-89 5741.5,-89 5741.5,-89 5944.5,-89 5944.5,-89 5950.5,-89 5956.5,-95 5956.5,-101 5956.5,-101 5956.5,-145 5956.5,-145 5956.5,-151 5950.5,-157 5944.5,-157\"/>\r\n",
       "<text text-anchor=\"start\" x=\"5737.5\" y=\"-141.8\" font-family=\"Helvetica,sans-Serif\" font-size=\"14.00\">education_level_ Bachelors ≤ 0.5</text>\r\n",
       "<text text-anchor=\"start\" x=\"5770.5\" y=\"-126.8\" font-family=\"Helvetica,sans-Serif\" font-size=\"14.00\">friedman_mse = 0.108</text>\r\n",
       "<text text-anchor=\"start\" x=\"5795.5\" y=\"-111.8\" font-family=\"Helvetica,sans-Serif\" font-size=\"14.00\">samples = 440</text>\r\n",
       "<text text-anchor=\"start\" x=\"5800\" y=\"-96.8\" font-family=\"Helvetica,sans-Serif\" font-size=\"14.00\">value = 0.029</text>\r\n",
       "</g>\r\n",
       "<!-- 90&#45;&gt;94 -->\r\n",
       "<g id=\"edge94\" class=\"edge\"><title>90&#45;&gt;94</title>\r\n",
       "<path fill=\"none\" stroke=\"black\" d=\"M5764.66,-192.884C5775.1,-183.709 5786.54,-173.65 5797.37,-164.123\"/>\r\n",
       "<polygon fill=\"black\" stroke=\"black\" points=\"5799.93,-166.531 5805.13,-157.299 5795.31,-161.274 5799.93,-166.531\"/>\r\n",
       "</g>\r\n",
       "<!-- 92 -->\r\n",
       "<g id=\"node93\" class=\"node\"><title>92</title>\r\n",
       "<path fill=\"#e58139\" fill-opacity=\"0.349020\" stroke=\"black\" d=\"M5526.5,-53C5526.5,-53 5389.5,-53 5389.5,-53 5383.5,-53 5377.5,-47 5377.5,-41 5377.5,-41 5377.5,-12 5377.5,-12 5377.5,-6 5383.5,-0 5389.5,-0 5389.5,-0 5526.5,-0 5526.5,-0 5532.5,-0 5538.5,-6 5538.5,-12 5538.5,-12 5538.5,-41 5538.5,-41 5538.5,-47 5532.5,-53 5526.5,-53\"/>\r\n",
       "<text text-anchor=\"start\" x=\"5385.5\" y=\"-37.8\" font-family=\"Helvetica,sans-Serif\" font-size=\"14.00\">friedman_mse = 0.125</text>\r\n",
       "<text text-anchor=\"start\" x=\"5410.5\" y=\"-22.8\" font-family=\"Helvetica,sans-Serif\" font-size=\"14.00\">samples = 170</text>\r\n",
       "<text text-anchor=\"start\" x=\"5412.5\" y=\"-7.8\" font-family=\"Helvetica,sans-Serif\" font-size=\"14.00\">value = &#45;0.306</text>\r\n",
       "</g>\r\n",
       "<!-- 91&#45;&gt;92 -->\r\n",
       "<g id=\"edge92\" class=\"edge\"><title>91&#45;&gt;92</title>\r\n",
       "<path fill=\"none\" stroke=\"black\" d=\"M5557.49,-88.9485C5541.49,-79.0686 5524.02,-68.2758 5508.24,-58.5305\"/>\r\n",
       "<polygon fill=\"black\" stroke=\"black\" points=\"5510.02,-55.5139 5499.67,-53.2367 5506.34,-61.4695 5510.02,-55.5139\"/>\r\n",
       "</g>\r\n",
       "<!-- 93 -->\r\n",
       "<g id=\"node94\" class=\"node\"><title>93</title>\r\n",
       "<path fill=\"#e58139\" fill-opacity=\"0.913725\" stroke=\"black\" d=\"M5705.5,-53C5705.5,-53 5568.5,-53 5568.5,-53 5562.5,-53 5556.5,-47 5556.5,-41 5556.5,-41 5556.5,-12 5556.5,-12 5556.5,-6 5562.5,-0 5568.5,-0 5568.5,-0 5705.5,-0 5705.5,-0 5711.5,-0 5717.5,-6 5717.5,-12 5717.5,-12 5717.5,-41 5717.5,-41 5717.5,-47 5711.5,-53 5705.5,-53\"/>\r\n",
       "<text text-anchor=\"start\" x=\"5564.5\" y=\"-37.8\" font-family=\"Helvetica,sans-Serif\" font-size=\"14.00\">friedman_mse = 0.147</text>\r\n",
       "<text text-anchor=\"start\" x=\"5593.5\" y=\"-22.8\" font-family=\"Helvetica,sans-Serif\" font-size=\"14.00\">samples = 25</text>\r\n",
       "<text text-anchor=\"start\" x=\"5594\" y=\"-7.8\" font-family=\"Helvetica,sans-Serif\" font-size=\"14.00\">value = 1.361</text>\r\n",
       "</g>\r\n",
       "<!-- 91&#45;&gt;93 -->\r\n",
       "<g id=\"edge93\" class=\"edge\"><title>91&#45;&gt;93</title>\r\n",
       "<path fill=\"none\" stroke=\"black\" d=\"M5620.09,-88.9485C5622.41,-80.5323 5624.91,-71.4536 5627.25,-62.9243\"/>\r\n",
       "<polygon fill=\"black\" stroke=\"black\" points=\"5630.64,-63.8069 5629.92,-53.2367 5623.89,-61.9499 5630.64,-63.8069\"/>\r\n",
       "</g>\r\n",
       "<!-- 95 -->\r\n",
       "<g id=\"node96\" class=\"node\"><title>95</title>\r\n",
       "<path fill=\"#e58139\" fill-opacity=\"0.478431\" stroke=\"black\" d=\"M5884.5,-53C5884.5,-53 5747.5,-53 5747.5,-53 5741.5,-53 5735.5,-47 5735.5,-41 5735.5,-41 5735.5,-12 5735.5,-12 5735.5,-6 5741.5,-0 5747.5,-0 5747.5,-0 5884.5,-0 5884.5,-0 5890.5,-0 5896.5,-6 5896.5,-12 5896.5,-12 5896.5,-41 5896.5,-41 5896.5,-47 5890.5,-53 5884.5,-53\"/>\r\n",
       "<text text-anchor=\"start\" x=\"5743.5\" y=\"-37.8\" font-family=\"Helvetica,sans-Serif\" font-size=\"14.00\">friedman_mse = 0.107</text>\r\n",
       "<text text-anchor=\"start\" x=\"5768.5\" y=\"-22.8\" font-family=\"Helvetica,sans-Serif\" font-size=\"14.00\">samples = 268</text>\r\n",
       "<text text-anchor=\"start\" x=\"5773\" y=\"-7.8\" font-family=\"Helvetica,sans-Serif\" font-size=\"14.00\">value = 0.074</text>\r\n",
       "</g>\r\n",
       "<!-- 94&#45;&gt;95 -->\r\n",
       "<g id=\"edge95\" class=\"edge\"><title>94&#45;&gt;95</title>\r\n",
       "<path fill=\"none\" stroke=\"black\" d=\"M5833.56,-88.9485C5831.15,-80.5323 5828.56,-71.4536 5826.12,-62.9243\"/>\r\n",
       "<polygon fill=\"black\" stroke=\"black\" points=\"5829.47,-61.8904 5823.35,-53.2367 5822.74,-63.8135 5829.47,-61.8904\"/>\r\n",
       "</g>\r\n",
       "<!-- 96 -->\r\n",
       "<g id=\"node97\" class=\"node\"><title>96</title>\r\n",
       "<path fill=\"#e58139\" fill-opacity=\"0.596078\" stroke=\"black\" d=\"M6063.5,-53C6063.5,-53 5926.5,-53 5926.5,-53 5920.5,-53 5914.5,-47 5914.5,-41 5914.5,-41 5914.5,-12 5914.5,-12 5914.5,-6 5920.5,-0 5926.5,-0 5926.5,-0 6063.5,-0 6063.5,-0 6069.5,-0 6075.5,-6 6075.5,-12 6075.5,-12 6075.5,-41 6075.5,-41 6075.5,-47 6069.5,-53 6063.5,-53\"/>\r\n",
       "<text text-anchor=\"start\" x=\"5922.5\" y=\"-37.8\" font-family=\"Helvetica,sans-Serif\" font-size=\"14.00\">friedman_mse = 0.108</text>\r\n",
       "<text text-anchor=\"start\" x=\"5947.5\" y=\"-22.8\" font-family=\"Helvetica,sans-Serif\" font-size=\"14.00\">samples = 172</text>\r\n",
       "<text text-anchor=\"start\" x=\"5952\" y=\"-7.8\" font-family=\"Helvetica,sans-Serif\" font-size=\"14.00\">value = 0.422</text>\r\n",
       "</g>\r\n",
       "<!-- 94&#45;&gt;96 -->\r\n",
       "<g id=\"edge96\" class=\"edge\"><title>94&#45;&gt;96</title>\r\n",
       "<path fill=\"none\" stroke=\"black\" d=\"M5896.16,-88.9485C5912.05,-79.0686 5929.41,-68.2758 5945.09,-58.5305\"/>\r\n",
       "<polygon fill=\"black\" stroke=\"black\" points=\"5946.96,-61.489 5953.6,-53.2367 5943.26,-55.5443 5946.96,-61.489\"/>\r\n",
       "</g>\r\n",
       "<!-- 98 -->\r\n",
       "<g id=\"node99\" class=\"node\"><title>98</title>\r\n",
       "<path fill=\"#e58139\" fill-opacity=\"0.470588\" stroke=\"black\" d=\"M6333.5,-157C6333.5,-157 6190.5,-157 6190.5,-157 6184.5,-157 6178.5,-151 6178.5,-145 6178.5,-145 6178.5,-101 6178.5,-101 6178.5,-95 6184.5,-89 6190.5,-89 6190.5,-89 6333.5,-89 6333.5,-89 6339.5,-89 6345.5,-95 6345.5,-101 6345.5,-101 6345.5,-145 6345.5,-145 6345.5,-151 6339.5,-157 6333.5,-157\"/>\r\n",
       "<text text-anchor=\"start\" x=\"6186.5\" y=\"-141.8\" font-family=\"Helvetica,sans-Serif\" font-size=\"14.00\">hours&#45;per&#45;week ≤ 0.577</text>\r\n",
       "<text text-anchor=\"start\" x=\"6189.5\" y=\"-126.8\" font-family=\"Helvetica,sans-Serif\" font-size=\"14.00\">friedman_mse = 0.094</text>\r\n",
       "<text text-anchor=\"start\" x=\"6214.5\" y=\"-111.8\" font-family=\"Helvetica,sans-Serif\" font-size=\"14.00\">samples = 215</text>\r\n",
       "<text text-anchor=\"start\" x=\"6219\" y=\"-96.8\" font-family=\"Helvetica,sans-Serif\" font-size=\"14.00\">value = 0.047</text>\r\n",
       "</g>\r\n",
       "<!-- 97&#45;&gt;98 -->\r\n",
       "<g id=\"edge98\" class=\"edge\"><title>97&#45;&gt;98</title>\r\n",
       "<path fill=\"none\" stroke=\"black\" d=\"M6262,-192.884C6262,-184.778 6262,-175.982 6262,-167.472\"/>\r\n",
       "<polygon fill=\"black\" stroke=\"black\" points=\"6265.5,-167.299 6262,-157.299 6258.5,-167.299 6265.5,-167.299\"/>\r\n",
       "</g>\r\n",
       "<!-- 101 -->\r\n",
       "<g id=\"node102\" class=\"node\"><title>101</title>\r\n",
       "<path fill=\"#e58139\" fill-opacity=\"0.509804\" stroke=\"black\" d=\"M6600.5,-157C6600.5,-157 6463.5,-157 6463.5,-157 6457.5,-157 6451.5,-151 6451.5,-145 6451.5,-145 6451.5,-101 6451.5,-101 6451.5,-95 6457.5,-89 6463.5,-89 6463.5,-89 6600.5,-89 6600.5,-89 6606.5,-89 6612.5,-95 6612.5,-101 6612.5,-101 6612.5,-145 6612.5,-145 6612.5,-151 6606.5,-157 6600.5,-157\"/>\r\n",
       "<text text-anchor=\"start\" x=\"6494\" y=\"-141.8\" font-family=\"Helvetica,sans-Serif\" font-size=\"14.00\">age ≤ 0.541</text>\r\n",
       "<text text-anchor=\"start\" x=\"6459.5\" y=\"-126.8\" font-family=\"Helvetica,sans-Serif\" font-size=\"14.00\">friedman_mse = 0.164</text>\r\n",
       "<text text-anchor=\"start\" x=\"6488.5\" y=\"-111.8\" font-family=\"Helvetica,sans-Serif\" font-size=\"14.00\">samples = 46</text>\r\n",
       "<text text-anchor=\"start\" x=\"6489\" y=\"-96.8\" font-family=\"Helvetica,sans-Serif\" font-size=\"14.00\">value = 0.162</text>\r\n",
       "</g>\r\n",
       "<!-- 97&#45;&gt;101 -->\r\n",
       "<g id=\"edge101\" class=\"edge\"><title>97&#45;&gt;101</title>\r\n",
       "<path fill=\"none\" stroke=\"black\" d=\"M6349.66,-192.884C6379.12,-181.756 6412.02,-169.327 6441.67,-158.123\"/>\r\n",
       "<polygon fill=\"black\" stroke=\"black\" points=\"6443.06,-161.34 6451.18,-154.532 6440.59,-154.792 6443.06,-161.34\"/>\r\n",
       "</g>\r\n",
       "<!-- 99 -->\r\n",
       "<g id=\"node100\" class=\"node\"><title>99</title>\r\n",
       "<path fill=\"#e58139\" fill-opacity=\"0.627451\" stroke=\"black\" d=\"M6242.5,-53C6242.5,-53 6105.5,-53 6105.5,-53 6099.5,-53 6093.5,-47 6093.5,-41 6093.5,-41 6093.5,-12 6093.5,-12 6093.5,-6 6099.5,-0 6105.5,-0 6105.5,-0 6242.5,-0 6242.5,-0 6248.5,-0 6254.5,-6 6254.5,-12 6254.5,-12 6254.5,-41 6254.5,-41 6254.5,-47 6248.5,-53 6242.5,-53\"/>\r\n",
       "<text text-anchor=\"start\" x=\"6101.5\" y=\"-37.8\" font-family=\"Helvetica,sans-Serif\" font-size=\"14.00\">friedman_mse = 0.089</text>\r\n",
       "<text text-anchor=\"start\" x=\"6126.5\" y=\"-22.8\" font-family=\"Helvetica,sans-Serif\" font-size=\"14.00\">samples = 178</text>\r\n",
       "<text text-anchor=\"start\" x=\"6131\" y=\"-7.8\" font-family=\"Helvetica,sans-Serif\" font-size=\"14.00\">value = 0.508</text>\r\n",
       "</g>\r\n",
       "<!-- 98&#45;&gt;99 -->\r\n",
       "<g id=\"edge99\" class=\"edge\"><title>98&#45;&gt;99</title>\r\n",
       "<path fill=\"none\" stroke=\"black\" d=\"M6231.22,-88.9485C6222.7,-79.8005 6213.46,-69.8697 6204.93,-60.7126\"/>\r\n",
       "<polygon fill=\"black\" stroke=\"black\" points=\"6207.34,-58.1698 6197.97,-53.2367 6202.22,-62.9402 6207.34,-58.1698\"/>\r\n",
       "</g>\r\n",
       "<!-- 100 -->\r\n",
       "<g id=\"node101\" class=\"node\"><title>100</title>\r\n",
       "<path fill=\"#e58139\" fill-opacity=\"0.309804\" stroke=\"black\" d=\"M6421.5,-53C6421.5,-53 6284.5,-53 6284.5,-53 6278.5,-53 6272.5,-47 6272.5,-41 6272.5,-41 6272.5,-12 6272.5,-12 6272.5,-6 6278.5,-0 6284.5,-0 6284.5,-0 6421.5,-0 6421.5,-0 6427.5,-0 6433.5,-6 6433.5,-12 6433.5,-12 6433.5,-41 6433.5,-41 6433.5,-47 6427.5,-53 6421.5,-53\"/>\r\n",
       "<text text-anchor=\"start\" x=\"6280.5\" y=\"-37.8\" font-family=\"Helvetica,sans-Serif\" font-size=\"14.00\">friedman_mse = 0.106</text>\r\n",
       "<text text-anchor=\"start\" x=\"6309.5\" y=\"-22.8\" font-family=\"Helvetica,sans-Serif\" font-size=\"14.00\">samples = 37</text>\r\n",
       "<text text-anchor=\"start\" x=\"6307.5\" y=\"-7.8\" font-family=\"Helvetica,sans-Serif\" font-size=\"14.00\">value = &#45;0.432</text>\r\n",
       "</g>\r\n",
       "<!-- 98&#45;&gt;100 -->\r\n",
       "<g id=\"edge100\" class=\"edge\"><title>98&#45;&gt;100</title>\r\n",
       "<path fill=\"none\" stroke=\"black\" d=\"M6293.83,-88.9485C6302.64,-79.8005 6312.2,-69.8697 6321.02,-60.7126\"/>\r\n",
       "<polygon fill=\"black\" stroke=\"black\" points=\"6323.8,-62.8677 6328.22,-53.2367 6318.76,-58.0122 6323.8,-62.8677\"/>\r\n",
       "</g>\r\n",
       "<!-- 102 -->\r\n",
       "<g id=\"node103\" class=\"node\"><title>102</title>\r\n",
       "<path fill=\"#e58139\" fill-opacity=\"0.745098\" stroke=\"black\" d=\"M6600.5,-53C6600.5,-53 6463.5,-53 6463.5,-53 6457.5,-53 6451.5,-47 6451.5,-41 6451.5,-41 6451.5,-12 6451.5,-12 6451.5,-6 6457.5,-0 6463.5,-0 6463.5,-0 6600.5,-0 6600.5,-0 6606.5,-0 6612.5,-6 6612.5,-12 6612.5,-12 6612.5,-41 6612.5,-41 6612.5,-47 6606.5,-53 6600.5,-53\"/>\r\n",
       "<text text-anchor=\"start\" x=\"6459.5\" y=\"-37.8\" font-family=\"Helvetica,sans-Serif\" font-size=\"14.00\">friedman_mse = 0.159</text>\r\n",
       "<text text-anchor=\"start\" x=\"6488.5\" y=\"-22.8\" font-family=\"Helvetica,sans-Serif\" font-size=\"14.00\">samples = 24</text>\r\n",
       "<text text-anchor=\"start\" x=\"6489\" y=\"-7.8\" font-family=\"Helvetica,sans-Serif\" font-size=\"14.00\">value = 0.861</text>\r\n",
       "</g>\r\n",
       "<!-- 101&#45;&gt;102 -->\r\n",
       "<g id=\"edge102\" class=\"edge\"><title>101&#45;&gt;102</title>\r\n",
       "<path fill=\"none\" stroke=\"black\" d=\"M6532,-88.9485C6532,-80.7153 6532,-71.848 6532,-63.4814\"/>\r\n",
       "<polygon fill=\"black\" stroke=\"black\" points=\"6535.5,-63.2367 6532,-53.2367 6528.5,-63.2367 6535.5,-63.2367\"/>\r\n",
       "</g>\r\n",
       "<!-- 103 -->\r\n",
       "<g id=\"node104\" class=\"node\"><title>103</title>\r\n",
       "<path fill=\"#e58139\" fill-opacity=\"0.784314\" stroke=\"black\" d=\"M6779.5,-53C6779.5,-53 6642.5,-53 6642.5,-53 6636.5,-53 6630.5,-47 6630.5,-41 6630.5,-41 6630.5,-12 6630.5,-12 6630.5,-6 6636.5,-0 6642.5,-0 6642.5,-0 6779.5,-0 6779.5,-0 6785.5,-0 6791.5,-6 6791.5,-12 6791.5,-12 6791.5,-41 6791.5,-41 6791.5,-47 6785.5,-53 6779.5,-53\"/>\r\n",
       "<text text-anchor=\"start\" x=\"6638.5\" y=\"-37.8\" font-family=\"Helvetica,sans-Serif\" font-size=\"14.00\">friedman_mse = 0.168</text>\r\n",
       "<text text-anchor=\"start\" x=\"6667.5\" y=\"-22.8\" font-family=\"Helvetica,sans-Serif\" font-size=\"14.00\">samples = 22</text>\r\n",
       "<text text-anchor=\"start\" x=\"6672\" y=\"-7.8\" font-family=\"Helvetica,sans-Serif\" font-size=\"14.00\">value = 0.98</text>\r\n",
       "</g>\r\n",
       "<!-- 101&#45;&gt;103 -->\r\n",
       "<g id=\"edge103\" class=\"edge\"><title>101&#45;&gt;103</title>\r\n",
       "<path fill=\"none\" stroke=\"black\" d=\"M6594.61,-88.9485C6613.75,-78.8399 6634.71,-67.7756 6653.5,-57.8555\"/>\r\n",
       "<polygon fill=\"black\" stroke=\"black\" points=\"6655.32,-60.8506 6662.53,-53.0867 6652.06,-54.6602 6655.32,-60.8506\"/>\r\n",
       "</g>\r\n",
       "<!-- 105 -->\r\n",
       "<g id=\"node106\" class=\"node\"><title>105</title>\r\n",
       "<path fill=\"#e58139\" fill-opacity=\"0.474510\" stroke=\"black\" d=\"M7293,-469C7293,-469 7105,-469 7105,-469 7099,-469 7093,-463 7093,-457 7093,-457 7093,-413 7093,-413 7093,-407 7099,-401 7105,-401 7105,-401 7293,-401 7293,-401 7299,-401 7305,-407 7305,-413 7305,-413 7305,-457 7305,-457 7305,-463 7299,-469 7293,-469\"/>\r\n",
       "<text text-anchor=\"start\" x=\"7101\" y=\"-453.8\" font-family=\"Helvetica,sans-Serif\" font-size=\"14.00\">occupation_ Adm&#45;clerical ≤ 0.5</text>\r\n",
       "<text text-anchor=\"start\" x=\"7126.5\" y=\"-438.8\" font-family=\"Helvetica,sans-Serif\" font-size=\"14.00\">friedman_mse = 0.145</text>\r\n",
       "<text text-anchor=\"start\" x=\"7151.5\" y=\"-423.8\" font-family=\"Helvetica,sans-Serif\" font-size=\"14.00\">samples = 312</text>\r\n",
       "<text text-anchor=\"start\" x=\"7156\" y=\"-408.8\" font-family=\"Helvetica,sans-Serif\" font-size=\"14.00\">value = 0.055</text>\r\n",
       "</g>\r\n",
       "<!-- 104&#45;&gt;105 -->\r\n",
       "<g id=\"edge105\" class=\"edge\"><title>104&#45;&gt;105</title>\r\n",
       "<path fill=\"none\" stroke=\"black\" d=\"M7199,-504.884C7199,-496.778 7199,-487.982 7199,-479.472\"/>\r\n",
       "<polygon fill=\"black\" stroke=\"black\" points=\"7202.5,-479.299 7199,-469.299 7195.5,-479.299 7202.5,-479.299\"/>\r\n",
       "</g>\r\n",
       "<!-- 124 -->\r\n",
       "<g id=\"node125\" class=\"node\"><title>124</title>\r\n",
       "<path fill=\"#e58139\" fill-opacity=\"0.290196\" stroke=\"black\" d=\"M7472.5,-461.5C7472.5,-461.5 7335.5,-461.5 7335.5,-461.5 7329.5,-461.5 7323.5,-455.5 7323.5,-449.5 7323.5,-449.5 7323.5,-420.5 7323.5,-420.5 7323.5,-414.5 7329.5,-408.5 7335.5,-408.5 7335.5,-408.5 7472.5,-408.5 7472.5,-408.5 7478.5,-408.5 7484.5,-414.5 7484.5,-420.5 7484.5,-420.5 7484.5,-449.5 7484.5,-449.5 7484.5,-455.5 7478.5,-461.5 7472.5,-461.5\"/>\r\n",
       "<text text-anchor=\"start\" x=\"7331.5\" y=\"-446.3\" font-family=\"Helvetica,sans-Serif\" font-size=\"14.00\">friedman_mse = 0.071</text>\r\n",
       "<text text-anchor=\"start\" x=\"7360.5\" y=\"-431.3\" font-family=\"Helvetica,sans-Serif\" font-size=\"14.00\">samples = 33</text>\r\n",
       "<text text-anchor=\"start\" x=\"7358.5\" y=\"-416.3\" font-family=\"Helvetica,sans-Serif\" font-size=\"14.00\">value = &#45;0.481</text>\r\n",
       "</g>\r\n",
       "<!-- 104&#45;&gt;124 -->\r\n",
       "<g id=\"edge124\" class=\"edge\"><title>104&#45;&gt;124</title>\r\n",
       "<path fill=\"none\" stroke=\"black\" d=\"M7265.56,-504.884C7290.65,-492.401 7319.02,-478.282 7343.52,-466.091\"/>\r\n",
       "<polygon fill=\"black\" stroke=\"black\" points=\"7345.32,-469.108 7352.71,-461.52 7342.2,-462.841 7345.32,-469.108\"/>\r\n",
       "</g>\r\n",
       "<!-- 106 -->\r\n",
       "<g id=\"node107\" class=\"node\"><title>106</title>\r\n",
       "<path fill=\"#e58139\" fill-opacity=\"0.466667\" stroke=\"black\" d=\"M7297,-365C7297,-365 7101,-365 7101,-365 7095,-365 7089,-359 7089,-353 7089,-353 7089,-309 7089,-309 7089,-303 7095,-297 7101,-297 7101,-297 7297,-297 7297,-297 7303,-297 7309,-303 7309,-309 7309,-309 7309,-353 7309,-353 7309,-359 7303,-365 7297,-365\"/>\r\n",
       "<text text-anchor=\"start\" x=\"7097\" y=\"-349.8\" font-family=\"Helvetica,sans-Serif\" font-size=\"14.00\">occupation_ Prof&#45;specialty ≤ 0.5</text>\r\n",
       "<text text-anchor=\"start\" x=\"7126.5\" y=\"-334.8\" font-family=\"Helvetica,sans-Serif\" font-size=\"14.00\">friedman_mse = 0.129</text>\r\n",
       "<text text-anchor=\"start\" x=\"7151.5\" y=\"-319.8\" font-family=\"Helvetica,sans-Serif\" font-size=\"14.00\">samples = 237</text>\r\n",
       "<text text-anchor=\"start\" x=\"7156\" y=\"-304.8\" font-family=\"Helvetica,sans-Serif\" font-size=\"14.00\">value = 0.033</text>\r\n",
       "</g>\r\n",
       "<!-- 105&#45;&gt;106 -->\r\n",
       "<g id=\"edge106\" class=\"edge\"><title>105&#45;&gt;106</title>\r\n",
       "<path fill=\"none\" stroke=\"black\" d=\"M7199,-400.884C7199,-392.778 7199,-383.982 7199,-375.472\"/>\r\n",
       "<polygon fill=\"black\" stroke=\"black\" points=\"7202.5,-375.299 7199,-365.299 7195.5,-375.299 7202.5,-375.299\"/>\r\n",
       "</g>\r\n",
       "<!-- 117 -->\r\n",
       "<g id=\"node118\" class=\"node\"><title>117</title>\r\n",
       "<path fill=\"#e58139\" fill-opacity=\"0.498039\" stroke=\"black\" d=\"M7726.5,-365C7726.5,-365 7589.5,-365 7589.5,-365 7583.5,-365 7577.5,-359 7577.5,-353 7577.5,-353 7577.5,-309 7577.5,-309 7577.5,-303 7583.5,-297 7589.5,-297 7589.5,-297 7726.5,-297 7726.5,-297 7732.5,-297 7738.5,-303 7738.5,-309 7738.5,-309 7738.5,-353 7738.5,-353 7738.5,-359 7732.5,-365 7726.5,-365\"/>\r\n",
       "<text text-anchor=\"start\" x=\"7585.5\" y=\"-349.8\" font-family=\"Helvetica,sans-Serif\" font-size=\"14.00\">education&#45;num ≤ 0.633</text>\r\n",
       "<text text-anchor=\"start\" x=\"7585.5\" y=\"-334.8\" font-family=\"Helvetica,sans-Serif\" font-size=\"14.00\">friedman_mse = 0.191</text>\r\n",
       "<text text-anchor=\"start\" x=\"7614.5\" y=\"-319.8\" font-family=\"Helvetica,sans-Serif\" font-size=\"14.00\">samples = 75</text>\r\n",
       "<text text-anchor=\"start\" x=\"7615\" y=\"-304.8\" font-family=\"Helvetica,sans-Serif\" font-size=\"14.00\">value = 0.125</text>\r\n",
       "</g>\r\n",
       "<!-- 105&#45;&gt;117 -->\r\n",
       "<g id=\"edge117\" class=\"edge\"><title>105&#45;&gt;117</title>\r\n",
       "<path fill=\"none\" stroke=\"black\" d=\"M7305.12,-403.207C7308.11,-402.449 7311.07,-401.712 7314,-401 7399.32,-380.238 7497.63,-360.979 7567.25,-348.113\"/>\r\n",
       "<polygon fill=\"black\" stroke=\"black\" points=\"7568.11,-351.515 7577.31,-346.262 7566.84,-344.63 7568.11,-351.515\"/>\r\n",
       "</g>\r\n",
       "<!-- 107 -->\r\n",
       "<g id=\"node108\" class=\"node\"><title>107</title>\r\n",
       "<path fill=\"#e58139\" fill-opacity=\"0.454902\" stroke=\"black\" d=\"M7176,-261C7176,-261 6982,-261 6982,-261 6976,-261 6970,-255 6970,-249 6970,-249 6970,-205 6970,-205 6970,-199 6976,-193 6982,-193 6982,-193 7176,-193 7176,-193 7182,-193 7188,-199 7188,-205 7188,-205 7188,-249 7188,-249 7188,-255 7182,-261 7176,-261\"/>\r\n",
       "<text text-anchor=\"start\" x=\"6978\" y=\"-245.8\" font-family=\"Helvetica,sans-Serif\" font-size=\"14.00\">occupation_ Tech&#45;support ≤ 0.5</text>\r\n",
       "<text text-anchor=\"start\" x=\"7006.5\" y=\"-230.8\" font-family=\"Helvetica,sans-Serif\" font-size=\"14.00\">friedman_mse = 0.134</text>\r\n",
       "<text text-anchor=\"start\" x=\"7031.5\" y=\"-215.8\" font-family=\"Helvetica,sans-Serif\" font-size=\"14.00\">samples = 155</text>\r\n",
       "<text text-anchor=\"start\" x=\"7036\" y=\"-200.8\" font-family=\"Helvetica,sans-Serif\" font-size=\"14.00\">value = 0.001</text>\r\n",
       "</g>\r\n",
       "<!-- 106&#45;&gt;107 -->\r\n",
       "<g id=\"edge107\" class=\"edge\"><title>106&#45;&gt;107</title>\r\n",
       "<path fill=\"none\" stroke=\"black\" d=\"M7160.04,-296.884C7149.14,-287.62 7137.18,-277.455 7125.88,-267.845\"/>\r\n",
       "<polygon fill=\"black\" stroke=\"black\" points=\"7128.06,-265.109 7118.18,-261.299 7123.53,-270.443 7128.06,-265.109\"/>\r\n",
       "</g>\r\n",
       "<!-- 112 -->\r\n",
       "<g id=\"node113\" class=\"node\"><title>112</title>\r\n",
       "<path fill=\"#e58139\" fill-opacity=\"0.486275\" stroke=\"black\" d=\"M7421.5,-261C7421.5,-261 7218.5,-261 7218.5,-261 7212.5,-261 7206.5,-255 7206.5,-249 7206.5,-249 7206.5,-205 7206.5,-205 7206.5,-199 7212.5,-193 7218.5,-193 7218.5,-193 7421.5,-193 7421.5,-193 7427.5,-193 7433.5,-199 7433.5,-205 7433.5,-205 7433.5,-249 7433.5,-249 7433.5,-255 7427.5,-261 7421.5,-261\"/>\r\n",
       "<text text-anchor=\"start\" x=\"7214.5\" y=\"-245.8\" font-family=\"Helvetica,sans-Serif\" font-size=\"14.00\">education_level_ Bachelors ≤ 0.5</text>\r\n",
       "<text text-anchor=\"start\" x=\"7247.5\" y=\"-230.8\" font-family=\"Helvetica,sans-Serif\" font-size=\"14.00\">friedman_mse = 0.114</text>\r\n",
       "<text text-anchor=\"start\" x=\"7276.5\" y=\"-215.8\" font-family=\"Helvetica,sans-Serif\" font-size=\"14.00\">samples = 82</text>\r\n",
       "<text text-anchor=\"start\" x=\"7277\" y=\"-200.8\" font-family=\"Helvetica,sans-Serif\" font-size=\"14.00\">value = 0.095</text>\r\n",
       "</g>\r\n",
       "<!-- 106&#45;&gt;112 -->\r\n",
       "<g id=\"edge112\" class=\"edge\"><title>106&#45;&gt;112</title>\r\n",
       "<path fill=\"none\" stroke=\"black\" d=\"M7238.29,-296.884C7249.27,-287.62 7261.33,-277.455 7272.73,-267.845\"/>\r\n",
       "<polygon fill=\"black\" stroke=\"black\" points=\"7275.11,-270.421 7280.5,-261.299 7270.6,-265.069 7275.11,-270.421\"/>\r\n",
       "</g>\r\n",
       "<!-- 108 -->\r\n",
       "<g id=\"node109\" class=\"node\"><title>108</title>\r\n",
       "<path fill=\"#e58139\" fill-opacity=\"0.447059\" stroke=\"black\" d=\"M6997.5,-157C6997.5,-157 6782.5,-157 6782.5,-157 6776.5,-157 6770.5,-151 6770.5,-145 6770.5,-145 6770.5,-101 6770.5,-101 6770.5,-95 6776.5,-89 6782.5,-89 6782.5,-89 6997.5,-89 6997.5,-89 7003.5,-89 7009.5,-95 7009.5,-101 7009.5,-101 7009.5,-145 7009.5,-145 7009.5,-151 7003.5,-157 6997.5,-157\"/>\r\n",
       "<text text-anchor=\"start\" x=\"6778.5\" y=\"-141.8\" font-family=\"Helvetica,sans-Serif\" font-size=\"14.00\">occupation_ Exec&#45;managerial ≤ 0.5</text>\r\n",
       "<text text-anchor=\"start\" x=\"6817.5\" y=\"-126.8\" font-family=\"Helvetica,sans-Serif\" font-size=\"14.00\">friedman_mse = 0.122</text>\r\n",
       "<text text-anchor=\"start\" x=\"6842.5\" y=\"-111.8\" font-family=\"Helvetica,sans-Serif\" font-size=\"14.00\">samples = 135</text>\r\n",
       "<text text-anchor=\"start\" x=\"6844.5\" y=\"-96.8\" font-family=\"Helvetica,sans-Serif\" font-size=\"14.00\">value = &#45;0.018</text>\r\n",
       "</g>\r\n",
       "<!-- 107&#45;&gt;108 -->\r\n",
       "<g id=\"edge108\" class=\"edge\"><title>107&#45;&gt;108</title>\r\n",
       "<path fill=\"none\" stroke=\"black\" d=\"M7017.64,-192.884C6999.31,-182.991 6979.07,-172.07 6960.22,-161.895\"/>\r\n",
       "<polygon fill=\"black\" stroke=\"black\" points=\"6961.84,-158.794 6951.38,-157.125 6958.52,-164.954 6961.84,-158.794\"/>\r\n",
       "</g>\r\n",
       "<!-- 111 -->\r\n",
       "<g id=\"node112\" class=\"node\"><title>111</title>\r\n",
       "<path fill=\"#e58139\" fill-opacity=\"0.662745\" stroke=\"black\" d=\"M7176.5,-149.5C7176.5,-149.5 7039.5,-149.5 7039.5,-149.5 7033.5,-149.5 7027.5,-143.5 7027.5,-137.5 7027.5,-137.5 7027.5,-108.5 7027.5,-108.5 7027.5,-102.5 7033.5,-96.5 7039.5,-96.5 7039.5,-96.5 7176.5,-96.5 7176.5,-96.5 7182.5,-96.5 7188.5,-102.5 7188.5,-108.5 7188.5,-108.5 7188.5,-137.5 7188.5,-137.5 7188.5,-143.5 7182.5,-149.5 7176.5,-149.5\"/>\r\n",
       "<text text-anchor=\"start\" x=\"7035.5\" y=\"-134.3\" font-family=\"Helvetica,sans-Serif\" font-size=\"14.00\">friedman_mse = 0.192</text>\r\n",
       "<text text-anchor=\"start\" x=\"7064.5\" y=\"-119.3\" font-family=\"Helvetica,sans-Serif\" font-size=\"14.00\">samples = 20</text>\r\n",
       "<text text-anchor=\"start\" x=\"7065\" y=\"-104.3\" font-family=\"Helvetica,sans-Serif\" font-size=\"14.00\">value = 0.619</text>\r\n",
       "</g>\r\n",
       "<!-- 107&#45;&gt;111 -->\r\n",
       "<g id=\"edge111\" class=\"edge\"><title>107&#45;&gt;111</title>\r\n",
       "<path fill=\"none\" stroke=\"black\" d=\"M7088.42,-192.884C7091.48,-182.106 7094.89,-170.108 7098,-159.184\"/>\r\n",
       "<polygon fill=\"black\" stroke=\"black\" points=\"7101.38,-160.096 7100.74,-149.52 7094.64,-158.182 7101.38,-160.096\"/>\r\n",
       "</g>\r\n",
       "<!-- 109 -->\r\n",
       "<g id=\"node110\" class=\"node\"><title>109</title>\r\n",
       "<path fill=\"#e58139\" fill-opacity=\"0.333333\" stroke=\"black\" d=\"M6958.5,-53C6958.5,-53 6821.5,-53 6821.5,-53 6815.5,-53 6809.5,-47 6809.5,-41 6809.5,-41 6809.5,-12 6809.5,-12 6809.5,-6 6815.5,-0 6821.5,-0 6821.5,-0 6958.5,-0 6958.5,-0 6964.5,-0 6970.5,-6 6970.5,-12 6970.5,-12 6970.5,-41 6970.5,-41 6970.5,-47 6964.5,-53 6958.5,-53\"/>\r\n",
       "<text text-anchor=\"start\" x=\"6817.5\" y=\"-37.8\" font-family=\"Helvetica,sans-Serif\" font-size=\"14.00\">friedman_mse = 0.131</text>\r\n",
       "<text text-anchor=\"start\" x=\"6846.5\" y=\"-22.8\" font-family=\"Helvetica,sans-Serif\" font-size=\"14.00\">samples = 87</text>\r\n",
       "<text text-anchor=\"start\" x=\"6844.5\" y=\"-7.8\" font-family=\"Helvetica,sans-Serif\" font-size=\"14.00\">value = &#45;0.355</text>\r\n",
       "</g>\r\n",
       "<!-- 108&#45;&gt;109 -->\r\n",
       "<g id=\"edge109\" class=\"edge\"><title>108&#45;&gt;109</title>\r\n",
       "<path fill=\"none\" stroke=\"black\" d=\"M6890,-88.9485C6890,-80.7153 6890,-71.848 6890,-63.4814\"/>\r\n",
       "<polygon fill=\"black\" stroke=\"black\" points=\"6893.5,-63.2367 6890,-53.2367 6886.5,-63.2367 6893.5,-63.2367\"/>\r\n",
       "</g>\r\n",
       "<!-- 110 -->\r\n",
       "<g id=\"node111\" class=\"node\"><title>110</title>\r\n",
       "<path fill=\"#e58139\" fill-opacity=\"0.564706\" stroke=\"black\" d=\"M7137.5,-53C7137.5,-53 7000.5,-53 7000.5,-53 6994.5,-53 6988.5,-47 6988.5,-41 6988.5,-41 6988.5,-12 6988.5,-12 6988.5,-6 6994.5,-0 7000.5,-0 7000.5,-0 7137.5,-0 7137.5,-0 7143.5,-0 7149.5,-6 7149.5,-12 7149.5,-12 7149.5,-41 7149.5,-41 7149.5,-47 7143.5,-53 7137.5,-53\"/>\r\n",
       "<text text-anchor=\"start\" x=\"6996.5\" y=\"-37.8\" font-family=\"Helvetica,sans-Serif\" font-size=\"14.00\">friedman_mse = 0.098</text>\r\n",
       "<text text-anchor=\"start\" x=\"7025.5\" y=\"-22.8\" font-family=\"Helvetica,sans-Serif\" font-size=\"14.00\">samples = 48</text>\r\n",
       "<text text-anchor=\"start\" x=\"7026\" y=\"-7.8\" font-family=\"Helvetica,sans-Serif\" font-size=\"14.00\">value = 0.327</text>\r\n",
       "</g>\r\n",
       "<!-- 108&#45;&gt;110 -->\r\n",
       "<g id=\"edge110\" class=\"edge\"><title>108&#45;&gt;110</title>\r\n",
       "<path fill=\"none\" stroke=\"black\" d=\"M6952.61,-88.9485C6971.75,-78.8399 6992.71,-67.7756 7011.5,-57.8555\"/>\r\n",
       "<polygon fill=\"black\" stroke=\"black\" points=\"7013.32,-60.8506 7020.53,-53.0867 7010.06,-54.6602 7013.32,-60.8506\"/>\r\n",
       "</g>\r\n",
       "<!-- 113 -->\r\n",
       "<g id=\"node114\" class=\"node\"><title>113</title>\r\n",
       "<path fill=\"#e58139\" fill-opacity=\"0.505882\" stroke=\"black\" d=\"M7365,-157C7365,-157 7219,-157 7219,-157 7213,-157 7207,-151 7207,-145 7207,-145 7207,-101 7207,-101 7207,-95 7213,-89 7219,-89 7219,-89 7365,-89 7365,-89 7371,-89 7377,-95 7377,-101 7377,-101 7377,-145 7377,-145 7377,-151 7371,-157 7365,-157\"/>\r\n",
       "<text text-anchor=\"start\" x=\"7215\" y=\"-141.8\" font-family=\"Helvetica,sans-Serif\" font-size=\"14.00\">workclass_ Private ≤ 0.5</text>\r\n",
       "<text text-anchor=\"start\" x=\"7224\" y=\"-126.8\" font-family=\"Helvetica,sans-Serif\" font-size=\"14.00\">friedman_mse = 0.09</text>\r\n",
       "<text text-anchor=\"start\" x=\"7248.5\" y=\"-111.8\" font-family=\"Helvetica,sans-Serif\" font-size=\"14.00\">samples = 53</text>\r\n",
       "<text text-anchor=\"start\" x=\"7249\" y=\"-96.8\" font-family=\"Helvetica,sans-Serif\" font-size=\"14.00\">value = 0.151</text>\r\n",
       "</g>\r\n",
       "<!-- 112&#45;&gt;113 -->\r\n",
       "<g id=\"edge113\" class=\"edge\"><title>112&#45;&gt;113</title>\r\n",
       "<path fill=\"none\" stroke=\"black\" d=\"M7310.91,-192.884C7308.66,-184.689 7306.22,-175.789 7303.86,-167.192\"/>\r\n",
       "<polygon fill=\"black\" stroke=\"black\" points=\"7307.16,-166.016 7301.14,-157.299 7300.41,-167.869 7307.16,-166.016\"/>\r\n",
       "</g>\r\n",
       "<!-- 116 -->\r\n",
       "<g id=\"node117\" class=\"node\"><title>116</title>\r\n",
       "<path fill=\"#e58139\" fill-opacity=\"0.439216\" stroke=\"black\" d=\"M7544.5,-149.5C7544.5,-149.5 7407.5,-149.5 7407.5,-149.5 7401.5,-149.5 7395.5,-143.5 7395.5,-137.5 7395.5,-137.5 7395.5,-108.5 7395.5,-108.5 7395.5,-102.5 7401.5,-96.5 7407.5,-96.5 7407.5,-96.5 7544.5,-96.5 7544.5,-96.5 7550.5,-96.5 7556.5,-102.5 7556.5,-108.5 7556.5,-108.5 7556.5,-137.5 7556.5,-137.5 7556.5,-143.5 7550.5,-149.5 7544.5,-149.5\"/>\r\n",
       "<text text-anchor=\"start\" x=\"7403.5\" y=\"-134.3\" font-family=\"Helvetica,sans-Serif\" font-size=\"14.00\">friedman_mse = 0.141</text>\r\n",
       "<text text-anchor=\"start\" x=\"7432.5\" y=\"-119.3\" font-family=\"Helvetica,sans-Serif\" font-size=\"14.00\">samples = 29</text>\r\n",
       "<text text-anchor=\"start\" x=\"7430.5\" y=\"-104.3\" font-family=\"Helvetica,sans-Serif\" font-size=\"14.00\">value = &#45;0.041</text>\r\n",
       "</g>\r\n",
       "<!-- 112&#45;&gt;116 -->\r\n",
       "<g id=\"edge116\" class=\"edge\"><title>112&#45;&gt;116</title>\r\n",
       "<path fill=\"none\" stroke=\"black\" d=\"M7370.65,-192.884C7389.15,-180.786 7410,-167.151 7428.25,-155.224\"/>\r\n",
       "<polygon fill=\"black\" stroke=\"black\" points=\"7430.52,-157.922 7436.97,-149.52 7426.68,-152.063 7430.52,-157.922\"/>\r\n",
       "</g>\r\n",
       "<!-- 114 -->\r\n",
       "<g id=\"node115\" class=\"node\"><title>114</title>\r\n",
       "<path fill=\"#e58139\" fill-opacity=\"0.878431\" stroke=\"black\" d=\"M7338.5,-53C7338.5,-53 7201.5,-53 7201.5,-53 7195.5,-53 7189.5,-47 7189.5,-41 7189.5,-41 7189.5,-12 7189.5,-12 7189.5,-6 7195.5,-0 7201.5,-0 7201.5,-0 7338.5,-0 7338.5,-0 7344.5,-0 7350.5,-6 7350.5,-12 7350.5,-12 7350.5,-41 7350.5,-41 7350.5,-47 7344.5,-53 7338.5,-53\"/>\r\n",
       "<text text-anchor=\"start\" x=\"7197.5\" y=\"-37.8\" font-family=\"Helvetica,sans-Serif\" font-size=\"14.00\">friedman_mse = 0.075</text>\r\n",
       "<text text-anchor=\"start\" x=\"7226.5\" y=\"-22.8\" font-family=\"Helvetica,sans-Serif\" font-size=\"14.00\">samples = 22</text>\r\n",
       "<text text-anchor=\"start\" x=\"7227\" y=\"-7.8\" font-family=\"Helvetica,sans-Serif\" font-size=\"14.00\">value = 1.251</text>\r\n",
       "</g>\r\n",
       "<!-- 113&#45;&gt;114 -->\r\n",
       "<g id=\"edge114\" class=\"edge\"><title>113&#45;&gt;114</title>\r\n",
       "<path fill=\"none\" stroke=\"black\" d=\"M7284.31,-88.9485C7282.37,-80.6238 7280.28,-71.6509 7278.31,-63.2027\"/>\r\n",
       "<polygon fill=\"black\" stroke=\"black\" points=\"7281.67,-62.1826 7275.99,-53.2367 7274.85,-63.7699 7281.67,-62.1826\"/>\r\n",
       "</g>\r\n",
       "<!-- 115 -->\r\n",
       "<g id=\"node116\" class=\"node\"><title>115</title>\r\n",
       "<path fill=\"#e58139\" fill-opacity=\"0.698039\" stroke=\"black\" d=\"M7517.5,-53C7517.5,-53 7380.5,-53 7380.5,-53 7374.5,-53 7368.5,-47 7368.5,-41 7368.5,-41 7368.5,-12 7368.5,-12 7368.5,-6 7374.5,-0 7380.5,-0 7380.5,-0 7517.5,-0 7517.5,-0 7523.5,-0 7529.5,-6 7529.5,-12 7529.5,-12 7529.5,-41 7529.5,-41 7529.5,-47 7523.5,-53 7517.5,-53\"/>\r\n",
       "<text text-anchor=\"start\" x=\"7376.5\" y=\"-37.8\" font-family=\"Helvetica,sans-Serif\" font-size=\"14.00\">friedman_mse = 0.097</text>\r\n",
       "<text text-anchor=\"start\" x=\"7405.5\" y=\"-22.8\" font-family=\"Helvetica,sans-Serif\" font-size=\"14.00\">samples = 31</text>\r\n",
       "<text text-anchor=\"start\" x=\"7406\" y=\"-7.8\" font-family=\"Helvetica,sans-Serif\" font-size=\"14.00\">value = 0.727</text>\r\n",
       "</g>\r\n",
       "<!-- 113&#45;&gt;115 -->\r\n",
       "<g id=\"edge115\" class=\"edge\"><title>113&#45;&gt;115</title>\r\n",
       "<path fill=\"none\" stroke=\"black\" d=\"M7346.91,-88.9485C7363.33,-79.0686 7381.26,-68.2758 7397.45,-58.5305\"/>\r\n",
       "<polygon fill=\"black\" stroke=\"black\" points=\"7399.48,-61.3924 7406.24,-53.2367 7395.87,-55.395 7399.48,-61.3924\"/>\r\n",
       "</g>\r\n",
       "<!-- 118 -->\r\n",
       "<g id=\"node119\" class=\"node\"><title>118</title>\r\n",
       "<path fill=\"#e58139\" fill-opacity=\"0.517647\" stroke=\"black\" d=\"M7726.5,-261C7726.5,-261 7589.5,-261 7589.5,-261 7583.5,-261 7577.5,-255 7577.5,-249 7577.5,-249 7577.5,-205 7577.5,-205 7577.5,-199 7583.5,-193 7589.5,-193 7589.5,-193 7726.5,-193 7726.5,-193 7732.5,-193 7738.5,-199 7738.5,-205 7738.5,-205 7738.5,-249 7738.5,-249 7738.5,-255 7732.5,-261 7726.5,-261\"/>\r\n",
       "<text text-anchor=\"start\" x=\"7620\" y=\"-245.8\" font-family=\"Helvetica,sans-Serif\" font-size=\"14.00\">age ≤ 0.377</text>\r\n",
       "<text text-anchor=\"start\" x=\"7585.5\" y=\"-230.8\" font-family=\"Helvetica,sans-Serif\" font-size=\"14.00\">friedman_mse = 0.176</text>\r\n",
       "<text text-anchor=\"start\" x=\"7614.5\" y=\"-215.8\" font-family=\"Helvetica,sans-Serif\" font-size=\"14.00\">samples = 57</text>\r\n",
       "<text text-anchor=\"start\" x=\"7615\" y=\"-200.8\" font-family=\"Helvetica,sans-Serif\" font-size=\"14.00\">value = 0.187</text>\r\n",
       "</g>\r\n",
       "<!-- 117&#45;&gt;118 -->\r\n",
       "<g id=\"edge118\" class=\"edge\"><title>117&#45;&gt;118</title>\r\n",
       "<path fill=\"none\" stroke=\"black\" d=\"M7658,-296.884C7658,-288.778 7658,-279.982 7658,-271.472\"/>\r\n",
       "<polygon fill=\"black\" stroke=\"black\" points=\"7661.5,-271.299 7658,-261.299 7654.5,-271.299 7661.5,-271.299\"/>\r\n",
       "</g>\r\n",
       "<!-- 123 -->\r\n",
       "<g id=\"node124\" class=\"node\"><title>123</title>\r\n",
       "<path fill=\"#e58139\" fill-opacity=\"0.349020\" stroke=\"black\" d=\"M7905.5,-253.5C7905.5,-253.5 7768.5,-253.5 7768.5,-253.5 7762.5,-253.5 7756.5,-247.5 7756.5,-241.5 7756.5,-241.5 7756.5,-212.5 7756.5,-212.5 7756.5,-206.5 7762.5,-200.5 7768.5,-200.5 7768.5,-200.5 7905.5,-200.5 7905.5,-200.5 7911.5,-200.5 7917.5,-206.5 7917.5,-212.5 7917.5,-212.5 7917.5,-241.5 7917.5,-241.5 7917.5,-247.5 7911.5,-253.5 7905.5,-253.5\"/>\r\n",
       "<text text-anchor=\"start\" x=\"7764.5\" y=\"-238.3\" font-family=\"Helvetica,sans-Serif\" font-size=\"14.00\">friedman_mse = 0.187</text>\r\n",
       "<text text-anchor=\"start\" x=\"7793.5\" y=\"-223.3\" font-family=\"Helvetica,sans-Serif\" font-size=\"14.00\">samples = 18</text>\r\n",
       "<text text-anchor=\"start\" x=\"7791.5\" y=\"-208.3\" font-family=\"Helvetica,sans-Serif\" font-size=\"14.00\">value = &#45;0.315</text>\r\n",
       "</g>\r\n",
       "<!-- 117&#45;&gt;123 -->\r\n",
       "<g id=\"edge123\" class=\"edge\"><title>117&#45;&gt;123</title>\r\n",
       "<path fill=\"none\" stroke=\"black\" d=\"M7716.12,-296.884C7737.73,-284.566 7762.15,-270.655 7783.34,-258.575\"/>\r\n",
       "<polygon fill=\"black\" stroke=\"black\" points=\"7785.26,-261.512 7792.22,-253.52 7781.79,-255.43 7785.26,-261.512\"/>\r\n",
       "</g>\r\n",
       "<!-- 119 -->\r\n",
       "<g id=\"node120\" class=\"node\"><title>119</title>\r\n",
       "<path fill=\"#e58139\" fill-opacity=\"0.498039\" stroke=\"black\" d=\"M7729.5,-157C7729.5,-157 7586.5,-157 7586.5,-157 7580.5,-157 7574.5,-151 7574.5,-145 7574.5,-145 7574.5,-101 7574.5,-101 7574.5,-95 7580.5,-89 7586.5,-89 7586.5,-89 7729.5,-89 7729.5,-89 7735.5,-89 7741.5,-95 7741.5,-101 7741.5,-101 7741.5,-145 7741.5,-145 7741.5,-151 7735.5,-157 7729.5,-157\"/>\r\n",
       "<text text-anchor=\"start\" x=\"7582.5\" y=\"-141.8\" font-family=\"Helvetica,sans-Serif\" font-size=\"14.00\">hours&#45;per&#45;week ≤ 0.388</text>\r\n",
       "<text text-anchor=\"start\" x=\"7585.5\" y=\"-126.8\" font-family=\"Helvetica,sans-Serif\" font-size=\"14.00\">friedman_mse = 0.201</text>\r\n",
       "<text text-anchor=\"start\" x=\"7614.5\" y=\"-111.8\" font-family=\"Helvetica,sans-Serif\" font-size=\"14.00\">samples = 38</text>\r\n",
       "<text text-anchor=\"start\" x=\"7619\" y=\"-96.8\" font-family=\"Helvetica,sans-Serif\" font-size=\"14.00\">value = 0.13</text>\r\n",
       "</g>\r\n",
       "<!-- 118&#45;&gt;119 -->\r\n",
       "<g id=\"edge119\" class=\"edge\"><title>118&#45;&gt;119</title>\r\n",
       "<path fill=\"none\" stroke=\"black\" d=\"M7658,-192.884C7658,-184.778 7658,-175.982 7658,-167.472\"/>\r\n",
       "<polygon fill=\"black\" stroke=\"black\" points=\"7661.5,-167.299 7658,-157.299 7654.5,-167.299 7661.5,-167.299\"/>\r\n",
       "</g>\r\n",
       "<!-- 122 -->\r\n",
       "<g id=\"node123\" class=\"node\"><title>122</title>\r\n",
       "<path fill=\"#e58139\" fill-opacity=\"0.956863\" stroke=\"black\" d=\"M7908.5,-149.5C7908.5,-149.5 7771.5,-149.5 7771.5,-149.5 7765.5,-149.5 7759.5,-143.5 7759.5,-137.5 7759.5,-137.5 7759.5,-108.5 7759.5,-108.5 7759.5,-102.5 7765.5,-96.5 7771.5,-96.5 7771.5,-96.5 7908.5,-96.5 7908.5,-96.5 7914.5,-96.5 7920.5,-102.5 7920.5,-108.5 7920.5,-108.5 7920.5,-137.5 7920.5,-137.5 7920.5,-143.5 7914.5,-149.5 7908.5,-149.5\"/>\r\n",
       "<text text-anchor=\"start\" x=\"7767.5\" y=\"-134.3\" font-family=\"Helvetica,sans-Serif\" font-size=\"14.00\">friedman_mse = 0.105</text>\r\n",
       "<text text-anchor=\"start\" x=\"7796.5\" y=\"-119.3\" font-family=\"Helvetica,sans-Serif\" font-size=\"14.00\">samples = 19</text>\r\n",
       "<text text-anchor=\"start\" x=\"7797\" y=\"-104.3\" font-family=\"Helvetica,sans-Serif\" font-size=\"14.00\">value = 1.486</text>\r\n",
       "</g>\r\n",
       "<!-- 118&#45;&gt;122 -->\r\n",
       "<g id=\"edge122\" class=\"edge\"><title>118&#45;&gt;122</title>\r\n",
       "<path fill=\"none\" stroke=\"black\" d=\"M7717.09,-192.884C7739.17,-180.511 7764.11,-166.53 7785.73,-154.413\"/>\r\n",
       "<polygon fill=\"black\" stroke=\"black\" points=\"7787.45,-157.462 7794.46,-149.52 7784.03,-151.356 7787.45,-157.462\"/>\r\n",
       "</g>\r\n",
       "<!-- 120 -->\r\n",
       "<g id=\"node121\" class=\"node\"><title>120</title>\r\n",
       "<path fill=\"#e58139\" fill-opacity=\"0.698039\" stroke=\"black\" d=\"M7711.5,-53C7711.5,-53 7574.5,-53 7574.5,-53 7568.5,-53 7562.5,-47 7562.5,-41 7562.5,-41 7562.5,-12 7562.5,-12 7562.5,-6 7568.5,-0 7574.5,-0 7574.5,-0 7711.5,-0 7711.5,-0 7717.5,-0 7723.5,-6 7723.5,-12 7723.5,-12 7723.5,-41 7723.5,-41 7723.5,-47 7717.5,-53 7711.5,-53\"/>\r\n",
       "<text text-anchor=\"start\" x=\"7570.5\" y=\"-37.8\" font-family=\"Helvetica,sans-Serif\" font-size=\"14.00\">friedman_mse = 0.184</text>\r\n",
       "<text text-anchor=\"start\" x=\"7599.5\" y=\"-22.8\" font-family=\"Helvetica,sans-Serif\" font-size=\"14.00\">samples = 18</text>\r\n",
       "<text text-anchor=\"start\" x=\"7600\" y=\"-7.8\" font-family=\"Helvetica,sans-Serif\" font-size=\"14.00\">value = 0.727</text>\r\n",
       "</g>\r\n",
       "<!-- 119&#45;&gt;120 -->\r\n",
       "<g id=\"edge120\" class=\"edge\"><title>119&#45;&gt;120</title>\r\n",
       "<path fill=\"none\" stroke=\"black\" d=\"M7652.75,-88.9485C7651.43,-80.6238 7650.01,-71.6509 7648.67,-63.2027\"/>\r\n",
       "<polygon fill=\"black\" stroke=\"black\" points=\"7652.11,-62.5643 7647.09,-53.2367 7645.2,-63.6618 7652.11,-62.5643\"/>\r\n",
       "</g>\r\n",
       "<!-- 121 -->\r\n",
       "<g id=\"node122\" class=\"node\"><title>121</title>\r\n",
       "<path fill=\"#e58139\" fill-opacity=\"0.694118\" stroke=\"black\" d=\"M7890.5,-53C7890.5,-53 7753.5,-53 7753.5,-53 7747.5,-53 7741.5,-47 7741.5,-41 7741.5,-41 7741.5,-12 7741.5,-12 7741.5,-6 7747.5,-0 7753.5,-0 7753.5,-0 7890.5,-0 7890.5,-0 7896.5,-0 7902.5,-6 7902.5,-12 7902.5,-12 7902.5,-41 7902.5,-41 7902.5,-47 7896.5,-53 7890.5,-53\"/>\r\n",
       "<text text-anchor=\"start\" x=\"7749.5\" y=\"-37.8\" font-family=\"Helvetica,sans-Serif\" font-size=\"14.00\">friedman_mse = 0.217</text>\r\n",
       "<text text-anchor=\"start\" x=\"7778.5\" y=\"-22.8\" font-family=\"Helvetica,sans-Serif\" font-size=\"14.00\">samples = 20</text>\r\n",
       "<text text-anchor=\"start\" x=\"7779\" y=\"-7.8\" font-family=\"Helvetica,sans-Serif\" font-size=\"14.00\">value = 0.717</text>\r\n",
       "</g>\r\n",
       "<!-- 119&#45;&gt;121 -->\r\n",
       "<g id=\"edge121\" class=\"edge\"><title>119&#45;&gt;121</title>\r\n",
       "<path fill=\"none\" stroke=\"black\" d=\"M7715.36,-88.9485C7732.74,-78.9318 7751.75,-67.9767 7768.85,-58.1263\"/>\r\n",
       "<polygon fill=\"black\" stroke=\"black\" points=\"7770.68,-61.112 7777.6,-53.0867 7767.18,-55.0468 7770.68,-61.112\"/>\r\n",
       "</g>\r\n",
       "</g>\r\n",
       "</svg>\r\n"
      ],
      "text/plain": [
       "<graphviz.files.Source at 0xfee4f28>"
      ]
     },
     "execution_count": 41,
     "metadata": {},
     "output_type": "execute_result"
    }
   ],
   "source": [
    "from sklearn import tree\n",
    "import graphviz \n",
    "#map_clf = best_clf.fit(X_test,y_test)\n",
    "dot_data = tree.export_graphviz(sub_tree, out_file=None, \n",
    "                         feature_names=encoded_columns,  \n",
    "                         class_names=\"Income\",  \n",
    "                         filled=True, rounded=True,  \n",
    "                         special_characters=True)  \n",
    "graph = graphviz.Source(dot_data)  \n",
    "graph "
   ]
  },
  {
   "cell_type": "markdown",
   "metadata": {},
   "source": [
    "### Question 5 - Final Model Evaluation\n",
    "\n",
    "* What is your optimized model's accuracy and F-score on the testing data? \n",
    "* Are these scores better or worse than the unoptimized model? \n",
    "* How do the results from your optimized model compare to the naive predictor benchmarks you found earlier in **Question 1**?_  \n",
    "\n",
    "**Note:** Fill in the table below with your results, and then provide discussion in the **Answer** box."
   ]
  },
  {
   "cell_type": "markdown",
   "metadata": {},
   "source": [
    "#### **Answer: **"
   ]
  },
  {
   "cell_type": "markdown",
   "metadata": {},
   "source": [
    "\n",
    "The optimized model is marginally better then the non-optimised model. Overall the Gradient boosted classifier performs over twice as well then the naive predictor in the f-0.5 score. I would also like to note that the gradient boosted classifier takes around 6 times longer to train on the whole training set then AdaBoost even though their f-score and accuracy scores are very similar, even after grid search. I would recommend switching over to Adaboost in a situation where a more thorough grid search were to be performed and training time is an issue."
   ]
  },
  {
   "cell_type": "markdown",
   "metadata": {},
   "source": [
    "**Results:**\n",
    "\n",
    "|     Metric     | Unoptimized Model | Optimized Model |\n",
    "| :------------: | :---------------: | :-------------: | \n",
    "| Accuracy Score |     86.30%        |      86.99%     |\n",
    "| F-score        |     73.95%        |      74.89%     |\n"
   ]
  },
  {
   "cell_type": "markdown",
   "metadata": {},
   "source": [
    "----\n",
    "## Feature Importance\n",
    "\n",
    "An important task when performing supervised learning on a dataset like the census data we study here is determining which features provide the most predictive power. By focusing on the relationship between only a few crucial features and the target label we simplify our understanding of the phenomenon, which is most always a useful thing to do. In the case of this project, that means we wish to identify a small number of features that most strongly predict whether an individual makes at most or more than \\$50,000.\n",
    "\n",
    "Choose a scikit-learn classifier (e.g., adaboost, random forests) that has a `feature_importance_` attribute, which is a function that ranks the importance of features according to the chosen classifier.  In the next python cell fit this classifier to training set and use this attribute to determine the top 5 most important features for the census dataset."
   ]
  },
  {
   "cell_type": "markdown",
   "metadata": {},
   "source": [
    "### Question 6 - Feature Relevance Observation\n",
    "When **Exploring the Data**, it was shown there are thirteen available features for each individual on record in the census data. Of these thirteen records, which five features do you believe to be most important for prediction, and in what order would you rank them and why?"
   ]
  },
  {
   "cell_type": "markdown",
   "metadata": {},
   "source": [
    "#### **Answer:**"
   ]
  },
  {
   "cell_type": "markdown",
   "metadata": {},
   "source": [
    "As a reminding these were the features listed:\n",
    "* age: continuous.\n",
    "* workclass: Private, Self-emp-not-inc, Self-emp-inc, Federal-gov, Local-gov, State-gov, Without-pay, Never-worked.\n",
    "* education: Bachelors, Some-college, 11th, HS-grad, Prof-school, Assoc-acdm, Assoc-voc, 9th, 7th-8th, 12th, Masters, 1st-4th, 10th, Doctorate, 5th-6th, Preschool.\n",
    "* education-num: continuous.\n",
    "* marital-status: Married-civ-spouse, Divorced, Never-married, Separated, Widowed, Married-spouse-absent, Married-AF-spouse.\n",
    "* occupation: Tech-support, Craft-repair, Other-service, Sales, Exec-managerial, Prof-specialty, Handlers-cleaners, Machine-op-inspct, Adm-clerical, Farming-fishing, Transport-moving, Priv-house-serv, Protective-serv, Armed-Forces.\n",
    "* relationship: Wife, Own-child, Husband, Not-in-family, Other-relative, Unmarried.\n",
    "* race: Black, White, Asian-Pac-Islander, Amer-Indian-Eskimo, Other.\n",
    "* sex: Female, Male.\n",
    "* capital-gain: continuous.\n",
    "* capital-loss: continuous.\n",
    "* hours-per-week: continuous.\n",
    "* native-country: United-States, Cambodia, England, Puerto-Rico, Canada, Germany, Outlying-US(Guam-USVI-etc), India, Japan, Greece, South, China, Cuba, Iran, Honduras, Philippines, Italy, Poland, Jamaica, Vietnam, Mexico, Portugal, Ireland, France, Dominican-Republic, Laos, Ecuador, Taiwan, Haiti, Columbia, Hungary, Guatemala, Nicaragua, Scotland, Thailand, Yugoslavia, El-Salvador, Trinadad&Tobago, Peru, Hong, Holand-Netherlands.\n"
   ]
  },
  {
   "cell_type": "markdown",
   "metadata": {},
   "source": [
    "I believe the 5 most important features are:\n",
    "* occupation - ones salary is tied to their occupation and occupations have similar salaries\n",
    "* education - Education has been shown in the past to have a correlation with earning potential, so I'm making the assumption that certain levels of eduction would imply the individual might have more disposable income to donate\n",
    "* hours-per-week - Similar to the point above, I would assume that the those who work long hours (in good jobs) will be high earners \n",
    "* capital-gain & capital-loss - capital gain and loss as a raw value is a factor of what an individual invests which in it self is tied to their income"
   ]
  },
  {
   "cell_type": "markdown",
   "metadata": {},
   "source": [
    "### Implementation - Extracting Feature Importance\n",
    "Choose a `scikit-learn` supervised learning algorithm that has a `feature_importance_` attribute availble for it. This attribute is a function that ranks the importance of each feature when making predictions based on the chosen algorithm.\n",
    "\n",
    "In the code cell below, you will need to implement the following:\n",
    " - Import a supervised learning model from sklearn if it is different from the three used earlier.\n",
    " - Train the supervised model on the entire training set.\n",
    " - Extract the feature importances using `'.feature_importances_'`."
   ]
  },
  {
   "cell_type": "code",
   "execution_count": 51,
   "metadata": {
    "scrolled": true
   },
   "outputs": [
    {
     "data": {
      "image/png": "[encoded data removed]",
      "text/plain": [
       "<matplotlib.figure.Figure at 0xbf70780>"
      ]
     },
     "metadata": {},
     "output_type": "display_data"
    }
   ],
   "source": [
    "# TODO: Import a supervised learning model that has 'feature_importances_'\n",
    "from sklearn.ensemble import AdaBoostClassifier\n",
    "\n",
    "clf = AdaBoostClassifier()\n",
    "\n",
    "# TODO: Train the supervised model on the training set using .fit(X_train, y_train)\n",
    "model = clf.fit(X_train, y_train)\n",
    "\n",
    "# TODO: Extract the feature importances using .feature_importances_ \n",
    "importances = model.feature_importances_\n",
    "\n",
    "# Plot\n",
    "vs.feature_plot(importances, X_train, y_train)"
   ]
  },
  {
   "cell_type": "markdown",
   "metadata": {},
   "source": [
    "### Question 7 - Extracting Feature Importance\n",
    "\n",
    "Observe the visualization created above which displays the five most relevant features for predicting if an individual makes at most or above \\$50,000.  \n",
    "* How do these five features compare to the five features you discussed in **Question 6**?\n",
    "* If you were close to the same answer, how does this visualization confirm your thoughts? \n",
    "* If you were not close, why do you think these features are more relevant?"
   ]
  },
  {
   "cell_type": "markdown",
   "metadata": {},
   "source": [
    "#### **Answer:**"
   ]
  },
  {
   "cell_type": "markdown",
   "metadata": {},
   "source": [
    "A high cumulative feature weight relative to the feature weight implies that the feature was used to make decisions repeatadly in the numerouse weak learners in the ensamble method. ***(I am unsure of this clime???)***\n",
    "\n",
    "My prediction of captial-gain and hours-per-week proved to be right as the high cumulative feature weight relative to the feature weight shows that they were used repeatedly.\n",
    "\n",
    "The remaining features I didn't predict correctly. It makes sense that age and education-num would be important features in predicting someones income. Assuming the type of education one has correlates to the kind of job that person has it would then make sense that pay was linked to that as well. It makes sense that age is important if one considers work experiance and how it is tied to ones pay."
   ]
  },
  {
   "cell_type": "markdown",
   "metadata": {},
   "source": [
    "\n",
    "\n",
    "### Feature Selection\n",
    "How does a model perform if we only use a subset of all the available features in the data? With less features required to train, the expectation is that training and prediction time is much lower — at the cost of performance metrics. From the visualization above, we see that the top five most important features contribute more than half of the importance of **all** features present in the data. This hints that we can attempt to *reduce the feature space* and simplify the information required for the model to learn. The code cell below will use the same optimized model you found earlier, and train it on the same training set *with only the top five important features*. "
   ]
  },
  {
   "cell_type": "code",
   "execution_count": 47,
   "metadata": {},
   "outputs": [
    {
     "name": "stdout",
     "output_type": "stream",
     "text": [
      "Final Model trained on full data\n",
      "------\n",
      "Accuracy on testing data: 0.8699\n",
      "F-score on testing data: 0.7489\n",
      "\n",
      "Final Model trained on reduced data\n",
      "------\n",
      "Accuracy on testing data: 0.8503\n",
      "F-score on testing data: 0.7038\n"
     ]
    }
   ],
   "source": [
    "# Import functionality for cloning a model\n",
    "from sklearn.base import clone\n",
    "\n",
    "# Reduce the feature space\n",
    "X_train_reduced = X_train[X_train.columns.values[(np.argsort(importances)[::-1])[:5]]]\n",
    "X_test_reduced = X_test[X_test.columns.values[(np.argsort(importances)[::-1])[:5]]]\n",
    "\n",
    "# Train on the \"best\" model found from grid search earlier\n",
    "clf = (clone(best_clf)).fit(X_train_reduced, y_train)\n",
    "\n",
    "# Make new predictions\n",
    "reduced_predictions = clf.predict(X_test_reduced)\n",
    "\n",
    "# Report scores from the final model using both versions of data\n",
    "print \"Final Model trained on full data\\n------\"\n",
    "print \"Accuracy on testing data: {:.4f}\".format(accuracy_score(y_test, best_predictions))\n",
    "print \"F-score on testing data: {:.4f}\".format(fbeta_score(y_test, best_predictions, beta = 0.5))\n",
    "print \"\\nFinal Model trained on reduced data\\n------\"\n",
    "print \"Accuracy on testing data: {:.4f}\".format(accuracy_score(y_test, reduced_predictions))\n",
    "print \"F-score on testing data: {:.4f}\".format(fbeta_score(y_test, reduced_predictions, beta = 0.5))"
   ]
  },
  {
   "cell_type": "markdown",
   "metadata": {},
   "source": [
    "### Question 8 - Effects of Feature Selection\n",
    "\n",
    "* How does the final model's F-score and accuracy score on the reduced data using only five features compare to those same scores when all features are used?\n",
    "* If training time was a factor, would you consider using the reduced data as your training set?"
   ]
  },
  {
   "cell_type": "markdown",
   "metadata": {},
   "source": [
    "#### **Answer:**"
   ]
  },
  {
   "cell_type": "markdown",
   "metadata": {},
   "source": [
    "There is a negligible loss in both accuracy and F-beta score. If training time was a factor I would cut out features that were deemed unimportant. But I would always make sure to include all the features when testing out new model configurations as new information emerge from the data that one would miss otherwise."
   ]
  },
  {
   "cell_type": "markdown",
   "metadata": {},
   "source": [
    "> **Note**: Once you have completed all of the code implementations and successfully answered each question above, you may finalize your work by exporting the iPython Notebook as an HTML document. You can do this by using the menu above and navigating to  \n",
    "**File -> Download as -> HTML (.html)**. Include the finished document along with this notebook as your submission."
   ]
  }
 ],
 "metadata": {
  "kernelspec": {
   "display_name": "Python 2",
   "language": "python",
   "name": "python2"
  },
  "language_info": {
   "codemirror_mode": {
    "name": "ipython",
    "version": 2
   },
   "file_extension": ".py",
   "mimetype": "text/x-python",
   "name": "python",
   "nbconvert_exporter": "python",
   "pygments_lexer": "ipython2",
   "version": "2.7.13"
  },
  "toc": {
   "nav_menu": {},
   "number_sections": true,
   "sideBar": true,
   "skip_h1_title": false,
   "toc_cell": true,
   "toc_position": {
    "height": "1228px",
    "left": "0px",
    "right": "1138.29px",
    "top": "106px",
    "width": "358px"
   },
   "toc_section_display": "block",
   "toc_window_display": true
  },
  "varInspector": {
   "cols": {
    "lenName": 16,
    "lenType": 16,
    "lenVar": 40
   },
   "kernels_config": {
    "python": {
     "delete_cmd_postfix": "",
     "delete_cmd_prefix": "del ",
     "library": "var_list.py",
     "varRefreshCmd": "print(var_dic_list())"
    },
    "r": {
     "delete_cmd_postfix": ") ",
     "delete_cmd_prefix": "rm(",
     "library": "var_list.r",
     "varRefreshCmd": "cat(var_dic_list()) "
    }
   },
   "types_to_exclude": [
    "module",
    "function",
    "builtin_function_or_method",
    "instance",
    "_Feature"
   ],
   "window_display": false
  }
 },
 "nbformat": 4,
 "nbformat_minor": 2
}
